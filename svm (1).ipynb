{
 "cells": [
  {
   "cell_type": "code",
   "execution_count": 1,
   "id": "b3257fad",
   "metadata": {},
   "outputs": [],
   "source": [
    "import numpy as np\n",
    "import pandas as pd\n",
    "\n",
    "#Libraries for visualisation\n",
    "import seaborn as sns\n",
    "import matplotlib.pyplot as plt\n",
    "\n",
    "#Libraries for formattting and handling text \n",
    "import string \n",
    "import re\n",
    "\n",
    "#Library for nltk\n",
    "import nltk\n",
    "from nltk.corpus import stopwords\n",
    "from nltk.stem import PorterStemmer\n",
    "from nltk.stem import WordNetLemmatizer\n",
    "from nltk.tokenize import sent_tokenize, word_tokenize\n",
    "from wordcloud import WordCloud, STOPWORDS\n",
    "from sklearn.feature_extraction.text import CountVectorizer, TfidfVectorizer\n",
    "from sklearn.metrics import classification_report, confusion_matrix, accuracy_score\n",
    "from textblob import TextBlob\n",
    "\n",
    "#Library for Splitting Dataset\n",
    "from sklearn.model_selection import train_test_split\n",
    "\n",
    "import warnings\n",
    "warnings.filterwarnings(\"ignore\")"
   ]
  },
  {
   "cell_type": "code",
   "execution_count": 2,
   "id": "f813b063",
   "metadata": {},
   "outputs": [],
   "source": [
    "tweet = pd.read_csv(r\"C:\\Users\\HP\\Documents\\MSc DATA SCIENCE\\Disaster data\\Data.csv\")"
   ]
  },
  {
   "cell_type": "code",
   "execution_count": 3,
   "id": "b2b151eb",
   "metadata": {},
   "outputs": [
    {
     "data": {
      "text/html": [
       "<div>\n",
       "<style scoped>\n",
       "    .dataframe tbody tr th:only-of-type {\n",
       "        vertical-align: middle;\n",
       "    }\n",
       "\n",
       "    .dataframe tbody tr th {\n",
       "        vertical-align: top;\n",
       "    }\n",
       "\n",
       "    .dataframe thead th {\n",
       "        text-align: right;\n",
       "    }\n",
       "</style>\n",
       "<table border=\"1\" class=\"dataframe\">\n",
       "  <thead>\n",
       "    <tr style=\"text-align: right;\">\n",
       "      <th></th>\n",
       "      <th>Unnamed: 0</th>\n",
       "      <th>text</th>\n",
       "      <th>label</th>\n",
       "    </tr>\n",
       "  </thead>\n",
       "  <tbody>\n",
       "    <tr>\n",
       "      <th>0</th>\n",
       "      <td>0</td>\n",
       "      <td>RT @uberdogfound: Please RT - Food needed for ...</td>\n",
       "      <td>Tornado</td>\n",
       "    </tr>\n",
       "    <tr>\n",
       "      <th>1</th>\n",
       "      <td>1</td>\n",
       "      <td>Please RT - Food needed for shelter in NC in a...</td>\n",
       "      <td>Tornado</td>\n",
       "    </tr>\n",
       "    <tr>\n",
       "      <th>2</th>\n",
       "      <td>2</td>\n",
       "      <td>‚ô°its raining and tornado warnings....about t...</td>\n",
       "      <td>Tornado</td>\n",
       "    </tr>\n",
       "    <tr>\n",
       "      <th>3</th>\n",
       "      <td>3</td>\n",
       "      <td>Lmao #damn RT @LuCeCaNNoNn: If I don't get any...</td>\n",
       "      <td>Tornado</td>\n",
       "    </tr>\n",
       "    <tr>\n",
       "      <th>4</th>\n",
       "      <td>4</td>\n",
       "      <td>Saved by the tornado warning....I'm just ready...</td>\n",
       "      <td>Not relevant</td>\n",
       "    </tr>\n",
       "  </tbody>\n",
       "</table>\n",
       "</div>"
      ],
      "text/plain": [
       "   Unnamed: 0                                               text         label\n",
       "0           0  RT @uberdogfound: Please RT - Food needed for ...       Tornado\n",
       "1           1  Please RT - Food needed for shelter in NC in a...       Tornado\n",
       "2           2  ‚ô°its raining and tornado warnings....about t...       Tornado\n",
       "3           3  Lmao #damn RT @LuCeCaNNoNn: If I don't get any...       Tornado\n",
       "4           4  Saved by the tornado warning....I'm just ready...  Not relevant"
      ]
     },
     "execution_count": 3,
     "metadata": {},
     "output_type": "execute_result"
    }
   ],
   "source": [
    "tweet.head()"
   ]
  },
  {
   "cell_type": "code",
   "execution_count": 4,
   "id": "0a730946",
   "metadata": {},
   "outputs": [],
   "source": [
    "# Shuffle the Dataset.\n",
    "# shuffled_df = tweet.sample(frac=1,random_state=4)\n",
    "shuffled_df = tweet\n",
    "\n",
    "df_earthquake = shuffled_df.loc[shuffled_df['label'] == 'Earthquake']\n",
    "\n",
    "df_tornado = shuffled_df.loc[shuffled_df['label'] == 'Tornado'].sample(n=1294,random_state=42)\n",
    "df_notrelevant = shuffled_df.loc[shuffled_df['label'] == 'Not relevant']\n",
    "df_hurricane = shuffled_df.loc[shuffled_df['label'] == 'Hurricane'].sample(n=1294,random_state=42)\n",
    "df_wildfire = shuffled_df.loc[shuffled_df['label'] == 'Wildfire'].sample(n=1294,random_state=42)\n",
    "df_blizzard = shuffled_df.loc[shuffled_df['label'] == 'Blizzard'].sample(n=1294,random_state=42)\n",
    "df_floods = shuffled_df.loc[shuffled_df['label'] == 'Floods'].sample(n=1294,random_state=42)\n",
    "\n",
    "\n",
    "# Concatenate both dataframes again\n",
    "original = pd.concat([df_earthquake,df_tornado,df_hurricane,df_wildfire,df_blizzard,df_floods,df_notrelevant])"
   ]
  },
  {
   "cell_type": "code",
   "execution_count": 5,
   "id": "6179d5c5",
   "metadata": {
    "scrolled": false
   },
   "outputs": [
    {
     "data": {
      "image/png": "[encoded data removed]",
      "text/plain": [
       "<Figure size 800x800 with 1 Axes>"
      ]
     },
     "metadata": {},
     "output_type": "display_data"
    }
   ],
   "source": [
    "#plot the dataset after the undersampling\n",
    "plt.figure(figsize=(8, 8))\n",
    "sns.countplot('label', data=original)\n",
    "plt.title('Balanced Classes')\n",
    "plt.show()"
   ]
  },
  {
   "cell_type": "code",
   "execution_count": 6,
   "id": "d118855b",
   "metadata": {},
   "outputs": [],
   "source": [
    "from sklearn.preprocessing import LabelEncoder\n",
    "le = LabelEncoder()\n",
    "original['label'] = le.fit_transform(original.label.values)"
   ]
  },
  {
   "cell_type": "markdown",
   "id": "747ef16c",
   "metadata": {},
   "source": [
    "### Preprocessing"
   ]
  },
  {
   "cell_type": "code",
   "execution_count": 7,
   "id": "33fa167b",
   "metadata": {},
   "outputs": [],
   "source": [
    "abbreviations = {\n",
    "    \"€\" : \"euro\",\n",
    "    \"4ao\" : \"for adults only\",\n",
    "    \"a.m\" : \"before midday\",\n",
    "    \"a3\" : \"anytime anywhere anyplace\",\n",
    "    \"aamof\" : \"as a matter of fact\",\n",
    "    \"acct\" : \"account\",\n",
    "    \"adih\" : \"another day in hell\",\n",
    "    \"afaic\" : \"as far as i am concerned\",\n",
    "    \"afaict\" : \"as far as i can tell\",\n",
    "    \"afaik\" : \"as far as i know\",\n",
    "    \"afair\" : \"as far as i remember\",\n",
    "    \"afk\" : \"away from keyboard\",\n",
    "    \"app\" : \"application\",\n",
    "    \"approx\" : \"approximately\",\n",
    "    \"apps\" : \"applications\",\n",
    "    \"asap\" : \"as soon as possible\",\n",
    "    \"asl\" : \"age, sex, location\",\n",
    "    \"atk\" : \"at the keyboard\",\n",
    "    \"ave.\" : \"avenue\",\n",
    "    \"aymm\" : \"are you my mother\",\n",
    "    \"ayor\" : \"at your own risk\", \n",
    "    \"b&b\" : \"bed and breakfast\",\n",
    "    \"b+b\" : \"bed and breakfast\",\n",
    "    \"b.c\" : \"before christ\",\n",
    "    \"b2b\" : \"business to business\",\n",
    "    \"b2c\" : \"business to customer\",\n",
    "    \"b4\" : \"before\",\n",
    "    \"b4n\" : \"bye for now\",\n",
    "    \"b@u\" : \"back at you\",\n",
    "    \"bae\" : \"before anyone else\",\n",
    "    \"bak\" : \"back at keyboard\",\n",
    "    \"bbbg\" : \"bye bye be good\",\n",
    "    \"bbc\" : \"british broadcasting corporation\",\n",
    "    \"bbias\" : \"be back in a second\",\n",
    "    \"bbl\" : \"be back later\",\n",
    "    \"bbs\" : \"be back soon\",\n",
    "    \"be4\" : \"before\",\n",
    "    \"bfn\" : \"bye for now\",\n",
    "    \"blvd\" : \"boulevard\",\n",
    "    \"bout\" : \"about\",\n",
    "    \"brb\" : \"be right back\",\n",
    "    \"bros\" : \"brothers\",\n",
    "    \"brt\" : \"be right there\",\n",
    "    \"bsaaw\" : \"big smile and a wink\",\n",
    "    \"btw\" : \"by the way\",\n",
    "    \"bwl\" : \"bursting with laughter\",\n",
    "    \"c/o\" : \"care of\",\n",
    "    \"cet\" : \"central european time\",\n",
    "    \"cf\" : \"compare\",\n",
    "    \"cia\" : \"central intelligence agency\",\n",
    "    \"csl\" : \"can not stop laughing\",\n",
    "    \"cu\" : \"see you\",\n",
    "    \"cul8r\" : \"see you later\",\n",
    "    \"cv\" : \"curriculum vitae\",\n",
    "    \"cwot\" : \"complete waste of time\",\n",
    "    \"cya\" : \"see you\",\n",
    "    \"cyt\" : \"see you tomorrow\",\n",
    "    \"dae\" : \"does anyone else\",\n",
    "    \"dbmib\" : \"do not bother me i am busy\",\n",
    "    \"diy\" : \"do it yourself\",\n",
    "    \"dm\" : \"direct message\",\n",
    "    \"dwh\" : \"during work hours\",\n",
    "    \"e123\" : \"easy as one two three\",\n",
    "    \"eet\" : \"eastern european time\",\n",
    "    \"eg\" : \"example\",\n",
    "    \"embm\" : \"early morning business meeting\",\n",
    "    \"encl\" : \"enclosed\",\n",
    "    \"encl.\" : \"enclosed\",\n",
    "    \"etc\" : \"and so on\",\n",
    "    \"faq\" : \"frequently asked questions\",\n",
    "    \"fawc\" : \"for anyone who cares\",\n",
    "    \"fb\" : \"facebook\",\n",
    "    \"fc\" : \"fingers crossed\",\n",
    "    \"fig\" : \"figure\",\n",
    "    \"fimh\" : \"forever in my heart\", \n",
    "    \"ft.\" : \"feet\",\n",
    "    \"ft\" : \"featuring\",\n",
    "    \"ftl\" : \"for the loss\",\n",
    "    \"ftw\" : \"for the win\",\n",
    "    \"fwiw\" : \"for what it is worth\",\n",
    "    \"fyi\" : \"for your information\",\n",
    "    \"g9\" : \"genius\",\n",
    "    \"gahoy\" : \"get a hold of yourself\",\n",
    "    \"gal\" : \"get a life\",\n",
    "    \"gcse\" : \"general certificate of secondary education\",\n",
    "    \"gfn\" : \"gone for now\",\n",
    "    \"gg\" : \"good game\",\n",
    "    \"gl\" : \"good luck\",\n",
    "    \"glhf\" : \"good luck have fun\",\n",
    "    \"gmt\" : \"greenwich mean time\",\n",
    "    \"gmta\" : \"great minds think alike\",\n",
    "    \"gn\" : \"good night\",\n",
    "    \"g.o.a.t\" : \"greatest of all time\",\n",
    "    \"goat\" : \"greatest of all time\",\n",
    "    \"goi\" : \"get over it\",\n",
    "    \"gps\" : \"global positioning system\",\n",
    "    \"gr8\" : \"great\",\n",
    "    \"gratz\" : \"congratulations\",\n",
    "    \"gyal\" : \"girl\",\n",
    "    \"h&c\" : \"hot and cold\",\n",
    "    \"hp\" : \"horsepower\",\n",
    "    \"hr\" : \"hour\",\n",
    "    \"hrh\" : \"his royal highness\",\n",
    "    \"ht\" : \"height\",\n",
    "    \"ibrb\" : \"i will be right back\",\n",
    "    \"ic\" : \"i see\",\n",
    "    \"icq\" : \"i seek you\",\n",
    "    \"icymi\" : \"in case you missed it\",\n",
    "    \"idc\" : \"i do not care\",\n",
    "    \"idgadf\" : \"i do not give a damn fuck\",\n",
    "    \"idgaf\" : \"i do not give a fuck\",\n",
    "    \"idk\" : \"i do not know\",\n",
    "    \"ie\" : \"that is\",\n",
    "    \"i.e\" : \"that is\",\n",
    "    \"ifyp\" : \"i feel your pain\",\n",
    "    \"IG\" : \"instagram\",\n",
    "    \"iirc\" : \"if i remember correctly\",\n",
    "    \"ilu\" : \"i love you\",\n",
    "    \"ily\" : \"i love you\",\n",
    "    \"imho\" : \"in my humble opinion\",\n",
    "    \"imo\" : \"in my opinion\",\n",
    "    \"imu\" : \"i miss you\",\n",
    "    \"iow\" : \"in other words\",\n",
    "    \"irl\" : \"in real life\",\n",
    "    \"j4f\" : \"just for fun\",\n",
    "    \"jic\" : \"just in case\",\n",
    "    \"jk\" : \"just kidding\",\n",
    "    \"jsyk\" : \"just so you know\",\n",
    "    \"l8r\" : \"later\",\n",
    "    \"lb\" : \"pound\",\n",
    "    \"lbs\" : \"pounds\",\n",
    "    \"ldr\" : \"long distance relationship\",\n",
    "    \"lmao\" : \"laugh my ass off\",\n",
    "    \"lmfao\" : \"laugh my fucking ass off\",\n",
    "    \"lol\" : \"laughing out loud\",\n",
    "    \"ltd\" : \"limited\",\n",
    "    \"ltns\" : \"long time no see\",\n",
    "    \"m8\" : \"mate\",\n",
    "    \"mf\" : \"motherfucker\",\n",
    "    \"mfs\" : \"motherfuckers\",\n",
    "    \"mfw\" : \"my face when\",\n",
    "    \"mofo\" : \"motherfucker\",\n",
    "    \"mph\" : \"miles per hour\",\n",
    "    \"mr\" : \"mister\",\n",
    "    \"mrw\" : \"my reaction when\",\n",
    "    \"ms\" : \"miss\",\n",
    "    \"mte\" : \"my thoughts exactly\",\n",
    "    \"nagi\" : \"not a good idea\",\n",
    "    \"nbc\" : \"national broadcasting company\",\n",
    "    \"nbd\" : \"not big deal\",\n",
    "    \"nfs\" : \"not for sale\",\n",
    "    \"ngl\" : \"not going to lie\",\n",
    "    \"nhs\" : \"national health service\",\n",
    "    \"nrn\" : \"no reply necessary\",\n",
    "    \"nsfl\" : \"not safe for life\",\n",
    "    \"nsfw\" : \"not safe for work\",\n",
    "    \"nth\" : \"nice to have\",\n",
    "    \"nvr\" : \"never\",\n",
    "    \"nyc\" : \"new york city\",\n",
    "    \"oc\" : \"original content\",\n",
    "    \"og\" : \"original\",\n",
    "    \"ohp\" : \"overhead projector\",\n",
    "    \"oic\" : \"oh i see\",\n",
    "    \"omdb\" : \"over my dead body\",\n",
    "    \"omg\" : \"oh my god\",\n",
    "    \"omw\" : \"on my way\",\n",
    "    \"p.a\" : \"per annum\",\n",
    "    \"p.m\" : \"after midday\",\n",
    "    \"pm\" : \"prime minister\",\n",
    "    \"poc\" : \"people of color\",\n",
    "    \"pov\" : \"point of view\",\n",
    "    \"pp\" : \"pages\",\n",
    "    \"ppl\" : \"people\",\n",
    "    \"prw\" : \"parents are watching\",\n",
    "    \"ps\" : \"postscript\",\n",
    "    \"pt\" : \"point\",\n",
    "    \"ptb\" : \"please text back\",\n",
    "    \"pto\" : \"please turn over\",\n",
    "    \"qpsa\" : \"what happens\",\n",
    "    \"ratchet\" : \"rude\",\n",
    "    \"rbtl\" : \"read between the lines\",\n",
    "    \"rlrt\" : \"real life retweet\", \n",
    "    \"rofl\" : \"rolling on the floor laughing\",\n",
    "    \"roflol\" : \"rolling on the floor laughing out loud\",\n",
    "    \"rotflmao\" : \"rolling on the floor laughing my ass off\",\n",
    "    \"rt\" : \"retweet\",\n",
    "    \"ruok\" : \"are you ok\",\n",
    "    \"sfw\" : \"safe for work\",\n",
    "    \"sk8\" : \"skate\",\n",
    "    \"smh\" : \"shake my head\",\n",
    "    \"sq\" : \"square\",\n",
    "    \"srsly\" : \"seriously\", \n",
    "    \"ssdd\" : \"same stuff different day\",\n",
    "    \"tbh\" : \"to be honest\",\n",
    "    \"tbs\" : \"tablespooful\",\n",
    "    \"tbsp\" : \"tablespooful\",\n",
    "    \"tfw\" : \"that feeling when\",\n",
    "    \"thks\" : \"thank you\",\n",
    "    \"tho\" : \"though\",\n",
    "    \"thx\" : \"thank you\",\n",
    "    \"tia\" : \"thanks in advance\",\n",
    "    \"til\" : \"today i learned\",\n",
    "    \"tl;dr\" : \"too long i did not read\",\n",
    "    \"tldr\" : \"too long i did not read\",\n",
    "    \"tmb\" : \"tweet me back\",\n",
    "    \"tntl\" : \"trying not to laugh\",\n",
    "    \"ttyl\" : \"talk to you later\",\n",
    "    \"u\" : \"you\",\n",
    "    \"u2\" : \"you too\",\n",
    "    \"u4e\" : \"yours for ever\",\n",
    "    \"utc\" : \"coordinated universal time\",\n",
    "    \"w/\" : \"with\",\n",
    "    \"w/o\" : \"without\",\n",
    "    \"w8\" : \"wait\",\n",
    "    \"wassup\" : \"what is up\",\n",
    "    \"wb\" : \"welcome back\",\n",
    "    \"wtf\" : \"what the fuck\",\n",
    "    \"wtg\" : \"way to go\",\n",
    "    \"wtpa\" : \"where the party at\",\n",
    "    \"wuf\" : \"where are you from\",\n",
    "    \"wuzup\" : \"what is up\",\n",
    "    \"wywh\" : \"wish you were here\",\n",
    "    \"yd\" : \"yard\",\n",
    "    \"ygtr\" : \"you got that right\",\n",
    "    \"ynk\" : \"you never know\",\n",
    "    \"zzz\" : \"sleeping bored and tired\",\n",
    "    \"ain't\": \"am not\",\n",
    "    \"aren't\": \"are not\",\n",
    "    \"can't\": \"cannot\",\n",
    "    \"can't've\": \"cannot have\",\n",
    "    \"'cause\": \"because\",\n",
    "    \"could've\": \"could have\",\n",
    "    \"couldn't\": \"could not\",\n",
    "    \"couldn't've\": \"could not have\",\n",
    "    \"didn't\": \"did not\",\n",
    "    \"doesn't\": \"does not\",\n",
    "    \"don't\": \"do not\",\n",
    "    \"hadn't\": \"had not\",\n",
    "    \"hadn't've\": \"had not have\",\n",
    "    \"hasn't\": \"has not\",\n",
    "    \"haven't\": \"have not\",\n",
    "    \"he'd\": \"he would\",\n",
    "    \"he'd've\": \"he would have\",\n",
    "    \"he'll\": \"he will\",\n",
    "    \"he'll've\": \"he will have\",\n",
    "    \"he's\": \"he is\",\n",
    "    \"how'd\": \"how did\",\n",
    "    \"how'd'y\": \"how do you\",\n",
    "    \"how'll\": \"how will\",\n",
    "    \"how's\": \"how does\",\n",
    "    \"i'd\": \"i would\",\n",
    "    \"i'd've\": \"i would have\",\n",
    "    \"i'll\": \"i will\",\n",
    "    \"i'll've\": \"i will have\",\n",
    "    \"i'm\": \"i am\",\n",
    "    \"i've\": \"i have\",\n",
    "    \"isn't\": \"is not\",\n",
    "    \"it'd\": \"it would\",\n",
    "    \"it'd've\": \"it would have\",\n",
    "    \"it'll\": \"it will\",\n",
    "    \"it'll've\": \"it will have\",\n",
    "    \"it's\": \"it is\",\n",
    "    \"let's\": \"let us\",\n",
    "    \"ma'am\": \"madam\",\n",
    "    \"mayn't\": \"may not\",\n",
    "    \"might've\": \"might have\",\n",
    "    \"mightn't\": \"might not\",\n",
    "    \"mightn't've\": \"might not have\",\n",
    "    \"must've\": \"must have\",\n",
    "    \"mustn't\": \"must not\",\n",
    "    \"mustn't've\": \"must not have\",\n",
    "    \"needn't\": \"need not\",\n",
    "    \"needn't've\": \"need not have\",\n",
    "    \"o'clock\": \"of the clock\",\n",
    "    \"oughtn't\": \"ought not\",\n",
    "    \"oughtn't've\": \"ought not have\",\n",
    "    \"shan't\": \"shall not\",\n",
    "    \"sha'n't\": \"shall not\",\n",
    "    \"shan't've\": \"shall not have\",\n",
    "    \"she'd\": \"she would\",\n",
    "    \"she'd've\": \"she would have\",\n",
    "    \"she'll\": \"she will\",\n",
    "    \"she'll've\": \"she will have\",\n",
    "    \"she's\": \"she is\",\n",
    "    \"should've\": \"should have\",\n",
    "    \"shouldn't\": \"should not\",\n",
    "    \"shouldn't've\": \"should not have\",\n",
    "    \"so've\": \"so have\",\n",
    "    \"so's\": \"so is\",\n",
    "    \"that'd\": \"that would\",\n",
    "    \"that'd've\": \"that would have\",\n",
    "    \"that's\": \"that is\",\n",
    "    \"there'd\": \"there would\",\n",
    "    \"there'd've\": \"there would have\",\n",
    "    \"there's\": \"there is\",\n",
    "    \"they'd\": \"they would\",\n",
    "    \"they'd've\": \"they would have\",\n",
    "    \"they'll\": \"they will\",\n",
    "    \"they'll've\": \"they will have\",\n",
    "    \"they're\": \"they are\",\n",
    "    \"they've\": \"they have\",\n",
    "    \"to've\": \"to have\",\n",
    "    \"wasn't\": \"was not\",\n",
    "    \"ur\": \"your\",\n",
    "    \"n\": \"and\",\n",
    "    \"won't\": \"would not\",\n",
    "    \"dis\": \"this\",\n",
    "    \"brng\": \"bring\"\n",
    "}"
   ]
  },
  {
   "cell_type": "code",
   "execution_count": 8,
   "id": "95ad4928",
   "metadata": {},
   "outputs": [],
   "source": [
    "#removing punctuation\n",
    "def clean_text(text):\n",
    "    cleantext = [char for char in text if char not in string.punctuation]\n",
    "    cleantext = ''.join(cleantext)\n",
    "    return cleantext\n",
    "\n",
    "#removing urls\n",
    "def url_remove(text):\n",
    "    no_url = re.compile(r'https?://\\S+|www\\.\\S+')\n",
    "    return no_url.sub(r'',text)\n",
    "\n",
    "#remove HTML\n",
    "def html_remove(text):\n",
    "    no_html = re.compile(r'<.*?>')\n",
    "    return no_html.sub(r'',text)\n",
    "\n",
    "#removing non printable characters\n",
    "def not_ASCII_remove(text):\n",
    "    asciiword = [word for word in text if word in string.printable]\n",
    "    text = ''.join(asciiword)\n",
    "    return text\n",
    "\n",
    "#changing abbreviations by it's true meaning\n",
    "def word_abbreviation(word):\n",
    "     return abbreviations[word.lower()] if word.lower() in abbreviations.keys() else word\n",
    "\n",
    "# Replace all abbreviations\n",
    "def replace_abbreviation(text):\n",
    "    string = \"\"\n",
    "    for word in text.split():\n",
    "        string += word_abbreviation(word) + \" \"        \n",
    "    return string\n",
    "\n",
    "#removing mention and replacing by ''\n",
    "def mention_remove(text):\n",
    "    mention = re.compile(r'@\\S+')\n",
    "    return mention.sub(r' ',text)\n",
    "\n",
    "#removing numbers and replacing it by ''\n",
    "def number_remove(text):\n",
    "    number = re.compile(r'[-+]?[.\\d]*[\\d]+[:,.\\d]*')\n",
    "    return number.sub(r' ', text)\n",
    "\n",
    "#removing emojis and replacing by ''\n",
    "def emoji_remove(text):\n",
    "    emoji_pattern = re.compile(\"[\"\n",
    "                           u\"\\U0001F600-\\U0001F64F\"  # emoticons\n",
    "                           u\"\\U0001F300-\\U0001F5FF\"  # symbols & pictographs\n",
    "                           u\"\\U0001F680-\\U0001F6FF\"  # transport & map symbols\n",
    "                           u\"\\U0001F1E0-\\U0001F1FF\"  # flags (iOS)\n",
    "                           u\"\\U00002702-\\U000027B0\"\n",
    "                           u\"\\U000024C2-\\U0001F251\"\n",
    "                           \"]+\", flags=re.UNICODE)\n",
    "    return emoji_pattern.sub(r' ', text)\n",
    "\n",
    "#Replacing other smileys with ''\n",
    "def sad_transcription(text):\n",
    "    eye = \"[8:=;]\"\n",
    "    nose = \"['`\\-]\"\n",
    "    smile = re.compile(r'[8:=;][\\'\\-]?[(\\\\/]')\n",
    "    return smile.sub(r' ', text)\n",
    "\n",
    "#replacing some smileys with ''\n",
    "def smile_transcription(text):\n",
    "    eyes = \"[8:=;]\"\n",
    "    nose = \"['`\\-]\"\n",
    "    smiley = re.compile(r'[8:=;][\\'\\-]?[)dDp]')\n",
    "    return smiley.sub(r' ', text)\n",
    "\n",
    "#Replacing <3 with''\n",
    "def heart_transcription(text):\n",
    "    h = re.compile(r'<3')\n",
    "    return h.sub(r' ',text)\n",
    "\n",
    "def remove_dups_char(text):\n",
    "    x = re.sub(r'\\b(\\w+)(?:\\W+\\1\\b)+',r'\\1', text)\n",
    "    return x\n",
    "\n",
    "def spelling_correction(text):\n",
    "    text = TextBlob(text).correct()\n",
    "    return text\n",
    "\n",
    "\n",
    "\n"
   ]
  },
  {
   "cell_type": "code",
   "execution_count": 9,
   "id": "54c380e5",
   "metadata": {},
   "outputs": [],
   "source": [
    "def cleantweets(text):\n",
    "    text = clean_text(text)\n",
    "    text = url_remove(text)\n",
    "    text = html_remove(text)\n",
    "    text = not_ASCII_remove(text)\n",
    "    text = replace_abbreviation(text)\n",
    "    text = mention_remove(text)\n",
    "    text = number_remove(text)\n",
    "    text = emoji_remove(text)\n",
    "    text = sad_transcription(text)\n",
    "    text = smile_transcription(text)\n",
    "    text = heart_transcription(text)\n",
    "    text = remove_dups_char(text)\n",
    "#     text = spelling_correction(text)\n",
    "    return text"
   ]
  },
  {
   "cell_type": "code",
   "execution_count": 10,
   "id": "47373460",
   "metadata": {},
   "outputs": [
    {
     "data": {
      "text/html": [
       "<div>\n",
       "<style scoped>\n",
       "    .dataframe tbody tr th:only-of-type {\n",
       "        vertical-align: middle;\n",
       "    }\n",
       "\n",
       "    .dataframe tbody tr th {\n",
       "        vertical-align: top;\n",
       "    }\n",
       "\n",
       "    .dataframe thead th {\n",
       "        text-align: right;\n",
       "    }\n",
       "</style>\n",
       "<table border=\"1\" class=\"dataframe\">\n",
       "  <thead>\n",
       "    <tr style=\"text-align: right;\">\n",
       "      <th></th>\n",
       "      <th>Unnamed: 0</th>\n",
       "      <th>text</th>\n",
       "      <th>label</th>\n",
       "      <th>clean text</th>\n",
       "    </tr>\n",
       "  </thead>\n",
       "  <tbody>\n",
       "    <tr>\n",
       "      <th>0</th>\n",
       "      <td>0</td>\n",
       "      <td>RT @uberdogfound: Please RT - Food needed for ...</td>\n",
       "      <td>Tornado</td>\n",
       "      <td>retweet uberdogfound Please retweet Food neede...</td>\n",
       "    </tr>\n",
       "    <tr>\n",
       "      <th>1</th>\n",
       "      <td>1</td>\n",
       "      <td>Please RT - Food needed for shelter in NC in a...</td>\n",
       "      <td>Tornado</td>\n",
       "      <td>Please retweet Food needed for shelter in NC i...</td>\n",
       "    </tr>\n",
       "    <tr>\n",
       "      <th>2</th>\n",
       "      <td>2</td>\n",
       "      <td>‚ô°its raining and tornado warnings....about t...</td>\n",
       "      <td>Tornado</td>\n",
       "      <td>its raining and tornado warningsabout to be in...</td>\n",
       "    </tr>\n",
       "    <tr>\n",
       "      <th>3</th>\n",
       "      <td>3</td>\n",
       "      <td>Lmao #damn RT @LuCeCaNNoNn: If I don't get any...</td>\n",
       "      <td>Tornado</td>\n",
       "      <td>laugh my ass off damn retweet LuCeCaNNoNn If I...</td>\n",
       "    </tr>\n",
       "    <tr>\n",
       "      <th>4</th>\n",
       "      <td>4</td>\n",
       "      <td>Saved by the tornado warning....I'm just ready...</td>\n",
       "      <td>Not relevant</td>\n",
       "      <td>Saved by the tornado warningIm just ready to e...</td>\n",
       "    </tr>\n",
       "  </tbody>\n",
       "</table>\n",
       "</div>"
      ],
      "text/plain": [
       "   Unnamed: 0                                               text  \\\n",
       "0           0  RT @uberdogfound: Please RT - Food needed for ...   \n",
       "1           1  Please RT - Food needed for shelter in NC in a...   \n",
       "2           2  ‚ô°its raining and tornado warnings....about t...   \n",
       "3           3  Lmao #damn RT @LuCeCaNNoNn: If I don't get any...   \n",
       "4           4  Saved by the tornado warning....I'm just ready...   \n",
       "\n",
       "          label                                         clean text  \n",
       "0       Tornado  retweet uberdogfound Please retweet Food neede...  \n",
       "1       Tornado  Please retweet Food needed for shelter in NC i...  \n",
       "2       Tornado  its raining and tornado warningsabout to be in...  \n",
       "3       Tornado  laugh my ass off damn retweet LuCeCaNNoNn If I...  \n",
       "4  Not relevant  Saved by the tornado warningIm just ready to e...  "
      ]
     },
     "execution_count": 10,
     "metadata": {},
     "output_type": "execute_result"
    }
   ],
   "source": [
    "tweet['clean text'] = tweet['text'].apply(cleantweets)\n",
    "tweet.head()"
   ]
  },
  {
   "cell_type": "code",
   "execution_count": 11,
   "id": "4080c41e",
   "metadata": {
    "scrolled": true
   },
   "outputs": [
    {
     "data": {
      "text/html": [
       "<div>\n",
       "<style scoped>\n",
       "    .dataframe tbody tr th:only-of-type {\n",
       "        vertical-align: middle;\n",
       "    }\n",
       "\n",
       "    .dataframe tbody tr th {\n",
       "        vertical-align: top;\n",
       "    }\n",
       "\n",
       "    .dataframe thead th {\n",
       "        text-align: right;\n",
       "    }\n",
       "</style>\n",
       "<table border=\"1\" class=\"dataframe\">\n",
       "  <thead>\n",
       "    <tr style=\"text-align: right;\">\n",
       "      <th></th>\n",
       "      <th>Unnamed: 0</th>\n",
       "      <th>text</th>\n",
       "      <th>label</th>\n",
       "      <th>clean text</th>\n",
       "    </tr>\n",
       "  </thead>\n",
       "  <tbody>\n",
       "    <tr>\n",
       "      <th>0</th>\n",
       "      <td>0</td>\n",
       "      <td>RT @uberdogfound: Please RT - Food needed for ...</td>\n",
       "      <td>Tornado</td>\n",
       "      <td>retweet uberdogfound Please retweet Food neede...</td>\n",
       "    </tr>\n",
       "    <tr>\n",
       "      <th>1</th>\n",
       "      <td>1</td>\n",
       "      <td>Please RT - Food needed for shelter in NC in a...</td>\n",
       "      <td>Tornado</td>\n",
       "      <td>Please retweet Food needed for shelter in NC i...</td>\n",
       "    </tr>\n",
       "    <tr>\n",
       "      <th>2</th>\n",
       "      <td>2</td>\n",
       "      <td>‚ô°its raining and tornado warnings....about t...</td>\n",
       "      <td>Tornado</td>\n",
       "      <td>its raining and tornado warningsabout to be in...</td>\n",
       "    </tr>\n",
       "    <tr>\n",
       "      <th>3</th>\n",
       "      <td>3</td>\n",
       "      <td>Lmao #damn RT @LuCeCaNNoNn: If I don't get any...</td>\n",
       "      <td>Tornado</td>\n",
       "      <td>laugh my ass off damn retweet LuCeCaNNoNn If I...</td>\n",
       "    </tr>\n",
       "    <tr>\n",
       "      <th>4</th>\n",
       "      <td>4</td>\n",
       "      <td>Saved by the tornado warning....I'm just ready...</td>\n",
       "      <td>Not relevant</td>\n",
       "      <td>Saved by the tornado warningIm just ready to e...</td>\n",
       "    </tr>\n",
       "  </tbody>\n",
       "</table>\n",
       "</div>"
      ],
      "text/plain": [
       "   Unnamed: 0                                               text  \\\n",
       "0           0  RT @uberdogfound: Please RT - Food needed for ...   \n",
       "1           1  Please RT - Food needed for shelter in NC in a...   \n",
       "2           2  ‚ô°its raining and tornado warnings....about t...   \n",
       "3           3  Lmao #damn RT @LuCeCaNNoNn: If I don't get any...   \n",
       "4           4  Saved by the tornado warning....I'm just ready...   \n",
       "\n",
       "          label                                         clean text  \n",
       "0       Tornado  retweet uberdogfound Please retweet Food neede...  \n",
       "1       Tornado  Please retweet Food needed for shelter in NC i...  \n",
       "2       Tornado  its raining and tornado warningsabout to be in...  \n",
       "3       Tornado  laugh my ass off damn retweet LuCeCaNNoNn If I...  \n",
       "4  Not relevant  Saved by the tornado warningIm just ready to e...  "
      ]
     },
     "execution_count": 11,
     "metadata": {},
     "output_type": "execute_result"
    }
   ],
   "source": [
    "tweet['clean text'] = tweet['clean text'].apply(remove_dups_char)\n",
    "tweet.head()"
   ]
  },
  {
   "cell_type": "code",
   "execution_count": 12,
   "id": "948d7e3f",
   "metadata": {},
   "outputs": [],
   "source": [
    "# tweet['clean text'] = tweet['clean text'].apply(spelling_correction)\n",
    "# tweet.head()"
   ]
  },
  {
   "cell_type": "markdown",
   "id": "2e0d1ae9",
   "metadata": {},
   "source": [
    "### Word Lowercasing"
   ]
  },
  {
   "cell_type": "code",
   "execution_count": 12,
   "id": "82beab90",
   "metadata": {},
   "outputs": [
    {
     "data": {
      "text/html": [
       "<div>\n",
       "<style scoped>\n",
       "    .dataframe tbody tr th:only-of-type {\n",
       "        vertical-align: middle;\n",
       "    }\n",
       "\n",
       "    .dataframe tbody tr th {\n",
       "        vertical-align: top;\n",
       "    }\n",
       "\n",
       "    .dataframe thead th {\n",
       "        text-align: right;\n",
       "    }\n",
       "</style>\n",
       "<table border=\"1\" class=\"dataframe\">\n",
       "  <thead>\n",
       "    <tr style=\"text-align: right;\">\n",
       "      <th></th>\n",
       "      <th>Unnamed: 0</th>\n",
       "      <th>text</th>\n",
       "      <th>label</th>\n",
       "      <th>clean text</th>\n",
       "    </tr>\n",
       "  </thead>\n",
       "  <tbody>\n",
       "    <tr>\n",
       "      <th>0</th>\n",
       "      <td>0</td>\n",
       "      <td>RT @uberdogfound: Please RT - Food needed for ...</td>\n",
       "      <td>Tornado</td>\n",
       "      <td>retweet uberdogfound please retweet food neede...</td>\n",
       "    </tr>\n",
       "    <tr>\n",
       "      <th>1</th>\n",
       "      <td>1</td>\n",
       "      <td>Please RT - Food needed for shelter in NC in a...</td>\n",
       "      <td>Tornado</td>\n",
       "      <td>please retweet food needed for shelter in nc i...</td>\n",
       "    </tr>\n",
       "    <tr>\n",
       "      <th>2</th>\n",
       "      <td>2</td>\n",
       "      <td>‚ô°its raining and tornado warnings....about t...</td>\n",
       "      <td>Tornado</td>\n",
       "      <td>its raining and tornado warningsabout to be in...</td>\n",
       "    </tr>\n",
       "    <tr>\n",
       "      <th>3</th>\n",
       "      <td>3</td>\n",
       "      <td>Lmao #damn RT @LuCeCaNNoNn: If I don't get any...</td>\n",
       "      <td>Tornado</td>\n",
       "      <td>laugh my ass off damn retweet lucecannonn if i...</td>\n",
       "    </tr>\n",
       "    <tr>\n",
       "      <th>4</th>\n",
       "      <td>4</td>\n",
       "      <td>Saved by the tornado warning....I'm just ready...</td>\n",
       "      <td>Not relevant</td>\n",
       "      <td>saved by the tornado warningim just ready to e...</td>\n",
       "    </tr>\n",
       "  </tbody>\n",
       "</table>\n",
       "</div>"
      ],
      "text/plain": [
       "   Unnamed: 0                                               text  \\\n",
       "0           0  RT @uberdogfound: Please RT - Food needed for ...   \n",
       "1           1  Please RT - Food needed for shelter in NC in a...   \n",
       "2           2  ‚ô°its raining and tornado warnings....about t...   \n",
       "3           3  Lmao #damn RT @LuCeCaNNoNn: If I don't get any...   \n",
       "4           4  Saved by the tornado warning....I'm just ready...   \n",
       "\n",
       "          label                                         clean text  \n",
       "0       Tornado  retweet uberdogfound please retweet food neede...  \n",
       "1       Tornado  please retweet food needed for shelter in nc i...  \n",
       "2       Tornado  its raining and tornado warningsabout to be in...  \n",
       "3       Tornado  laugh my ass off damn retweet lucecannonn if i...  \n",
       "4  Not relevant  saved by the tornado warningim just ready to e...  "
      ]
     },
     "execution_count": 12,
     "metadata": {},
     "output_type": "execute_result"
    }
   ],
   "source": [
    "tweet['clean text'] = tweet['clean text'].apply(str.lower)\n",
    "tweet.head()"
   ]
  },
  {
   "cell_type": "code",
   "execution_count": null,
   "id": "ff71c231",
   "metadata": {},
   "outputs": [],
   "source": []
  },
  {
   "cell_type": "markdown",
   "id": "ed8af653",
   "metadata": {},
   "source": [
    "### Tokenization"
   ]
  },
  {
   "cell_type": "code",
   "execution_count": 13,
   "id": "00d5a92e",
   "metadata": {},
   "outputs": [],
   "source": [
    "def tokenize(text):\n",
    "    return nltk.word_tokenize(text)\n",
    "\n",
    "tweet['clean text'] = tweet['clean text'].apply(tokenize)"
   ]
  },
  {
   "cell_type": "code",
   "execution_count": 14,
   "id": "d2f0fca2",
   "metadata": {},
   "outputs": [
    {
     "data": {
      "text/html": [
       "<div>\n",
       "<style scoped>\n",
       "    .dataframe tbody tr th:only-of-type {\n",
       "        vertical-align: middle;\n",
       "    }\n",
       "\n",
       "    .dataframe tbody tr th {\n",
       "        vertical-align: top;\n",
       "    }\n",
       "\n",
       "    .dataframe thead th {\n",
       "        text-align: right;\n",
       "    }\n",
       "</style>\n",
       "<table border=\"1\" class=\"dataframe\">\n",
       "  <thead>\n",
       "    <tr style=\"text-align: right;\">\n",
       "      <th></th>\n",
       "      <th>Unnamed: 0</th>\n",
       "      <th>text</th>\n",
       "      <th>label</th>\n",
       "      <th>clean text</th>\n",
       "    </tr>\n",
       "  </thead>\n",
       "  <tbody>\n",
       "    <tr>\n",
       "      <th>0</th>\n",
       "      <td>0</td>\n",
       "      <td>RT @uberdogfound: Please RT - Food needed for ...</td>\n",
       "      <td>Tornado</td>\n",
       "      <td>[retweet, uberdogfound, please, retweet, food,...</td>\n",
       "    </tr>\n",
       "    <tr>\n",
       "      <th>1</th>\n",
       "      <td>1</td>\n",
       "      <td>Please RT - Food needed for shelter in NC in a...</td>\n",
       "      <td>Tornado</td>\n",
       "      <td>[please, retweet, food, needed, for, shelter, ...</td>\n",
       "    </tr>\n",
       "    <tr>\n",
       "      <th>2</th>\n",
       "      <td>2</td>\n",
       "      <td>‚ô°its raining and tornado warnings....about t...</td>\n",
       "      <td>Tornado</td>\n",
       "      <td>[its, raining, and, tornado, warningsabout, to...</td>\n",
       "    </tr>\n",
       "    <tr>\n",
       "      <th>3</th>\n",
       "      <td>3</td>\n",
       "      <td>Lmao #damn RT @LuCeCaNNoNn: If I don't get any...</td>\n",
       "      <td>Tornado</td>\n",
       "      <td>[laugh, my, ass, off, damn, retweet, lucecanno...</td>\n",
       "    </tr>\n",
       "    <tr>\n",
       "      <th>4</th>\n",
       "      <td>4</td>\n",
       "      <td>Saved by the tornado warning....I'm just ready...</td>\n",
       "      <td>Not relevant</td>\n",
       "      <td>[saved, by, the, tornado, warningim, just, rea...</td>\n",
       "    </tr>\n",
       "  </tbody>\n",
       "</table>\n",
       "</div>"
      ],
      "text/plain": [
       "   Unnamed: 0                                               text  \\\n",
       "0           0  RT @uberdogfound: Please RT - Food needed for ...   \n",
       "1           1  Please RT - Food needed for shelter in NC in a...   \n",
       "2           2  ‚ô°its raining and tornado warnings....about t...   \n",
       "3           3  Lmao #damn RT @LuCeCaNNoNn: If I don't get any...   \n",
       "4           4  Saved by the tornado warning....I'm just ready...   \n",
       "\n",
       "          label                                         clean text  \n",
       "0       Tornado  [retweet, uberdogfound, please, retweet, food,...  \n",
       "1       Tornado  [please, retweet, food, needed, for, shelter, ...  \n",
       "2       Tornado  [its, raining, and, tornado, warningsabout, to...  \n",
       "3       Tornado  [laugh, my, ass, off, damn, retweet, lucecanno...  \n",
       "4  Not relevant  [saved, by, the, tornado, warningim, just, rea...  "
      ]
     },
     "execution_count": 14,
     "metadata": {},
     "output_type": "execute_result"
    }
   ],
   "source": [
    "tweet.head()"
   ]
  },
  {
   "cell_type": "markdown",
   "id": "7e5bd66f",
   "metadata": {},
   "source": [
    "### Stopwords removal"
   ]
  },
  {
   "cell_type": "code",
   "execution_count": 15,
   "id": "6eed3483",
   "metadata": {},
   "outputs": [],
   "source": [
    "def remove_stopwords(text):\n",
    "    text = [word for word in text if word.lower() not in stopwords.words('english')]\n",
    "    return text"
   ]
  },
  {
   "cell_type": "code",
   "execution_count": 16,
   "id": "a2b60179",
   "metadata": {},
   "outputs": [
    {
     "data": {
      "text/html": [
       "<div>\n",
       "<style scoped>\n",
       "    .dataframe tbody tr th:only-of-type {\n",
       "        vertical-align: middle;\n",
       "    }\n",
       "\n",
       "    .dataframe tbody tr th {\n",
       "        vertical-align: top;\n",
       "    }\n",
       "\n",
       "    .dataframe thead th {\n",
       "        text-align: right;\n",
       "    }\n",
       "</style>\n",
       "<table border=\"1\" class=\"dataframe\">\n",
       "  <thead>\n",
       "    <tr style=\"text-align: right;\">\n",
       "      <th></th>\n",
       "      <th>Unnamed: 0</th>\n",
       "      <th>text</th>\n",
       "      <th>label</th>\n",
       "      <th>clean text</th>\n",
       "    </tr>\n",
       "  </thead>\n",
       "  <tbody>\n",
       "    <tr>\n",
       "      <th>0</th>\n",
       "      <td>0</td>\n",
       "      <td>RT @uberdogfound: Please RT - Food needed for ...</td>\n",
       "      <td>Tornado</td>\n",
       "      <td>[retweet, uberdogfound, please, retweet, food,...</td>\n",
       "    </tr>\n",
       "    <tr>\n",
       "      <th>1</th>\n",
       "      <td>1</td>\n",
       "      <td>Please RT - Food needed for shelter in NC in a...</td>\n",
       "      <td>Tornado</td>\n",
       "      <td>[please, retweet, food, needed, shelter, nc, a...</td>\n",
       "    </tr>\n",
       "    <tr>\n",
       "      <th>2</th>\n",
       "      <td>2</td>\n",
       "      <td>‚ô°its raining and tornado warnings....about t...</td>\n",
       "      <td>Tornado</td>\n",
       "      <td>[raining, tornado, warningsabout, coma, eating...</td>\n",
       "    </tr>\n",
       "    <tr>\n",
       "      <th>3</th>\n",
       "      <td>3</td>\n",
       "      <td>Lmao #damn RT @LuCeCaNNoNn: If I don't get any...</td>\n",
       "      <td>Tornado</td>\n",
       "      <td>[laugh, ass, damn, retweet, lucecannonn, dont,...</td>\n",
       "    </tr>\n",
       "    <tr>\n",
       "      <th>4</th>\n",
       "      <td>4</td>\n",
       "      <td>Saved by the tornado warning....I'm just ready...</td>\n",
       "      <td>Not relevant</td>\n",
       "      <td>[saved, tornado, warningim, ready, eat, good, ...</td>\n",
       "    </tr>\n",
       "  </tbody>\n",
       "</table>\n",
       "</div>"
      ],
      "text/plain": [
       "   Unnamed: 0                                               text  \\\n",
       "0           0  RT @uberdogfound: Please RT - Food needed for ...   \n",
       "1           1  Please RT - Food needed for shelter in NC in a...   \n",
       "2           2  ‚ô°its raining and tornado warnings....about t...   \n",
       "3           3  Lmao #damn RT @LuCeCaNNoNn: If I don't get any...   \n",
       "4           4  Saved by the tornado warning....I'm just ready...   \n",
       "\n",
       "          label                                         clean text  \n",
       "0       Tornado  [retweet, uberdogfound, please, retweet, food,...  \n",
       "1       Tornado  [please, retweet, food, needed, shelter, nc, a...  \n",
       "2       Tornado  [raining, tornado, warningsabout, coma, eating...  \n",
       "3       Tornado  [laugh, ass, damn, retweet, lucecannonn, dont,...  \n",
       "4  Not relevant  [saved, tornado, warningim, ready, eat, good, ...  "
      ]
     },
     "execution_count": 16,
     "metadata": {},
     "output_type": "execute_result"
    }
   ],
   "source": [
    "tweet['clean text'] = tweet['clean text'].apply(remove_stopwords)\n",
    "tweet.head()"
   ]
  },
  {
   "cell_type": "markdown",
   "id": "7fa1b8b2",
   "metadata": {},
   "source": [
    "### Lemmatization"
   ]
  },
  {
   "cell_type": "code",
   "execution_count": 17,
   "id": "66304f0a",
   "metadata": {},
   "outputs": [],
   "source": [
    "lemmatizer = WordNetLemmatizer()\n",
    "\n",
    "def lemmatize(text):\n",
    "    lemmatized_text = ([lemmatizer.lemmatize(words) for words in text])\n",
    "    return lemmatized_text"
   ]
  },
  {
   "cell_type": "code",
   "execution_count": 20,
   "id": "e682400b",
   "metadata": {
    "scrolled": true
   },
   "outputs": [
    {
     "data": {
      "text/html": [
       "<div>\n",
       "<style scoped>\n",
       "    .dataframe tbody tr th:only-of-type {\n",
       "        vertical-align: middle;\n",
       "    }\n",
       "\n",
       "    .dataframe tbody tr th {\n",
       "        vertical-align: top;\n",
       "    }\n",
       "\n",
       "    .dataframe thead th {\n",
       "        text-align: right;\n",
       "    }\n",
       "</style>\n",
       "<table border=\"1\" class=\"dataframe\">\n",
       "  <thead>\n",
       "    <tr style=\"text-align: right;\">\n",
       "      <th></th>\n",
       "      <th>Unnamed: 0</th>\n",
       "      <th>text</th>\n",
       "      <th>label</th>\n",
       "      <th>clean text</th>\n",
       "    </tr>\n",
       "  </thead>\n",
       "  <tbody>\n",
       "    <tr>\n",
       "      <th>0</th>\n",
       "      <td>0</td>\n",
       "      <td>RT @uberdogfound: Please RT - Food needed for ...</td>\n",
       "      <td>Tornado</td>\n",
       "      <td>[retweet, uberdogfound, please, retweet, food,...</td>\n",
       "    </tr>\n",
       "    <tr>\n",
       "      <th>1</th>\n",
       "      <td>1</td>\n",
       "      <td>Please RT - Food needed for shelter in NC in a...</td>\n",
       "      <td>Tornado</td>\n",
       "      <td>[please, retweet, food, needed, shelter, nc, a...</td>\n",
       "    </tr>\n",
       "    <tr>\n",
       "      <th>2</th>\n",
       "      <td>2</td>\n",
       "      <td>‚ô°its raining and tornado warnings....about t...</td>\n",
       "      <td>Tornado</td>\n",
       "      <td>[raining, tornado, warningsabout, coma, eating...</td>\n",
       "    </tr>\n",
       "    <tr>\n",
       "      <th>3</th>\n",
       "      <td>3</td>\n",
       "      <td>Lmao #damn RT @LuCeCaNNoNn: If I don't get any...</td>\n",
       "      <td>Tornado</td>\n",
       "      <td>[laugh, a, damn, retweet, lucecannonn, dont, g...</td>\n",
       "    </tr>\n",
       "    <tr>\n",
       "      <th>4</th>\n",
       "      <td>4</td>\n",
       "      <td>Saved by the tornado warning....I'm just ready...</td>\n",
       "      <td>Not relevant</td>\n",
       "      <td>[saved, tornado, warningim, ready, eat, good, ...</td>\n",
       "    </tr>\n",
       "  </tbody>\n",
       "</table>\n",
       "</div>"
      ],
      "text/plain": [
       "   Unnamed: 0                                               text  \\\n",
       "0           0  RT @uberdogfound: Please RT - Food needed for ...   \n",
       "1           1  Please RT - Food needed for shelter in NC in a...   \n",
       "2           2  ‚ô°its raining and tornado warnings....about t...   \n",
       "3           3  Lmao #damn RT @LuCeCaNNoNn: If I don't get any...   \n",
       "4           4  Saved by the tornado warning....I'm just ready...   \n",
       "\n",
       "          label                                         clean text  \n",
       "0       Tornado  [retweet, uberdogfound, please, retweet, food,...  \n",
       "1       Tornado  [please, retweet, food, needed, shelter, nc, a...  \n",
       "2       Tornado  [raining, tornado, warningsabout, coma, eating...  \n",
       "3       Tornado  [laugh, a, damn, retweet, lucecannonn, dont, g...  \n",
       "4  Not relevant  [saved, tornado, warningim, ready, eat, good, ...  "
      ]
     },
     "execution_count": 20,
     "metadata": {},
     "output_type": "execute_result"
    }
   ],
   "source": [
    "tweet['clean text'] = tweet['clean text'].apply(lemmatize)\n",
    "tweet.head()"
   ]
  },
  {
   "cell_type": "code",
   "execution_count": null,
   "id": "16014bf2",
   "metadata": {},
   "outputs": [],
   "source": []
  },
  {
   "cell_type": "markdown",
   "id": "b891d49f",
   "metadata": {},
   "source": [
    "### Processing the dataset"
   ]
  },
  {
   "cell_type": "code",
   "execution_count": 21,
   "id": "c0101d62",
   "metadata": {},
   "outputs": [],
   "source": [
    "words = list(tweet['clean text'].values)"
   ]
  },
  {
   "cell_type": "code",
   "execution_count": 22,
   "id": "13bf2404",
   "metadata": {},
   "outputs": [],
   "source": [
    "l = []\n",
    "j=0\n",
    "k=[]\n",
    "for i in words:\n",
    "    l.append(i)\n",
    "    text = ' '.join(l[j])\n",
    "    k.append(text)\n",
    "    j=j+1\n",
    "    "
   ]
  },
  {
   "cell_type": "code",
   "execution_count": 23,
   "id": "0275806d",
   "metadata": {},
   "outputs": [],
   "source": [
    "se = pd.Series(k)\n",
    "tweet['new text'] = se.values"
   ]
  },
  {
   "cell_type": "code",
   "execution_count": 24,
   "id": "a3abb3e7",
   "metadata": {},
   "outputs": [
    {
     "data": {
      "text/html": [
       "<div>\n",
       "<style scoped>\n",
       "    .dataframe tbody tr th:only-of-type {\n",
       "        vertical-align: middle;\n",
       "    }\n",
       "\n",
       "    .dataframe tbody tr th {\n",
       "        vertical-align: top;\n",
       "    }\n",
       "\n",
       "    .dataframe thead th {\n",
       "        text-align: right;\n",
       "    }\n",
       "</style>\n",
       "<table border=\"1\" class=\"dataframe\">\n",
       "  <thead>\n",
       "    <tr style=\"text-align: right;\">\n",
       "      <th></th>\n",
       "      <th>Unnamed: 0</th>\n",
       "      <th>text</th>\n",
       "      <th>label</th>\n",
       "      <th>clean text</th>\n",
       "      <th>new text</th>\n",
       "    </tr>\n",
       "  </thead>\n",
       "  <tbody>\n",
       "    <tr>\n",
       "      <th>25815</th>\n",
       "      <td>25815</td>\n",
       "      <td>Today, I heard the news about Nepal earthquake...</td>\n",
       "      <td>Not relevant</td>\n",
       "      <td>[today, heard, news, nepal, earthquake, brothe...</td>\n",
       "      <td>today heard news nepal earthquake brother thou...</td>\n",
       "    </tr>\n",
       "    <tr>\n",
       "      <th>25816</th>\n",
       "      <td>25816</td>\n",
       "      <td>Vigil for Nepal earthquake victims http://t.co...</td>\n",
       "      <td>Not relevant</td>\n",
       "      <td>[vigil, nepal, earthquake, victim, httptcofasrip]</td>\n",
       "      <td>vigil nepal earthquake victim httptcofasrip</td>\n",
       "    </tr>\n",
       "    <tr>\n",
       "      <th>25817</th>\n",
       "      <td>25817</td>\n",
       "      <td>We are with you! God Bless you! #Nepal #earthq...</td>\n",
       "      <td>Not relevant</td>\n",
       "      <td>[god, bless, nepal, earthquake]</td>\n",
       "      <td>god bless nepal earthquake</td>\n",
       "    </tr>\n",
       "    <tr>\n",
       "      <th>25818</th>\n",
       "      <td>25818</td>\n",
       "      <td>RT @BreakingNews Police say at least 4,352 peo...</td>\n",
       "      <td>Not relevant</td>\n",
       "      <td>[retweet, breakingnews, police, say, least, pe...</td>\n",
       "      <td>retweet breakingnews police say least people c...</td>\n",
       "    </tr>\n",
       "    <tr>\n",
       "      <th>25819</th>\n",
       "      <td>25819</td>\n",
       "      <td>Keep #Nepal in your thoughts after the horribl...</td>\n",
       "      <td>Not relevant</td>\n",
       "      <td>[keep, nepal, thought, horrible, mag, earthqua...</td>\n",
       "      <td>keep nepal thought horrible mag earthquake put...</td>\n",
       "    </tr>\n",
       "  </tbody>\n",
       "</table>\n",
       "</div>"
      ],
      "text/plain": [
       "       Unnamed: 0                                               text  \\\n",
       "25815       25815  Today, I heard the news about Nepal earthquake...   \n",
       "25816       25816  Vigil for Nepal earthquake victims http://t.co...   \n",
       "25817       25817  We are with you! God Bless you! #Nepal #earthq...   \n",
       "25818       25818  RT @BreakingNews Police say at least 4,352 peo...   \n",
       "25819       25819  Keep #Nepal in your thoughts after the horribl...   \n",
       "\n",
       "              label                                         clean text  \\\n",
       "25815  Not relevant  [today, heard, news, nepal, earthquake, brothe...   \n",
       "25816  Not relevant  [vigil, nepal, earthquake, victim, httptcofasrip]   \n",
       "25817  Not relevant                    [god, bless, nepal, earthquake]   \n",
       "25818  Not relevant  [retweet, breakingnews, police, say, least, pe...   \n",
       "25819  Not relevant  [keep, nepal, thought, horrible, mag, earthqua...   \n",
       "\n",
       "                                                new text  \n",
       "25815  today heard news nepal earthquake brother thou...  \n",
       "25816        vigil nepal earthquake victim httptcofasrip  \n",
       "25817                         god bless nepal earthquake  \n",
       "25818  retweet breakingnews police say least people c...  \n",
       "25819  keep nepal thought horrible mag earthquake put...  "
      ]
     },
     "execution_count": 24,
     "metadata": {},
     "output_type": "execute_result"
    }
   ],
   "source": [
    "tweet.tail(5)"
   ]
  },
  {
   "cell_type": "code",
   "execution_count": 25,
   "id": "3d8141ea",
   "metadata": {},
   "outputs": [
    {
     "data": {
      "text/html": [
       "<div>\n",
       "<style scoped>\n",
       "    .dataframe tbody tr th:only-of-type {\n",
       "        vertical-align: middle;\n",
       "    }\n",
       "\n",
       "    .dataframe tbody tr th {\n",
       "        vertical-align: top;\n",
       "    }\n",
       "\n",
       "    .dataframe thead th {\n",
       "        text-align: right;\n",
       "    }\n",
       "</style>\n",
       "<table border=\"1\" class=\"dataframe\">\n",
       "  <thead>\n",
       "    <tr style=\"text-align: right;\">\n",
       "      <th></th>\n",
       "      <th>Unnamed: 0</th>\n",
       "      <th>text</th>\n",
       "      <th>label</th>\n",
       "      <th>clean text</th>\n",
       "      <th>new text</th>\n",
       "    </tr>\n",
       "  </thead>\n",
       "  <tbody>\n",
       "    <tr>\n",
       "      <th>25810</th>\n",
       "      <td>25810</td>\n",
       "      <td>Video: Nepal earthquake: Digging with... http:...</td>\n",
       "      <td>Not relevant</td>\n",
       "      <td>[video, nepal, earthquake, digging, httptcozqd...</td>\n",
       "      <td>video nepal earthquake digging httptcozqdvkwnm...</td>\n",
       "    </tr>\n",
       "    <tr>\n",
       "      <th>25811</th>\n",
       "      <td>25811</td>\n",
       "      <td>RT @loaideeb: When I see the outcomes of the r...</td>\n",
       "      <td>Not relevant</td>\n",
       "      <td>[retweet, loaideeb, see, outcome, recent, eart...</td>\n",
       "      <td>retweet loaideeb see outcome recent earthquake...</td>\n",
       "    </tr>\n",
       "    <tr>\n",
       "      <th>25812</th>\n",
       "      <td>25812</td>\n",
       "      <td>Is the earthquake in Nepal n North east of Ind...</td>\n",
       "      <td>Not relevant</td>\n",
       "      <td>[earthquake, nepal, north, east, india, seriou...</td>\n",
       "      <td>earthquake nepal north east india seriously th...</td>\n",
       "    </tr>\n",
       "    <tr>\n",
       "      <th>25813</th>\n",
       "      <td>25813</td>\n",
       "      <td>What it was like when the Nepal earthquake str...</td>\n",
       "      <td>Not relevant</td>\n",
       "      <td>[like, nepal, earthquake, struck, httptco, ei,...</td>\n",
       "      <td>like nepal earthquake struck httptco ei oxlonw</td>\n",
       "    </tr>\n",
       "    <tr>\n",
       "      <th>25814</th>\n",
       "      <td>25814</td>\n",
       "      <td>Nepal earthquake 2015: Google exec among 2,000...</td>\n",
       "      <td>Not relevant</td>\n",
       "      <td>[nepal, earthquake, google, exec, among, ki, h...</td>\n",
       "      <td>nepal earthquake google exec among ki httptcod...</td>\n",
       "    </tr>\n",
       "    <tr>\n",
       "      <th>25815</th>\n",
       "      <td>25815</td>\n",
       "      <td>Today, I heard the news about Nepal earthquake...</td>\n",
       "      <td>Not relevant</td>\n",
       "      <td>[today, heard, news, nepal, earthquake, brothe...</td>\n",
       "      <td>today heard news nepal earthquake brother thou...</td>\n",
       "    </tr>\n",
       "    <tr>\n",
       "      <th>25816</th>\n",
       "      <td>25816</td>\n",
       "      <td>Vigil for Nepal earthquake victims http://t.co...</td>\n",
       "      <td>Not relevant</td>\n",
       "      <td>[vigil, nepal, earthquake, victim, httptcofasrip]</td>\n",
       "      <td>vigil nepal earthquake victim httptcofasrip</td>\n",
       "    </tr>\n",
       "    <tr>\n",
       "      <th>25817</th>\n",
       "      <td>25817</td>\n",
       "      <td>We are with you! God Bless you! #Nepal #earthq...</td>\n",
       "      <td>Not relevant</td>\n",
       "      <td>[god, bless, nepal, earthquake]</td>\n",
       "      <td>god bless nepal earthquake</td>\n",
       "    </tr>\n",
       "    <tr>\n",
       "      <th>25818</th>\n",
       "      <td>25818</td>\n",
       "      <td>RT @BreakingNews Police say at least 4,352 peo...</td>\n",
       "      <td>Not relevant</td>\n",
       "      <td>[retweet, breakingnews, police, say, least, pe...</td>\n",
       "      <td>retweet breakingnews police say least people c...</td>\n",
       "    </tr>\n",
       "    <tr>\n",
       "      <th>25819</th>\n",
       "      <td>25819</td>\n",
       "      <td>Keep #Nepal in your thoughts after the horribl...</td>\n",
       "      <td>Not relevant</td>\n",
       "      <td>[keep, nepal, thought, horrible, mag, earthqua...</td>\n",
       "      <td>keep nepal thought horrible mag earthquake put...</td>\n",
       "    </tr>\n",
       "  </tbody>\n",
       "</table>\n",
       "</div>"
      ],
      "text/plain": [
       "       Unnamed: 0                                               text  \\\n",
       "25810       25810  Video: Nepal earthquake: Digging with... http:...   \n",
       "25811       25811  RT @loaideeb: When I see the outcomes of the r...   \n",
       "25812       25812  Is the earthquake in Nepal n North east of Ind...   \n",
       "25813       25813  What it was like when the Nepal earthquake str...   \n",
       "25814       25814  Nepal earthquake 2015: Google exec among 2,000...   \n",
       "25815       25815  Today, I heard the news about Nepal earthquake...   \n",
       "25816       25816  Vigil for Nepal earthquake victims http://t.co...   \n",
       "25817       25817  We are with you! God Bless you! #Nepal #earthq...   \n",
       "25818       25818  RT @BreakingNews Police say at least 4,352 peo...   \n",
       "25819       25819  Keep #Nepal in your thoughts after the horribl...   \n",
       "\n",
       "              label                                         clean text  \\\n",
       "25810  Not relevant  [video, nepal, earthquake, digging, httptcozqd...   \n",
       "25811  Not relevant  [retweet, loaideeb, see, outcome, recent, eart...   \n",
       "25812  Not relevant  [earthquake, nepal, north, east, india, seriou...   \n",
       "25813  Not relevant  [like, nepal, earthquake, struck, httptco, ei,...   \n",
       "25814  Not relevant  [nepal, earthquake, google, exec, among, ki, h...   \n",
       "25815  Not relevant  [today, heard, news, nepal, earthquake, brothe...   \n",
       "25816  Not relevant  [vigil, nepal, earthquake, victim, httptcofasrip]   \n",
       "25817  Not relevant                    [god, bless, nepal, earthquake]   \n",
       "25818  Not relevant  [retweet, breakingnews, police, say, least, pe...   \n",
       "25819  Not relevant  [keep, nepal, thought, horrible, mag, earthqua...   \n",
       "\n",
       "                                                new text  \n",
       "25810  video nepal earthquake digging httptcozqdvkwnm...  \n",
       "25811  retweet loaideeb see outcome recent earthquake...  \n",
       "25812  earthquake nepal north east india seriously th...  \n",
       "25813     like nepal earthquake struck httptco ei oxlonw  \n",
       "25814  nepal earthquake google exec among ki httptcod...  \n",
       "25815  today heard news nepal earthquake brother thou...  \n",
       "25816        vigil nepal earthquake victim httptcofasrip  \n",
       "25817                         god bless nepal earthquake  \n",
       "25818  retweet breakingnews police say least people c...  \n",
       "25819  keep nepal thought horrible mag earthquake put...  "
      ]
     },
     "execution_count": 25,
     "metadata": {},
     "output_type": "execute_result"
    }
   ],
   "source": [
    "tweet.tail(10)"
   ]
  },
  {
   "cell_type": "code",
   "execution_count": 26,
   "id": "3d4ca4dc",
   "metadata": {},
   "outputs": [
    {
     "data": {
      "text/plain": [
       "Not relevant    6882\n",
       "Hurricane       5239\n",
       "Wildfire        4192\n",
       "Blizzard        3284\n",
       "Floods          2647\n",
       "Tornado         2282\n",
       "Earthquake      1294\n",
       "Name: label, dtype: int64"
      ]
     },
     "execution_count": 26,
     "metadata": {},
     "output_type": "execute_result"
    }
   ],
   "source": [
    "tweet['label'].value_counts()"
   ]
  },
  {
   "cell_type": "code",
   "execution_count": null,
   "id": "a2f597d6",
   "metadata": {},
   "outputs": [],
   "source": []
  },
  {
   "cell_type": "code",
   "execution_count": null,
   "id": "afadcc00",
   "metadata": {},
   "outputs": [],
   "source": []
  },
  {
   "cell_type": "code",
   "execution_count": 27,
   "id": "ea2e7cdf",
   "metadata": {},
   "outputs": [],
   "source": [
    "tweet = tweet.drop(['Unnamed: 0'], axis = 1)"
   ]
  },
  {
   "cell_type": "code",
   "execution_count": 28,
   "id": "23b92bf1",
   "metadata": {},
   "outputs": [],
   "source": [
    "# Shuffle the Dataset.\n",
    "# shuffled_df = tweet.sample(frac=1,random_state=4)\n",
    "shuffled_df = tweet\n",
    "\n",
    "df_earthquake = shuffled_df.loc[shuffled_df['label'] == 'Earthquake']\n",
    "\n",
    "df_tornado = shuffled_df.loc[shuffled_df['label'] == 'Tornado'].sample(n=1294,random_state=42)\n",
    "df_notrelevant = shuffled_df.loc[shuffled_df['label'] == 'Not relevant'].sample(n=1294,random_state=42)\n",
    "df_hurricane = shuffled_df.loc[shuffled_df['label'] == 'Hurricane'].sample(n=1294,random_state=42)\n",
    "df_wildfire = shuffled_df.loc[shuffled_df['label'] == 'Wildfire'].sample(n=1294,random_state=42)\n",
    "df_blizzard = shuffled_df.loc[shuffled_df['label'] == 'Blizzard'].sample(n=1294,random_state=42)\n",
    "df_floods = shuffled_df.loc[shuffled_df['label'] == 'Floods'].sample(n=1294,random_state=42)\n",
    "\n",
    "\n",
    "# Concatenate both dataframes again\n",
    "original = pd.concat([df_earthquake,df_tornado,df_hurricane,df_wildfire,df_blizzard,df_floods,df_notrelevant])"
   ]
  },
  {
   "cell_type": "code",
   "execution_count": 29,
   "id": "520e4ede",
   "metadata": {},
   "outputs": [
    {
     "data": {
      "image/png": "[encoded data removed]",
      "text/plain": [
       "<Figure size 800x800 with 1 Axes>"
      ]
     },
     "metadata": {},
     "output_type": "display_data"
    }
   ],
   "source": [
    "#plot the dataset after the undersampling\n",
    "plt.figure(figsize=(8, 8))\n",
    "sns.countplot('label', data=original)\n",
    "plt.title('Balanced Classes')\n",
    "plt.show()"
   ]
  },
  {
   "cell_type": "code",
   "execution_count": 30,
   "id": "42f88805",
   "metadata": {},
   "outputs": [
    {
     "data": {
      "text/plain": [
       "Earthquake      1294\n",
       "Tornado         1294\n",
       "Hurricane       1294\n",
       "Wildfire        1294\n",
       "Blizzard        1294\n",
       "Floods          1294\n",
       "Not relevant    1294\n",
       "Name: label, dtype: int64"
      ]
     },
     "execution_count": 30,
     "metadata": {},
     "output_type": "execute_result"
    }
   ],
   "source": [
    "original['label'].value_counts()"
   ]
  },
  {
   "cell_type": "markdown",
   "id": "24b561ed",
   "metadata": {},
   "source": [
    "### Label Encoding"
   ]
  },
  {
   "cell_type": "code",
   "execution_count": 31,
   "id": "1d6283b0",
   "metadata": {},
   "outputs": [],
   "source": [
    "from sklearn.preprocessing import LabelEncoder\n",
    "le = LabelEncoder()\n",
    "original['label'] = le.fit_transform(original.label.values)"
   ]
  },
  {
   "cell_type": "code",
   "execution_count": 32,
   "id": "0445bf49",
   "metadata": {},
   "outputs": [
    {
     "name": "stdout",
     "output_type": "stream",
     "text": [
      "{0: 0, 1: 1, 2: 2, 3: 3, 4: 4, 5: 5, 6: 6}\n"
     ]
    }
   ],
   "source": [
    "from sklearn import preprocessing\n",
    "le = preprocessing.LabelEncoder()\n",
    "le.fit(original['label'])\n",
    "le_name_mapping = dict(zip(le.classes_, le.transform(le.classes_)))\n",
    "print(le_name_mapping)"
   ]
  },
  {
   "cell_type": "code",
   "execution_count": 33,
   "id": "d72d5496",
   "metadata": {},
   "outputs": [
    {
     "data": {
      "text/html": [
       "<div>\n",
       "<style scoped>\n",
       "    .dataframe tbody tr th:only-of-type {\n",
       "        vertical-align: middle;\n",
       "    }\n",
       "\n",
       "    .dataframe tbody tr th {\n",
       "        vertical-align: top;\n",
       "    }\n",
       "\n",
       "    .dataframe thead th {\n",
       "        text-align: right;\n",
       "    }\n",
       "</style>\n",
       "<table border=\"1\" class=\"dataframe\">\n",
       "  <thead>\n",
       "    <tr style=\"text-align: right;\">\n",
       "      <th></th>\n",
       "      <th>text</th>\n",
       "      <th>label</th>\n",
       "      <th>clean text</th>\n",
       "      <th>new text</th>\n",
       "    </tr>\n",
       "  </thead>\n",
       "  <tbody>\n",
       "    <tr>\n",
       "      <th>23616</th>\n",
       "      <td>Help @livelokai spread the word: $1 for repost...</td>\n",
       "      <td>1</td>\n",
       "      <td>[help, livelokai, spread, word, reposts, stayh...</td>\n",
       "      <td>help livelokai spread word reposts stayhopeful...</td>\n",
       "    </tr>\n",
       "    <tr>\n",
       "      <th>23617</th>\n",
       "      <td>#news #media #video Nepal Earthquake: Over 400...</td>\n",
       "      <td>1</td>\n",
       "      <td>[news, medium, video, nepal, earthquake, kille...</td>\n",
       "      <td>news medium video nepal earthquake killed doze...</td>\n",
       "    </tr>\n",
       "    <tr>\n",
       "      <th>23618</th>\n",
       "      <td>RT @ntparti: China rescue team leaves for #Nep...</td>\n",
       "      <td>1</td>\n",
       "      <td>[retweet, ntparti, china, rescue, team, leaf, ...</td>\n",
       "      <td>retweet ntparti china rescue team leaf nepal e...</td>\n",
       "    </tr>\n",
       "    <tr>\n",
       "      <th>23619</th>\n",
       "      <td>My thoughts go out to my #gurkha brethren. I h...</td>\n",
       "      <td>1</td>\n",
       "      <td>[thought, go, gurkha, brother, hope, family, s...</td>\n",
       "      <td>thought go gurkha brother hope family safe nep...</td>\n",
       "    </tr>\n",
       "    <tr>\n",
       "      <th>23620</th>\n",
       "      <td>RT @FOX40: How You Can Help Victims of the Nep...</td>\n",
       "      <td>1</td>\n",
       "      <td>[retweet, fox, help, victim, nepalearthquake, ...</td>\n",
       "      <td>retweet fox help victim nepalearthquake httptc...</td>\n",
       "    </tr>\n",
       "  </tbody>\n",
       "</table>\n",
       "</div>"
      ],
      "text/plain": [
       "                                                    text  label  \\\n",
       "23616  Help @livelokai spread the word: $1 for repost...      1   \n",
       "23617  #news #media #video Nepal Earthquake: Over 400...      1   \n",
       "23618  RT @ntparti: China rescue team leaves for #Nep...      1   \n",
       "23619  My thoughts go out to my #gurkha brethren. I h...      1   \n",
       "23620  RT @FOX40: How You Can Help Victims of the Nep...      1   \n",
       "\n",
       "                                              clean text  \\\n",
       "23616  [help, livelokai, spread, word, reposts, stayh...   \n",
       "23617  [news, medium, video, nepal, earthquake, kille...   \n",
       "23618  [retweet, ntparti, china, rescue, team, leaf, ...   \n",
       "23619  [thought, go, gurkha, brother, hope, family, s...   \n",
       "23620  [retweet, fox, help, victim, nepalearthquake, ...   \n",
       "\n",
       "                                                new text  \n",
       "23616  help livelokai spread word reposts stayhopeful...  \n",
       "23617  news medium video nepal earthquake killed doze...  \n",
       "23618  retweet ntparti china rescue team leaf nepal e...  \n",
       "23619  thought go gurkha brother hope family safe nep...  \n",
       "23620  retweet fox help victim nepalearthquake httptc...  "
      ]
     },
     "execution_count": 33,
     "metadata": {},
     "output_type": "execute_result"
    }
   ],
   "source": [
    "original.head()"
   ]
  },
  {
   "cell_type": "code",
   "execution_count": 34,
   "id": "b18c76ed",
   "metadata": {},
   "outputs": [
    {
     "data": {
      "text/plain": [
       "23616    help livelokai spread word reposts stayhopeful...\n",
       "23617    news medium video nepal earthquake killed doze...\n",
       "23618    retweet ntparti china rescue team leaf nepal e...\n",
       "23619    thought go gurkha brother hope family safe nep...\n",
       "23620    retweet fox help victim nepalearthquake httptc...\n",
       "                               ...                        \n",
       "2856     retweet tornadohunt tornado may passed directl...\n",
       "11248    good day twin tater tot casserole ready oven b...\n",
       "21695    dont understand many trying draw fund fema acc...\n",
       "14177    kind hard even parse mean herewas trying racis...\n",
       "9347     chilln home blizzard e coast watchn bull v cav...\n",
       "Name: new text, Length: 9058, dtype: object"
      ]
     },
     "execution_count": 34,
     "metadata": {},
     "output_type": "execute_result"
    }
   ],
   "source": [
    "original.iloc[:,3]"
   ]
  },
  {
   "cell_type": "markdown",
   "id": "66a92231",
   "metadata": {},
   "source": [
    "### Most frequent words"
   ]
  },
  {
   "cell_type": "code",
   "execution_count": 36,
   "id": "f9b26ed4",
   "metadata": {},
   "outputs": [],
   "source": [
    "from collections import Counter"
   ]
  },
  {
   "cell_type": "code",
   "execution_count": 37,
   "id": "059ff895",
   "metadata": {},
   "outputs": [],
   "source": [
    "# split_it = original['clean text'].split()"
   ]
  },
  {
   "cell_type": "code",
   "execution_count": 38,
   "id": "2d15dcb9",
   "metadata": {},
   "outputs": [
    {
     "data": {
      "text/plain": [
       "23616    help livelokai spread word reposts stayhopeful...\n",
       "23617    news medium video nepal earthquake killed doze...\n",
       "23618    retweet ntparti china rescue team leaf nepal e...\n",
       "23619    thought go gurkha brother hope family safe nep...\n",
       "23620    retweet fox help victim nepalearthquake httptc...\n",
       "                               ...                        \n",
       "2856     retweet tornadohunt tornado may passed directl...\n",
       "11248    good day twin tater tot casserole ready oven b...\n",
       "21695    dont understand many trying draw fund fema acc...\n",
       "14177    kind hard even parse mean herewas trying racis...\n",
       "9347     chilln home blizzard e coast watchn bull v cav...\n",
       "Name: new text, Length: 9058, dtype: object"
      ]
     },
     "execution_count": 38,
     "metadata": {},
     "output_type": "execute_result"
    }
   ],
   "source": [
    "original['new text']"
   ]
  },
  {
   "cell_type": "code",
   "execution_count": 39,
   "id": "0a1448a6",
   "metadata": {},
   "outputs": [],
   "source": [
    "# words = list(original['new text'])"
   ]
  },
  {
   "cell_type": "code",
   "execution_count": 40,
   "id": "95d18128",
   "metadata": {},
   "outputs": [],
   "source": [
    "# words"
   ]
  },
  {
   "cell_type": "code",
   "execution_count": 41,
   "id": "5f2dbeed",
   "metadata": {},
   "outputs": [],
   "source": [
    "# l = []\n",
    "# for i in words:\n",
    "#         l.append(j)"
   ]
  },
  {
   "cell_type": "code",
   "execution_count": 42,
   "id": "2ce033c3",
   "metadata": {},
   "outputs": [],
   "source": [
    "# commonwords = nltk.FreqDist(l)\n",
    "# mostcommon = commonwords.most_common(100)"
   ]
  },
  {
   "cell_type": "code",
   "execution_count": 43,
   "id": "da0bc294",
   "metadata": {},
   "outputs": [],
   "source": [
    "# mostcommon"
   ]
  },
  {
   "cell_type": "markdown",
   "id": "03135dd8",
   "metadata": {},
   "source": [
    "### Classification with TFIDF and SVM"
   ]
  },
  {
   "cell_type": "code",
   "execution_count": 44,
   "id": "bc553bde",
   "metadata": {},
   "outputs": [
    {
     "data": {
      "text/plain": [
       "['help livelokai spread word reposts stayhopefulnepal httptcouhjz gaobu nepalearthquake httptco opbynvn',\n",
       " 'news medium video nepal earthquake killed dozen trapped magnitude quake httptcowzitunshxc journalism report',\n",
       " 'retweet ntparti china rescue team leaf nepal expected arrive katmandu midday sunday earthquake httptcovu zuzgsq httpt',\n",
       " 'thought go gurkha brother hope family safe nepalquake nepalearthquake httptcopmcwmqci',\n",
       " 'retweet fox help victim nepalearthquake httptcogfcxaeiuds',\n",
       " 'retweet boredpanda monthold baby trapped hour nepal earthquake rubble finally rescued pic httptcod cjvyviuy httpt',\n",
       " 'ndtv r supply going people r saying r gettin anything nd say crore supply hav sent nepalearthquake']"
      ]
     },
     "execution_count": 44,
     "metadata": {},
     "output_type": "execute_result"
    }
   ],
   "source": [
    "text_list=[]\n",
    "\n",
    "#append every word in snow column to a text to use tf-idf\n",
    "for text in original['clean text']:\n",
    "    text=' '.join([word for word in text if word.isalnum()])\n",
    "    text_list.append(text)\n",
    "\n",
    "text_list[:7]"
   ]
  },
  {
   "cell_type": "code",
   "execution_count": 45,
   "id": "b4e1a0a0",
   "metadata": {},
   "outputs": [],
   "source": [
    "text = original['new text']\n",
    "y = original['label']"
   ]
  },
  {
   "cell_type": "code",
   "execution_count": 46,
   "id": "b459db49",
   "metadata": {},
   "outputs": [],
   "source": [
    "tfidf = TfidfVectorizer(ngram_range=(1,1))\n",
    "X = tfidf.fit_transform(text_list)"
   ]
  },
  {
   "cell_type": "code",
   "execution_count": 47,
   "id": "6ddcd0b8",
   "metadata": {},
   "outputs": [],
   "source": [
    "feature_names=np.array(tfidf.get_feature_names())"
   ]
  },
  {
   "cell_type": "code",
   "execution_count": 48,
   "id": "9acef5d6",
   "metadata": {},
   "outputs": [
    {
     "data": {
      "text/plain": [
       "array(['aa', 'aaa', 'aaaaahhhhh', ..., 'zzmlo', 'zzxway',\n",
       "       'zzztherewerepeoplewhowerenzzztabletogetoutzzzfivetrappedincarsburntoxyy'],\n",
       "      dtype='<U162')"
      ]
     },
     "execution_count": 48,
     "metadata": {},
     "output_type": "execute_result"
    }
   ],
   "source": [
    "feature_names"
   ]
  },
  {
   "cell_type": "code",
   "execution_count": 49,
   "id": "cdd8da1e",
   "metadata": {},
   "outputs": [],
   "source": [
    "max_spars = X.max(0).toarray()[0]# Get largest tfidf values across all documents."
   ]
  },
  {
   "cell_type": "code",
   "execution_count": 50,
   "id": "bea3b18a",
   "metadata": {},
   "outputs": [
    {
     "data": {
      "text/plain": [
       "array([0.37296356, 0.38344614, 0.40736334, ..., 0.40144206, 0.48054661,\n",
       "       0.34067464])"
      ]
     },
     "execution_count": 50,
     "metadata": {},
     "output_type": "execute_result"
    }
   ],
   "source": [
    "max_spars"
   ]
  },
  {
   "cell_type": "code",
   "execution_count": 51,
   "id": "aa64f255",
   "metadata": {},
   "outputs": [
    {
     "data": {
      "text/plain": [
       "array([ 9269, 20754,  9208, ..., 13001, 15408, 18681], dtype=int64)"
      ]
     },
     "execution_count": 51,
     "metadata": {},
     "output_type": "execute_result"
    }
   ],
   "source": [
    "sorted_index = max_spars.argsort() # Sorted indices\n",
    "sorted_index"
   ]
  },
  {
   "cell_type": "code",
   "execution_count": 52,
   "id": "a4beaf60",
   "metadata": {},
   "outputs": [
    {
     "data": {
      "text/plain": [
       "array([0.04436518, 0.04436518, 0.04436518, ..., 0.8875658 , 0.88826815,\n",
       "       0.91860165])"
      ]
     },
     "execution_count": 52,
     "metadata": {},
     "output_type": "execute_result"
    }
   ],
   "source": [
    "sorted_sparse = max_spars[sorted_index] # Sorted TFIDF values\n",
    "sorted_sparse"
   ]
  },
  {
   "cell_type": "code",
   "execution_count": 53,
   "id": "abb891a3",
   "metadata": {},
   "outputs": [
    {
     "data": {
      "text/plain": [
       "sympathy                0.918602\n",
       "prayfornepal            0.888268\n",
       "mourn                   0.887566\n",
       "rip                     0.887480\n",
       "break                   0.878389\n",
       "praying                 0.875157\n",
       "sad                     0.860073\n",
       "dumb                    0.849188\n",
       "fucking                 0.847313\n",
       "yayyy                   0.843781\n",
       "pictwittercompletbun    0.841365\n",
       "gettin                  0.838254\n",
       "pain                    0.836035\n",
       "prayer                  0.835775\n",
       "awful                   0.834495\n",
       "great                   0.831227\n",
       "billboard               0.829755\n",
       "death                   0.827116\n",
       "scary                   0.824271\n",
       "httptcoofmrws           0.823050\n",
       "relevant                0.822002\n",
       "criticized              0.820912\n",
       "horrible                0.818940\n",
       "medshare                0.815329\n",
       "absolutely              0.808272\n",
       "given                   0.805238\n",
       "notrelevant             0.802086\n",
       "held                    0.801154\n",
       "dtype: float64"
      ]
     },
     "execution_count": 53,
     "metadata": {},
     "output_type": "execute_result"
    }
   ],
   "source": [
    "largest_series = pd.Series(sorted_sparse[-5000:][::-1], index=feature_names[sorted_index[-5000:][::-1]])\n",
    "largest_series[largest_series>0.80]"
   ]
  },
  {
   "cell_type": "code",
   "execution_count": 80,
   "id": "6f7fcf2c",
   "metadata": {
    "scrolled": false
   },
   "outputs": [
    {
     "name": "stdout",
     "output_type": "stream",
     "text": [
      "{'help': 7025, 'livelokai': 11885, 'spread': 18098, 'word': 21078, 'reposts': 16371, 'stayhopefulnepal': 18229, 'httptcouhjz': 9418, 'gaobu': 6119, 'nepalearthquake': 13408, 'httptco': 8930, 'opbynvn': 14107, 'news': 13470, 'medium': 12544, 'video': 20331, 'nepal': 13404, 'earthquake': 4567, 'killed': 11273, 'dozen': 4314, 'trapped': 19506, 'magnitude': 12229, 'quake': 15880, 'httptcowzitunshxc': 9489, 'journalism': 10982, 'report': 16364, 'retweet': 16464, 'ntparti': 13787, 'china': 2646, 'rescue': 16390, 'team': 18831, 'leaf': 11655, 'expected': 5173, 'arrive': 749, 'katmandu': 11140, 'midday': 12690, 'sunday': 18513, 'httptcovu': 9461, 'zuzgsq': 21760, 'httpt': 8928, 'thought': 19121, 'go': 6369, 'gurkha': 6681, 'brother': 1877, 'hope': 7296, 'family': 5298, 'safe': 16890, 'nepalquake': 13431, 'httptcopmcwmqci': 9298, 'fox': 5888, 'victim': 20323, 'httptcogfcxaeiuds': 9074, 'boredpanda': 1687, 'monthold': 12928, 'baby': 1036, 'hour': 7348, 'rubble': 16780, 'finally': 5497, 'rescued': 16391, 'pic': 14731, 'httptcod': 9000, 'cjvyviuy': 2744, 'ndtv': 13340, 'supply': 18546, 'going': 6390, 'people': 14589, 'saying': 17043, 'gettin': 6232, 'anything': 623, 'nd': 13330, 'say': 17039, 'crore': 3440, 'hav': 6885, 'sent': 17262, 'cnni': 2896, 'cnn': 2890, 'obtains': 13894, 'powerful': 15357, 'image': 10215, 'least': 11671, 'hit': 7170, 'httptcobitzgwrwvx': 8966, 'xky': 21326, 'exsecular': 5207, 'vishwa': 20370, 'guru': 6685, 'global': 6333, 'leader': 11651, 'usa': 20053, 'except': 5133, 'salute': 16934, 'indianforces': 10346, 'thankyoupm': 18984, 'httpstcomyvhntwwon': 8423, 'insandivya': 10450, 'indian': 10340, 'reach': 16105, 'raxaul': 16080, 'bihar': 1435, 'earthquakehit': 4577, 'msghelpearthquakevictims': 13070, 'msgthefilm': 13071, 'part': 14448, 'india': 10337, 'really': 16136, 'shocking': 17468, 'amp': 494, 'wid': 20870, 'iaitanshuahuja': 10083, 'helpline': 7033, 'number': 13805, 'embassy': 4785, 'earthquakedeath': 4572, 'toll': 19303, 'nears': 13354, 'httptcoxumeucqxyf': 9508, 'omaha': 14032, 'portland': 15298, 'colorado': 2971, 'utah': 20110, 'idaho': 10115, 'jacksonhole': 10741, 'rocksprings': 16657, 'focustaiwan': 5739, 'taiwan': 18719, 'medical': 12533, 'departs': 3878, 'quakehit': 15881, 'mcwfzsmdc': 12486, 'httptcoauh': 8954, 'blneeq': 1571, 'anybody': 619, 'melamchi': 12563, 'ghyang': 6261, 'helambu': 7009, 'region': 16263, 'thankyou': 18981, 'thekkapoor': 19031, 'infomumbai': 10399, 'search': 17167, 'someone': 17914, 'missing': 12790, 'kathmandu': 11130, 'text': 18939, 'hisher': 7165, 'name': 13226, 'srbach': 18136, 'came': 2161, 'last': 11588, 'eve': 5073, 'took': 19333, 'hr': 7398, 'set': 17290, 'makeshift': 12263, 'hospital': 7325, 'rk': 16598, 'yadav': 21415, 'commanding': 3018, 'officer': 13945, 'amc': 473, 'httptcos': 9357, 'ljfapob': 11909, 'timesofindia': 19209, 'pathetic': 14491, 'still': 18287, 'dont': 4268, 'know': 11368, 'much': 13098, 'rise': 16568, 'ksushma': 11430, 'govt': 6470, 'asked': 794, 'respect': 16415, 'httptcovenxtcf': 9449, 'neighbour': 13390, 'need': 13364, 'httpstcolrpwrmvulu': 8419, 'body': 1639, 'brought': 1878, 'morgue': 12954, 'bir': 1461, 'left': 11686, 'outside': 14237, 'there': 19056, 'space': 17993, 'japancentre': 10788, 'well': 20737, 'also': 436, 'donation': 4259, 'box': 1728, 'store': 18334, 'give': 6289, 'britishredcross': 1847, 'httptcostqtij': 9376, 'vikasideas': 20345, 'prayer': 15403, 'detail': 3953, 'doctor': 4219, 'area': 703, 'bidiynwkf': 1418, 'chpsre': 2674, 'un': 19848, 'survivor': 18598, 'support': 18549, 'wfp': 20787, 'httptcotlzeji': 9395, 'nvu': 13826, 'sad': 16882, 'devastates': 3970, 'killing': 11277, 'httptcok': 9166, 'okqxunej': 14003, 'real': 16119, 'face': 5249, 'aamaadmiparty': 11, 'pathanasmakhan': 14490, 'httpstcosnut': 8439, 'add': 143, 'baxiabhishek': 1186, 'take': 18722, 'uber': 19769, 'next': 13504, 'enter': 4889, 'promo': 15582, 'code': 2926, 'helpnepal': 7037, 'contribute': 3184, 'httpstcosbunhbsrth': 8438, 'death': 3759, 'gone': 6409, 'per': 14604, 'latest': 11597, 'httptcotqneihnsfm': 9399, 'sanjaybafna': 16980, 'vodafone': 20417, 'foundation': 5878, 'instant': 10488, 'mobile': 12852, 'network': 13449, 'deployed': 3890, 'httptcolcoiyzgdfl': 9198, 'michael': 12671, 'tandy': 18758, 'uk': 19825, 'chen': 2598, 'yenjune': 21471, 'chang': 2516, 'kuijane': 11445, 'yuchintaiwan': 21574, 'langtang': 11561, 'bjiziynt': 1491, 'tanejar': 18759, 'dera': 3907, 'chief': 2629, 'gurmeetramrahim': 6684, 'nepalquakerelief': 13433, 'thousand': 19124, 'volunteer': 20434, 'haryanatweets': 6868, 'harya': 6867, 'emerged': 4795, 'showing': 17510, 'moment': 12887, 'everest': 5081, 'avalanche': 953, 'httptcoxn': 9503, 'ui': 19819, 'nne': 13607, 'httptcouytr': 9441, 'mvsne': 13174, 'aninews': 569, 'aftermath': 229, 'indiawithnepal': 10352, 'httptcomjujuhevom': 9221, 'dramarmoh': 4340, 'nepali': 13419, 'worker': 21084, 'malaysia': 12267, 'lost': 12051, 'new': 13456, 'jersey': 10850, 'woman': 21050, 'among': 491, 'national': 13263, 'broadcasting': 1858, 'company': 3040, 'york': 21528, 'gm': 6356, 'remzs': 16332, 'newyork': 13502, 'soompi': 17936, 'figure': 5473, 'skater': 17655, 'kimyuna': 11284, 'donates': 4257, 'young': 21541, 'httptcosmuyapbigj': 9369, 'prayfornepal': 15411, 'situation': 17630, 'overview': 14271, 'gdacs': 6177, 'eimk': 4717, 'glimpse': 6327, 'facebook': 5250, 'satety': 17012, 'check': 2572, 'work': 21081, 'httpstcoafjqekx': 8380, 'ok': 13994, 'live': 11881, 'cdqeqsfg': 2445, 'kill': 11271, 'cause': 2393, 'mt': 13083, 'destroys': 3949, 'ancient': 528, 'temple': 18881, 'fierce': 5465, 'kaskvzya': 11122, 'danielvargomd': 3647, 'proud': 15617, 'uofusurgery': 19991, 'stepping': 18265, 'travel': 19515, 'courtney': 3311, 'scaife': 17056, 'md': 12487, 'resident': 16403, 'katiewrus': 11139, 'please': 15153, 'let': 11728, 'others': 14196, 'opengoodhacks': 14112, 'may': 12445, 'working': 21086, 'httptcodycnhqvexg': 9018, 'survey': 18589, 'httptcoipgbvt': 9135, 'stay': 18226, 'strong': 18404, 'see': 17206, 'light': 11803, 'iaf': 10078, 'suspends': 18608, 'ops': 14136, 'temporarily': 18882, 'due': 4469, 'bad': 1054, 'weather': 20686, 'condition': 3093, 'sasusakuind': 17008, 'effected': 4677, 'candy': 2201, 'sasusaku': 17007, 'naruto': 13246, 'httptcoxxu': 9512, 'wqajka': 21134, 'lizzypatrickk': 11906, 'miss': 12785, 'big': 1420, 'bubby': 1911, 'ill': 10198, 'find': 5500, 'soon': 17937, 'akshaykumar': 340, 'heard': 6955, 'rumour': 16799, 'donating': 4258, 'gabbarisbacks': 6099, 'st': 18150, 'day': 3691, 'collection': 2963, 'cont': 3158, 'even': 5074, 'imagine': 10218, 'psychological': 15650, 'impact': 10253, 'fun': 6035, 'stop': 18327, 'international': 10538, 'propooganda': 15599, 'home': 7242, 'horrific': 7315, 'incident': 10301, 'savenepal': 17029, 'staystrongnepal': 18235, 'prayforthem': 15414, 'riseabove': 16569, 'staysafe': 18233, 'great': 6547, 'job': 10925, 'army': 733, 'earthquakenepal': 4581, 'httpstco': 8377, 'ogllm': 13962, 'zhu': 21682, 'spokespersonmod': 18075, 'one': 14047, 'superhercules': 18533, 'aircraft': 302, 'taken': 18724, 'hindan': 7150, 'ndrf': 13338, 'uofnkona': 19990, 'touch': 19416, 'outreach': 14232, 'pray': 15401, 'deepest': 3809, 'condolence': 3098, 'disaster': 4094, 'peopletopeople': 14597, 'httpstcobdxq': 8385, 'hvcnm': 10031, 'recent': 16162, 'mb': 12454, 'depth': 3904, 'km': 11345, 'coordinated': 3226, 'universal': 19935, 'time': 19204, 'severe': 17307, 'httptcokfuplhifsk': 9172, 'httptcoe': 9020, 'pjkcclgb': 15094, 'good': 6413, 'google': 6430, 'helping': 7030, 'darymami': 3663, 'slam': 17689, 'devastating': 3971, 'loss': 12050, 'history': 7169, 'httptcobdqlffkby': 8962, 'tsbugg': 19634, 'necessary': 13357, 'gesture': 6225, 'power': 15355, 'monk': 12906, 'httptcota': 9382, 'pgeniyw': 14674, 'atumlite': 886, 'sight': 17556, 'flag': 5594, 'make': 12258, 'heart': 6959, 'sink': 17609, 'vskynews': 20465, 'trigger': 19561, 'near': 13345, 'base': 1149, 'camp': 2167, 'following': 5752, 'like': 11816, 'open': 14109, 'wound': 21117, 'must': 13159, 'considered': 3139, 'contaminated': 3166, 'closed': 2833, 'httptcoz': 9537, 'sanjayvis': 16981, 'mammoth': 12284, 'relief': 16293, 'operation': 14118, 'second': 17191, 'proudonindianarmy': 15619, 'httptcofznapq': 9068, 'prayed': 15402, 'huddled': 9910, 'beam': 1240, 'journalist': 10983, 'sunir': 18516, 'pandey': 14383, 'visiting': 20376, 'relative': 16284, 'mag': 12218, 'httptcomgjdkm': 9220, 'gk': 6304, 'viber': 20308, 'viberhelp': 20309, 'user': 20083, 'use': 20074, 'call': 2143, 'nepalese': 13416, 'land': 11544, 'line': 11839, 'free': 5924, 'chopper': 2670, 'zbovl': 21638, 'honourourforces': 7284, 'sending': 17252, 'prays': 15421, 'country': 3295, 'given': 6293, 'amazing': 462, 'men': 12589, 'pibindia': 14730, 'crucial': 3454, 'provide': 15627, 'livesaving': 11890, 'trauma': 19511, 'care': 2261, 'ph': 14683, 'red': 16200, 'cross': 3441, 'seek': 17212, 'cash': 2346, 'httptcouqpyhp': 9435, 'earthquakeph': 4583, 'tragedy': 19476, 'keep': 11175, 'tribhuvan': 19553, 'airport': 314, 'currently': 3528, 'learthquake': 11667, 'airspace': 317, 'deserted': 3924, 'zetccjdm': 21666, 'via': 20301, 'onlygcx': 14067, 'plese': 15161, 'httptcox': 9491, 'dr': 4330, 'saiwq': 16907, 'thedailyshare': 19011, 'watch': 20605, 'frightening': 5967, 'climber': 2820, 'capture': 2236, 'deadly': 3744, 'triggered': 19562, 'http': 7440, 'exec': 5148, 'dy': 4529, 'httptcobxofptc': 8976, 'httptcoww': 9485, 'anzmaop': 629, 'httptcoiwfwi': 9141, 'lrm': 12104, 'ochaasiapac': 13911, 'aftershock': 231, 'continue': 3176, 'pose': 15302, 'threat': 19127, 'earthquakeaffected': 4568, 'could': 3278, 'risk': 16572, 'landslide': 11557, 'two': 19735, 'jammu': 10773, 'reported': 16366, 'read': 16111, 'rwlnepxqv': 16837, 'httptcoixjftkfs': 9143, 'shandiponidey': 17365, 'horrifying': 7316, 'scifi': 17100, 'movie': 13016, 'dqcbrdtt': 4327, 'safety': 16898, 'allows': 422, 'confirm': 3107, 'wellbeing': 20739, 'httptcopcdoyghnum': 9282, 'sikh': 17569, 'sevak': 17300, 'goldentemple': 6395, 'send': 17249, 'food': 5756, 'packet': 14336, 'hitnepal': 7179, 'thank': 18967, 'high': 7111, 'coming': 3011, 'week': 20719, 'study': 18419, 'mudslide': 13101, 'ptgs': 15655, 'tvns': 19697, 'carolineheldman': 2290, 'stef': 18253, 'sophie': 17945, 'steffens': 18254, 'found': 5877, 'bamboo': 1093, 'village': 20350, 'losttrekkersfound': 12054, 'facebooks': 5251, 'ec': 4625, 'otqedn': 14202, 'person': 14626, 'finder': 5501, 'httpstcozeiqxsq': 8460, 'plz': 15188, 'dead': 3739, 'wounded': 21118, 'newswise': 13500, 'florida': 5694, 'state': 18214, 'expert': 5187, 'available': 951, 'comment': 3020, 'ab': 20, 'grim': 6590, 'picture': 14742, 'life': 11785, 'jolt': 10962, 'httptcogfv': 9075, 'tzdu': 19757, 'unicef': 19911, 'girl': 6282, 'drinking': 4374, 'water': 20615, 'unicefsupported': 19914, 'informal': 10401, 'unicefnepal': 19912, 'httptcoglb': 9085, 'allout': 417, 'effort': 4686, 'prime': 15509, 'minister': 12758, 'modi': 12872, 'nar': 13240, 'hn': 7208, 'edrl': 4658, 'jeeturaaj': 10824, 'sum': 18502, 'frnds': 5972, 'wan': 20550, 'na': 13204, 'bulk': 1942, 'value': 20179, 'contact': 3159, 'frm': 5970, 'timescares': 19207, 'project': 15577, 'heptrs': 7052, 'today': 19280, 'evacuated': 5057, 'casualty': 2357, 'cumulative': 3514, 'height': 7005, 'httpstcocgw': 8387, 'lsmy': 12108, 'breaking': 1789, 'preparing': 15464, 'mount': 12997, 'intl': 10550, 'emergency': 4796, 'response': 16423, 'httptcolrxvtvojdi': 9208, 'federation': 5398, 'httptcootyjlo': 9268, 'oih': 13984, 'burnetinstitute': 1989, 'everyone': 5092, 'aust': 911, 'aid': 284, 'agency': 242, 'responding': 16421, 'lucknow': 12123, 'government': 6467, 'sends': 17253, 'truck': 19601, 'carrying': 2309, 'material': 12424, 'affected': 211, 'bwswkw': 2045, 'hi': 7096, 'tirambad': 19226, 'irregularity': 10631, 'redcross': 16202, 'guy': 6695, 'donated': 4254, 'around': 739, 'nstonline': 13779, 'ministry': 12759, 'reached': 16106, 'breakingnews': 1791, 'nst': 13778, 'httptcohmjoov': 9107, 'fund': 6037, 'httptcoiqdqrhjori': 9137, 'raise': 16004, 'indiegogolife': 10360, 'additional': 148, 'train': 19482, 'coach': 2908, 'added': 144, 'eyz': 5239, 'te': 18826, 'nw': 13827, 'httptcov': 9445, 'tpiqv': 19451, 'fg': 5444, 'deadliest': 3743, 'compare': 3042, 'haiti': 6754, 'httptcotonc': 9396, 'nolc': 13638, 'scienceporn': 17097, 'far': 5311, 'declared': 3791, 'rip': 16562, 'directrelief': 4081, 'nprnews': 13762, 'struck': 18408, 'photographer': 14713, 'portfolio': 15296, 'httptcoppdt': 9303, 'ddvel': 3736, 'describe': 3917, 'mayhem': 12450, 'nida': 13546, 'najar': 13221, 'nyt': 13853, 'httptcosu': 9377, 'hnn': 7212, 'yo': 21516, 'deboard': 3768, 'air': 295, 'force': 5826, 'station': 18223, 'palam': 14370, 'delhi': 3834, 'httptcoq': 9309, 'lqg': 12096, 'several': 17306, 'building': 1938, 'including': 10311, 'collapse': 2952, 'httptcognd': 9086, 'mttklg': 13094, 'httptcougneoxhoe': 9417, 'social': 17862, 'sleep': 17704, 'easier': 4590, 'tonight': 19328, 'happened': 6821, 'httptcofcrknmkada': 9045, 'skynewsbreak': 17684, 'sushil': 18602, 'koirala': 11382, 'british': 1845, 'corporation': 3259, 'crew': 3411, 'epicentre': 4929, 'httptcop': 9276, 'pzjl': 15753, 'ha': 6721, 'techbytes': 18843, 'tech': 18842, 'giant': 6263, 'lend': 11712, 'hand': 6790, 'abc': 27, 'lmm': 11941, 'technology': 18849, 'heartfelt': 6963, 'pakstandswithnepal': 14366, 'spoonia': 18083, 'landmark': 11551, 'year': 21452, 'old': 14008, 'dharahara': 4006, 'tower': 19436, 'collapsed': 2953, 'spoke': 18072, 'friend': 5958, 'involved': 10578, 'humanitarian': 9931, 'ktm': 11435, 'piling': 15047, 'surreal': 18582, 'scene': 17082, 'post': 15316, 'apocalyptic': 647, 'film': 5485, 'oxfam': 14297, 'continuous': 3181, 'getting': 6233, 'stronger': 18405, 'httptcooilvrzvruy': 9256, 'ap': 637, 'photo': 14709, 'httptc': 8929, 'way': 20641, 'schillermadrid': 17089, 'usembassymadrid': 20081, 'httpstcopalsmtg': 8429, 'kc': 11153, 'usccb': 20071, 'archbishopkurtz': 698, 'catholicrelief': 2381, 'httptcofhxyunidxc': 9047, 'mildmilan': 12723, 'bloody': 1584, 'epicenter': 4928, 'past': 14479, 'counting': 3291, 'httptcoofmrws': 9251, 'buy': 2028, 'hibernaterecs': 7098, 'album': 364, 'raised': 16005, 'httptcomvuqdde': 9229, 'frankiejgrande': 5907, 'love': 12065, 'dhiraagu': 4012, 'prepaid': 15456, 'postpaid': 15328, 'customer': 3538, 'landline': 11549, 'till': 19197, 'april': 682, 'refugee': 16251, 'lorry': 12042, 'delivered': 3842, 'prevented': 15494, 'vehicle': 20241, 'access': 73, 'httptcowppfsxobw': 9478, 'art': 758, 'morning': 12957, 'link': 11844, 'edition': 4652, 'nepalskathmandu': 13438, 'valley': 20176, 'httptcozmkqjrx': 9550, 'bi': 1406, 'gxhqvyv': 6710, 'dramatic': 4341, 'kathmanduquake': 11135, 'nrcegeland': 13768, 'civil': 2735, 'society': 17870, 'biggest': 1424, 'responder': 16420, 'largely': 11572, 'ignored': 10157, 'internationa': 10537, 'seen': 17218, 'apifarely': 643, 'virgi': 20366, 'lady': 11503, 'agrarian': 260, 'crisis': 3422, 'optimum': 14138, 'powerfulpm': 15359, 'narendramodi': 13242, 'namo': 13230, 'jaihind': 10753, 'careaustralia': 2262, 'clean': 2778, 'critical': 3428, 'together': 19292, 'save': 17024, 'httptcoh': 9097, 'evpktqae': 5113, 'adraintl': 172, 'unhrd': 19908, 'httptcodeyjpk': 9005, 'uv': 20143, 'shiwanineupane': 17462, 'sadness': 16888, 'sinking': 17611, 'place': 15112, 'grew': 6578, 'wickedlygood': 20867, 'gave': 6150, 'huge': 9920, 'pile': 15044, 'clothes': 2842, 'donate': 4253, 'whatever': 20801, 'httptcoj': 9145, 'qffpqxl': 15791, 'httptcoqd': 9312, 'wuxhpvo': 21224, 'bbcsanjoym': 1207, 'japanese': 10789, 'join': 10954, 'darbar': 3653, 'square': 18128, 'httptcocv': 8994, 'xkzbeh': 21327, 'shockedhearing': 17467, 'god': 6377, 'child': 2631, 'preetyinsan': 15446, 'sooo': 17939, 'newsguru': 13482, 'await': 971, 'awaited': 972, 'goharshahi': 6388, 'endtimessigns': 4844, 'mounteverest': 13001, 'yes': 21474, 'speed': 18032, 'reaction': 16109, 'initiative': 10431, 'httptcou': 9410, 'zcah': 21641, 'cg': 2494, 'hpyoungvoices': 7393, 'never': 13451, 'httptcokbh': 9168, 'hxdfv': 10042, 'twitter': 19728, 'account': 88, 'bangkok': 1105, 'called': 2144, 'got': 6455, 'update': 19997, 'regularly': 16268, 'french': 5938, 'couple': 3304, 'florent': 5692, 'agnes': 253, 'bohinjc': 1645, 'httptcokqkdvu': 9183, 'vmx': 20407, 'il': 10194, 'plane': 15119, 'arrives': 751, 'onboard': 14043, 'feel': 5408, 'safer': 16896, 'church': 2700, 'httptcodvcidf': 9013, 'httptcoxccllfgvxd': 9494, 'httptcoktup': 9187, 'opaih': 14105, 'three': 19133, 'wrexham': 21160, 'httptcoty': 9408, 'ihuqrv': 10173, 'httptcofut': 9061, 'oljx': 14025, 'ypg': 21554, 'ypj': 21557, 'solidarity': 17900, 'rojava': 16667, 'kobane': 11377, 'kurdistan': 11451, 'twitterkurds': 19731, 'httptcoi': 9121, 'hdingyyp': 6924, 'whole': 20850, 'wall': 20534, 'would': 21113, 'died': 4034, 'story': 18354, 'relevant': 16291, 'month': 12926, 'alive': 395, 'earthquakerubble': 4587, 'httptcolvs': 9210, 'qtkh': 15868, 'drone': 4398, 'httptcoqetjtqnoop': 9315, 'sueamandasue': 18477, 'sister': 17619, 'pokhara': 15232, 'wednesday': 20710, 'httptcoitjmzlpddg': 9140, 'bbcworld': 1210, 'foxnews': 5889, 'wsj': 21186, 'amritsars': 502, 'golden': 6394, 'lakh': 11530, 'rail': 15986, 'mn': 12840, 'bottle': 1700, 'united': 19928, 'frequent': 5942, 'flyer': 5713, 'member': 12579, 'earn': 4562, 'mile': 12724, 'httptcoox': 9271, 'jksftbb': 10901, 'meacontrolroom': 12496, 'nightmare': 13560, 'serious': 17273, 'logistical': 11987, 'problem': 15540, 'ineffectiveness': 10378, 'dirty': 4085, 'politics': 15247, 'lal': 11533, 'httptcog': 9069, 'zaaljrzs': 21618, 'brabimkumar': 1753, 'youth': 21547, 'urgently': 20044, 'required': 16384, 'tundikhel': 19669, 'ayonnepal': 1021, 'panic': 14385, 'capital': 2224, 'causing': 2396, 'major': 12252, 'damage': 3608, 'injury': 10435, 'httptcoer': 9034, 'bckb': 1225, 'globalgiving': 6336, 'cc': 2425, 'oneseedex': 14057, 'ideorg': 10123, 'cacradicalgrace': 2076, 'busy': 2016, 'remind': 16319, 'pl': 15111, 'generously': 6198, 'httptcokcltp': 9169, 'rp': 16734, 'ruptly': 16808, 'emercom': 4793, 'prepares': 15463, 'mission': 12791, 'zone': 21725, 'httptcokumssem': 9188, 'oo': 14087, 'jburnidge': 10810, 'john': 10942, 'jesus': 10860, 'wept': 20758, 'mukeshsinghani': 13110, 'rachelhunterx': 15960, 'heartbreaking': 6960, 'httptcovkjsauraic': 9452, 'shake': 17350, 'voaasia': 20414, 'httptcosrcwsfryuw': 9375, 'jerometaylor': 10846, 'afp': 219, 'robertoindelhi': 16635, 'akannampilly': 335, 'basecamp': 1151, 'htt': 7439, 'another': 594, 'shock': 17465, 'minute': 12767, 'ago': 254, 'local': 11960, 'suwalpratistha': 18616, 'source': 17967, 'told': 19301, 'itll': 10680, 'back': 1041, 'strongly': 18407, 'prati': 15400, 'tremor': 19538, 'half': 6762, 'mast': 12409, 'eucommission': 5031, 'httptcoaigsei': 8943, 'jty': 11017, 'belfastlive': 1299, 'show': 17506, 'unity': 19933, 'belfast': 1298, 'stand': 18181, 'vigil': 20340, 'httptcohqljhgcd': 9112, 'dhavalilama': 4008, 'photograph': 14712, 'thatll': 18998, 'remain': 16307, 'etched': 5012, 'memory': 12586, 'structure': 18409, 'damaged': 3609, 'buddha': 1921, 'smile': 17763, 'meditation': 12543, 'odd': 13923, 'communityradio': 3035, 'fm': 5720, 'usually': 20106, 'man': 12287, 'standing': 18185, 'caught': 2391, 'massive': 12406, 'bobepvsi': 1633, 'ievaluate': 10137, 'launched': 11604, 'nepalrecoveryfund': 13434, 'get': 6226, 'money': 12898, 'vetted': 20284, 'communitybased': 3034, 'orgshttptco': 14170, 'pjrs': 15098, 'channel': 2526, 'dream': 4355, 'crushed': 3461, 'millerc': 12737, 'alongside': 430, 'httptcopwluifyiro': 9305, 'paulocoelho': 14510, 'gt': 6631, 'pcoelhonepal': 14539, 'freefunfab': 5926, 'mbintelnet': 12455, 'announces': 585, 'sale': 16917, 'thru': 19160, 'httptcoyhiyaifb': 9521, 'lt': 12113, 'tha': 18962, 'car': 2238, 'broken': 1865, 'road': 16620, 'priceless': 15502, 'httptcombrsztdt': 9215, 'hathway': 6876, 'voltage': 20431, 'sat': 17009, 'heavy': 6988, 'electronic': 4744, 'equipment': 4942, 'unexpected': 19894, 'cable': 2073, 'destroyed': 3947, 'chip': 2650, 'arianagrande': 713, 'precious': 15429, 'thanks': 18975, 'peymaneh': 14664, 'iran': 10611, 'ncriwomencomm': 13328, 'message': 12620, 'httpstcogthrl': 8404, 'zh': 21677, 'goalukcharity': 6371, 'bring': 1836, 'sense': 17259, 'httpstcoyceoe': 8454, 'szmw': 18698, 'everything': 5096, 'distraught': 4158, 'father': 5342, 'watched': 20608, 'police': 15235, 'rescuer': 16392, 'fina': 5492, 'httptcobjujn': 8967, 'rz': 16856, 'priyalives': 15530, 'bureaucracyrelief': 1972, 'tm': 19259, 'bt': 1901, 'diffrnt': 4048, 'ldrshpths': 11646, 'nt': 13783, 'cmparisn': 2876, 'evaluation': 5066, 'disastr': 4105, 'mngemnt': 12842, 'pakistan': 14364, 'item': 10674, 'pakarmy': 14361, 'httptcoaadqtdvxio': 8932, 'committed': 3026, 'assist': 815, 'mukherjee': 13111, 'oj': 13991, 'zrhh': 21744, 'pranabmukharjee': 15395, 'rambaranyadav': 16019, 'postearthquake': 15318, 'tn': 19265, 'eoix': 4917, 'gofundme': 6386, 'reuters': 16470, 'fbirhlwuy': 5359, 'surprised': 18579, 'nowwaiting': 13752, 'flight': 5627, 'patrick': 14497, 'leon': 11720, 'httptcolnh': 9202, 'hjyczc': 7191, 'tool': 19334, 'nepalearthquakegoogles': 13410, 'httpstcoa': 8378, 'difficult': 4046, 'task': 18774, 'em': 4780, 'organization': 14166, 'joining': 10955, 'httptcoulqci': 9427, 'voja': 20425, 'worldnews': 21096, 'indicate': 10353, 'httptcoht': 9116, 'njlvqfs': 13581, 'httptcoqf': 9316, 'xyvew': 21407, 'habibies': 6727, 'across': 108, 'whats': 20804, 'future': 6061, 'adventure': 181, 'zwnkcx': 21769, 'ig': 10147, 'httptcovqax': 9456, 'uocsf': 19987, 'staff': 18158, 'ama': 455, 'ghar': 6253, 'humdata': 9938, 'page': 14347, 'hdx': 6930, 'unocha': 19954, 'httptcocopfzuki': 8992, 'glinrouzb': 6328, 'nsetnepal': 13772, 'nepaldrr': 13407, 'undpnepal': 19888, 'discovery': 4121, 'httpstcoh': 8405, 'oomi': 14094, 'vbn': 20207, 'theellenshow': 19016, 'ellen': 4766, 'httpstcog': 8401, 'kshdkcpi': 11423, 'anyone': 622, 'collecting': 2962, 'tent': 18894, 'group': 6607, 'nepalrelief': 13435, 'johnspatricc': 10952, 'httptcofmrlpxx': 9053, 'bbcbreaking': 1200, 'queen': 15893, 'shocked': 17466, 'appalling': 653, 'buckingham': 1917, 'palace': 14369, 'gas': 6131, 'price': 15500, 'looting': 12035, 'fighting': 5472, 'almost': 426, 'mayberry': 12448, 'rfd': 16495, 'criminal': 3416, 'jet': 10862, 'bed': 1266, 'paramedic': 14413, 'officially': 13948, 'announced': 584, 'ibnkhabar': 10098, 'ibnlive': 10100, 'omarquraishi': 14033, 'nanditathhakur': 13234, 'indiamsm': 10339, 'vibhask': 20312, 'best': 1351, 'want': 20554, 'sure': 18567, 'pls': 15175, 'share': 17372, 'alicia': 388, 'newzealand': 13503, 'went': 20756, 'desperate': 3935, 'info': 10396, 'httptcoomni': 9258, 'bagshot': 1063, 'lightwater': 11812, 'urgent': 20043, 'appeal': 657, 'small': 17738, 'flown': 5704, 'httptcoxyvj': 9513, 'zph': 21732, 'joesugg': 10934, 'reading': 16115, 'watching': 20611, 'loved': 12066, 'siddhi': 17546, 'memorial': 12585, 'bhaktapur': 1389, 'medicine': 12536, 'glove': 6347, 'mpmgwv': 13031, 'hmrd': 7204, 'providing': 15631, 'nickjonas': 13541, 'convoyofhope': 3208, 'httptcoakkvogiduz': 8945, 'meaindia': 12498, 'helplines': 7034, 'tgana': 18951, 'andhra': 531, 'pradesh': 15389, 'ndma': 13337, 'pain': 14353, 'timesnow': 19208, 'metro': 12636, 'service': 17282, 'httpstcohbgjhgbikk': 8407, 'nonprofit': 13653, 'claim': 2749, 'chicago': 2618, 'tie': 19191, 'wdptp': 20668, 'chicagotonight': 2619, 'prayersfornepal': 15406, 'villager': 20351, 'thame': 18965, 'namche': 13225, 'vdc': 20218, 'solukhumbu': 17906, 'district': 4164, 'many': 12333, 'bone': 1660, 'internationalcrisisgroup': 10539, 'nepalitimes': 13423, 'hoursrishi': 7351, 'khanal': 11244, 'pulled': 15683, 'underneath': 19878, 'fallen': 5287, 'floor': 5687, 'httptcokkciimliau': 9177, 'nepalisalil': 13422, 'guardian': 6647, 'fell': 5415, 'th': 18961, 'century': 2479, 'king': 11292, 'pratap': 15399, 'mallas': 12275, 'stone': 18321, 'pillar': 15048, 'commendable': 3019, 'hey': 7079, 'abbott': 25, 'karl': 11117, 'propaganda': 15591, 'ad': 132, 'million': 12739, 'foreign': 5833, 'fuck': 6008, 'auspol': 909, 'intergenerationalreport': 10531, 'oxfamgb': 14299, 'possible': 15314, 'httptcoyintz': 9524, 'iu': 10701, 'httptcoplix': 9295, 'jh': 10874, 'httptcobls': 8969, 'bqyll': 1748, 'olny': 14027, 'focusing': 5738, 'mobilize': 12856, 'rural': 16809, 'yetnepalearthquake': 21485, 'thehindu': 19027, 'kolkata': 11383, 'north': 13686, 'sikkim': 17571, 'httptcont': 9244, 'ahd': 274, 'jik': 10883, 'rtnaturenews': 16771, 'science': 17095, 'behind': 1293, 'httptcoghj': 9079, 'xyr': 21405, 'rw': 16832, 'fzsd': 6094, 'indiansanskriti': 10348, 'willing': 20928, 'able': 42, 'bless': 1538, 'usgs': 20087, 'wrevised': 21159, 'fatality': 5339, 'econ': 4633, 'estimate': 5005, 'httptcoft': 9059, 'mdpd': 12491, 'fd': 5378, 'httptcojvtoi': 9165, 'gewq': 6240, 'durbar': 4496, 'httptcojk': 9155, 'ii': 10175, 'mnnv': 12845, 'ilnewsflash': 10207, 'idf': 10124, 'ready': 16116, 'departure': 3879, 'israel': 10659, 'httptcosddlcgah': 9360, 'bhimsen': 1397, 'original': 14172, 'earthquaked': 4571, 'httptcoabank': 8933, 'isc': 10645, 'narendra': 13241, 'meet': 12551, 'development': 3976, 'insanseema': 10456, 'powrful': 15362, 'felt': 5418, 'northernampeastern': 13693, 'become': 1261, 'saviour': 17036, 'earlier': 4557, 'operationraahat': 14120, 'operationmaitri': 14119, 'soul': 17958, 'community': 3033, 'httptcofpyl': 9058, 'bkt': 1503, 'mascudr': 12397, 'minimum': 12757, 'indiatoday': 10350, 'list': 11859, 'management': 12291, 'authority': 925, 'savechildrenuk': 17025, 'vital': 20383, 'bbcscotlandnews': 1208, 'scot': 17110, 'listed': 11860, 'making': 12265, 'httptcogrsc': 9088, 'pjq': 15097, 'httptcowswighyxjo': 9482, 'saw': 17038, 'falling': 5289, 'downhe': 4303, 'cant': 2213, 'anythinghe': 624, 'homelessbut': 7250, 'himnepalearthquake': 7147, 'httptcoii': 9127, 'tdgvpow': 18822, 'created': 3389, 'information': 10402, 'vzycrfil': 20499, 'vduum': 20226, 'sqx': 18133, 'mrdannyglover': 13049, 'assistance': 817, 'httptcosjyjerttvc': 9366, 'provided': 15628, 'karnataka': 11120, 'bhawan': 1395, 'httptcohr': 9114, 'quf': 15900, 'mg': 12652, 'ewnupdates': 5119, 'listen': 11861, 'mother': 12974, 'fear': 5384, 'uxraczdg': 20153, 'httptcooxn': 9272, 'vw': 20487, 'amritsar': 501, 'shiromani': 17450, 'gurdwara': 6678, 'parbandhak': 14421, 'committee': 3027, 'sgpc': 17334, 'believed': 1301, 'httptcoxcundyqjal': 9495, 'innepal': 10442, 'httptcowrxbsww': 9481, 'level': 11738, 'beautiful': 1251, 'historic': 7166, 'cirog': 2727, 'iqk': 10606, 'occupy': 13902, 'ows': 14292, 'occupywallstreet': 13905, 'occupyhq': 13904, 'grassroots': 6535, 'think': 19090, 'buried': 1980, 'httptcokyoeye': 9192, 'rlk': 16603, 'pradiprsagar': 15390, 'newindianxpress': 13463, 'sea': 17154, 'warrior': 20588, 'might': 12705, 'soooo': 17940, 'funny': 6050, 'reveals': 16478, 'mean': 12500, 'avatar': 955, 'sitting': 17628, 'cab': 2067, 'mumbai': 13119, 'httptcojqgm': 9162, 'iad': 10076, 'praying': 15418, 'akmathambil': 339, 'anadoluimages': 518, 'breastfeeds': 1798, 'sits': 17626, 'amongst': 492, 'house': 7352, 'majuwa': 12255, 'aa': 0, 'sympathy': 18684, 'httptcoa': 8931, 'ra': 15949, 'zff': 21668, 'httptcotxedhd': 9407, 'ozn': 14318, 'footage': 5815, 'youtube': 21548, 'hollywood': 7236, 'reporter': 16368, 'httptcobbkznxi': 8958, 'zr': 21741, 'sign': 17558, 'petition': 14652, 'ask': 793, 'bank': 1107, 'waive': 20516, 'transfer': 19489, 'fee': 5399, 'httpstcoti': 8442, 'whrgla': 20858, 'iamsumaira': 10093, 'pakistani': 14365, 'kindly': 11288, 'charity': 2545, 'fr': 5897, 'pak': 14360, 'supporthelp': 18551, 'gvt': 6704, 'greenpeacesg': 6569, 'here': 7059, 'alixvonmelle': 397, 'luisstitziger': 12128, 'reason': 16143, 'abandon': 21, 'expeditionhttptcoxs': 5177, 'gab': 6098, 'zinqzgyuj': 21690, 'shifted': 17435, 'foot': 5814, 'closer': 2836, 'away': 979, 'punishment': 15693, 'cosying': 3273, 'globemaster': 6344, 'iii': 10178, 'passenger': 14476, 'board': 1625, 'scheduled': 17088, 'therobbieturner': 19068, 'drag': 4333, 'proceeds': 15545, 'dragitupfornepal': 4335, 'santosct': 16991, 'displcd': 4142, 'fully': 6032, 'hhs': 7093, 'partially': 14449, 'kca': 11154, 'votejkt': 20444, 'id': 10114, 'adelhidame': 154, 'birjung': 1464, 'trying': 19629, 'locate': 11963, 'krija': 11410, 'httptcopfbhlmreur': 9287, 'heritage': 7068, 'entire': 4894, 'street': 18378, 'already': 433, 'zf': 21667, 'jjor': 10896, 'confirmed': 3109, 'httptcocmhdqxhmjo': 8990, 'johnny': 10948, 'heath': 6976, 'corpus': 3260, 'christi': 2685, 'famous': 5303, 'tagline': 18711, 'die': 4033, 'shine': 17439, 'httptcozjozh': 9549, 'ccly': 2429, 'httptcony': 9247, 'uayuhz': 19768, 'delivering': 3843, 'httptcouoxcfzobif': 9432, 'twannagrazier': 19703, 'stevepburke': 18272, 'hansmurph': 6816, 'hid': 7101, 'boulder': 1707, 'snow': 17815, 'ridge': 16536, 'dangerous': 3638, 'mountain': 12998, 'siobhanheanue': 17612, 'excellent': 5132, 'milaan': 12720, 'office': 13944, 'mail': 12240, 'infomilaanin': 10398, 'httptcoliqaxd': 9200, 'agf': 245, 'aidfornepal': 287, 'thirdpole': 19101, 'slow': 17723, 'hamper': 6783, 'gorkha': 6451, 'httptcosgtbkwqye': 9362, 'unosat': 19955, 'rapidmapping': 16050, 'activated': 119, 'disasterschart': 4104, 'crisismappers': 3424, 'euecho': 5032, 'unescap': 19891, 'pita': 15070, 'earthquakeyou': 4589, 'itthanks': 10691, 'harrystyles': 6859, 'thinking': 19095, 'awful': 988, 'kapil': 11109, 'crowdfunding': 3449, 'fundrazr': 6042, 'httptcomfeyq': 9219, 'mechanismofwar': 12524, 'kirkdborne': 11307, 'visualizing': 20381, 'human': 9926, 'side': 17547, 'datascience': 3667, 'httptcovcue': 9448, 'cqfi': 3337, 'abdsc': 34, 'bigdata': 1422, 'dataviz': 3668, 'continues': 3179, 'blood': 1582, 'httptcofn': 9054, 'misalkp': 12775, 'world': 21092, 'always': 449, 'ahead': 275, 'come': 2994, 'needed': 13368, 'without': 20990, 'httpstcoyql': 8457, 'afaxts': 206, 'ashokkhemkaias': 783, 'stress': 18385, 'importance': 10264, 'research': 16394, 'early': 4560, 'prediction': 15440, 'resistant': 16411, 'bldg': 1532, 'design': 3927, 'municipal': 13126, 'law': 11614, 'ethannichtern': 5019, 'iiiresearch': 10179, 'top': 19340, 'billion': 1445, 'little': 11875, 'insurance': 10504, 'coverage': 3317, 'httptcocpgqzbzfri': 8993, 'responds': 16422, 'deploys': 3893, 'personfinder': 14629, 'httptcoqupvvvhzb': 9327, 'nytimes': 13855, 'httptcois': 9139, 'nkizg': 13585, 'httptcoyo': 9529, 'rzgh': 16858, 'bangladesh': 1106, 'football': 5816, 'stranded': 18365, 'waiting': 20512, 'return': 16461, 'httptcovspth': 9459, 'mnp': 12846, 'uatt': 19765, 'abcnews': 28, 'jump': 11036, 'esup': 5010, 'wb': 20647, 'gujarat': 6662, 'maharashtra': 12233, 'helicopter': 7012, 'remote': 16329, 'devastated': 3969, 'httptcomd': 9217, 'yefj': 21461, 'lac': 11492, 'gurdwaras': 6679, 'snd': 17800, 'meal': 12499, 'dailydos': 3593, 'sardar': 17002, 'joke': 10957, 'tassagencyen': 18775, 'httptcoppco': 9302, 'nwi': 13830, 'rtcom': 16761, 'launch': 11603, 'special': 18020, 'personal': 14627, 'exhcmkg': 5157, 'httptcotkdseitqsq': 9391, 'actionaiduks': 117, 'httptcord': 9334, 'rjddffa': 16590, 'cozy': 3329, 'nightlets': 13559, 'whc': 20810, 'thr': 19125, 'othr': 14198, 'rendered': 16333, 'homeless': 7249, 'primeminister': 15510, 'justified': 11056, 'lending': 11713, 'towards': 19433, 'whose': 20854, 'survived': 18594, 'odycxf': 13932, 'tourism': 19429, 'mou': 12995, 'ghrdthehague': 6259, 'adding': 146, 'hashtag': 6869, 'cardsfornepal': 2260, 'drjwalag': 4394, 'yemen': 21470, 'serving': 17285, 'helpthemtoday': 7038, 'tcpis': 18819, 'tcpinepal': 18818, 'httptcoiffm': 9124, 'bkvlw': 1504, 'emcom': 4790, 'hamradio': 6787, 'received': 16159, 'polish': 15240, 'transport': 19499, 'shipped': 17446, 'copenhagen': 3233, 'dochasnetwork': 4217, 'key': 11219, 'principle': 15517, 'inform': 10400, 'zi': 21683, 'worldvisionaus': 21100, 'mill': 12733, 'timcostello': 19202, 'httptcoah': 8942, 'yojyx': 21524, 'pour': 15348, 'httptcouk': 9422, 'qvftkp': 15927, 'swung': 18670, 'action': 114, 'mere': 12613, 'spearheaded': 18018, 'impressive': 10276, 'httptcopbgtgds': 9279, 'httptcozsxm': 9558, 'jxo': 11082, 'france': 5898, 'globalhumanity': 6338, 'destruction': 3950, 'letshelpnepal': 11734, 'letsactindonesia': 11732, 'doalcarcarmen': 4215, 'httptcodm': 9009, 'bbb': 1197, 'offer': 13941, 'tip': 19220, 'httptcofkscsqbe': 9050, 'everybody': 5089, 'upcoming': 19996, 'using': 20091, 'paytm': 14524, 'httptcoqe': 9313, 'zfhpcwg': 21669, 'httpstcomfbu': 8421, 'incredible': 10325, 'unnewscentre': 19952, 'ban': 1096, 'httptcofwbl': 9065, 'jmgtd': 10911, 'spend': 18041, 'third': 19100, 'night': 13557, 'pass': 14469, 'httptcojlm': 9157, 'opipcc': 14126, 'httptcoju': 9163, 'lifecaredotbz': 11786, 'feeling': 5410, 'tuijan': 19664, 'httptcofbvyldkaai': 9044, 'httptcodkjxtp': 9008, 'hdo': 6927, 'foodstuff': 5796, 'lalitpur': 11534, 'deepak': 3805, 'tuladhar': 19665, 'msg': 13067, 'ridlrdel': 16541, 'seedan': 17208, 'ngo': 13515, 'zwub': 21771, 'freezing': 5936, 'cold': 2945, 'five': 5577, 'min': 12745, 'shower': 17508, 'gon': 6407, 'crappy': 3364, 'newearthquake': 13462, 'panaoti': 14381, 'apr': 681, 'httptcokjiobnpdlo': 9175, 'luthworldrelief': 12149, 'httptcoqykg': 9329, 'qw': 15930, 'severely': 17308, 'youcaring': 21536, 'httptcopykzivelhu': 9308, 'joansmalls': 10923, 'bit': 1476, 'count': 3288, 'httpstcoihxfavvuj': 8408, 'singh': 17601, 'twenty': 19719, 'every': 5088, 'establishes': 5000, 'quick': 15903, 'credential': 3397, 'writes': 21164, 'subirbhowmik': 18442, 'httptcoji': 9154, 'mymavm': 13194, 'httptcotzkhetnhuq': 9409, 'dremtee': 4357, 'lostboymemoirs': 12052, 'httptcohjaawaya': 9103, 'surendraphuyal': 18569, 'david': 3677, 'since': 17593, 'httptcodz': 9019, 'qbhu': 15766, 'httptcot': 9381, 'cfw': 2493, 'concern': 3085, 'consult': 3154, 'foreignoffice': 5836, 'fcotravel': 5374, 'helpful': 7029, 'advice': 186, 'froskyx': 5980, 'suesherms': 18481, 'nina': 13569, 'stechmann': 18245, 'leonie': 11721, 'elsner': 4778, 'german': 6221, 'auswaertigesamt': 922, 'direct': 4075, 'commits': 3025, 'rapid': 16048, 'deployment': 3892, 'httptcoij': 9128, 'nopvdhx': 13668, 'defence': 3813, 'secretary': 17195, 'continuelong': 3178, 'long': 12007, 'bdutt': 1236, 'full': 6029, 'mark': 12362, 'sushmaswaraj': 18603, 'urgency': 20042, 'humaneness': 9929, 'ive': 10709, 'httptcotsrjcdalu': 9401, 'insansatveer': 10455, 'happydssfoundationday': 6829, 'frustration': 5991, 'httptcomtdl': 9228, 'city': 2729, 'fall': 5286, 'httptcotlobsgbxkc': 9394, 'httptcoklyqshgdmw': 9180, 'mibindia': 12669, 'httpstcoltoefpopit': 8420, 'iamnepal': 10090, 'terremotonepal': 18904, 'hoy': 7382, 'soynepal': 17990, 'httpstcoizgzrvtt': 8411, 'nomadicmatt': 13641, 'httptcoiqkqdijqsl': 9138, 'etribune': 5027, 'ramp': 16026, 'sun': 18510, 'mobilised': 12854, 'irish': 10619, 'released': 16289, 'httptcocekz': 8985, 'pel': 14576, 'httptcogybnppfkag': 9095, 'paddukonisetti': 14344, 'amul': 507, 'himalayan': 7143, 'thoughful': 19120, 'httptcojbyqdmnald': 9149, 'thisisbwright': 19106, 'control': 3188, 'room': 16690, 'indiapplwithnepal': 10349, 'indianacsmedia': 10342, 'victms': 20328, 'nation': 13262, 'childrens': 2635, 'mea': 12495, 'query': 15895, 'regarding': 16258, 'tragic': 19477, 'canadian': 2189, 'girlfriend': 6283, 'looking': 12024, 'boyfriend': 1731, 'shankar': 17368, 'kafle': 11093, 'male': 12269, 'slim': 17716, 'httptcoabetylv': 8934, 'allah': 399, 'themnepalearthquake': 19043, 'movement': 13013, 'create': 3388, 'ddnewslive': 3732, 'mob': 12851, 'foll': 5747, 'begin': 1288, 'voice': 20422, 'america': 478, 'americaaid': 479, 'ar': 691, 'fcxlflob': 5376, 'experience': 5181, 'ddc': 3730, 'czzvn': 3576, 'flash': 5601, 'donor': 4266, 'alert': 371, 'phhjjbwny': 14691, 'four': 5883, 'seven': 17302, 'unesco': 19892, 'site': 17625, 'httptcopizpmdqofj': 9292, 'round': 16720, 'clock': 2825, 'consulate': 3153, 'birgunj': 1463, 'active': 122, 'kanchangupta': 11104, 'standby': 18183, 'short': 17487, 'notice': 13719, 'airlifting': 307, 'exemplary': 5151, 'jackjohnson': 10736, 'jack': 10732, 'supporting': 18552, 'recovery': 16194, 'consider': 3137, 'artoflivingnow': 766, 'shelter': 17397, 'sanitation': 16977, 'basic': 1156, 'nepalearthquakerelief': 13414, 'anthoniaorji': 599, 'mercy': 12612, 'httptcozdrbrjbigq': 9543, 'teddington': 18854, 'based': 1152, 'tearfund': 18841, 'fgjlhnoqj': 5446, 'totallyrichmond': 19413, 'nepalearthquakeiaf': 13411, 'evacuate': 5056, 'maitrihttptcodafthhe': 12250, 'lc': 11635, 'httptcolae': 9196, 'deep': 3804, 'nepalies': 13420, 'agueos': 267, 'lesson': 11726, 'scientist': 17099, 'learn': 11662, 'httptcopnstjwkmah': 9300, 'httptcowzdnqgydaq': 9488, 'andreasjuul': 535, 'garylineker': 6130, 'httptcozhe': 9546, 'nvibn': 13824, 'build': 1935, 'better': 1362, 'sc': 17055, 'ahmedaligondal': 279, 'kf': 11224, 'pzoed': 15755, 'donatefornepal': 4255, 'craefish': 3354, 'lord': 12038, 'hear': 6954, 'rock': 16649, 'nepalphotos': 13428, 'httptcosvzqiwhom': 9378, 'rameshnswamy': 16022, 'etcu': 5013, 'funding': 6038, 'xtian': 21380, 'orgs': 14169, 'convert': 3199, 'inst': 10474, 'mkoirala': 12822, 'website': 20703, 'httptconsammlkkq': 9242, 'wxpuz': 21254, 'ke': 11171, 'ozalzz': 14315, 'qm': 15821, 'fly': 5712, 'earthquakedestruction': 4573, 'usfiqd': 20084, 'footballer': 5818, 'safely': 16895, 'bbsr': 1218, 'earthquakenepalearthquake': 4582, 'lisaoldschmit': 11858, 'ramdog': 16020, 'effect': 4676, 'nxrc': 13836, 'onlinekhabar': 14065, 'davidgellner': 3681, 'barpak': 1142, 'worst': 21110, 'httpstcobcofpzvdl': 8384, 'core': 3248, 'httptcoydxo': 9519, 'rpipj': 16736, 'karenl': 11116, 'rotarygbi': 16713, 'trust': 19620, 'httpstcoo': 8427, 'udp': 19789, 'track': 19458, 'httptcovb': 9446, 'vpffuz': 20452, 'httptcoycx': 9518, 'qp': 15840, 'zkp': 21703, 'returned': 16462, 'ten': 18887, 'planned': 15123, 'personnel': 14631, 'worldvision': 21099, 'challenging': 2506, 'httptcow': 9464, 'fn': 5729, 'yxi': 21599, 'mingna': 12752, 'att': 867, 'youre': 21544, 'provider': 15629, 'texttodonate': 18942, 'tmo': 19261, 'ground': 6604, 'distributing': 4162, 'vulnerable': 20480, 'httptcoce': 8983, 'gyfdnjn': 6714, 'ham': 6774, 'rsponse': 16755, 'httptcoasa': 8952, 'ogey': 13961, 'updated': 19998, 'url': 20049, 'phamradio': 14685, 'door': 4280, 'slowly': 17728, 'cautiously': 2400, 'thing': 19087, 'preventing': 15495, 'collapsing': 2954, 'hrithik': 7401, 'roshan': 16705, 'praise': 15392, 'stricken': 18390, 'heartening': 6961, 'australia': 919, 'model': 12865, 'pooja': 15267, 'missra': 12797, 'grateful': 6537, 'looked': 12021, 'official': 13946, 'surpassed': 18577, 'hero': 7070, 'bollywood': 1652, 'httptcootizp': 9267, 'tsqe': 19638, 'smitharyy': 17767, 'httptcomxj': 9231, 'eak': 4551, 'extent': 5213, 'nepalmap': 13424, 'anunikumbh': 613, 'sound': 17963, 'noconversion': 13622, 'single': 17604, 'converted': 3200, 'httptcozqc': 9556, 'fodzeo': 5740, 'oow': 14103, 'nepalearthquakelist': 13413, 'mahrukhinayet': 12237, 'nowmedatta': 13748, 'janiceseq': 10778, 'palkisu': 14374, 'httptcoiyiplpl': 9144, 'dhaka': 4004, 'daysnepalearthquake': 3699, 'fog': 5741, 'httptcomwpdpxb': 9230, 'uq': 20028, 'probably': 15538, 'gdp': 6179, 'zpe': 21731, 'mydx': 13191, 'mine': 12751, 'kid': 11261, 'onlyranjanashwini': 14073, 'anandsb': 525, 'ede': 4646, 'httptcocjikateowc': 8987, 'growth': 6616, 'highlight': 7119, 'related': 16282, 'article': 762, 'httptcotj': 9389, 'thats': 19000, 'proudtobeapunjabi': 15621, 'httptcoy': 9515, 'nhzqrw': 13527, 'ihvinod': 10174, 'scavenger': 17077, 'feed': 5400, 'disgusting': 4130, 'httptcopy': 9307, 'xv': 21390, 'massage': 12405, 'residentsyadavakhilesh': 16405, 'cmofficeup': 2872, 'httptcofuvykdwfyp': 9062, 'dfatirl': 3987, 'evening': 5075, 'irlembindia': 10622, 'httptcommmjlzx': 9224, 'httptcoweoflrjdvw': 9468, 'httptcorejtg': 9335, 'lmeb': 11935, 'centre': 2477, 'ensure': 4885, 'gujarati': 6663, 'httptcoep': 9031, 'wvru': 21228, 'jbcnews': 10805, 'justin': 11059, 'injured': 10432, 'maitri': 12249, 'lka': 11916, 'copyright': 3239, 'npr': 13761, 'visit': 20374, 'httptcovs': 9458, 'tw': 19700, 'unknown': 19940, 'author': 924, 'httptcovnscgv': 9454, 'kbq': 11150, 'nlopezthismon': 13594, 'pull': 15681, 'boy': 1730, 'httpstcon': 8424, 'xsnylk': 21375, 'tv': 19693, 'httptcodf': 9006, 'jrxoxxk': 11008, 'googleindia': 6433, 'httptcojpwvqqwqyc': 9161, 'amyradastur': 513, 'nepalearthquakefund': 13409, 'httpstcozozikfwzgl': 8462, 'posting': 15324, 'plzz': 15191, 'forwardnepalearthquake': 5869, 'httptcoogvy': 9254, 'exlhc': 5164, 'httpstcordikhfxjsb': 8435, 'overwhelmed': 14272, 'httptcocyrabg': 8998, 'oxz': 14306, 'plus': 15183, 'daysuae': 3701, 'dubai': 4463, 'expat': 5171, 'dhs': 4017, 'radio': 15972, 'contest': 3172, 'prize': 15532, 'httptcogs': 9089, 'pmtb': 15204, 'fu': 6006, 'hazzl': 6906, 'total': 19407, 'readied': 16114, 'pictwittercomnmno': 14898, 'rchr': 16093, 'sleeper': 17705, 'awaken': 975, 'godplan': 6383, 'httptcodcziagjtcr': 9003, 'rosiemkane': 16706, 'respond': 16418, 'fast': 5330, 'vast': 20198, 'invade': 10559, 'war': 20561, 'breadnotbombs': 1785, 'cnnbrk': 2891, 'tourist': 19430, 'httptcoynrbjn': 9528, 'imam': 10222, 'mehdi': 12560, 'gohar': 6387, 'shahi': 17347, 'current': 3527, 'affair': 208, 'end': 4835, 'upon': 20013, 'httptcor': 9331, 'nbdmas': 13303, 'isi': 10649, 'highly': 7121, 'leading': 11654, 'front': 5976, 'bjpsamvad': 1494, 'collated': 2957, 'resource': 16414, 'useful': 20078, 'ngowallah': 13516, 'bxfv': 2048, 'httpstcoqsqhtavwe': 8432, 'precise': 15432, 'visuals': 20382, 'sorely': 17947, 'laramiller': 11569, 'clear': 2783, 'lot': 12055, 'devastation': 3972, 'though': 19119, 'hegdedarsh': 6999, 'unfortunate': 19902, 'knee': 11356, 'nepalquaker': 13432, 'meenakshigarg': 12550, 'papaji': 14397, 'remorseful': 16328, 'property': 15596, 'disastrous': 4106, 'earthquakegreatly': 4575, 'relieved': 16298, 'proactive': 15536, 'msfuk': 13066, 'httpstcobnclg': 8386, 'vi': 20300, 'toronto': 19395, 'eric': 4953, 'hogg': 7224, 'stargtanews': 18195, 'cbcalerts': 2413, 'httptcokoojpcyydo': 9182, 'darpans': 3660, 'facilitate': 5256, 'transportation': 19500, 'northern': 13692, 'railway': 15989, 'made': 12206, 'certain': 2483, 'arrangement': 743, 'httpstcomigt': 8422, 'vdm': 20223, 'wat': 20604, 'unimaginable': 19919, 'sabanath': 16868, 'sunithasarathy': 18517, 'iamlakshmirai': 10088, 'itisprashanth': 10678, 'iamstr': 10092, 'nikitagandhi': 13564, 'aahanasharma': 9, 'knwn': 11375, 'hv': 10030, 'dat': 3665, 'wrecking': 21152, 'camilayezequiel': 2165, 'hopeful': 7300, 'maruratti': 12393, 'xrjxut': 21366, 'childfundau': 2632, 'raising': 16006, 'dg': 3995, 'nepalnepalearthquake': 13427, 'blinddaley': 1543, 'danger': 3637, 'unicefuk': 19915, 'natural': 13274, 'carnage': 2287, 'poor': 15270, 'bastard': 1164, 'stuck': 18413, 'eighteen': 4713, 'gi': 6262, 'httptcobulghwm': 8973, 'ix': 10718, 'singlaneeraj': 17603, 'guruji': 6688, 'green': 6562, 'icrc': 10110, 'register': 16265, 'httpstcodjfulkoqqq': 8393, 'sharethis': 17374, 'httptcopmn': 9299, 'zmizgm': 21714, 'instrumental': 10497, 'locating': 11965, 'httptcouqspjxsdyo': 9436, 'casparlee': 2349, 'kanrebel': 11106, 'yesiamsaffron': 21476, 'soulvultures': 17962, 'httpstcocyxfae': 8388, 'emmet': 4809, 'gallagher': 6107, 'httptcoxvbztfzaoz': 9510, 'sp': 17991, 'oxfamamerica': 14298, 'tackling': 18705, 'poverty': 15352, 'oxfams': 14301, 'winniebyanyima': 20957, 'httptcosn': 9370, 'zwp': 21770, 'norvic': 13705, 'cracked': 3348, 'httptcorkp': 9344, 'vavm': 20201, 'lok': 11989, 'sabha': 16870, 'salary': 16915, 'agree': 261, 'petilya': 14651, 'haberci': 6726, 'httpstcokcmwqqz': 8415, 'httptcoyrmnwgk': 9532, 'chennaiipl': 2601, 'contributes': 3186, 'pay': 14519, 'internews': 10541, 'ensures': 4886, 'language': 11563, 'understand': 19880, 'httptcoktbiyce': 9186, 'dd': 3727, 'commisaid': 3023, 'httptcoyzjdqamkli': 9536, 'sonamb': 17928, 'seeing': 17211, 'recognising': 16177, 'climb': 2818, 'httptcohlwq': 9106, 'azlwy': 1027, 'exfigure': 5153, 'kim': 11281, 'yuna': 21581, 'southkorea': 17981, 'httptcoznp': 9551, 'oob': 14088, 'ca': 2066, 'httptcohxyvuamfuu': 9120, 'sindhupalchok': 17597, 'hardest': 6837, 'higher': 7113, 'compassion': 3045, 'grant': 6527, 'peace': 14552, 'protect': 15606, 'bringing': 1838, 'httptcoevj': 9039, 'ai': 283, 'zef': 21656, 'wmp': 21028, 'hsq': 7410, 'im': 10213, 'religious': 16300, 'oohsehunah': 14090, 'especially': 4990, 'httptcotjcblhfmdq': 9390, 'adgpi': 158, 'bedded': 1267, 'lagankhelnepal': 11517, 'opmaitri': 14128, 'oxfamknaresboro': 14300, 'shop': 17477, 'texting': 18941, 'httpstcodhpr': 8391, 'gldg': 6317, 'sarahslassez': 16998, 'parent': 14424, 'catherine': 2379, 'jeanlouis': 10821, 'lassez': 11585, 'httptcoxft': 9497, 'khfch': 11247, 'wsjindia': 21187, 'coordination': 3228, 'swing': 18660, 'helped': 7027, 'fancy': 5307, 'booth': 1678, 'kzwqnpv': 11484, 'ending': 4838, 'husband': 10025, 'wife': 20877, 'snap': 17792, 'httptcojhtzdbjcrr': 9153, 'scale': 17057, 'httptcohnlurj': 9108, 'dle': 4197, 'cnnibn': 2897, 'httptcoewqiih': 9040, 'wtf': 21198, 'missionary': 12792, 'bible': 1408, 'lxfspuue': 12167, 'fraudaap': 5914, 'leisure': 11705, 'strike': 18394, 'httptcofoakyuitoy': 9055, 'seems': 17217, 'canada': 2186, 'instead': 10492, 'astroturfing': 836, 'cpchqs': 3331, 'moby': 12857, 'dick': 4026, 'cdnpoli': 2442, 'security': 17204, 'arrival': 748, 'wee': 20714, 'httptcomlj': 9222, 'alone': 427, 'enough': 4881, 'httptcorrbnee': 9347, 'ozz': 14324, 'httptcopgnwzn': 9290, 'qea': 15787, 'httpstcoeoemawseop': 8397, 'undac': 19872, 'whsummit': 20859, 'empowerwomen': 4820, 'unaction': 19851, 'httptcoauhwdvlwsl': 8955, 'row': 16727, 'lined': 11841, 'playlist': 15144, 'httptcouidsxzc': 9419, 'lj': 11908, 'raw': 16077, 'rajeshpadmar': 16010, 'httptcockuihbqiog': 8988, 'bird': 1462, 'eye': 5231, 'view': 20338, 'journal': 10981, 'blog': 1578, 'httptcohg': 9102, 'yqecsgq': 21558, 'rpv': 16738, 'uav': 19766, 'sirjadeja': 17617, 'player': 15142, 'earthquakeagain': 4569, 'ayaanchawla': 1016, 'supportnepal': 18553, 'tjs': 19243, 'pxden': 15743, 'httptcogyl': 9096, 'olm': 14026, 'xp': 21349, 'rashidfaridi': 16056, 'wait': 20510, 'appropriate': 675, 'pmoindia': 15201, 'storypicker': 18359, 'scary': 17073, 'look': 12020, 'httptcoxb': 9493, 'nfe': 13508, 'tf': 18943, 'legal': 11694, 'black': 1506, 'market': 12366, 'spreading': 18099, 'rumor': 16797, 'napalearthquake': 13239, 'itvnews': 10698, 'raf': 15973, 'loaded': 11953, 'httptcofy': 9067, 'mnyfjnl': 12848, 'httptcosbl': 9358, 'jmoejt': 10913, 'samaritanspurse': 16942, 'spcanada': 18013, 'samspurseuk': 16953, 'enroute': 4883, 'gtww': 6638, 'scc': 17078, 'includes': 10310, 'httptcoxpibrndnhp': 9505, 'beauty': 1253, 'dedication': 3801, 'duty': 4505, 'itsprinceinsan': 10689, 'derasachasauda': 3911, 'grt': 6620, 'step': 18258, 'listening': 11865, 'httptcovkb': 9451, 'iou': 10586, 'uo': 19986, 'speechless': 18031, 'sushmita': 18604, 'sen': 17247, 'express': 5205, 'moving': 13019, 'httpstcoewohw': 8400, 'ftxp': 6005, 'anupkaphle': 614, 'kundadixit': 11449, 'adinarayan': 159, 'cnnibnbreaking': 2898, 'lukin': 12132, 'frnd': 5971, 'vikram': 20347, 'jindalwas': 10891, 'womenand': 21052, 'humansaffected': 9935, 'resilience': 16408, 'thinkingfaith': 19096, 'jesuitmissions': 10858, 'httptcoulgz': 9426, 'jwk': 11075, 'httptcolbcgdfp': 9197, 'crisismanagement': 3423, 'daughter': 3671, 'employee': 4819, 'httptcoaqyvsqgm': 8950, 'didnt': 4031, 'deserve': 3925, 'kind': 11285, 'fundraiser': 6039, 'dollar': 4245, 'countspg': 3298, 'rjrycbgu': 16597, 'httptcopapgpeauho': 9278, 'nearly': 13351, 'require': 16383, 'httptcoix': 9142, 'cdq': 2444, 'jmf': 10910, 'gomanny': 6406, 'po': 15215, 'loose': 12031, 'guruggang': 6687, 'httptcoyjns': 9525, 'zkzby': 21707, 'telstra': 18875, 'plan': 15118, 'offering': 13943, 'reddit': 16215, 'shakemap': 17351, 'httptcohdd': 9100, 'wqif': 21136, 'rmapporn': 16612, 'ulindypenguin': 19836, 'transported': 19501, 'casualitiesferried': 2355, 'nepalesedistributed': 13417, 'tonne': 19329, 'storeseoiktmnp': 18335, 'fail': 5266, 'shit': 17452, 'lp': 12091, 'owaevx': 14281, 'httpstcozbpphdqidz': 8459, 'contribution': 3187, 'highest': 7114, 'httptcoqtg': 9322, 'rrez': 16746, 'httptcolnqs': 9203, 'hdk': 6925, 'ye': 21444, 'mera': 12605, 'gtgt': 6635, 'gorakhpur': 6444, 'rly': 16608, 'stn': 18305, 'httptcon': 9232, 'uhc': 19813, 'int': 10508, 'arprt': 740, 'diverted': 4177, 'run': 16800, 'httptcotaq': 9383, 'ob': 13871, 'israeli': 10661, 'pediatrician': 14570, 'kathmandunepalearthquake': 11134, 'field': 5463, 'recently': 16163, 'born': 1689, 'surrogate': 18584, 'showersthunderstorms': 17509, 'peak': 14558, 'activity': 123, 'tuesday': 19662, 'friday': 5954, 'httptcofmk': 9052, 'gqqhsf': 6489, 'lacking': 11495, 'informs': 10404, 'httptcohxkqrw': 9119, 'nsj': 13776, 'schumanitarian': 17094, 'saveuknews': 17034, 'unrest': 19965, 'obvious': 13895, 'xmq': 21336, 'arsenal': 755, 'xcj': 21287, 'rug': 16787, 'parliament': 14440, 'observes': 13888, 'silence': 17572, 'httptcolwcfddzpqx': 9211, 'prankster': 15396, 'record': 16186, 'first': 5550, 'saturday': 17018, 'sho': 17463, 'httptcocldmrn': 8989, 'mpoudyal': 13034, 'worrying': 21105, 'minimal': 12755, 'vdxf': 20227, 'uizf': 19822, 'komalindian': 11385, 'httptcowxgubmirkv': 9487, 'globewheelchair': 6345, 'struggling': 18411, 'ounatasha': 14213, 'staystrong': 18234, 'httptcoesvt': 9037, 'skza': 17686, 'nepalpolicehq': 13430, 'shopkeeper': 17478, 'increasing': 10323, 'something': 17919, 'nobelityproject': 13617, 'sevafoundation': 17299, 'httptcoyihagelimi': 9523, 'httptcotqp': 9400, 'uqfc': 20029, 'xhnews': 21313, 'interior': 10533, 'httptcohpayedgi': 9110, 'kristinafunkova': 11414, 'si': 17540, 'husbad': 10024, 'caitrionambalfe': 2090, 'samheughan': 16946, 'ia': 10074, 'nttu': 13789, 'dig': 4049, 'httptcoyncghwvy': 9527, 'sharan': 17371, 'vatican': 20199, 'douchebags': 4295, 'rejoicing': 16279, 'window': 20938, 'carry': 2308, 'impoornapatel': 10262, 'tough': 19422, 'stagebut': 18165, 'fury': 6058, 'nature': 13277, 'bengal': 1317, 'mamata': 12281, 'banerjee': 1102, 'phone': 14706, 'ind': 10329, 'nitesh': 13576, 'fine': 5505, 'httptcokhngskmsja': 9174, 'insanvicky': 10457, 'sacha': 16874, 'sauda': 17020, 'keeping': 11178, 'postofficenews': 15327, 'postoffice': 15326, 'httpstconoduo': 8425, 'biz': 1487, 'lokmankarki': 11991, 'ciaa': 2704, 'contributed': 3185, 'seemore': 17216, 'unicefnz': 19913, 'httptcoxdrvyl': 9496, 'traffic': 19470, 'frequency': 5941, 'isnt': 10655, 'prayingfornepal': 15419, 'evacuation': 5062, 'trishuli': 19575, 'bazar': 1193, 'httptcozfkreo': 9545, 'hopefully': 7301, 'replaced': 16356, 'coldhearted': 2948, 'modern': 12869, 'httpstcoenaiiwbs': 8396, 'dog': 4230, 'followingearthquake': 5753, 'hep': 7050, 'activates': 120, 'httptcogjcyuab': 9082, 'cv': 3546, 'mugling': 13106, 'sing': 17598, 'song': 17929, 'httptcoyopetrajhy': 9530, 'markaustinitv': 12363, 'chaotic': 2532, 'cbwezzvu': 2424, 'httptcob': 8957, 'precngza': 15433, 'newsvillages': 13498, 'httptcoeosakwtmqw': 9030, 'httptcomrmddaie': 9227, 'httptcopc': 9281, 'eto': 5025, 'wh': 20797, 'mod': 12862, 'footing': 5820, 'ne': 13343, 'httptcoeixbl': 9024, 'iyrl': 10723, 'grandmotherampmy': 6522, 'catpraying': 2384, 'nate': 13258, 'rd': 16094, 'airnewsalerts': 310, 'httptcobwrkwpv': 8975, 'earth': 4565, 'shook': 17472, 'northeastern': 13691, 'nepalmyanmar': 13426, 'nepalearthquakes': 13415, 'insured': 10506, 'low': 12079, 'cost': 3268, 'httptcokgj': 9173, 'ivziqq': 10710, 'writetake': 21165, 'httptcoalmy': 8946, 'xayxa': 21278, 'haylassy': 6899, 'clyro': 2862, 'school': 17091, 'else': 4775, 'leaving': 11676, 'london': 12000, 'tomorrow': 19320, 'tweeting': 19717, 'whove': 20856, 'talking': 18740, 'ktl': 11432, 'pp': 15365, 'httptcoukjmamupqz': 9424, 'captured': 2237, 'dpe': 4318, 'ndupm': 13342, 'lcbd': 11637, 'wr': 21139, 'wnew': 21031, 'shipment': 17445, 'hicapuk': 7099, 'sanitationaid': 16978, 'yet': 21483, 'channelislam': 2527, 'breathtaking': 1803, 'courtesy': 3309, 'alimdaad': 392, 'httptcoacqu': 8936, 'czdnv': 3572, 'roseannaavento': 16700, 'anxious': 618, 'jackkinross': 10737, 'email': 4781, 'paris': 14426, 'langtangvalley': 11562, 'httptcofubbbckrhy': 9060, 'arizonanewsnet': 719, 'secureusatalk': 17202, 'arizona': 718, 'hut': 10026, 'mo': 12849, 'jitendra': 10892, 'profession': 15563, 'arranged': 742, 'insulin': 10501, 'diabetes': 4019, 'patient': 14493, 'thiswas': 19111, 'worried': 21103, 'popped': 15280, 'vpuhvba': 20455, 'changeagentsa': 2518, 'underway': 19884, 'ksl': 11424, 'slc': 17700, 'choiceorg': 2661, 'focus': 5736, 'httptcoqchzuqxgi': 9311, 'turn': 19682, 'ghost': 6258, 'town': 19440, 'himalayantragedy': 7144, 'httptcodxcxjkfanu': 9016, 'swayamsevaks': 18635, 'rescuing': 16393, 'proudonrss': 15620, 'date': 3669, 'location': 11966, 'httptcoezivkrmiew': 9042, 'spraguepaul': 18093, 'button': 2026, 'atop': 863, 'earthquakeravaged': 4585, 'httptcohaodnoflwx': 9098, 'rush': 16810, 'lifesaving': 11791, 'httptcojpag': 9159, 'mjzzx': 12818, 'wlg': 21020, 'ou': 14209, 'btqlnrbrq': 1906, 'large': 11571, 'blanket': 1521, 'yesterday': 21479, 'ipsdc': 10602, 'recover': 16191, 'cancel': 2194, 'debt': 3770, 'httptcozcul': 9542, 'hd': 6922, 'httptcofjsifvnft': 9049, 'wisely': 20977, 'httpstcojl': 8413, 'xkouz': 21324, 'wntonight': 21038, 'pppr': 15375, 'vn': 20409, 'doesnt': 4228, 'matter': 12430, 'keephopealive': 11176, 'httpstcoin': 8410, 'kxddq': 11464, 'newsflicks': 13479, 'cr': 3343, 'modis': 12874, 'mannkibaat': 12323, 'httptcoypmmwie': 9531, 'novicesafter': 13743, 'put': 15720, 'hold': 7226, 'domestic': 4247, 'airline': 308, 'kathman': 11128, 'httptcolq': 9207, 'ezyfltx': 5243, 'recovered': 16192, 'follow': 5748, 'bq': 1745, 'qqmnyt': 15849, 'interministerial': 10535, 'hm': 7198, 'rajnath': 16011, 'valolic': 20177, 'ghodatabela': 6257, 'sixdays': 17638, 'stcom': 18237, 'outoftowners': 14228, 'unable': 19850, 'leave': 11673, 'lack': 11494, 'httptcouz': 9442, 'ti': 19175, 'nim': 13567, 'maherzains': 12235, 'httptcoesd': 9036, 'laa': 11487, 'ek': 4726, 'awaiting': 973, 'corytv': 3265, 'samahope': 16940, 'bloomberg': 1586, 'business': 2008, 'httptcoky': 9191, 'cljjx': 2824, 'httpstcor': 8434, 'ck': 2745, 'qv': 15924, 'devirupam': 3980, 'russian': 16818, 'mfarussia': 12648, 'evacuating': 5061, 'httptcoogcawybdls': 9252, 'karanjohar': 11112, 'anushkasharma': 615, 'httpstcosvhvcasrfe': 8440, 'movetheworld': 13015, 'deploying': 3891, 'veterinary': 20282, 'treat': 19528, 'animal': 562, 'httptcoin': 9133, 'zaldeeinc': 21625, 'tinucherian': 19218, 'pjstgowz': 15100, 'rushing': 16813, 'tweet': 19713, 'hotel': 7334, 'pool': 15269, 'amount': 493, 'nnyksy': 13611, 'op': 14104, 'artdielle': 760, 'httpstcojkqeytfw': 8412, 'thapathali': 18989, 'preparednext': 15462, 'nepalshakes': 13437, 'shortly': 17493, 'httptcojuzkw': 9164, 'haya': 6897, 'indianairforce': 10343, 'measuring': 12513, 'fresh': 5944, 'firstpost': 5555, 'firstpostlive': 5556, 'httptcoczhbfdykxd': 8999, 'afadturkey': 203, 'searchrescue': 17169, 'apartment': 639, 'arnab': 735, 'morn': 12956, 'insanneha': 10454, 'ordered': 14152, 'immediate': 10241, 'dispatch': 4138, 'online': 14064, 'briefing': 1828, 'kgv': 11239, 'bvs': 2039, 'tanyaplibersek': 18764, 'describes': 3918, 'federal': 5396, 'pretty': 15487, 'modest': 12871, 'httptcolacucrja': 9195, 'ebama': 4612, 'mindno': 12750, 'ko': 11376, 'kmuwa': 11354, 'bout': 1717, 'ustl': 20103, 'httptcooodcrhhuqs': 9259, 'tiny': 19219, 'miraculously': 12771, 'bynatashanoman': 2055, 'httptcoilcirxhgbl': 9132, 'micnews': 12681, 'epa': 4919, 'httptcokkbtfatpwf': 9176, 'httptcof': 9043, 'axmq': 1013, 'ym': 21510, 'telegraphpics': 18863, 'displaced': 4140, 'httptcoggpcp': 9078, 'wdfm': 20666, 'centuriesold': 2478, 'kotwdq': 11392, 'httptcokrivyjnvuq': 9185, 'wishfmofficial': 20981, 'pmfind': 15196, 'celebrity': 2460, 'saturated': 17017, 'color': 2970, 'metaphorically': 12631, 'physically': 14726, 'speaking': 18016, 'eq': 4935, 'httptcoazvr': 8956, 'ytx': 21572, 'nytvideo': 13858, 'httptcovbrnef': 9447, 'ntj': 13784, 'glad': 6310, 'who': 20844, 'eu': 5029, 'politicoeurope': 15246, 'playbook': 15140, 'httptcoqrzswohnap': 9321, 'west': 20763, 'concerned': 3086, 'pnmfkxc': 15209, 'pocket': 15218, 'scattered': 17076, 'httptcoxg': 9498, 'jvjex': 11069, 'nick': 13538, 'talbot': 18729, 'susannah': 18600, 'ross': 16708, 'colleague': 2959, 'recommended': 16182, 'lk': 11915, 'hzubuv': 10073, 'edsmither': 4661, 'odn': 13928, 'xoaw': 21342, 'satellite': 17011, 'communication': 3031, 'explained': 5191, 'highrises': 7123, 'httptcomche': 9216, 'vxmoh': 20491, 'qnp': 15828, 'rbcnz': 16085, 'zvzgkbf': 21765, 'httptcorbevmpoglk': 9332, 'lacofdpio': 11497, 'catf': 2378, 'airforce': 305, 'transporting': 19502, 'httptcoee': 9021, 'nolqryk': 13640, 'riotsinbaltimore': 16561, 'publichealth': 15664, 'pcp': 14540, 'httptcoes': 9035, 'jwa': 11072, 'qtg': 15865, 'reveal': 16476, 'ojbyxo': 13992, 'facility': 5257, 'httpstcohanjnpf': 8406, 'httptcovsryxum': 9460, 'zd': 21644, 'ajordangordon': 332, 'everestbasecamp': 5082, 'yous': 21546, 'worldwide': 21101, 'spencer': 18040, 'emerge': 4794, 'unharmed': 19906, 'actionaid': 115, 'denmark': 3866, 'greece': 6558, 'ireland': 10614, 'italy': 10669, 'sweden': 18645, 'httptcodx': 9015, 'ypgoy': 21555, 'himanshugolchha': 7145, 'happen': 6820, 'indiegogo': 10359, 'eohl': 4915, 'lzan': 12185, 'httptcorknks': 9343, 'hampampm': 6782, 'conscious': 3131, 'csr': 3477, 'httptcoig': 9125, 'csrwire': 3478, 'gsmam': 6627, 'imogenwall': 10252, 'httptcorc': 9333, 'transparent': 19498, 'httptcoelrosc': 9026, 'aqe': 686, 'tilt': 19198, 'saaurabhshuklaa': 16865, 'pradeepdotco': 15388, 'shesh': 17431, 'ghale': 6250, 'httptcouqhhf': 9434, 'kdna': 11167, 'rupeshsingh': 16806, 'taliaschlanger': 18732, 'cdn': 2440, 'hoping': 7305, 'he': 6931, 'okay': 13996, 'httpstcogtc': 8403, 'ucrn': 19785, 'httptcowueekumpbr': 9484, 'tampcs': 18752, 'httptcoslvo': 9368, 'gbfu': 6162, 'siince': 17568, 'morninng': 12959, 'ever': 5080, 'spent': 18044, 'unicefusa': 19916, 'brmfn': 1854, 'gev': 6239, 'rg': 16500, 'fishing': 5564, 'vote': 20442, 'politicking': 15245, 'lab': 11489, 'completes': 3061, 'congis': 3117, 'disconnect': 4113, 'rgpunjabvisit': 16501, 'flightradar': 5628, 'airbusgroup': 301, 'nqwfhhs': 13766, 'gurudwara': 6686, 'managemnt': 12292, 'smcs': 17753, 'evryday': 5114, 'httptcobgwbltmxf': 8965, 'hbr': 6913, 'mv': 13167, 'jostkobusch': 10979, 'filmed': 5486, 'everestcamp': 5083, 'noo': 13658, 'kitchen': 11313, 'httptcoxsfa': 9506, 'di': 4018, 'su': 18437, 'rowblanchard': 16728, 'absolute': 51, 'hundred': 9946, 'httptcogi': 9081, 'rif': 16542, 'asia': 789, 'httpstcoimmg': 8409, 'kghmd': 11237, 'tnt': 19269, 'quoting': 15923, 'reutersworld': 16475, 'httptcoc': 8978, 'iyzpfrt': 10724, 'issue': 10662, 'feared': 5385, 'httpstcosxv': 8441, 'hy': 10043, 'diq': 4071, 'concordeurope': 3091, 'learnt': 11666, 'tnkz': 19267, 'alwaysactions': 450, 'tibet': 19176, 'cut': 3539, 'aopv': 636, 'mamtainsan': 12286, 'gutu': 6692, 'ji': 10877, 'hiting': 7177, 'zhoumi': 21679, 'taking': 18727, 'childrenfamilies': 2634, 'httptcovzsburl': 9463, 'mrpksahoo': 13057, 'aap': 14, 'happy': 6828, 'coz': 3327, 'medias': 12531, 'attention': 878, 'aaprallymurder': 16, 'aapkilledfarmer': 15, 'prabalgurung': 15382, 'humbled': 9937, 'generous': 6197, 'honour': 7283, 'star': 18192, 'screenshot': 17135, 'tag': 18710, 'httpstcovtjw': 8448, 'tt': 19646, 'httptcotectsroa': 9386, 'httptcogtzqycqwct': 9091, 'lethal': 11730, 'httptcoepw': 9032, 'naahyu': 13205, 'kenyan': 11203, 'finding': 5502, 'httptcowzvdhnmurk': 9490, 'googlecr': 6432, 'dedicated': 3800, 'hha': 7090, 'ttps': 19653, 'ukip': 19828, 'supporter': 18550, 'hiding': 7105, 'basically': 1157, 'voting': 20448, 'party': 14461, 'reduce': 16223, 'claire': 2753, 'bennett': 1320, 'vrgdowo': 20460, 'geoawesomeness': 6205, 'difference': 4044, 'hotosm': 7338, 'ktmlivinglabs': 11436, 'map': 12335, 'fjwmut': 5586, 'gigantic': 6270, 'idol': 10129, 'couldnt': 3279, 'httptcofpipm': 9056, 'gkp': 6306, 'httptcouzmd': 9443, 'ebclj': 4618, 'ly': 12172, 'uxjsxd': 20150, 'nearin': 13349, 'httptcogdiojtl': 9073, 'fi': 5458, 'reopens': 16346, 'pleasegodnomorepain': 15156, 'landing': 11548, 'uneven': 19893, 'iafs': 10081, 'mi': 12661, 'simpani': 17588, 'vuykbvx': 20483, 'httpstconx': 8426, 'dhjpjeg': 4013, 'cdo': 2443, 'ow': 14280, 'mpetchenikwsb': 13026, 'ch': 2496, 'httptcomnmraxwpx': 9225, 'trustrss': 19623, 'lambaalka': 11536, 'arvindkejriwal': 770, 'digvijaya': 4054, 'petjytkxj': 14653, 'indiabut': 10338, 'whatsapp': 20805, 'visited': 20375, 'rebuilt': 16152, 'nkie': 13584, 'qaasimofficial': 15759, 'operationusa': 14121, 'hill': 7134, 'cracking': 3352, 'lukla': 12133, 'httptcotlhp': 9393, 'ovg': 14274, 'imcworldwide': 10228, 'med': 12527, 'data': 3666, 'rate': 16059, 'apply': 666, 'zarinamehta': 21630, 'indianredcross': 10347, 'puneetarora': 15692, 'evacuates': 5060, 'nationalsnepalearthquake': 13268, 'sevaparmodharma': 17301, 'fjcpvp': 5585, 'raghaaav': 15980, 'hearing': 6958, 'dharara': 4007, 'humanity': 9933, 'ethic': 5020, 'mykwy': 13193, 'graphic': 6533, 'httptcowkq': 9477, 'qitvsh': 15804, 'kat': 11124, 'en': 4826, 'route': 16723, 'lama': 11535, 'health': 6946, 'guidance': 6653, 'llmh': 11923, 'ani': 560, 'hyderabadmountaineer': 10047, 'reportedly': 16367, 'arnd': 736, 'picher': 14734, 'httptcopoxdw': 9301, 'vz': 20496, 'hydinsider': 10048, 'chrisroytaylor': 2682, 'mx': 13181, 'httptcom': 9213, 'xkra': 21325, 'remains': 16309, 'largest': 11574, 'kasthamandap': 11123, 'pagoda': 14349, 'built': 1940, 'tree': 19532, 'jigmeugen': 10880, 'httptcoglataklumv': 9084, 'katyperry': 11144, 'channelnewsasia': 2528, 'teocheehean': 18896, 'singapore': 17600, 'ghurka': 6260, 'contingent': 3175, 'httptcohqwctwiky': 9113, 'httpstcoatjytrck': 8382, 'moreland': 12951, 'bindaasdance': 1453, 'cooking': 3212, 'amid': 486, 'ruin': 16788, 'httptcoggj': 9077, 'mtqdke': 13093, 'httptcoxantos': 9492, 'et': 5011, 'jnj': 10917, 'globalmotherhood': 6340, 'theworldpost': 19075, 'mattdiangelo': 12428, 'tweeple': 19711, 'maddyhill': 12205, 'actionaiduk': 116, 'living': 11898, 'belowtheline': 1309, 'httptcouubygmfmwp': 9437, 'vqgyujvs': 20456, 'httptcoyw': 9534, 'fbxfsmb': 5362, 'louistomlinson': 12060, 'httptconxbjftnl': 9246, 'theofda': 19051, 'impacted': 10254, 'httptcoupxg': 9433, 'skp': 17673, 'deathtoll': 3762, 'himabista': 7142, 'absolutely': 52, 'proving': 15632, 'theory': 19053, 'correct': 3261, 'speak': 18014, 'httpstcol': 8417, 'dnwgh': 4213, 'avuhqw': 968, 'rickiwahi': 16521, 'gimel': 6279, 'dhoemal': 4014, 'um': 19841, 'bitcoin': 1479, 'httptcogb': 9070, 'qdqmc': 15784, 'arranges': 744, 'httptconwp': 9245, 'bbwmir': 1220, 'httptcoruc': 9351, 'fmdh': 5722, 'httptcozp': 9554, 'strength': 18380, 'deal': 3749, 'mountainguides': 12999, 'campnepalearthquake': 2182, 'httptcobbthdzlinu': 8959, 'httptcozota': 9552, 'qu': 15873, 'qc': 15769, 'newday': 13461, 'amet': 485, 'baltimoreriots': 1091, 'supreme': 18560, 'court': 3308, 'arg': 706, 'medshare': 12547, 'disasterresponse': 4103, 'prepositioned': 15466, 'nutrition': 13816, 'warned': 20569, 'ripe': 16563, 'httptcobnzhzzbbd': 8970, 'xttpkxcvp': 21385, 'efforthttpstcoqzhruxprhb': 4687, 'lifewithselg': 11799, 'wx': 21245, 'httptcowdgakfq': 9466, 'secret': 17194, 'grdn': 6543, 'split': 18067, 'marble': 12342, 'rubaiyat': 16777, 'stanza': 18190, 'nepalearthquakelife': 13412, 'httptcopedu': 9286, 'njg': 13580, 'xk': 21321, 'ipjjw': 10597, 'arbuthnotlatham': 695, 'monthly': 12927, 'dress': 4359, 'blogging': 1579, 'httptcouizl': 9421, 'hlciu': 7194, 'geotripper': 6214, 'chennai': 2600, 'httptcoknpaukdaqe': 9181, 'seismograph': 17223, 'charlotte': 2550, 'detect': 3956, 'vibration': 20313, 'httptcolodcep': 9204, 'talk': 18734, 'httptcoooraxu': 9261, 'nbb': 13295, 'httptcoduyapfdky': 9012, 'disasterrelief': 4102, 'hdlindiaorg': 6926, 'adarshliberal': 140, 'bark': 1136, 'beefban': 1277, 'ampgaza': 496, 'hypocrite': 10058, 'emoticon': 4813, 'religion': 16299, 'kcaqtzbkq': 11156, 'warm': 20564, 'bleeding': 1536, 'hard': 6834, 'sortie': 17953, 'geetugi': 6186, 'shah': 17345, 'satnam': 17015, 'welfare': 20736, 'calamityit': 2096, 'reac': 16104, 'davidshukmanbbc': 3684, 'wasnt': 20600, 'nasa': 13247, 'warns': 20585, 'httpst': 8376, 'kalfsip': 11099, 'swift': 18656, 'calamity': 2095, 'httptcoo': 9249, 'wppoygly': 21130, 'condolencesamp': 3099, 'wish': 20980, 'speedy': 18036, 'richterscale': 16519, 'httpstcoqyijlcpc': 8433, 'kerala': 11208, 'resort': 16412, 'vulture': 20481, 'harvest': 6860, 'hmoindia': 7202, 'successful': 18464, 'alexcam': 378, 'httptcoapbehyqk': 8948, 'neelakshigswm': 13377, 'advance': 176, 'httptcogtgvolwtgp': 9090, 'thinkprogress': 19098, 'aarp': 18, 'gift': 6269, 'matched': 12421, 'httpstcoyqjbquypgi': 8456, 'skymetweather': 17682, 'hindon': 7152, 'httptcoca': 8979, 'fwyy': 6085, 'searching': 17168, 'httptconl': 9239, 'qo': 15831, 'lo': 11951, 'political': 15242, 'deploy': 3889, 'cadre': 2079, 'brblaaldhwoj': 1781, 'ramsmahat': 16030, 'mishrarabindra': 12777, 'xx': 21398, 'sarahjanepell': 16997, 'aquabatics': 688, 'bendinghorizons': 1313, 'scour': 17118, 'volunteered': 20435, 'examine': 5126, 'pialiroy': 14729, 'overland': 14258, 'zengarden': 21657, 'asset': 809, 'gtgtgt': 6636, 'httptcohtav': 9117, 'joqs': 10971, 'dpxdxiwpf': 4325, 'drtf': 4425, 'president': 15479, 'icom': 10108, 'neptunecym': 13442, 'clue': 2857, 'mention': 12599, 'lejkxs': 11706, 'lukeshaw': 12130, 'addressed': 150, 'concrete': 3092, 'referen': 16237, 'archeologist': 699, 'terrified': 18909, 'narrowly': 13245, 'escaping': 4981, 'httptcoen': 9027, 'ljxfwx': 11914, 'httptcoxjcod': 9500, 'myy': 13200, 'estimated': 5006, 'exposed': 5202, 'shaking': 17354, 'httptcojfgkel': 9151, 'httptcoze': 9544, 'wec': 20705, 'fwq': 6080, 'sandrajoe': 16963, 'race': 15954, 'httptcouwdpcngnc': 9438, 'cnnireport': 2899, 'httptcozio': 9547, 'exceeds': 5131, 'httptcoqnkmfspqqj': 9318, 'gujju': 6664, 'theplas': 19054, 'baoo': 1116, 'saras': 17000, 'che': 2566, 'headlinestoday': 6941, 'scare': 17068, 'horrible': 7313, 'mortdale': 12964, 'grind': 6591, 'cafe': 2081, 'httpstcow': 8449, 'uuxfjhvh': 20142, 'sydney': 18680, 'chesterchron': 2607, 'firefighter': 5527, 'chester': 2606, 'winsford': 20960, 'httptcoeqqv': 9033, 'xobz': 21343, 'maybe': 12447, 'httptcolugjn': 9209, 'rv': 16825, 'httptcocedcugmtxs': 8984, 'globalgrindnews': 6337, 'httptcooremx': 9265, 'ya': 21411, 'earthquakereport': 4586, 'httptcopajiatoaps': 9277, 'strengthen': 18382, 'tell': 18870, 'briton': 1848, 'kgdxrtp': 11236, 'priyankachopra': 15531, 'earthquakenatures': 4580, 'incomparableshare': 10314, 'silentprayer': 17575, 'globalbc': 6334, 'fact': 5259, 'httptcorqvbnoudhy': 9346, 'rose': 16699, 'according': 87, 'officialhttptconfp': 13947, 'kknvz': 11330, 'michiganstateu': 12680, 'msu': 13080, 'student': 18417, 'painted': 14356, 'honor': 7281, 'photodl': 14710, 'turner': 19684, 'struggle': 18410, 'cope': 3231, 'despite': 3938, 'pj': 15091, 'qd': 15782, 'wnn': 21034, 'httptcotwvdtqum': 9406, 'delhitweeter': 3835, 'historical': 7167, 'thapa': 18988, 'dna': 4208, 'pushed': 15716, 'northward': 13702, 'ywjy': 21592, 'engadget': 4853, 'httptcoytazx': 9533, 'pom': 15257, 'swissmiss': 18663, 'httpstcogc': 8402, 'yzdv': 21613, 'xuscasoleny': 21389, 'rqfccmkm': 16740, 'believe': 1300, 'naturally': 13276, 'theyre': 19079, 'provoked': 15634, 'avoid': 963, 'eight': 4712, 'httptcokxmlyv': 9190, 'zeq': 21660, 'johngreen': 10945, 'savethechildren': 17032, 'string': 18397, 'expose': 5201, 'geopolitical': 6209, 'fault': 5346, 'ujsdix': 19824, 'priority': 15522, 'parrikar': 14445, 'hbvjrsd': 6916, 'nationalnews': 13267, 'zeenews': 21655, 'snobers': 17810, 'catastrophic': 2366, 'nirjlpsd': 13573, 'httptcoqpn': 9319, 'dynresearch': 4535, 'telecom': 18860, 'survives': 18595, 'smaller': 17740, 'isps': 10657, 'suffer': 18482, 'outage': 14216, 'httptcoqajyxt': 9310, 'dow': 4300, 'worstcase': 21111, 'scenario': 17081, 'greatest': 6551, 'httpstcotw': 8445, 'koreanupdates': 11390, 'parkshinhye': 14437, 'ambassador': 464, 'hungry': 9951, 'georgia': 6212, 'httptcosq': 9374, 'rltb': 16606, 'itunes': 10694, 'httptcocvwzhml': 8995, 'gp': 6474, 'appsoko': 680, 'nmy': 13603, 'lbk': 11632, 'newsanalysis': 13471, 'startup': 18208, 'londonmarathon': 12002, 'robinmacnab': 16642, 'reduces': 16225, 'httptcoyaa': 9516, 'oe': 13933, 'httptcoag': 8941, 'ymj': 21511, 'wkb': 21005, 'terrifying': 18910, 'httptcozoy': 9553, 'wev': 20778, 'indp': 10370, 'srbachchan': 18137, 'shot': 17494, 'mahaan': 12230, 'zeenat': 21654, 'aman': 456, 'londonfire': 12001, 'bmwue': 1614, 'lwp': 12162, 'nepalhelplines': 13418, 'iamsrk': 10091, 'kapilsharmak': 11110, 'wrwmogou': 21179, 'stupid': 18428, 'creating': 3391, 'httptcoeibt': 9023, 'rn': 16619, 'poulterwill': 15345, 'abdullahomar': 36, 'sir': 17615, 'vilgs': 20348, 'cnnctd': 2893, 'telephony': 18865, 'aiming': 292, 'toilet': 19295, 'obama': 13873, 'httptcosim': 9364, 'mhz': 12660, 'yt': 21569, 'pryrs': 15641, 'wd': 20663, 'vctms': 20217, 'famliz': 5302, 'break': 1787, 'limbo': 11828, 'httptcott': 9404, 'piuoc': 15081, 'american': 480, 'desperately': 3936, 'weekend': 20721, 'rest': 16426, 'grow': 6610, 'httptcopfy': 9289, 'hdobvk': 6928, 'httptcodqco': 9010, 'fibc': 5460, 'munsifurdutv': 13128, 'relay': 16287, 'httptcotf': 9387, 'nqpsiru': 13764, 'httptcojmau': 9158, 'syycp': 18694, 'spgh': 18046, 'washingtonpost': 20596, 'knew': 11358, 'attempt': 872, 'continued': 3177, 'rppws': 16737, 'httptcocylaxatbbr': 8997, 'googlenews': 6434, 'fade': 5262, 'httptcorzduoiuciz': 9355, 'tsrosenberg': 19639, 'planuk': 15128, 'literally': 11870, 'dipakbhattarai': 4069, 'treatment': 19531, 'teaching': 18830, 'httptcowhv': 9476, 'ktoe': 11437, 'natgeo': 13260, 'httptcoihhk': 9126, 'espew': 4991, 'grybauskaitelt': 6625, 'maherzain': 12234, 'campaign': 2168, 'irworldwide': 10639, 'overseas': 14267, 'click': 2796, 'bbcclick': 1201, 'used': 20075, 'httptcoadjv': 8937, 'idusw': 10130, 'gruangflp': 6621, 'intensifies': 10517, 'vinf': 20357, 'shaken': 17352, 'paper': 14398, 'highlighting': 7120, 'brit': 1843, 'httptconiphj': 9238, 'uf': 19798, 'rattle': 16070, 'httptcouc': 9413, 'lsu': 12111, 'camilacabello': 2164, 'hurt': 10020, 'jackthurston': 10743, 'abergavennyrc': 37, 'tom': 19305, 'lovejoy': 12067, 'everesting': 5084, 'tumble': 19666, 'httptcooppbpslfif': 9264, 'mashable': 12398, 'jolted': 10963, 'fourteen': 5887, 'varied': 20195, 'magnitu': 12228, 'httptcoklkyq': 9179, 'unqv': 19962, 'caritas': 2275, 'measured': 12511, 'httptcoacdnjfrd': 8935, 'beingindian': 1295, 'mourns': 13006, 'drspagarwal': 4423, 'unitstentswatsan': 19932, 'unitsfamily': 19931, 'pack': 14331, 'nepalpicture': 13429, 'ev': 5052, 'majority': 12253, 'weathered': 20690, 'economic': 4634, 'omgl': 14038, 'rolling': 16676, 'httptcoaehxwbq': 8938, 'catastro': 2364, 'httptcopwoyy': 9306, 'vbbh': 20206, 'georgianews': 6213, 'start': 18200, 'reaching': 16107, 'osizqws': 14187, 'pledge': 15158, 'suncanada': 18511, 'httptcorzlgbqevbr': 9356, 'main': 12244, 'kiren': 11306, 'rijiju': 16550, 'httpstcoq': 8430, 'fufczcdr': 6025, 'camera': 2162, 'httptcofplwpv': 9057, 'piz': 15089, 'pregnant': 15450, 'likely': 11821, 'httptcowewnkllsdd': 9469, 'httptcouzyxguoio': 9444, 'seccathaholic': 17190, 'important': 10265, 'nifha': 13548, 'habitat': 6729, 'httptcormypoutvqz': 9345, 'geological': 6207, 'httptcopm': 9297, 'swohrxu': 18666, 'oneindia': 14050, 'eurogeosciences': 5041, 'katerav': 11126, 'wrote': 21174, 'httpstcokloazrwuxt': 8416, 'httptcouiieuioz': 9420, 'inspiring': 10473, 'izklffjp': 10727, 'right': 16546, 'surely': 18568, 'reddimples': 16212, 'ntvkenya': 13791, 'picked': 14737, 'prophecy': 15598, 'earthquak': 4566, 'heartful': 6964, 'httptcopdqyopg': 9284, 'confirms': 3110, 'httptcoikeaynnou': 9130, 'httptcouxwkg': 9440, 'pzsq': 15757, 'calcutta': 2097, 'apt': 683, 'rocking': 16653, 'fan': 5304, 'swinging': 18661, 'httptcosec': 9361, 'hat': 6872, 'giving': 6295, 'drank': 4343, 'urine': 20048, 'yelmyacqe': 21468, 'wonder': 21053, 'dunya': 4492, 'fellow': 5416, 'blue': 1599, 'champ': 2509, 'mcfc': 12472, 'citywatch': 2733, 'yourmcfc': 21545, 'jejejejo': 10832, 'sr': 18135, 'oh': 13965, 'chaos': 2531, 'montreal': 12929, 'xgydo': 21309, 'httptcooxtdth': 9274, 'awd': 982, 'yveamssd': 21586, 'qzlmxs': 15946, 'uz': 20156, 'jamieoliver': 10768, 'careintuks': 2267, 'tampc': 18751, 'httptconeviv': 9237, 'qmq': 15823, 'srilanka': 18138, 'httptcovy': 9462, 'jotszh': 10980, 'ariaajaeger': 712, 'httptcophmrrmb': 9291, 'ag': 234, 'httptcozautxb': 9538, 'liv': 11880, 'httptcodepbw': 9004, 'mnae': 12841, 'waynerooney': 20644, 'vkxusa': 20399, 'trail': 19479, 'kingdom': 11294, 'httptcoghsp': 9080, 'rm': 16610, 'rupl': 16807, 'premier': 15452, 'danielandrewsmp': 3643, 'springst': 18103, 'httptcortmcz': 9350, 'xm': 21331, 'elslsaq': 4777, 'patan': 14485, 'shame': 17359, 'wbpdpwjm': 20652, 'pager': 14348, 'minimally': 12756, 'equal': 4938, 'economy': 4640, 'sjy': 17650, 'emerges': 4798, 'wrought': 21175, 'kathma': 11127, 'httptcogvj': 9092, 'dbaokv': 3705, 'aguhtwwy': 268, 'move': 13010, 'south': 17969, 'unchanged': 19862, 'hzbkjx': 10068, 'decappeal': 3777, 'nouisemia': 13734, 'dnarrylovato': 4209, 'shes': 17429, 'aemrsojn': 198, 'bbcnews': 1205, 'uncle': 19863, 'travelling': 19520, 'notified': 13723, 'le': 11649, 'badly': 1056, 'danieljerivers': 3645, 'httptcoetrzdlybtb': 9038, 'drshn': 4421, 'disasterbut': 4097, 'revffo': 16484, 'jludyszd': 10904, 'httptcokd': 9170, 'nnt': 13609, 'ycy': 21439, 'httptcowghhyyyczz': 9472, 'shelterbox': 17403, 'srts': 18142, 'mellberr': 12567, 'httptcotwo': 9405, 'ljl': 11911, 'dept': 3902, 'reporte': 16365, 'christinaperri': 2688, 'itunesmusic': 10695, 'uni': 19910, 'vzlq': 20498, 'twl': 19734, 'httptcoubvch': 9412, 'yf': 21487, 'wow': 21119, 'corp': 3256, 'san': 16955, 'clemente': 2791, 'surviving': 18596, 'httptcoxm': 9501, 'oyj': 14308, 'connect': 3124, 'yxcpydiu': 21597, 'fcbarcelona': 5368, 'observed': 13886, 'fcbgetafe': 5369, 'fcblive': 5370, 'decimated': 3784, 'httptcocccgr': 8981, 'dws': 4523, 'bbcle': 1204, 'vocabulary': 20415, 'learnenglish': 11664, 'elt': 4779, 'httptcoqzx': 9330, 'urcii': 20035, 'madihaabidali': 12211, 'httptcoovkknodlvr': 9270, 'httptcosgticast': 9363, 'england': 4865, 'gbr': 6164, 'pontifex': 15263, 'lead': 11650, 'crowd': 3447, 'peter': 14646, 'hail': 6745, 'mary': 12394, 'case': 2342, 'missed': 12786, 'brampton': 1764, 'journey': 10984, 'upwards': 20026, 'httptcosbpr': 9359, 'tnlax': 19268, 'httptcoruugagby': 9352, 'httptcoxtwjyu': 9507, 'rtlastquake': 16769, 'httptcoookntolfey': 9260, 'nbtm': 13305, 'xt': 21379, 'httptcoud': 9414, 'acmrid': 102, 'bc': 1221, 'httptcogkkatcnmqe': 9083, 'europe': 5043, 'hongkong': 7275, 'httptcopqvl': 9304, 'fgmyy': 5447, 'hello': 7020, 'handbasketwait': 6793, 'terrible': 18905, 'prayerfornepal': 15404, 'instagram': 10483, 'httpstcotuztqroglk': 8444, 'terriblehope': 18906, 'httptconch': 9234, 'gqjbj': 6486, 'nepalrr': 13436, 'exodus': 5166, 'flee': 5617, 'nyc': 13840, 'fvl': 6070, 'decade': 3774, 'quartz': 15889, 'httptcoiolzwlas': 9134, 'logged': 11982, 'usb': 20058, 'qso': 15860, 'de': 3737, 'dbr': 3711, 'nadinecoylenow': 13210, 'suffering': 18484, 'ipl': 10599, 'match': 12419, 'oprah': 14135, 'shown': 17511, 'consciousness': 3132, 'adaderana': 134, 'slaf': 17688, 'ada': 133, 'derana': 3910, 'nep': 13402, 'httptcotfzspge': 9388, 'arjuna': 721, 'award': 977, 'diyadvn': 4181, 'varun': 20197, 'dhawan': 4009, 'deiics': 3825, 'aol': 634, 'feature': 5389, 'httptcoafsjyllkmo': 8939, 'tony': 19330, 'castleman': 2354, 'httptcoukf': 9423, 'lmhuzk': 11939, 'wjojjr': 21000, 'zk': 21702, 'telephoned': 18864, 'counter': 3289, 'expresed': 5204, 'sorrow': 17949, 'rayyykneee': 16082, 'prolly': 15579, 'schoolsmh': 17092, 'ignore': 10156, 'cuz': 3544, 'sambitswaraj': 16943, 'extremely': 5225, 'httptcorf': 9336, 'ejyo': 4725, 'cp': 3330, 'httptcoeojiqbid': 9029, 'headline': 6939, 'tory': 19400, 'apprenticeship': 671, 'httptcotpueuszp': 9398, 'pkiwfzl': 15106, 'httptcomewpfb': 9218, 'swaymsevaks': 18636, 'heading': 6936, 'distributed': 4161, 'gautamsen': 6149, 'jhasanjay': 10875, 'rahul': 15983, 'bhajan': 1388, 'la': 11486, 'httptcoci': 8986, 'mj': 12813, 'australian': 920, 'uqyps': 20031, 'httpstcovku': 8447, 'hph': 7387, 'nb': 13293, 'httptcoffwwhgp': 9046, 'cry': 3469, 'httptcopbl': 9280, 'jns': 10919, 'hgfuro': 7083, 'positioning': 15307, 'system': 18691, 'hampshire': 6784, 'httptcogxcmv': 9094, 'vll': 20401, 'portsmouth': 15299, 'barely': 1133, 'weary': 20683, 'vx': 20490, 'rewu': 16493, 'military': 12729, 'grows': 6615, 'socialist': 17865, 'web': 20700, 'httptconqwagjgzpk': 9241, 'warnews': 20570, 'dying': 4532, 'peoplesits': 14595, 'terrific': 18908, 'hongkongers': 7276, 'subscription': 18450, 'httptcoian': 9122, 'thsafb': 19161, 'hon': 7267, 'dear': 3755, 'ubisoft': 19771, 'success': 18463, 'wonderful': 21055, 'hamilton': 6776, 'prince': 15511, 'bleak': 1534, 'kjfb': 11320, 'vk': 20395, 'fredzeppelin': 5923, 'custody': 3537, 'httptcoxozmkgir': 9504, 'utkv': 20117, 'xpu': 21358, 'manjunath': 12316, 'pattenavar': 14501, 'eoiktmnp': 4916, 'httptcoefx': 9022, 'xinr': 21316, 'surprisethere': 18580, 'httptcooggzn': 9253, 'br': 1750, 'interesting': 10528, 'bay': 1187, 'pkau': 15103, 'httptconcs': 9236, 'lm': 11929, 'yearold': 21453, 'pti': 15656, 'httpstcoazlvknjrze': 8383, 'dizzkylzc': 4184, 'swath': 18634, 'flatteni': 5610, 'httptcofwpxdurltc': 9066, 'phil': 14692, 'forecast': 5832, 'httptcodcn': 9002, 'gpgm': 6477, 'helen': 7011, 'exoworldina': 5168, 'chanyeol': 2529, 'sehun': 17222, 'instgram': 10493, 'posted': 15319, 'shani': 17367, 'httptcopdkkf': 9283, 'pakhora': 14363, 'crazy': 3380, 'thinkin': 19094, 'lima': 11826, 'padang': 14343, 'istanbul': 10665, 'seismologist': 17224, 'httptcogwrn': 9093, 'dhr': 4016, 'cousin': 3312, 'picturesthe': 14744, 'bhaktpur': 1390, 'httptcobdu': 8963, 'qpaeqt': 15841, 'valerie': 20174, 'httptcowdkcffxcad': 9467, 'avalancheaffected': 954, 'poycpxwf': 15363, 'ajenews': 329, 'httptcol': 9194, 'whjjpabo': 20843, 'httptconcit': 9235, 'swiss': 18662, 'assessment': 808, 'xpwnvoz': 21359, 'asimbajwaispr': 792, 'manpower': 12327, 'valunteer': 20180, 'anicaribbean': 561, 'yogrishiramdev': 21520, 'injurie': 10434, 'httptcorwyydujwe': 9353, 'jantakareporter': 10782, 'private': 15528, 'precautionary': 15426, 'measure': 12510, 'nepa': 13403, 'gathered': 6142, 'deva': 3966, 'httptcolp': 9205, 'asdvbrc': 778, 'snlz': 17808, 'httptcolmpothcxni': 9201, 'firm': 5548, 'jannathulrahmat': 10781, 'sivakartikeyan': 17636, 'anna': 576, 'httptcovllerzlw': 9453, 'anandmahindra': 524, 'kudos': 11444, 'alertnessvisibility': 374, 'expects': 5176, 'deserves': 3926, 'thi': 19081, 'gather': 6141, 'cremate': 3405, 'httptcorjafgpssqa': 9342, 'euznaeok': 5051, 'oiz': 13990, 'ljvoy': 11913, 'hehearsmetwitter': 7001, 'pahiirm': 14351, 'httptcobsuuc': 8972, 'xexh': 21298, 'httptcohk': 9104, 'vppwpmv': 20454, 'steepskiing': 18250, 'larkburger': 11577, 'revenue': 16480, 'ahi': 278, 'burger': 1976, 'techtrends': 18852, 'httptcocya': 8996, 'wsil': 21185, 'trend': 19540, 'hastag': 6871, 'sharing': 17375, 'httpstcokbug': 8414, 'ohiqm': 13973, 'johnlegere': 10946, 'starting': 18205, 'charge': 2539, 'tmobile': 19262, 'illequipped': 10201, 'handle': 6799, 'httptcolxfcceu': 9212, 'deja': 3827, 'vu': 20478, 'isacnn': 10643, 'brazil': 1780, 'righ': 16545, 'httpstcoetvrzwqq': 8398, 'httptcohdngsuvt': 9101, 'ta': 18701, 'russianews': 16819, 'naturaldisasters': 13275, 'httptcotcpf': 9385, 'ki': 11254, 'densely': 3868, 'populated': 15286, 'final': 5493, 'tibetan': 19177, 'httptcoajqs': 8944, 'qojjx': 15835, 'httptcoaolxvnuopq': 8947, 'ij': 10183, 'rebuild': 16150, 'dh': 4003, 'kpfstp': 11396, 'nz': 13860, 'httptcort': 9348, 'kpluykp': 11398, 'herald': 7054, 'mamafinch': 12279, 'jacob': 10744, 'riordan': 16558, 'youve': 21551, 'iafiaahussain': 10080, 'mailonline': 12243, 'obliterated': 13880, 'httptcowxc': 9486, 'carried': 2303, 'ram': 16018, 'prasad': 15397, 'sapkota': 16993, 'httptcodigoomwsxx': 9007, 'act': 111, 'httptcolfhorxzds': 9199, 'bjp': 1493, 'uhf': 19814, 'wearephat': 20680, 'yye': 21606, 'eib': 4711, 'babymetal': 1039, 'club': 2855, 'profit': 15566, 'tshirt': 19636, 'purchased': 15700, 'httptcobyorjp': 8977, 'vj': 20389, 'natgeomag': 13261, 'wake': 20519, 'emnixkkdy': 4810, 'ukinrwanda': 19827, 'earthquakebritish': 4570, 'requiring': 16386, 'consular': 3152, 'ngri': 13517, 'measuri': 12512, 'femhxcdfm': 5423, 'manohar': 12325, 'point': 15225, 'earthquakejoin': 4579, 'mebdw': 12518, 'sg': 17329, 'yv': 21585, 'venet': 20254, 'continuing': 3180, 'ell': 4765, 'ih': 10162, 'dpradhanbjp': 4322, 'joint': 10956, 'discussion': 4126, 'ioclssbconsgenindianembassynepal': 10584, 'representative': 16373, 'fearing': 5386, 'isolated': 10656, 'httptcouoto': 9431, 'ekl': 4729, 'wwjon': 21241, 'ay': 1015, 'httptcosyqqcqw': 9379, 'sf': 17319, 'televised': 18867, 'dan': 3628, 'fredinburg': 5922, 'engineer': 4862, 'caused': 2394, 'reliable': 16292, 'northmenpk': 13699, 'cwx': 3553, 'southeast': 17974, 'planglobal': 15122, 'httptcoxmgtcc': 9502, 'qil': 15802, 'hindustan': 7155, 'httptcopdt': 9285, 'cfrmp': 2491, 'cdcemergency': 2433, 'usaid': 20055, 'mcnhlapo': 12481, 'include': 10308, 'disability': 4087, 'fsf': 5993, 'uxpgg': 20152, 'request': 16381, 'httptconyjnoux': 9248, 'gj': 6299, 'east': 4593, 'sx': 18674, 'restlessearth': 16434, 'mom': 12884, 'feeding': 5402, 'httptcoccpjy': 8982, 'xpnu': 21355, 'haaretzcom': 6725, 'buries': 1981, 'solarpowered': 17893, 'upxnqu': 20027, 'kathmanduearthquake': 11132, 'httpstcoro': 8436, 'rjfwaqo': 16592, 'wsmv': 21188, 'httptcobfdobubl': 8964, 'tectonic': 18853, 'hazard': 6901, 'httptcoul': 9425, 'wrfwqy': 21161, 'httptcohsyqyaui': 9115, 'httptcoyxkpisbixf': 9535, 'nhq': 13525, 'ppl': 15371, 'kumar': 11447, 'upadhyay': 19994, 'austinramzy': 918, 'featuring': 5391, 'hal': 6758, 'translatorswb': 19497, 'bhasa': 1394, 'rebeccatranslato': 16147, 'israelhatzolah': 10660, 'ud': 19786, 'httptcojbimnnusfr': 9148, 'httptcohcyjo': 9099, 'trek': 19536, 'said': 16901, 'poping': 15278, 'screen': 17133, 'asking': 795, 'interested': 10527, 'quora': 15920, 'answer': 596, 'jpzryrq': 11001, 'roll': 16671, 'httpstcoqdp': 8431, 'img': 10230, 'httptcotssoqfskff': 9403, 'imggolf': 10232, 'client': 2797, 'lydia': 12173, 'lko': 11919, 'lpga': 12092, 'event': 5076, 'httptcohkxnx': 9105, 'gmkf': 6362, 'theworldstories': 19076, 'try': 19627, 'shakingearth': 17355, 'expect': 5172, 'zdfqoudqz': 21646, 'later': 11595, 'oldest': 14011, 'malla': 12274, 'ohrvylydj': 13979, 'gajendra': 6105, 'boz': 1734, 'nepalindia': 13421, 'forget': 5847, 'eveything': 5102, 'earthquakeindia': 4578, 'judging': 11024, 'lakhimpurone': 11531, 'plight': 15164, 'nepalmay': 13425, 'httptcosjwe': 9365, 'tjjaq': 19242, 'hwoiuec': 10035, 'medo': 12546, 'gaza': 6157, 'passed': 14475, 'httptcoeyraim': 9041, 'qr': 15854, 'httptcopkzgpddvp': 9293, 'unfolding': 19899, 'foreigner': 5834, 'soar': 17858, 'bbcamos': 1199, 'explains': 5193, 'httptcosl': 9367, 'drynpnp': 4441, 'httptcoua': 9411, 'nnak': 13606, 'operacaobetalab': 14116, 'ckwdihzm': 2748, 'sdv': 17150, 'newsstrong': 13494, 'nepaldamages': 13405, 'httptcoug': 9416, 'fuvoyk': 6065, 'opkillingbay': 14127, 'coveguardians': 3314, 'shuttaijidown': 17526, 'seashepherd': 17174, 'reopen': 16343, 'httptconqms': 9240, 'suedhellmann': 18479, 'terribly': 18907, 'centered': 2473, 'kathmand': 11129, 'marjoryegan': 12361, 'nff': 13509, 'iw': 10711, 'irantalks': 10612, 'sandhyaa': 16962, 'earthquakethe': 4588, 'park': 14428, 'passing': 14477, 'httptcovqowvztub': 9457, 'humanitarianaid': 9932, 'checkout': 2577, 'acapsproject': 66, 'learned': 11663, 'rxfhmft': 16841, 'reliefefforts': 16294, 'fycjwwosm': 6087, 'risen': 16570, 'httptconawhlfpqs': 9233, 'afrisysit': 225, 'ibnliv': 10099, 'httptcopfjswfa': 9288, 'afrisys': 224, 'ihaidermalik': 10163, 'httpstcoxbwpudokt': 8451, 'ekta': 4730, 'insan': 10449, 'vry': 20462, 'throbbing': 19150, 'plzzzz': 15192, 'jii': 10882, 'ol': 14007, 'msghelpearthquak': 13069, 'httptcotaxfkgespc': 9384, 'httptcokrefxqxsic': 9184, 'duas': 4462, 'indianepal': 10345, 'bhutan': 1404, 'form': 5852, 'equake': 4937, 'yg': 21493, 'fkh': 5590, 'httptcoggfrsdk': 9076, 'zm': 21710, 'teenager': 18857, 'xa': 21268, 'peopleinneed': 14593, 'public': 15663, 'eur': 5038, 'httptcodutx': 9011, 'ent': 4888, 'humanityunited': 9934, 'httptcoaq': 8949, 'ylqtzre': 21509, 'paolme': 14395, 'httptcosysynbsvst': 9380, 'httptcokuslclia': 9189, 'damn': 3621, 'alright': 434, 'phew': 14690, 'sv': 18617, 'fvoilu': 6071, 'mktgmacgyver': 12825, 'reminder': 16321, 'financial': 5499, 'lil': 11823, 'da': 3577, 'ulnnqrde': 19838, 'comprehensive': 3068, 'organisation': 14164, 'individual': 10365, 'autismcarenepal': 929, 'autismspeaks': 930, 'pzlusaw': 15754, 'httptcoelmqksrzmz': 9025, 'economist': 4639, 'joffzy': 10938, 'effcharity': 4675, 'ageing': 240, 'httptcowguvwolhdt': 9474, 'kkelyvzpo': 11326, 'mega': 12553, 'everywhere': 5100, 'httptcoplya': 9296, 'evzfz': 5118, 'wipe': 20967, 'monument': 12931, 'httptcohoy': 9109, 'dl': 4193, 'hu': 9905, 'newsintweetsindia': 13484, 'ravaged': 16074, 'httptcorfpqyccs': 9337, 'qljsomzx': 15818, 'httptcogqxwylokz': 9087, 'itsparto': 10688, 'witness': 20992, 'httptcouwmynvyzqc': 9439, 'poorest': 15272, 'facing': 5258, 'httptcobk': 8968, 'autei': 923, 'httptcomab': 9214, 'hqkni': 7396, 'provides': 15630, 'succor': 18466, 'httptcolpmsvmpgs': 9206, 'salsuave': 16928, 'httpstcotoms': 8443, 'rb': 16084, 'rtenews': 16766, 'httpstcoykmv': 8455, 'davidblaine': 3678, 'rally': 16015, 'httpstcoae': 8379, 'ronzfp': 16688, 'newsnepal': 13486, 'httptcoarvwkethfp': 8951, 'xwgqvy': 21396, 'mahindra': 12236, 'rehabilitation': 16272, 'skc': 17657, 'shri': 17516, 'chair': 2503, 'highlevel': 7118, 'meeting': 12552, 'review': 16485, 'httptcorguezslf': 9339, 'atrisk': 865, 'httptcoyg': 9520, 'nh': 13519, 'yc': 21435, 'sajtheone': 16908, 'finger': 5510, 'crossed': 3445, 'wcjkwviyh': 20658, 'wkyt': 21016, 'beret': 1331, 'httptcoquyaxrkmah': 9328, 'tune': 19671, 'oncampus': 14044, 'six': 17637, 'httptcoijhhmqemiq': 9129, 'timeworld': 19210, 'randfish': 16034, 'former': 5855, 'mozzer': 13024, 'mrensch': 13050, 'httpstcowerix': 8450, 'shaheenx': 17346, 'huffington': 9913, 'challenge': 2505, 'greatkathmandu': 6553, 'httptcoafz': 8940, 'lz': 12183, 'eld': 4734, 'thegospels': 19025, 'within': 20989, 'hnhggosu': 7210, 'juniorbachchan': 11042, 'subreddit': 18449, 'httptcovhutt': 9450, 'vyrd': 20494, 'redcrossau': 16203, 'discus': 4123, 'httptcozspg': 9557, 'iesqi': 10135, 'avala': 952, 'httptcowhfeniycwr': 9475, 'elsewhere': 4776, 'httptcotlc': 9392, 'cjqo': 2743, 'benhas': 1318, 'havent': 6888, 'usembassynepal': 20082, 'httptcoudw': 9415, 'ndtd': 13339, 'smartnews': 17746, 'httptcoumnjwvk': 9428, 'enormous': 4880, 'hindu': 7154, 'buddhist': 1922, 'qrwuxpbu': 15858, 'amanda': 457, 'holdens': 7228, 'escape': 4979, 'httptcoqtzgpgij': 9324, 'iconic': 10109, 'rocked': 16650, 'httptcooehwrebtr': 9250, 'tour': 19427, 'operator': 14122, 'asuruhds': 837, 'travelmole': 19521, 'httptcoke': 9171, 'rap': 16046, 'nepalwater': 13439, 'pond': 15259, 'seemed': 17215, 'seawaves': 17187, 'msnindia': 13076, 'btindia': 1903, 'spicejet': 18047, 'refund': 16252, 'rescheduling': 16389, 'httptcoqttab': 9323, 'hln': 7196, 'httptcosna': 9371, 'vtpse': 20474, 'httptcoqqnvo': 9320, 'mammalssuck': 12283, 'stellar': 18256, 'mechanism': 12523, 'httptcoil': 9131, 'kywhyop': 11478, 'quinnanthrowman': 15910, 'refuge': 16250, 'strait': 18364, 'httptcozbf': 9540, 'pam': 14377, 'rc': 16090, 'processing': 15548, 'processed': 15547, 'industry': 10375, 'packaged': 14333, 'httptcospx': 9373, 'hw': 10034, 'httptcoatu': 8953, 'hzlw': 10071, 'thursday': 19171, 'release': 16288, 'monda': 12894, 'httptcoqubunlgkjx': 9325, 'diocese': 4066, 'lancaster': 11543, 'pope': 15277, 'qwboqoif': 15931, 'httptcooksqeyyxzo': 9257, 'armitagebrazil': 730, 'dkvaorp': 4192, 'civic': 2734, 'poll': 15250, 'disrupted': 4148, 'httptcozjekuj': 9548, 'jg': 10870, 'lokallobaat': 11990, 'ramguha': 16023, 'piece': 15027, 'gopalkrishna': 6440, 'gandhi': 6114, 'httptcowqmsfdz': 9480, 'cleared': 2785, 'wpzqyyb': 21133, 'httpstcoakvrkg': 8381, 'bcb': 1222, 'keralities': 11209, 'httptcoklchl': 9178, 'rbe': 16086, 'verified': 20265, 'legit': 11701, 'doubt': 4294, 'exists': 5161, 'commercial': 3022, 'httptcozccoxq': 9541, 'sbe': 17047, 'hydafnl': 10045, 'lnded': 11947, 'aftr': 232, 'rajeevk': 16009, 'randhirsingh': 16035, 'drgpradhan': 4366, 'upma': 20012, 'branded': 1767, 'itsbl': 10683, 'ndie': 13335, 'casey': 2343, 'httptcozbafkeugya': 9539, 'ncr': 13327, 'fata': 5336, 'firstaid': 5551, 'mjfnlxh': 12814, 'iceinitiative': 10106, 'httptcotpco': 9397, 'kfaj': 11226, 'bobthurman': 1635, 'rajapaksanamal': 16008, 'becomes': 1262, 'selfies': 17234, 'cxqv': 3558, 'ashramindia': 785, 'bapujis': 1119, 'asaram': 775, 'bapu': 1118, 'ashram': 784, 'khndbri': 11248, 'usgsted': 20088, 'httptcoxurmsez': 9509, 'jb': 10804, 'fik': 5476, 'sorry': 17950, 'aiesec': 288, 'exchange': 5138, 'participant': 14450, 'shadowblader': 17343, 'httpstcovdfnjxjbdi': 8446, 'trafflinemum': 19475, 'wearemumbai': 20678, 'mumbaiherit': 13120, 'earthquakeplz': 4584, 'msghelpea': 13068, 'restaurant': 16429, 'accepting': 72, 'httptcowfjcwgnkql': 9470, 'prevent': 15493, 'sichuan': 17542, 'taught': 18785, 'managing': 12294, 'httptcofvxs': 9064, 'xb': 21279, 'el': 4731, 'al': 343, 'jumbo': 11035, 'pm': 15193, 'kil': 11269, 'dheerajgbc': 4011, 'hater': 6875, 'praising': 15394, 'hattsofrss': 6880, 'saffronfirst': 16900, 'mikecorruption': 12715, 'nigel': 13549, 'farage': 5312, 'suggest': 18489, 'mourn': 13003, 'khandekargauri': 11245, 'fantastic': 5309, 'role': 16670, 'spain': 17998, 'disturbing': 4168, 'rising': 16571, 'shelterboxuk': 17404, 'birthday': 1468, 'nicola': 13544, 'hind': 7149, 'lizodell': 11904, 'heared': 6956, 'ohmygod': 13977, 'incline': 10307, 'ear': 4554, 'evn': 5111, 'helpless': 7032, 'olivettachantal': 14021, 'mont': 12921, 'httptcorx': 9354, 'ntndqp': 13786, 'httptcoplddvpzz': 9294, 'varanasi': 20194, 'tvm': 19695, 'arynewsofficial': 773, 'httptcobbzigbp': 8960, 'roadside': 16622, 'httpstcorwc': 8437, 'yh': 21497, 'rj': 16589, 'punechi': 15691, 'hiking': 7131, 'throw': 19156, 'httpstcoej': 8395, 'marcelle': 12343, 'goldleafneonsigns': 6399, 'hjebt': 7188, 'bp': 1735, 'landwardrsrch': 11558, 'telegraph': 18861, 'uofyarchaeology': 19992, 'bjpsudhanrss': 1495, 'appreciating': 670, 'akbar': 336, 'httptcotss': 9402, 'sofnfhtl': 17877, 'thislsamazing': 19108, 'sjz': 17651, 'httptcorgdn': 9338, 'tbo': 18807, 'pzfeed': 15752, 'httptcortdhpmtvgn': 9349, 'jazeeraenglish': 10801, 'httptcodxvnjm': 9017, 'fldtqsbf': 5615, 'httptcoidptno': 9123, 'franklingraham': 5909, 'circulating': 2724, 'leveled': 11739, 'bnipdkq': 1618, 'httptcodw': 9014, 'edpioel': 4657, 'httptcounx': 9430, 'taubah': 18784, 'rileyhalden': 16551, 'httptcogcpc': 9072, 'rub': 16776, 'instance': 10487, 'earthquakegthttptcozv': 4576, 'roxlilj': 16730, 'fsk': 5994, 'bkqp': 1502, 'rioting': 16560, 'cover': 3316, 'actually': 128, 'meaningful': 12502, 'cmofkarnataka': 2873, 'thoseplz': 19117, 'ass': 802, 'socialmedia': 17867, 'prktlykie': 15533, 'heartnews': 6967, 'httptcoipyunrhjtg': 9136, 'airbus': 300, 'imagery': 10216, 'dvaub': 4508, 'htadsh': 7415, 'yk': 21506, 'lordphantom': 12039, 'cheaper': 2568, 'microsoft': 12684, 'range': 16039, 'handicapinternational': 6797, 'stock': 18308, 'kit': 11311, 'httptcofvfy': 9063, 'cai': 2087, 'spokesman': 18073, 'hontour': 7285, 'uswt': 20108, 'fhm': 5453, 'ssmaads': 18146, 'teen': 18856, 'longabsent': 12008, 'noise': 13631, 'cheer': 2581, 'rang': 16038, 'inside': 10463, 'httpstcoxouprwtgtq': 8453, 'pleasedonate': 15155, 'mzcgv': 13201, 'greater': 6549, 'mw': 13175, 'httptcomqed': 9226, 'tj': 19239, 'protection': 15609, 'tornado': 19357, 'httptwitpiccom': 9628, 'nau': 13278, 'swear': 18640, 'trip': 19571, 'mode': 12864, 'drive': 4376, 'somewhere': 17925, 'dodge': 4223, 'tornadowtf': 19393, 'downtown': 4312, 'birmingham': 1465, 'violent': 20361, 'approach': 672, 'httpjmpizlxwf': 7966, 'naijamobs': 13217, 'forest': 5837, 'university': 19937, 'raid': 15985, 'siren': 17616, 'warning': 20571, 'immediately': 10242, 'creepy': 3404, 'hood': 7287, 'tornadohunt': 19369, 'longtrack': 12018, 'white': 20831, 'ga': 6096, 'cycling': 3563, 'jasper': 10795, 'extreme': 5224, 'makeovercloset': 12261, 'alley': 411, 'closet': 2838, 'fridgegenerator': 5956, 'stevegiglio': 18268, 'hate': 6874, 'head': 6933, 'blasted': 1527, 'alarm': 355, 'httptwitvidcomnc': 9631, 'careful': 2264, 'arwx': 772, 'windy': 20945, 'bitch': 1477, 'ride': 16526, 'traumatized': 19513, 'trailer': 19481, 'scrap': 17122, 'yard': 21424, 'alwx': 451, 'driver': 4380, 'forced': 5827, 'httpbitlylu': 7553, 'hcn': 6920, 'issued': 10663, 'refer': 16236, 'roommate': 16692, 'scream': 17129, 'snuck': 17853, 'dark': 3656, 'waytofreakmeout': 20645, 'sherwin': 17428, 'williams': 20925, 'paint': 14354, 'sucking': 18472, 'question': 15896, 'httpfbmetc': 7778, 'rarsm': 16055, 'ussilver': 20100, 'spring': 18100, 'ky': 11468, 'httpowly': 8064, 'dtq': 4457, 'drunk': 4433, 'storm': 18338, 'knoxville': 11372, 'driving': 4392, 'wind': 20935, 'branch': 1765, 'flying': 5714, 'insanity': 10453, 'foodwhen': 5808, 'cari': 2271, 'laughing': 11602, 'loud': 12058, 'kannnd': 11105, 'neighbor': 13385, 'rotation': 16714, 'cell': 2463, 'reception': 16164, 'non': 13645, 'existent': 5159, 'hwy': 10039, 'lawrenceburg': 11619, 'circulation': 2725, 'clay': 2775, 'county': 3299, 'fayettevilletornado': 5353, 'fucked': 6010, 'wash': 20591, 'wo': 21041, 'tornadoquest': 19380, 'katv': 11143, 'reporting': 16369, 'trillgangjack': 19564, 'sick': 17543, 'laugh': 11600, 'fucking': 6014, 'as': 774, 'yell': 21462, 'outta': 14241, 'tuscaloosa': 19688, 'httpwwwyoutubecomwatchv': 9867, 'ohivzizluqfeatureshare': 13976, 'jonacuff': 10964, 'lavender': 11613, 'candle': 2200, 'bawahaha': 1184, 'spotter': 18091, 'ny': 13839, 'sw': 18623, 'rome': 16680, 'colurmebadd': 2979, 'soo': 17934, 'alleged': 403, 'headed': 6934, 'citythese': 2732, 'jussayin': 11051, 'woodfordhumane': 21063, 'versailles': 20276, 'ball': 1082, 'strengthcv': 18381, 'trainer': 19484, 'rope': 16697, 'woke': 21045, 'thunder': 19166, 'lightening': 11805, 'alrams': 432, 'offlaying': 13950, 'scared': 17069, 'josh': 10976, 'forttornado': 5864, 'mirror': 12774, 'trash': 19509, 'porch': 15289, 'couch': 3276, 'pillow': 15049, 'disco': 4111, 'win': 20932, 'ksatweather': 11420, 'approaching': 674, 'backup': 1051, 'northwestern': 13703, 'calhoun': 2109, 'excited': 5139, 'tryna': 19630, 'kml': 11347, 'yall': 21421, 'kno': 11364, 'laid': 11522, 'intense': 10515, 'httpwpmept': 9674, 'seanpatrickmc': 17165, 'mexican': 12642, 'restaraunt': 16427, 'sounded': 17964, 'stuff': 18421, 'winter': 20962, 'hook': 7289, 'pc': 14535, 'donniewahlberg': 4264, 'aunt': 904, 'distroyed': 4166, 'ton': 19327, 'xyrotr': 21406, 'wrendawise': 21156, 'exactly': 5124, 'scarier': 17071, 'thunderstorm': 19167, 'atl': 854, 'wsbtvstorm': 21182, 'brad': 1757, 'nitz': 13577, 'frickin': 5952, 'outbreak': 14217, 'perfect': 14609, 'shitnow': 17457, 'fml': 5724, 'mama': 12277, 'backpack': 1047, 'incase': 10298, 'tak': 18720, 'awayi': 980, 'lit': 11867, 'book': 1669, 'moved': 13011, 'stlouis': 18303, 'cmt': 2877, 'rough': 16719, 'nashville': 13253, 'httpyfrogcomh': 9877, 'igcnj': 10148, 'eugenetattedup': 5035, 'rainwrapped': 16001, 'island': 10653, 'tastelessjoke': 18777, 'shouldhaveeatendinner': 17495, 'enforcement': 4852, 'dickson': 4028, 'along': 429, 'spotted': 18090, 'dunmor': 4488, 'muhlenberg': 13107, 'todd': 19286, 'severestudios': 17309, 'vilonia': 20354, 'ark': 722, 'debris': 3769, 'radar': 15968, 'indicating': 10356, 'toward': 19432, 'usweatherexpert': 20107, 'hurricane': 9976, 'niggatweet': 13556, 'blakkmagikk': 1517, 'imma': 10237, 'somethin': 17918, 'stooopid': 18325, 'httponfbmeendzf': 8049, 'chaser': 2557, 'intercept': 10525, 'thefranklin': 19022, 'curious': 3524, 'gee': 6185, 'bike': 1437, 'walk': 20527, 'sunny': 18520, 'seriously': 17274, 'holy': 7238, 'cow': 3321, 'seeking': 17213, 'amateur': 460, 'daily': 3590, 'httpbitlyjdmnp': 7529, 'piggly': 15039, 'wiggly': 20880, 'owner': 14289, 'eatocracy': 4608, 'cnncom': 2892, 'httpeatocracycnncom': 7739, 'posttornadoapigglywigglyownermakesfoodfreeforall': 15333, 'utknoxville': 20116, 'campus': 2183, 'season': 17175, 'pas': 14465, 'conway': 3209, 'minutesseek': 12768, 'bedif': 1270, 'laundry': 11605, 'position': 15306, 'grade': 6503, 'thinkgeek': 19093, 'promise': 15581, 'close': 2832, 'youll': 21539, 'wheater': 20811, 'mann': 12319, 'flood': 5643, 'warninq': 20584, 'goo': 6412, 'lower': 12081, 'lik': 11815, 'moly': 12883, 'rain': 15990, 'downpour': 4308, 'summit': 18508, 'stayed': 18228, 'httpfbmevwiyhhob': 7781, 'voiceover': 20423, 'amusing': 511, 'late': 11592, 'dreamed': 4356, 'ran': 16031, 'ended': 4837, 'jnholmes': 10916, 'mandieholmes': 12302, 'erronious': 4968, 'alabama': 346, 'sandy': 16965, 'goddard': 6381, 'aaelsoukkary': 6, 'decal': 3776, 'houndstooth': 7347, 'unmistaknbeauty': 19949, 'bet': 1357, 'aint': 293, 'tryin': 19628, 'possibility': 15313, 'associated': 820, 'starkville': 18197, 'lift': 11800, 'safeks': 16894, 'tamutasc': 18754, 'vicinity': 20318, 'madison': 12212, 'httpsw': 8655, 'httpbitlylmggwj': 7551, 'ntsp': 13788, 'considering': 3140, 'abby': 26, 'hide': 7103, 'dude': 4468, 'httpyoutube': 9881, 'ohivzizluq': 13974, 'deck': 3788, 'faithreason': 5281, 'spiritual': 18060, 'httpusatlymfur': 9642, 'chain': 2501, 'brand': 1766, 'roof': 16689, 'totaled': 19408, 'minus': 12766, 'tornadoerr': 19363, 'tornater': 19394, 'awe': 983, 'carshi': 2321, 'mater': 12423, 'tomater': 19308, 'sry': 18144, 'tired': 19228, 'rukavin': 16792, 'yay': 21428, 'rattled': 16071, 'nerve': 13443, 'stl': 18298, 'wpsd': 21131, 'washed': 20592, 'semi': 17241, 'sid': 17545, 'remember': 16316, 'yr': 21561, 'bos': 1692, 'stamp': 18179, 'sec': 17189, 'broke': 1864, 'fam': 5294, 'outsidedef': 14239, 'bell': 1303, 'slightly': 17715, 'paranoid': 14418, 'wowhail': 21121, 'goin': 6389, 'offtornado': 13956, 'aualerttornado': 891, 'auburn': 893, 'cdt': 2446, 'tuned': 19672, 'httptlgda': 9581, 'livingsafely': 11900, 'tx': 19737, 'fuckin': 6013, 'creeping': 3403, 'hell': 7014, 'luck': 12121, 'lastnight': 11590, 'nothing': 13718, 'prob': 15537, 'freaked': 5916, 'benefit': 1314, 'tornadodamaged': 19362, 'alcom': 367, 'httpbitlyiqcoje': 7523, 'hrtrends': 7403, 'followed': 5750, 'rule': 16793, 'itseek': 10684, 'internal': 10536, 'hunker': 9955, 'damagereporters': 3612, 'dc': 3716, 'partying': 14463, 'potus': 15343, 'mind': 12747, 'huh': 9923, 'zealous': 21650, 'cool': 3215, 'newspeople': 13489, 'waff': 20504, 'louis': 12059, 'insane': 10451, 'basement': 1154, 'crap': 3363, 'conservativeind': 3136, 'winndixie': 20955, 'httpdecklyo': 7665, 'zba': 21632, 'linzluvs': 11849, 'bomb': 1655, 'phillyd': 14703, 'httpbitlykzjqxe': 7546, 'artemis': 761, 'pa': 14326, 'suck': 18468, 'drewzuerlein': 4364, 'typical': 19750, 'bradnitzwsb': 1761, 'ditch': 4169, 'kentuckyweather': 11201, 'usual': 20105, 'protocol': 15614, 'warningsis': 20579, 'upto': 20024, 'decide': 3781, 'bristol': 1842, 'abington': 40, 'va': 20159, 'seem': 17214, 'enemy': 4849, 'basketball': 1161, 'goal': 6370, 'tornadowinds': 19391, 'nightfeel': 13558, 'blessed': 1539, 'damageprayers': 3611, 'suffered': 18483, 'worse': 21106, 'wu': 21213, 'johnnygrimes': 10949, 'prayin': 15417, 'httpdecklykhwkn': 7664, 'protractor': 15616, 'pertzfox': 14637, 'angle': 554, 'dpdy': 4317, 'wxbrad': 21246, 'twcbreaking': 19705, 'lambert': 11537, 'lakishajackson': 11532, 'gr': 6493, 'sebastiankole': 17188, 'ispyrw': 10658, 'heaven': 6984, 'performance': 14613, 'mrflexdot': 13052, 'robbed': 16630, 'httpbitlyfira': 7496, 'hamburger': 6775, 'fry': 5992, 'drink': 4373, 'pine': 15055, 'busted': 2013, 'sociallylinked': 17866, 'unified': 19917, 'ala': 344, 'tues': 19660, 'httpjmpmenfii': 7968, 'prayn': 15420, 'dnt': 4212, 'httpbitlymsb': 7561, 'az': 1024, 'abcnewscom': 29, 'washington': 20594, 'contain': 3161, 'httpbitlyjhugla': 7532, 'kellilindon': 11187, 'slept': 17710, 'haha': 6733, 'cumberland': 3511, 'inskok': 10469, 'marquisdonta': 12379, 'tomm': 19314, 'uuhhh': 20135, 'yea': 21445, 'wit': 20986, 'super': 18527, 'apparently': 655, 'chiba': 2616, 'unrelated': 19964, 'omfggggg': 14037, 'stole': 18318, 'eliza': 4762, 'reminds': 16323, 'karma': 11118, 'loop': 12030, 'fiber': 5461, 'diet': 4042, 'poem': 15220, 'abt': 57, 'game': 6112, 'committing': 3028, 'stadium': 18157, 'mets': 12640, 'viable': 20302, 'ignoring': 10159, 'stvnews': 18433, 'ikea': 10189, 'twister': 19725, 'glasgow': 6313, 'httpbitlyinnmhz': 7519, 'gvfx': 6702, 'hometown': 7265, 'torn': 19356, 'prayforvilonia': 15416, 'rossconfide': 16709, 'yeah': 21449, 'walloped': 20539, 'lookin': 12023, 'faith': 5278, 'path': 14489, 'highway': 7128, 'abandoned': 22, 'viawkrgjessica': 20305, 'httpbitlym': 7555, 'fcu': 5375, 'crossing': 3446, 'fredericksburg': 5921, 'richmond': 16518, 'bowling': 1727, 'vawth': 20203, 'terry': 18918, 'copiah': 3234, 'southern': 17976, 'dad': 3581, 'telling': 18871, 'shelteroh': 17414, 'comingnothing': 3014, 'happens': 6823, 'getyashitrite': 6237, 'alabamacouple': 347, 'usd': 20072, 'completely': 3060, 'httpreutrsixwsnp': 8170, 'mercedescls': 12608, 'huncker': 9943, 'grandma': 6520, 'juh': 11028, 'coworker': 3323, 'threw': 19140, 'effective': 4679, 'replacing': 16358, 'httptinyurlcom': 9571, 'themoney': 19044, 'woulda': 21114, 'hella': 7015, 'mad': 12200, 'snatched': 17799, 'nigga': 13553, 'blowin': 1593, 'blunt': 1604, 'damagin': 3613, 'flippin': 5634, 'owned': 14288, 'tornadoat': 19359, 'dadthanks': 3584, 'idiot': 10127, 'shattered': 17383, 'everythingsmfh': 5098, 'hanglider': 6810, 'whitecastle': 20832, 'xrisxtreme': 21365, 'jayjay': 10799, 'wuts': 21221, 'hap': 6818, 'semiferals': 17242, 'cage': 2085, 'sued': 18478, 'winning': 20958, 'jokewell': 10960, 'britters': 1851, 'lmmfao': 11942, 'runnin': 16803, 'tompkins': 19323, 'ithaca': 10675, 'monitor': 12904, 'tvradio': 19698, 'basseyworldlive': 1162, 'onkinda': 14062, 'wreckor': 21153, 'greenbrier': 6563, 'summer': 18505, 'monroe': 12916, 'mercer': 12609, 'tazewell': 18802, 'obscured': 13884, 'pigeon': 15038, 'forge': 5846, 'gatlinburg': 6145, 'jennifer': 10841, 'hale': 6759, 'grizzly': 6595, 'comeback': 2995, 'ashland': 780, 'tidings': 19189, 'httpuxpin': 9645, 'homegrown': 7247, 'pick': 14736, 'cuo': 3516, 'moorseville': 12941, 'mississippi': 12793, 'mswx': 13082, 'thefiretracker': 19020, 'smem': 17757, 'talkd': 18735, 'alga': 387, 'prepared': 15460, 'size': 17643, 'shelterbasemnt': 17402, 'dilemma': 4056, 'indy': 10377, 'starving': 18211, 'crib': 3412, 'whatsoever': 20806, 'dang': 3636, 'damnglad': 3624, 'dodgin': 4224, 'thm': 19113, 'rtseanpatrickmc': 16772, 'tornadogot': 19366, 'mex': 12641, 'restarauntsounded': 16428, 'rokkd': 16668, 'randomness': 16037, 'yup': 21582, 'soror': 17948, 'tellztoochoosey': 18874, 'domy': 4251, 'waste': 20601, 'fulla': 6030, 'chasing': 2559, 'japan': 10786, 'tsunami': 19642, 'redcrossshelter': 16211, 'wheres': 20816, 'notnow': 13729, 'drewhittle': 4363, 'interstate': 10544, 'hot': 7331, 'arkansas': 723, 'paul': 14507, 'barys': 1148, 'distinct': 4154, 'signature': 17560, 'rossville': 16710, 'alam': 353, 'viaw': 20304, 'httpdeckly': 7661, 'matacall': 12417, 'indiana': 10341, 'jones': 10969, 'indicated': 10354, 'northeast': 13690, 'highland': 7116, 'cashier': 2347, 'jackson': 10740, 'co': 2906, 'thanking': 18974, 'pop': 15276, 'ups': 20017, 'running': 16804, 'themeaghan': 19037, 'flip': 5631, 'parked': 14432, 'afraid': 220, 'ohiobut': 13971, 'stilettodiapers': 18286, 'bday': 1233, 'exact': 5123, 'walmart': 20542, 'idea': 10117, 'wont': 21059, 'brumby': 1887, 'undeniabltalnt': 19873, 'gqsmooth': 6490, 'whenever': 20815, 'comin': 3010, 'ion': 10585, 'nun': 13807, 'befo': 1284, 'everythin': 5095, 'shut': 17523, 'mrbitches': 13046, 'sillyso': 17579, 'tornadohaha': 19367, 'shreveport': 17515, 'pushing': 15718, 'touched': 19417, 'kinsportscary': 11302, 'northside': 13701, 'hunstville': 9959, 'moore': 12938, 'meridianville': 12615, 'disrupting': 4149, 'eating': 4607, 'schedule': 17087, 'minitornado': 12761, 'scatter': 17075, 'grantham': 6529, 'upi': 20008, 'fo': 5734, 'httpbitlyiin': 7517, 'strange': 18366, 'severewarn': 17310, 'freestone': 5930, 'navarro': 13281, 'txwx': 19741, 'bounce': 1712, 'notbeatforthisbullshitcom': 13710, 'throughtheres': 19155, 'flippedpower': 5633, 'mee': 12548, 'replyrt': 16363, 'se': 17153, 'stonewall': 18323, 'numerous': 13806, 'downed': 4301, 'shv': 17535, 'maryland': 12395, 'eminent': 4803, 'blithering': 1546, 'moron': 12961, 'laurenmedelen': 11610, 'momcgaughey': 12886, 'tweethese': 19716, 'flipped': 5632, 'dathere': 3670, 'doe': 4227, 'umpteenth': 19847, 'axo': 1014, 'nffj': 13510, 'rapidly': 16049, 'developing': 3975, 'clanton': 2757, 'rockford': 16652, 'eat': 4602, 'chinese': 2648, 'sincerely': 17595, 'onlywhitepeople': 14074, 'manassas': 12296, 'billy': 1448, 'folk': 5746, 'florence': 5691, 'independence': 10334, 'walton': 20546, 'melaniefrommars': 12566, 'son': 17927, 'cqotd': 3341, 'athens': 844, 'clarke': 2765, 'honeyci': 7272, 'jus': 11050, 'spot': 18087, 'goosebump': 6438, 'example': 5129, 'complaining': 3055, 'mimicking': 12744, 'quad': 15874, 'immature': 10239, 'peep': 14574, 'uabnews': 19762, 'rue': 16785, 'severity': 17312, 'remarkable': 16312, 'similar': 17585, 'highspeed': 7125, 'motor': 12983, 'accident': 77, 'rtcasheer': 16759, 'justforannapolis': 11055, 'western': 20767, 'ustream': 20104, 'broadcast': 1857, 'funlls': 6047, 'sweet': 18648, 'arent': 705, 'solucky': 17905, 'aww': 1002, 'mane': 12304, 'fyl': 6089, 'ladyhustler': 11510, 'lockd': 11968, 'pooeyes': 15266, 'effin': 4684, 'watchstorm': 20613, 'smfh': 17758, 'jwelllls': 11074, 'gulp': 6668, 'sucked': 18470, 'possibly': 15315, 'gordon': 6445, 'texas': 18932, 'palo': 14376, 'pinto': 15063, 'sittin': 17627, 'jennings': 10842, 'fuckthis': 6018, 'messin': 12623, 'carsson': 2329, 'tornadoits': 19372, 'jimcantore': 10888, 'photog': 14711, 'owen': 14284, 'evjjj': 5110, 'leesburg': 11684, 'caution': 2398, 'ordering': 14154, 'goshi': 6454, 'chance': 2512, 'crash': 3365, 'freaking': 5918, 'etowah': 5026, 'sonic': 17930, 'stv': 18432, 'httpnewsstvtvscotlandwestcentral': 8029, 'ikeatornadotwisterfilmedinstorecarparknearglasgow': 10190, 'cara': 2239, 'freakin': 5917, 'ef': 4673, 'towera': 19437, 'uprooted': 20016, 'garage': 6120, 'omfg': 14036, 'lunch': 12138, 'yu': 21573, 'aualert': 890, 'besties': 1356, 'blown': 1596, 'bedroom': 1273, 'gate': 6139, 'toplease': 19346, 'somethingclothescanned': 17921, 'foodto': 5799, 'awesome': 985, 'anthonymarco': 600, 'calmest': 2151, 'httpwwwyoutubecomwatchvaijg': 9869, 'hwu': 10038, 'fmfeatureshare': 5723, 'dressed': 4360, 'wrong': 21173, 'uniform': 19918, 'drove': 4407, 'shinin': 17441, 'freepowerwash': 5928, 'jefferson': 10829, 'farm': 5316, 'qmoz': 15822, 'stkmkt': 18297, 'turned': 19683, 'hertz': 7075, 'zdbvmj': 21645, 'vehej': 20239, 'shittyer': 17459, 'james': 10764, 'spann': 18002, 'stephenandrew': 18261, 'dorm': 4286, 'lake': 11524, 'southwest': 17987, 'suburb': 18459, 'nasty': 13255, 'spalding': 17999, 'inching': 10300, 'tlkn': 19257, 'guapamami': 6642, 'jumping': 11038, 'riffy': 16543, 'ripped': 16565, 'cloud': 2846, 'naw': 13286, 'shelterand': 17400, 'gma': 6357, 'singainaband': 17599, 'bleed': 1535, 'theme': 19036, 'music': 13146, 'wearealabama': 20676, 'prayforua': 15415, 'motherearthnews': 12976, 'flush': 5711, 'rachaelray': 15957, 'chorizo': 2671, 'chicken': 2622, 'chili': 2637, 'rach': 15956, 'httprachandmeblogspotcom': 8162, 'tornadotragedyhtmlspreftw': 19388, 'foodblog': 5762, 'spinnin': 18057, 'tornadothen': 19386, 'gourmet': 6463, 'threatening': 19130, 'safest': 16897, 'underground': 19876, 'iwju': 10716, 'milbclubbie': 12722, 'pal': 14367, 'robnbmore': 16646, 'haaayess': 6722, 'straight': 18362, 'bslol': 1899, 'outrunnin': 14234, 'wouldnt': 21115, 'atlol': 859, 'baileyross': 1070, 'tornadoshelter': 19384, 'oneonta': 14056, 'ugh': 19805, 'therefore': 19063, 'elevator': 4750, 'shaft': 17344, 'jmomo': 10914, 'flyingdebris': 5715, 'blairlindsey': 1515, 'bahaha': 1066, 'dropped': 4403, 'wanted': 20555, 'quite': 15915, 'freaky': 5919, 'beccas': 1258, 'becca': 1256, 'txtag': 19740, 'wemaydie': 20751, 'beccamayyyy': 1257, 'ashtonfierce': 786, 'signal': 17559, 'gclimb': 6171, 'operababyd': 14115, 'hurry': 10019, 'hitsin': 7182, 'wth': 21199, 'virginia': 20368, 'stevenagata': 18270, 'sankeijp': 16983, 'httpbitlyfjx': 7497, 'guess': 6650, 'decorate': 3797, 'lately': 11593, 'minding': 12749, 'fussed': 6060, 'cullman': 3507, 'fire': 5519, 'downstairs': 4310, 'threefourteen': 19135, 'tornadovideosnet': 19389, 'stormchaserscom': 18341, 'abusing': 59, 'fqqi': 5895, 'marymeigs': 12396, 'yeahso': 21451, 'robertson': 16638, 'mana': 12288, 'greivisvasquez': 6576, 'watchbut': 20607, 'margo': 12354, 'grizz': 6594, 'daehns': 3585, 'brain': 1762, 'cncoi': 2884, 'brace': 1754, 'atlantaits': 856, 'whoa': 20845, 'erin': 4958, 'factory': 5261, 'refuse': 16254, 'berry': 1343, 'glenn': 6322, 'beck': 1259, 'attractive': 884, 'course': 3307, 'httpbitlyjxxxe': 7539, 'wut': 21220, 'giin': 6272, 'nowhere': 13745, 'justa': 11052, 'blowing': 1595, 'thiz': 19112, 'httptmime': 9595, 'ugnd': 19810, 'peacefulintent': 14554, 'bereadycalhoun': 1328, 'piedmont': 15028, 'imdanyell': 10229, 'wxchris': 21247, 'kmov': 11351, 'melle': 12568, 'mowx': 13022, 'highcountryhost': 7112, 'tnwx': 19270, 'qckl': 15774, 'vawx': 20204, 'qkdp': 15810, 'skinny': 17669, 'brendee': 1813, 'musicofthestars': 13151, 'tornadoas': 19358, 'hitsi': 7181, 'tcc': 18812, 'def': 3812, 'blew': 1541, 'peed': 14572, 'pant': 14391, 'terrrrrrified': 18917, 'lifted': 11801, 'wthrmnslaughter': 21202, 'border': 1684, 'ua': 19761, 'rec': 16153, 'center': 2472, 'opened': 14110, 'counselor': 3287, 'cop': 3229, 'talked': 18736, 'viciousv': 20320, 'aw': 970, 'hedakid': 6994, 'tore': 19354, 'greenville': 6570, 'jonesborough': 10970, 'johnson': 10951, 'mph': 13028, 'buffalo': 1929, 'hunkered': 9956, 'gathering': 6143, 'httpinstagrampdjomb': 7929, 'httpbitlyjtpzme': 7537, 'twelve': 19718, 'pileup': 15046, 'destructive': 3952, 'ripping': 16566, 'kitten': 11315, 'smart': 17742, 'httpplixicomp': 8145, 'erath': 4951, 'dublin': 4464, 'waited': 20511, 'bar': 1120, 'savetherobot': 17033, 'minor': 12764, 'pix': 15087, 'httpgooglpzoec': 7846, 'advised': 187, 'desk': 3933, 'wen': 20752, 'havin': 6889, 'hmwk': 7207, 'cadiz': 2078, 'canton': 2214, 'southside': 17982, 'blocton': 1577, 'wilton': 20931, 'montevallo': 12924, 'alabaster': 350, 'hitting': 7184, 'justjoshnu': 11064, 'hahaha': 6736, 'madea': 12207, 'heeell': 6997, 'thermal': 19067, 'immed': 10240, 'escaped': 4980, 'weatherbird': 20688, 'stlwx': 18304, 'tweed': 19709, 'daamn': 3578, 'keyboard': 11220, 'tushka': 19690, 'hmm': 7199, 'trippin': 19573, 'nope': 13665, 'insult': 10502, 'marsdablackman': 12383, 'af': 202, 'damged': 3616, 'lolacts': 11993, 'productive': 15559, 'class': 2766, 'prove': 15623, 'casually': 2356, 'chat': 2560, 'telly': 18873, 'bearing': 1245, 'httpwimpcomcasuallychats': 9669, 'laptop': 11568, 'kday': 11164, 'georgewardpark': 6211, 'sponserd': 18077, 'bham': 1391, 'nupesbring': 13808, 'changed': 2520, 'oil': 13985, 'cristialyse': 3426, 'alyse': 452, 'au': 889, 'alerttornado': 375, 'trilljones': 19567, 'leggo': 11698, 'tommyinbama': 19318, 'bfe': 1372, 'lay': 11625, 'lowlying': 12089, 'ravine': 16076, 'danelle': 3635, 'met': 12628, 'lived': 11882, 'znfm': 21717, 'saidits': 16902, 'raining': 15998, 'nq': 13763, 'moma': 12885, 'wrk': 21169, 'eastern': 4597, 'mclean': 12477, 'ohio': 13970, 'allegan': 401, 'windscape': 20941, 'landscaping': 11556, 'tuesda': 19661, 'httpbitlyklf': 7543, 'dz': 4543, 'chesterfield': 2608, 'mall': 12273, 'midwest': 12701, 'reedtimmertvn': 16229, 'tommessner': 19315, 'jrl': 11005, 'salem': 16918, 'adoption': 168, 'monday': 12895, 'gloucester': 6346, 'pearlfektjeans': 14562, 'uc': 19776, 'foodim': 5772, 'clement': 2790, 'wagepills': 20506, 'httpjmplozu': 7967, 'reminded': 16320, 'wide': 20871, 'minites': 12760, 'direction': 4077, 'dey': 3984, 'warningy': 20583, 'beatn': 1250, 'true': 19606, 'pac': 14328, 'indented': 10333, 'hole': 7230, 'trunck': 19618, 'stormbirdpoopaintgotnothinonme': 18339, 'ericpullett': 4954, 'sky': 17676, 'rode': 16660, 'studio': 18418, 'trained': 19483, 'trendy': 19542, 'andor': 533, 'irc': 10613, 'likeaboss': 11817, 'poeticarson': 15221, 'drivin': 4391, 'vorladdidaddi': 20440, 'myallure': 13187, 'smfhsavagelife': 17759, 'deposited': 3895, 'ebt': 4624, 'card': 2256, 'httpdlvritqd': 7723, 'pump': 15686, 'woken': 21046, 'bathroom': 1171, 'suppose': 18554, 'myasu': 13189, 'sheltersmh': 17417, 'wakemed': 20520, 'pboz': 14531, 'mess': 12619, 'cheeseburger': 2583, 'soleb': 17896, 'estone': 5009, 'crank': 3361, 'piersmorgan': 15035, 'iv': 10704, 'pierstonight': 15036, 'lhfh': 11759, 'slid': 17713, 'seat': 17180, 'cuzzin': 3545, 'ohhh': 13969, 'shyt': 17539, 'innerepicbeauty': 10443, 'hed': 6993, 'lmaoo': 11931, 'survive': 18593, 'logan': 11981, 'cleveland': 2792, 'hunkering': 9957, 'roomie': 16691, 'fayetteville': 5352, 'easter': 4596, 'although': 443, 'wedding': 20707, 'beach': 1237, 'scott': 17113, 'easy': 4601, 'mtown': 13092, 'wet': 20774, 'bhambarons': 1393, 'canned': 2207, 'diaper': 4023, 'formula': 5858, 'baron': 1141, 'httpfbmelmr': 7766, 'vtbn': 20471, 'alton': 444, 'anderson': 529, 'decatur': 3778, 'trinity': 19569, 'liked': 11818, 'httpyoutubeoijtul': 9891, 'zma': 21711, 'carolina': 2289, 'asleep': 797, 'jenniemcghie': 10840, 'toyota': 19448, 'plant': 15126, 'huntsville': 9967, 'johnlepp': 10947, 'httpdecklyaksni': 7662, 'crobinson': 3435, 'dawg': 3688, 'racing': 15961, 'granddaddy': 6517, 'fooz': 5823, 'ilchase': 10196, 'mooch': 12932, 'command': 3015, 'wwwilchaseorg': 21244, 'freak': 5915, 'tornadostorm': 19385, 'sought': 17957, 'fulfill': 6027, 'fetish': 5433, 'receiving': 16161, 'requesting': 16382, 'oauk': 13870, 'httpwwwonlyatukcomindexphprequestlikeid': 9816, 'tweeted': 19715, 'httpbitlyhonb': 7510, 'table': 18702, 'theskelly': 19069, 'dank': 3648, 'raleigh': 16013, 'blowincg': 1594, 'shuts': 17525, 'saint': 16906, 'guard': 6646, 'kyempio': 11472, 'httpmylocmejr': 8013, 'za': 21617, 'double': 4292, 'session': 17288, 'httpfbmeiclixpnh': 7761, 'tommy': 19317, 'evans': 5069, 'httpgooglfbvbogp': 7833, 'bonding': 1659, 'dinner': 4064, 'adult': 175, 'craziness': 3379, 'katiegray': 11138, 'blow': 1590, 'monsoon': 12919, 'monster': 12920, 'truth': 19624, 'cqgar': 3338, 'lola': 11992, 'setup': 17297, 'calling': 2147, 'nc': 13307, 'restroom': 16440, 'den': 3861, 'rather': 16062, 'tornadoproof': 19378, 'either': 4720, 'charging': 2543, 'ipad': 10589, 'camped': 2169, 'roomtornado': 16693, 'sometime': 17923, 'effing': 4685, 'calm': 2150, 'wood': 21060, 'capable': 2218, 'producing': 15556, 'honestly': 7270, 'clevelandtn': 2793, 'muffuggas': 13103, 'bullshit': 1950, 'parkway': 14439, 'stacyspencer': 18156, 'canceled': 2195, 'memphis': 12587, 'magic': 12225, 'invincible': 10573, 'turbo': 19678, 'stunt': 18427, 'multifunctional': 13113, 'lunar': 12137, 'httpbitlydttvfb': 7492, 'shopping': 17481, 'andreamichele': 534, 'cedartown': 2455, 'rileymcilwain': 16552, 'thatim': 18996, 'iubloomington': 10702, 'everyday': 5091, 'tstorm': 19640, 'watchand': 20606, 'iffs': 10140, 'oak': 13864, 'general': 6192, 'wellons': 20744, 'uh': 19811, 'maumelle': 12437, 'httpbitlyh': 7506, 'mothernature': 12979, 'cawm': 2405, 'easily': 4591, 'tossed': 19402, 'wheeler': 20814, 'comingkind': 3013, 'itwas': 10699, 'licking': 11781, 'fairfield': 5274, 'ct': 3484, 'shxt': 17537, 'abrams': 47, 'amused': 509, 'drabtshirt': 4331, 'vortex': 20441, 'bowie': 1725, 'realla': 16134, 'bra': 1751, 'ron': 16685, 'thundertornado': 19168, 'messed': 12621, 'newowner': 13468, 'central': 2475, 'httpdlvritpwyjp': 7721, 'bn': 1615, 'tcot': 18816, 'iwebslogcom': 10713, 'declares': 3792, 'httplmytringquakf': 7982, 'popular': 15285, 'txt': 19739, 'sayin': 17042, 'missmariellane': 12795, 'doride': 4285, 'coke': 2943, 'can': 2184, 'twisteringa': 19726, 'athensga': 845, 'pollen': 15251, 'eijikun': 4715, 'alberta': 362, 'pizza': 15090, 'loc': 11959, 'leland': 11707, 'ctr': 3491, 'midam': 12688, 'tuscaloosatime': 19689, 'digging': 4051, 'lex': 11741, 'imscared': 10283, 'godbless': 6379, 'ibachphoto': 10096, 'stanford': 18188, 'eagle': 4550, 'chawx': 2563, 'cancelled': 2197, 'dtallmusic': 4451, 'lacrosse': 11500, 'practice': 15385, 'unt': 19976, 'thehonorablej': 19028, 'chilton': 2645, 'hall': 6767, 'crampingmystyle': 3359, 'sexy': 17317, 'umbrellaellaellaeheh': 19843, 'httpowlydeqg': 8072, 'httpw': 9660, 'earorgradarkindbr': 4563, 'htm': 7416, 'kemp': 11193, 'parking': 14434, 'thanksmoweather': 18979, 'pell': 14577, 'lincoln': 11833, 'vdeo': 20220, 'dunn': 4489, 'iphone': 10595, 'httpbitlyhgkglq': 7507, 'dumbestdadever': 4478, 'crawl': 3374, 'nowtornado': 13751, 'bathtub': 1172, 'waterfood': 20621, 'golf': 6402, 'spun': 18108, 'feelinggood': 5411, 'yuh': 21576, 'skyhigh': 17679, 'teaparty': 18838, 'httpbitlyj': 7527, 'rzqf': 16860, 'receipt': 16157, 'lvgirl': 12157, 'broom': 1875, 'wizard': 20995, 'oz': 14314, 'realized': 16131, 'railroad': 15988, 'conductor': 3102, 'pg': 14672, 'pulling': 15684, 'middle': 12691, 'rillitamichelle': 16553, 'umbrella': 19842, 'anyway': 625, 'glass': 6314, 'warninghelp': 20574, 'xaviersilas': 21274, 'yeeeeaaaabitch': 21460, 'bullet': 1946, 'fair': 5272, 'sam': 16939, 'findthetornado': 5504, 'err': 4965, 'jonathonww': 10968, 'birminghamal': 1466, 'jessondeck': 10857, 'snack': 17789, 'httptruncitg': 9610, 'zcz': 21643, 'marine': 12357, 'calmly': 2152, 'directly': 4079, 'unreal': 19963, 'ftkk': 6002, 'toddstarnes': 19288, 'alexsturgill': 384, 'touching': 19419, 'httpbitlyjjoz': 7534, 'worktornado': 21091, 'heresupposed': 7065, 'amstuck': 503, 'themanderson': 19034, 'headphone': 6943, 'contently': 3171, 'rained': 15993, 'mamacarmens': 12278, 'lem': 11709, 'sitchoassdwn': 17624, 'fulton': 6033, 'izard': 10725, 'sharp': 17379, 'bleep': 1537, 'tkbadd': 19247, 'terre': 18902, 'haute': 6884, 'grab': 6494, 'hahabut': 6734, 'lightning': 11810, 'awning': 1000, 'er': 4946, 'awww': 1004, 'complex': 3062, 'shred': 17514, 'technically': 18847, 'totally': 19410, 'capemberton': 2222, 'fifteenth': 5469, 'behavior': 1292, 'warn': 20568, 'arizonapetsaregreat': 720, 'chase': 2556, 'abilene': 39, 'marleekattler': 12375, 'kksanderson': 11334, 'indigo': 10363, 'frequently': 5943, 'automotive': 939, 'httpbitlyiqiul': 7524, 'sever': 17305, 'warningthey': 20580, 'mortgagecars': 12966, 'hardworkstart': 6843, 'manee': 12305, 'thiss': 19109, 'niggahss': 13555, 'hungryy': 9954, 'boudda': 1704, 'somee': 17912, 'melly': 12569, 'passat': 14473, 'danakincom': 3630, 'httpdanakincomp': 7659, 'flooding': 5657, 'nwa': 13828, 'nearby': 13347, 'secondly': 17193, 'tht': 19162, 'background': 1045, 'wtvajwatson': 21209, 'coffeeville': 2931, 'nowlikely': 13747, 'melthagreatest': 12574, 'toto': 19415, 'electricity': 4741, 'regency': 16261, 'ballroom': 1087, 'httpdecklys': 7666, 'simonjclebon': 17587, 'gale': 6106, 'werent': 20760, 'bumpy': 1956, 'graceoc': 6500, 'famfriendsrt': 5296, 'dwntwn': 4521, 'bhamal': 1392, 'sullivan': 18500, 'winchester': 20934, 'weatherevents': 20691, 'weatherglasgow': 20692, 'httpbitlyiom': 7521, 'bz': 2062, 'observer': 13887, 'montgomery': 12925, 'commuter': 3038, 'mc': 12462, 'hair': 6750, 'hfqx': 7081, 'graham': 6510, 'paused': 14512, 'rabbit': 15950, 'iamfatmac': 10086, 'lexingtonians': 11744, 'praisenworkout': 15393, 'exit': 5162, 'ringgold': 16556, 'httpwxchnlmu': 9873, 'ka': 11092, 'cincinnatimuseumcenter': 2712, 'comfy': 3006, 'nascarnoll': 13250, 'flytimes': 5718, 'cookout': 3213, 'singing': 17602, 'allegedly': 404, 'kaidavid': 11094, 'lowkey': 12088, 'brandon': 1768, 'transformer': 19492, 'cabell': 2069, 'expired': 5189, 'ambitiousambz': 468, 'documentary': 4222, 'netflix': 13446, 'lee': 11683, 'geminitwin': 6190, 'spoofyrandomnes': 18081, 'bothered': 1699, 'marshfield': 12384, 'webster': 20704, 'funnel': 6048, 'ozarks': 14317, 'bruh': 1884, 'ttowns': 19652, 'mrlongisland': 13054, 'celldebarge': 2465, 'itasca': 10670, 'tight': 19194, 'produce': 15552, 'involvedtruedat': 10580, 'uah': 19763, 'httpbitlyeyb': 7495, 'rockingham': 16654, 'httpbitlyg': 7499, 'qf': 15790, 'wisdom': 20975, 'xd': 21290, 'baseball': 1150, 'nmm': 13601, 'sheridanw': 17422, 'swooped': 18668, 'substantial': 18456, 'clothing': 2845, 'ersle': 4971, 'ikup': 10192, 'aaaaahhhhh': 2, 'todaysthv': 19285, 'httpbitlyhsejhxwatchv': 7511, 'ohivzizluqfeatureplayerembedded': 13975, 'grounded': 6605, 'useless': 20080, 'crussgam': 3463, 'outtuscaloosa': 14244, 'httpyoutubet': 9894, 'fhtg': 5455, 'vety': 20285, 'millington': 12738, 'cmdydva': 2866, 'sqcomgvseqy': 18117, 'bill': 1441, 'meck': 12525, 'borrow': 1691, 'alerta': 372, 'preddydreadhead': 15436, 'manimascoto': 12313, 'camcorder': 2160, 'hop': 7295, 'worldstar': 21097, 'ugakerri': 19802, 'siucoachharlows': 17634, 'glencoe': 6319, 'chapel': 2535, 'nice': 13535, 'ladieslovejaye': 11502, 'wkrgjessica': 21013, 'thankful': 18969, 'hubby': 9907, 'humor': 9942, 'swoop': 18667, 'httptumblrcomxuo': 9613, 'aocm': 631, 'texan': 18931, 'started': 18201, 'spinning': 18058, 'held': 7010, 'onto': 14086, 'steering': 18252, 'wheel': 20813, 'eachother': 4547, 'killerstorms': 11276, 'scariest': 17072, 'fayette': 5351, 'lagrange': 11521, 'qci': 15773, 'httpsodaheadcompoll': 8328, 'lindale': 11836, 'euharlee': 5036, 'kingston': 11299, 'goto': 6458, 'hve': 10032, 'cynthiaeden': 3570, 'monicaburns': 12903, 'tammy': 18749, 'rmbklyn': 16613, 'nayapointblank': 13290, 'sweep': 18646, 'brooklyn': 1874, 'shrug': 17518, 'lmxolol': 11944, 'bsadkins': 1895, 'suckd': 18469, 'replied': 16360, 'test': 18925, 'oven': 14248, 'sooooo': 17941, 'chilln': 2643, 'thinkn': 19097, 'baltimore': 1089, 'airy': 320, 'westminster': 20769, 'weird': 20728, 'bicycle': 1412, 'sqcomeghjbd': 18116, 'carrt': 2307, 'stillconn': 18288, 'cted': 3486, 'miskisseyface': 12779, 'ryan': 16847, 'welch': 20730, 'attn': 882, 'oba': 13872, 'gsa': 6626, 'sanroc': 16985, 'cay': 2408, 'httpfbmeq': 7776, 'xaxntf': 21276, 'beyond': 1369, 'httpbitlyjpg': 7536, 'rx': 16839, 'bmatt': 1609, 'encounter': 4830, 'lie': 11784, 'flat': 5609, 'covered': 3318, 'booksniffer': 1672, 'forreal': 5860, 'protects': 15610, 'steeltornado': 18248, 'becoming': 1263, 'httpbitlyjwhsdo': 7538, 'maam': 12190, 'msdeeyah': 13064, 'cave': 2401, 'irritates': 10635, 'gawk': 6152, 'bridgeton': 1825, 'wv': 21227, 'fitness': 5572, 'darn': 3659, 'sleeping': 17706, 'bag': 1060, 'yoga': 21518, 'mat': 12416, 'izzysroses': 10729, 'sighted': 17557, 'beside': 1346, 'bostonffl': 1696, 'drumfreak': 4431, 'uhhh': 19816, 'univ': 19934, 'filming': 5487, 'brave': 1774, 'darwinism': 3662, 'iye': 10722, 'lovely': 12072, 'towel': 19435, 'quiseoame': 15914, 'robot': 16647, 'breakingweather': 1795, 'riding': 16540, 'httpsocliazawo': 8327, 'oakman': 13865, 'parrish': 14446, 'cordova': 3246, 'sipsey': 17614, 'rvqu': 16829, 'wrapped': 21142, 'mcrae': 12483, 'marrylerchant': 12382, 'theboxicologyst': 19008, 'nublueyankee': 13796, 'snake': 17791, 'tmoneytx': 19263, 'boxing': 1729, 'httpbitlyma': 7556, 'chriscarter': 2678, 'yfrogcomh': 21491, 'gmxwzj': 6365, 'yfrogcomgz': 21490, 'lvqzj': 12159, 'chris': 2675, 'whaaaatttt': 20799, 'missterray': 12798, 'sheeeeeeeeeesh': 17388, 'upside': 20020, 'damnwhoz': 3627, 'playing': 15143, 'drum': 4430, 'visible': 20372, 'lorian': 12041, 'tenn': 18890, 'couplet': 3305, 'searcy': 17170, 'griffithville': 6585, 'inbound': 10293, 'drunkass': 4434, 'standin': 18184, 'screamin': 17131, 'prof': 15561, 'rude': 16783, 'moley': 12881, 'troydb': 19597, 'unbelievable': 19858, 'httponfbmejyndfv': 8050, 'motorama': 12984, 'bimmerchat': 1451, 'auto': 932, 'manny': 12324, 'mikedriehorst': 12716, 'charles': 2548, 'weldon': 20734, 'dwqi': 4522, 'wayne': 20643, 'drash': 4346, 'tornadoravaged': 19381, 'survival': 18591, 'httponcnncomlcprtt': 8047, 'twcbreakingdamaged': 19706, 'cbs': 2421, 'steal': 18242, 'httpgooglfb': 7826, 'cwxj': 3554, 'gym': 6715, 'peck': 14567, 'siue': 17635, 'tweeps': 19712, 'charlottesville': 2551, 'cincinnati': 2711, 'shoal': 17464, 'buying': 2030, 'dique': 4072, 'raging': 15981, 'pickup': 14739, 'hardly': 6840, 'msstate': 13079, 'sillybe': 17578, 'natewilliams': 13259, 'needing': 13372, 'hopecaferaleigh': 7297, 'atrocious': 866, 'shelterbuilding': 17405, 'forevernaomi': 5843, 'lifetime': 11798, 'waterspout': 20632, 'fiu': 5576, 'truestory': 19608, 'ruined': 16790, 'strategy': 18371, 'steves': 18273, 'meganpickle': 12557, 'dent': 3869, 'prladykenetta': 15534, 'chuckdiesel': 2697, 'offered': 13942, 'sit': 17623, 'mesorry': 12618, 'hoodnews': 7288, 'rttodaysthv': 16774, 'secondary': 17192, 'hanover': 6815, 'prim': 15506, 'cushman': 3535, 'pierdajefe': 15033, 'nowno': 13749, 'bradleycountytn': 1759, 'bradley': 1758, 'accidentsaccidental': 80, 'porn': 15291, 'shopsmagic': 17482, 'hangover': 6811, 'pillsuncapped': 15051, 'tank': 18761, 'warningsand': 20577, 'kentucky': 11199, 'senior': 17256, 'will': 20920, 'mic': 12670, 'baylor': 1188, 'cooollllll': 3220, 'httpwxchnlid': 9872, 'kucc': 11443, 'twice': 19720, 'dumb': 4476, 'formed': 5854, 'tornadohuntif': 19370, 'nowimmediate': 13746, 'sb': 17045, 'finnally': 5517, 'hearin': 6957, 'definitely': 3818, 'ambzy': 472, 'greeneville': 6566, 'tracked': 19459, 'greene': 6564, 'countyoo': 3301, 'wxmanshane': 21251, 'sh': 17337, 'httpdecklyaooug': 7663, 'anywhere': 627, 'rachelgodley': 15959, 'luckily': 12122, 'bunch': 1958, 'httpyfrogcomgz': 9876, 'maintenance': 12248, 'fixed': 5581, 'segway': 17221, 'capitalweather': 2228, 'anne': 579, 'arundel': 768, 'httpwapostidovai': 9663, 'davidson': 3685, 'annoying': 589, 'lvdmorethncrrts': 12156, 'ahhh': 277, 'carconvertible': 2255, 'bug': 1932, 'observing': 13889, 'attm': 881, 'watchn': 20612, 'spongebob': 18076, 'rerun': 16388, 'cmin': 2871, 'dwn': 4520, 'ithnk': 10677, 'everythnq': 5099, 'juan': 11019, 'smoke': 17770, 'flyyestgirl': 5719, 'sisterinlaw': 17620, 'smashed': 17751, 'gspy': 6630, 'trelgotmlaughin': 19537, 'mite': 12803, 'insensitive': 10462, 'ticker': 19180, 'tape': 18766, 'closing': 2840, 'bingo': 1456, 'softball': 17878, 'purse': 15712, 'sweetmarie': 18650, 'cute': 3540, 'furry': 6057, 'httpwwwnecncom': 9806, 'tornadoscutefurryrefugeescometonewlandinghomeandfamilyhtmlblockid': 19383, 'feedid': 5401, 'lighting': 11808, 'urec': 20037, 'christian': 2686, 'locked': 11970, 'stockroom': 18314, 'target': 18767, 'scooter': 17104, 'internet': 10540, 'inaugural': 10290, 'quality': 15883, 'gun': 6671, 'barrell': 1145, 'veher': 20240, 'nah': 13214, 'ohioit': 13972, 'experienced': 5182, 'henryetta': 7049, 'weleeka': 20735, 'tornadowarned': 19390, 'strengthening': 18383, 'esiu': 4987, 'spilled': 18053, 'medicinesdrugsflammable': 12538, 'liquidspotentially': 11855, 'hazardous': 6902, 'dispose': 4143, 'properlyal': 15595, 'httpfbmezjdeza': 7794, 'wayit': 20642, 'closely': 2835, 'kingsport': 11298, 'twd': 19708, 'blountvillebristol': 1589, 'wear': 20675, 'helmet': 7023, 'golfball': 6403, 'cyclone': 3565, 'wigsandkeys': 20881, 'larry': 11578, 'busch': 2004, 'jason': 10793, 'rosenbaum': 16701, 'httpjmpfwuvza': 7965, 'breakroom': 1796, 'svrwxchaser': 18621, 'afb': 207, 'littlerock': 11878, 'talladaga': 18743, 'speedway': 18035, 'degree': 3823, 'trac': 19455, 'extended': 5210, 'ballwin': 1088, 'keem': 11174, 'hapi': 6819, 'ure': 20036, 'eatin': 4606, 'knw': 11374, 'wtch': 21197, 'tnk': 19266, 'ryt': 16855, 'crossd': 3444, 'warningsabout': 20576, 'coma': 2981, 'markthompsontv': 12373, 'interviewing': 10548, 'consistent': 3141, 'stormstornado': 18348, 'weatherman': 20694, 'bagsnob': 1064, 'talkendo': 18737, 'hailstormtornado': 6748, 'delaware': 3828, 'oomf': 14093, 'laurenagrigg': 11609, 'lowbudget': 12080, 'kywx': 11479, 'confused': 3113, 'mlptornado': 12833, 'tinaalva': 19214, 'partybrit': 14462, 'topekametrokdot': 19344, 'false': 5292, 'overpass': 14264, 'usagov': 20054, 'zaksr': 21624, 'ksstorms': 11429, 'comforting': 3005, 'uofmemphis': 19989, 'uofm': 19988, 'shelby': 17393, 'immediatelyno': 10244, 'sturdy': 18431, 'nap': 13237, 'rtjonacuff': 16768, 'involvedhahaha': 10579, 'checked': 2573, 'lounge': 12061, 'fort': 5861, 'experiencing': 5184, 'expecting': 5175, 'sort': 17951, 'letdown': 11729, 'neighborstheir': 13389, 'washing': 20593, 'comesitll': 2998, 'ndangerdbeauti': 13331, 'outrun': 14233, 'tornadolol': 19375, 'native': 13271, 'tribe': 19551, 'stunning': 18426, 'eyewitness': 5237, 'mswise': 13081, 'gaap': 6097, 'begun': 1291, 'mabank': 12191, 'gretchen': 6577, 'jen': 10834, 'pouring': 15350, 'picasso': 14732, 'syrins': 18690, 'cray': 3376, 'ultra': 19840, 'hunterrscott': 9964, 'cuddle': 3499, 'cmckenz': 2865, 'prov': 15622, 'suddenly': 18475, 'liw': 11901, 'wild': 20883, 'httpwwwlifewithdogstv': 9791, 'dogssurvivewildrideintornado': 4240, 'nigelbugger': 13550, 'thankfully': 18971, 'tks': 19250, 'caring': 2274, 'pple': 15372, 'michaelnolan': 12675, 'httpsylyvq': 8911, 'workout': 21088, 'sugar': 18487, 'obesity': 13876, 'fit': 5569, 'carbs': 2249, 'fitting': 5574, 'spanish': 18001, 'storyboard': 18355, 'union': 19923, 'pattern': 14502, 'henderson': 7045, 'davy': 3687, 'noted': 13714, 'robards': 16629, 'meganwymt': 12558, 'whitley': 20839, 'gatliff': 6144, 'hancock': 6789, 'warren': 20587, 'sparta': 18009, 'bereolaesque': 1330, 'enjoyed': 4874, 'nsw': 13780, 'mws': 13178, 'pro': 15535, 'httpbitlyewx': 7494, 'httpbitlymioyvk': 7558, 'fundrasor': 6041, 'lsx': 12112, 'dry': 4436, 'questioning': 15897, 'judgement': 11022, 'ima': 10214, 'pissed': 15068, 'dammit': 3620, 'shell': 17395, 'itsmh': 10687, 'academy': 63, 'sport': 18084, 'collect': 2960, 'nonperishable': 13651, 'nhn': 13524, 'mikey': 12717, 'thou': 19118, 'tornadoor': 19377, 'mike': 12712, 'aayyee': 19, 'jp': 10993, 'callmeeduardo': 2148, 'bruhh': 1885, 'whirlwind': 20824, 'needingahappymedian': 13373, 'bahhh': 1069, 'rxcwej': 16840, 'weaver': 20698, 'clairmont': 2754, 'talladega': 18744, 'httpbitlykfy': 7541, 'fp': 5890, 'nascar': 13249, 'nailed': 13219, 'httptumblrcomxhj': 9611, 'aieul': 289, 'stair': 18168, 'puppy': 15698, 'smooth': 17780, 'lane': 11559, 'swag': 18624, 'closest': 2837, 'connors': 3129, 'flashflashlight': 5603, 'breakingnewsresidents': 1794, 'birminghamalabama': 1467, 'oklahoma': 13998, 'bus': 2003, 'supaque': 18526, 'eliter': 4761, 'dpearlz': 4319, 'apolloqreed': 648, 'dogcant': 4231, 'play': 15135, 'tornadoright': 19382, 'shelterlol': 17413, 'mzdaryiun': 13202, 'boutthatlife': 1720, 'smdgirl': 17754, 'enjoying': 4875, 'cleaned': 2779, 'calliestarnes': 2146, 'engine': 4860, 'poplar': 15279, 'confirmation': 3108, 'horse': 7318, 'yikes': 21502, 'moored': 12939, 'huntland': 9966, 'hytop': 10061, 'cape': 2220, 'ah': 272, 'icant': 10103, 'httpfbmej': 7762, 'vsq': 20467, 'vh': 20295, 'therealcliffyb': 19058, 'separate': 17265, 'gear': 6183, 'beta': 1358, 'tor': 19350, 'vilomia': 20353, 'tvamy': 19694, 'httppingfmtmqd': 8142, 'locoxcom': 11973, 'autism': 928, 'postponed': 15329, 'httpfbmef': 7758, 'rvso': 16830, 'dam': 3607, 'dive': 4172, 'sunfire': 18515, 'bff': 1373, 'calleda': 2145, 'destroying': 3948, 'busting': 2015, 'machinesilly': 12197, 'lovemypinky': 12073, 'httpbitlyjfchjp': 7530, 'agovernment': 257, 'vivalajuicy': 20386, 'urheartzdezyr': 20047, 'swvawx': 18671, 'pumping': 15687, 'dv': 4507, 'azm': 1028, 'httpbitlyhlmtme': 7509, 'welcome': 20731, 'lauren': 11608, 'lexington': 11743, 'random': 16036, 'river': 16581, 'bridge': 1823, 'tornadoi': 19371, 'endrt': 4843, 'metor': 12634, 'riverviewpeople': 16587, 'interstatetrapped': 10545, 'opphoto': 14130, 'michigan': 12679, 'hmmm': 7200, 'wztv': 21267, 'newsroom': 13492, 'httpfbmemzu': 7769, 'cnvl': 2905, 'rolled': 16672, 'kevinpowell': 11218, 'welp': 20748, 'mister': 12801, 'fux': 6066, 'packin': 14337, 'stealing': 18243, 'nxt': 13837, 'funniest': 6049, 'angry': 556, 'sistur': 17622, 'ugly': 19809, 'cbreezi': 2418, 'stopped': 18329, 'quiet': 15908, 'warningwatch': 20582, 'imhittindiana': 10233, 'princesscindyp': 15514, 'chargerso': 2542, 'wthe': 21201, 'ruby': 16781, 'packed': 14334, 'wed': 20706, 'busterespn': 2014, 'jessicaayers': 10856, 'spartanburg': 18010, 'lcnorris': 11638, 'steph': 18259, 'whoucallnabitch': 20855, 'zombie': 21723, 'fallout': 5290, 'goodrtviewofadam': 6423, 'alabamapolice': 348, 'neighborhood': 13386, 'russellville': 16816, 'modelbehavior': 12866, 'chasin': 2558, 'rlly': 16604, 'harrisburgh': 6856, 'frederick': 5920, 'magnetic': 12227, 'damm': 3619, 'coworkers': 3324, 'depot': 3896, 'needle': 13374, 'wondering': 21057, 'jennafryer': 10838, 'clinton': 2822, 'oslrj': 14189, 'pilot': 15052, 'haleyville': 6761, 'twcjerdman': 19707, 'crass': 3368, 'oy': 14307, 'potomaclocal': 15341, 'quanticomtc': 15885, 'madisyn': 12214, 'honey': 7271, 'actionalabama': 118, 'guest': 6652, 'speaker': 18015, 'bro': 1855, 'sisinlaw': 17618, 'emer': 4792, 'vitaminp': 20384, 'spawning': 18011, 'designate': 3928, 'wfaaweather': 20781, 'qqzil': 15852, 'httpextendedweatherforecastextendedstay': 7748, 'comtornadovictimtommyevansliked': 3076, 'douchytombrady': 4296, 'ihope': 10172, 'rennaisance': 16336, 'dmcordelljust': 4201, 'garagenow': 6122, 'walker': 20529, 'sizerob': 17645, 'gurganus': 6680, 'httpbitlyihlzlz': 7514, 'creeeeb': 3400, 'acting': 113, 'airplane': 311, 'koogs': 11386, 'homenowplease': 7254, 'piled': 15045, 'thrown': 19158, 'httpwwwtwitvidcomd': 9847, 'hnk': 7211, 'order': 14150, 'deliver': 3841, 'blacked': 1510, 'discussing': 4125, 'wine': 20946, 'cellar': 2464, 'staying': 18231, 'sheltered': 17406, 'empty': 4822, 'anjelicbeauty': 570, 'forming': 5857, 'sacred': 16878, 'inefficient': 10379, 'wolfchase': 21048, 'lockdown': 11969, 'backroom': 1049, 'croatia': 3434, 'mem': 12578, 'hazel': 6904, 'boat': 1627, 'snapaholic': 17793, 'wyf': 21262, 'dirtbikelol': 4083, 'bigkrits': 1427, 'cat': 2359, 'cradle': 3353, 'zanesvilleill': 21629, 'atlanta': 855, 'mcdonough': 12469, 'barnesville': 1140, 'clayton': 2776, 'henry': 7047, 'cried': 3414, 'shared': 17373, 'biscuit': 1471, 'toy': 19447, 'fkxd': 5591, 'ayeliljodie': 1020, 'ogbanks': 13959, 'lobby': 11958, 'afternoon': 230, 'dealership': 3752, 'surprise': 18578, 'httpbitlyhkvyy': 7508, 'ummm': 19845, 'chamber': 2507, 'dumpster': 4483, 'illinois': 10202, 'pierron': 15034, 'jamestown': 10766, 'rtbreakingnews': 16758, 'positive': 15308, 'negative': 13378, 'asi': 788, 'visitor': 20377, 'lmaol': 11930, 'ryae': 16846, 'wuj': 21216, 'noon': 13661, 'damaging': 3614, 'overturned': 14270, 'arhomes': 710, 'damagedstate': 3610, 'warningtime': 20581, 'httptumblrcomxzp': 9614, 'aplqu': 645, 'nearing': 13350, 'echo': 4627, 'lowest': 12085, 'lvl': 12158, 'done': 4261, 'engagement': 4856, 'worth': 21112, 'subaru': 18438, 'sally': 16925, 'wrecked': 21150, 'rainsville': 16000, 'tornadodamag': 19361, 'httpyhooitjvxli': 9879, 'thebluetusk': 19007, 'substitute': 18457, 'included': 10309, 'reference': 16238, 'memom': 12584, 'crisp': 3425, 'relieve': 16297, 'tension': 18893, 'stressful': 18387, 'nuclear': 13797, 'vet': 20279, 'kairi': 11096, 'yellin': 21464, 'swea': 18639, 'lls': 11926, 'laghin': 11518, 'lawddd': 11616, 'sunshine': 18525, 'warningmay': 20575, 'ariheart': 717, 'pendleton': 14580, 'tornadojust': 19373, 'alot': 431, 'decision': 3786, 'taco': 18706, 'choice': 2660, 'suchaklassact': 18467, 'lmbo': 11934, 'effed': 4681, 'wme': 21025, 'ithell': 10676, 'hatleyms': 6878, 'kristopherrob': 11415, 'weak': 20671, 'evil': 5107, 'ene': 4848, 'eufaula': 5033, 'poo': 15265, 'motherfucker': 12977, 'push': 15715, 'domino': 4250, 'bye': 2052, 'fucken': 6011, 'rent': 16337, 'bbm': 1213, 'saddest': 16884, 'afford': 214, 'raleighniggas': 16014, 'rob': 16628, 'lion': 11850, 'rentacenter': 16339, 'nephew': 13440, 'fortunately': 5866, 'rented': 16341, 'uhaul': 19812, 'rental': 16340, 'picking': 14738, 'throwing': 19157, 'matchbox': 12420, 'ohh': 13968, 'gd': 6176, 'jeez': 10825, 'beast': 1247, 'woof': 21065, 'pet': 14643, 'httpbitlygptq': 7502, 'rcdog': 16092, 'rva': 16826, 'northernva': 13697, 'metrodc': 12637, 'yardinches': 21425, 'operating': 14117, 'reasonable': 16144, 'outdoors': 14223, 'shelterif': 17409, 'facedown': 5253, 'protected': 15607, 'fmmh': 5726, 'nawwtt': 13287, 'soto': 17956, 'iliveonahill': 10197, 'viparis': 20364, 'paid': 14352, 'longer': 12009, 'httpdecklyxw': 7667, 'xe': 21294, 'lone': 12004, 'score': 17107, 'nite': 13575, 'blame': 1518, 'imy': 10285, 'nevr': 13455, 'charger': 2541, 'granted': 6528, 'pwr': 15737, 'tfmtweets': 18946, 'hpu': 7392, 'crazytweet': 3381, 'ohatcheesouthside': 13967, 'upset': 20018, 'paulo': 14509, 'evidence': 5105, 'layer': 11626, 'emokidsloveme': 4812, 'wouldve': 21116, 'httpbitlygfzrls': 7500, 'ann': 575, 'hmph': 7203, 'somethingadumbasswouldtweet': 17920, 'eek': 4669, 'bchoobgiselle': 1224, 'immediatelyin': 10243, 'tub': 19657, 'mattress': 12433, 'bluff': 1603, 'beat': 1249, 'redfield': 16218, 'goodgrief': 6417, 'shakingi': 17356, 'weatherbeen': 20687, 'vdo': 20224, 'saban': 16867, 'alabam': 345, 'httpespnjwifwd': 7747, 'vtqij': 20475, 'heed': 6996, 'volleyball': 20429, 'httptwitgoocom': 9627, 'kriegsturmer': 11409, 'wracking': 21140, 'tornadoflashlights': 19365, 'bottled': 1701, 'fridge': 5955, 'needcoffee': 13367, 'mikeyhollywood': 12718, 'eh': 4702, 'period': 14618, 'robbing': 16632, 'solefullreal': 17898, 'chattanooga': 2561, 'recibo': 16167, 'esto': 5008, 'httpbitlyixgejk': 7525, 'wholefoods': 20851, 'wholefoodsbham': 20852, 'healthy': 6949, 'jyox': 11087, 'warningsclay': 20578, 'putnam': 15723, 'vigo': 20342, 'httpbitlyegb': 7493, 'trumpcalderon': 19612, 'avoided': 964, 'huzzah': 10029, 'aerobatic': 200, 'lxsp': 12170, 'httpbitlyjmxgig': 7535, 'hershe': 7073, 'downprayedthe': 4309, 'windowsbumper': 20939, 'knocked': 11366, 'onlygod': 14068, 'lambertairport': 11538, 'stlone': 18301, 'brightspot': 1832, 'grandkid': 6519, 'pasture': 14483, 'funnyjust': 6052, 'tornadowould': 19392, 'cottonr': 3275, 'episode': 4930, 'tiv': 19233, 'samchampion': 16944, 'heatherripley': 6977, 'ctfu': 3487, 'gurlrt': 6683, 'honeydajiore': 7273, 'jacket': 10734, 'blanketlimited': 1522, 'shelteradmission': 17398, 'frankfort': 5906, 'albany': 360, 'investigating': 10567, 'versus': 20278, 'pedestrian': 14569, 'httpbitlyknuk': 7545, 'nanih': 13235, 'waiya': 20518, 'mattschuh': 12435, 'indefinitely': 10332, 'pinebluff': 15056, 'fat': 5335, 'der': 3906, 'cook': 3210, 'driveway': 4389, 'kelkel': 11184, 'heck': 6991, 'shaaaaaaady': 17338, 'twindian': 19722, 'smell': 17755, 'hike': 7130, 'puttin': 15724, 'asks': 796, 'dealer': 3750, 'spin': 18055, 'tornadopuns': 19379, 'gotstyles': 6459, 'benzyily': 1324, 'tornadoauburn': 19360, 'nowwhat': 13753, 'httpfbmepul': 7775, 'fngu': 5730, 'aka': 334, 'shelterthis': 17419, 'mixxie': 12811, 'chillin': 2640, 'severeweather': 17311, 'invitecottage': 10576, 'rtalbassoon': 16757, 'ominous': 14039, 'drill': 4371, 'preparation': 15458, 'readymeans': 16118, 'murphy': 13139, 'clearing': 2786, 'lolol': 11995, 'townhouse': 19443, 'dancerraz': 3633, 'talkin': 18739, 'pleasant': 15151, 'soscaredoftornadoes': 17955, 'moe': 12875, 'iswear': 10667, 'cum': 3510, 'diz': 4183, 'blu': 1598, 'paolofurini': 14396, 'sqcomlnwspn': 18119, 'bouta': 1718, 'jazzytoosnazzy': 10802, 'nojoke': 13632, 'department': 3877, 'dailyyomiuri': 3597, 'luvelyladi': 12151, 'ovum': 14279, 'foolishly': 5813, 'sqcomhqy': 18118, 'dm': 4200, 'forbidbut': 5825, 'betta': 1361, 'hellwell': 7022, 'yaself': 21426, 'playalol': 15137, 'dbell': 3708, 'kissesofhoney': 11310, 'httpyoutubeaxr': 9883, 'pt': 15653, 'rwka': 16835, 'sean': 17163, 'present': 15478, 'tivmp': 19234, 'enterprise': 4890, 'httpbitlylvotrs': 7554, 'arab': 692, 'mitzi': 12808, 'johngatlin': 10943, 'tornadothunderstorm': 19387, 'extraordinaire': 5221, 'however': 7376, 'buyin': 2029, 'aurz': 908, 'evident': 5106, 'mayflower': 12449, 'gbpf': 6163, 'wanting': 20556, 'tkdwolf': 19248, 'decided': 3782, 'landed': 11545, 'valuable': 20178, 'solid': 17899, 'lespy': 11723, 'mtb': 13087, 'chicopee': 2627, 'arrived': 750, 'gpjp': 6480, 'ummmm': 19846, 'wuz': 21226, 'gunfight': 6672, 'ninja': 13572, 'attack': 869, 'angiehuggins': 553, 'hallway': 6772, 'cartersville': 2335, 'shelterthe': 17418, 'wayturn': 20646, 'onthese': 14084, 'messwithmetornado': 12625, 'hornjimmie': 7311, 'itd': 10673, 'lame': 11539, 'agussert': 269, 'destroy': 3946, 'govtworksforme': 6473, 'rtchildersryan': 16760, 'lav': 11612, 'embracer': 4789, 'horrid': 7314, 'dallas': 3604, 'grabbed': 6495, 'pink': 15059, 'nickiminaj': 13540, 'cd': 2432, 'surfin': 18572, 'fool': 5811, 'pittmans': 15076, 'traveler': 19516, 'httpbitlyihsra': 7515, 'dawwgg': 3689, 'lookiin': 12022, 'goody': 6428, 'tupelo': 19675, 'lock': 11967, 'rider': 16532, 'swept': 18654, 'forgot': 5849, 'signed': 17561, 'reliefugh': 16296, 'grandpa': 6523, 'harold': 6852, 'pitch': 15072, 'pounding': 15347, 'eb': 4611, 'screeching': 17132, 'burke': 1982, 'caldwell': 2099, 'mcdowell': 12470, 'catawba': 2367, 'alexander': 376, 'fwd': 6076, 'hueytown': 9912, 'concord': 3090, 'grove': 6609, 'shelt': 17396, 'livinglegendoo': 11899, 'liking': 11822, 'waking': 20523, 'meant': 12504, 'fix': 5580, 'sian': 17541, 'mum': 13118, 'pmarti': 15194, 'mebe': 12519, 'hang': 6807, 'craziest': 3378, 'amber': 465, 'cravin': 3371, 'foodmy': 5781, 'listenin': 11864, 'wise': 20976, 'realize': 16130, 'friggin': 5965, 'chop': 2669, 'ballnever': 1084, 'soaponaropebut': 17857, 'httpfbmezw': 7796, 'dyq': 4537, 'carshouses': 2323, 'complains': 3056, 'wdf': 20665, 'ahaha': 273, 'charged': 2540, 'jail': 10754, 'hoped': 7298, 'fill': 5482, 'tractor': 19462, 'filled': 5483, 'windsthanks': 20944, 'garbage': 6123, 'endistayon': 4839, 'nash': 13251, 'conduit': 3103, 'woodland': 21064, 'hugehail': 9921, 'moretornadowarnings': 12952, 'laurelhall': 11607, 'stormhit': 18342, 'reclaim': 16173, 'fourlegged': 5885, 'httpbitlydkwgtb': 7491, 'flooded': 5652, 'carpretty': 2298, 'fastest': 5332, 'tornadoesnot': 19364, 'kansa': 11107, 'anymore': 621, 'moco': 12861, 'granny': 6525, 'older': 14010, 'pulaski': 15680, 'euthanized': 5047, 'httpfbmeemweee': 7757, 'cocoon': 2924, 'stlcardsstlwx': 18300, 'glued': 6354, 'computer': 3071, 'witnessing': 20993, 'significant': 17562, 'unfold': 19898, 'fuckery': 6012, 'rtsnapaholic': 16773, 'foodhelp': 5770, 'weareoneamericanfamily': 20679, 'jamming': 10772, 'ksmiithers': 11427, 'sudden': 18474, 'occurs': 13909, 'upstairs': 20021, 'bath': 1168, 'yd': 21440, 'gentsi': 6202, 'expanding': 5169, 'moneymakinb': 12899, 'wway': 21233, 'stormtrack': 18351, 'atkinson': 853, 'burgaw': 1974, 'immediatly': 10245, 'sudley': 18476, 'discombobulated': 4112, 'insideoutlambertairport': 10464, 'hiya': 7186, 'whatevers': 20802, 'quickly': 15905, 'jc': 10811, 'shelteragain': 17399, 'gov': 6464, 'perdue': 14607, 'secures': 17201, 'declaration': 3789, 'press': 15482, 'rel': 16280, 'httpbitlyguws': 7505, 'curb': 3520, 'scurred': 17144, 'hjs': 7189, 'swim': 18657, 'locker': 11971, 'hba': 6908, 'crayon': 3377, 'niggah': 13554, 'arriooooo': 747, 'trav': 19514, 'brooke': 1869, 'gump': 6670, 'wreck': 21148, 'zumbatornado': 21758, 'allhave': 412, 'scaredgod': 17070, 'burgawwathawallace': 1975, 'ohmygosher': 13978, 'mrcummings': 13047, 'nj': 13578, 'httpbitlyjc': 7528, 'mvr': 13173, 'takeshelter': 18726, 'missouri': 12796, 'byebyeservice': 2053, 'so': 17854, 'dana': 3629, 'gary': 6128, 'cannalte': 2206, 'insight': 10465, 'steelreinforced': 18247, 'httpbitlyllhomw': 7550, 'httpdlvritq': 7722, 'gpq': 6482, 'perishable': 14621, 'yotrinity': 21533, 'fake': 5282, 'silly': 17577, 'plain': 15116, 'httppostimpwmsuc': 8153, 'caseyree': 2345, 'zalma': 21626, 'donttrythis': 4273, 'swarm': 18632, 'jamies': 10769, 'horn': 7309, 'honking': 7279, 'moewx': 12876, 'disasteraverted': 4096, 'stalkerjo': 18175, 'caca': 2074, 'willis': 20929, 'auxilio': 948, 'yummy': 21579, 'freshener': 5946, 'ahoy': 281, 'actual': 127, 'pd': 14541, 'predominantly': 15443, 'wishing': 20982, 'squadup': 18125, 'lolyo': 11999, 'distance': 4152, 'tooserious': 19338, 'allifulmer': 413, 'knowit': 11370, 'spit': 18061, 'macon': 12199, 'shuqualak': 17522, 'riddled': 16525, 'moversseek': 13014, 'lawn': 11617, 'trout': 19596, 'meadow': 12497, 'cicichristina': 2705, 'yeaa': 21446, 'skipped': 17671, 'gwinnett': 6707, 'goodness': 6421, 'liability': 11767, 'filed': 5479, 'httpbitlygra': 7503, 'youu': 21550, 'blowed': 1591, 'redicolous': 16220, 'royal': 16732, 'comfort': 3001, 'zerobeta': 21662, 'sweetthat': 18652, 'torpedo': 19396, 'mon': 12892, 'springsseek': 18102, 'badlydressed': 1057, 'arkies': 724, 'suit': 18495, 'wiped': 20968, 'catoosa': 2383, 'mcdonalds': 12468, 'weve': 20779, 'navarre': 13280, 'rebar': 16145, 'stat': 18213, 'watchesshe': 20609, 'hilarious': 7133, 'pee': 14571, 'ihatetornadoes': 10165, 'ottawa': 14204, 'ishouldgotobednow': 10648, 'tried': 19559, 'mpr': 13035, 'kellaaaaayyy': 11186, 'smvance': 17785, 'tessrock': 18924, 'aadlerz': 5, 'whitesboro': 20836, 'cnclld': 2883, 'supp': 18542, 'cascading': 2341, 'elli': 4768, 'kaufman': 11145, 'van': 20183, 'zandt': 21628, 'jtbruschi': 11013, 'jendelgadocnn': 10835, 'puryear': 15714, 'httptumblrcomxqm': 9612, 'db': 3703, 'acworth': 131, 'warningbut': 20572, 'makennah': 12260, 'bandy': 1101, 'httpbitlyliwkra': 7549, 'wierdest': 20876, 'bulebundas': 1941, 'thompson': 19116, 'grate': 6536, 'profolios': 15569, 'hanging': 6808, 'ultimate': 19839, 'lucecannonn': 12119, 'mouth': 13008, 'soidc': 17884, 'scottmcpartland': 17115, 'subway': 18460, 'unlikely': 19944, 'httpbitly': 7486, 'vbycfm': 20211, 'httpaolit': 7466, 'wirz': 20974, 'zachary': 21619, 'dearing': 3757, 'timeline': 19205, 'ex': 5122, 'headlight': 6938, 'hoop': 7292, 'amtrak': 506, 'buckleup': 1919, 'dailyfinance': 3594, 'httpbufflyssx': 7631, 'hiring': 7164, 'career': 2263, 'attor': 883, 'usda': 20073, 'guideline': 6656, 'httpbitlyyjwlqs': 7618, 'houston': 7362, 'matthew': 12431, 'putin': 15721, 'corporate': 3258, 'harvey': 6862, 'surfer': 18571, 'sandys': 16974, 'wave': 20638, 'httpowlyema': 8074, 'lose': 12046, 'httpstwittercommarkmobilitystatus': 8569, 'sidenote': 17549, 'bf': 1370, 'shivering': 17461, 'httpfbmewhncampy': 7785, 'televangelist': 18866, 'joel': 10930, 'olsteen': 14028, 'megachurch': 12555, 'httpdlvritpjl': 7706, 'rye': 16853, 'httpdlvrit': 7670, 'dvx': 4515, 'delayed': 3830, 'staple': 18191, 'generator': 6194, 'alcohol': 366, 'strongest': 18406, 'atlantic': 857, 'excused': 5147, 'absence': 50, 'tomorrowso': 19322, 'memy': 12588, 'httpwwwktbbcompostp': 9786, 'pictwittercometqhvvfnuh': 14795, 'httpdlvritpjvypdpictwittercomxemoq': 7712, 'kamt': 11102, 'evacuee': 5063, 'gynasium': 6716, 'pictwittercom': 14746, 'zz': 21779, 'rgzzcd': 16504, 'killa': 11272, 'httpstwittercomabc': 8487, 'houstonstatus': 7370, 'grave': 6539, 'vacate': 20161, 'bahamas': 1067, 'named': 13227, 'hsistrand': 7408, 'httpbitlyxzlsei': 7614, 'drug': 4428, 'gert': 6224, 'handover': 6804, 'sex': 17315, 'festival': 5432, 'common': 3030, 'vszlpp': 20469, 'nokia': 13633, 'ceo': 2480, 'stephen': 18260, 'elop': 4772, 'aim': 291, 'midtown': 12699, 'manhattan': 12308, 'httpdthingsv': 7738, 'tpzh': 19453, 'jetski': 10863, 'disappointed': 4092, 'katrina': 11141, 'recha': 16166, 'marathon': 12341, 'carsand': 2313, 'accidentally': 78, 'httpsacbeeamvd': 8177, 'sheriff': 17423, 'warrant': 20586, 'httpwwwakokosblogcom': 9687, 'sheriffsaysthosewithwarrantsshouldhtmlpictwittercoml': 17426, 'lgknrwij': 11753, 'riiiiiiiight': 16549, 'drowned': 4410, 'tofu': 19291, 'geeze': 6188, 'httpstwittercomianbremmerstatus': 8534, 'homelessness': 7251, 'harder': 6836, 'httpowlyerirn': 8081, 'bullringbash': 1949, 'tax': 18792, 'weakespecially': 20672, 'ignorant': 10155, 'foolish': 5812, 'httpdlvritpjwm': 7714, 'digital': 4053, 'maketingpictwittercomspvpdcddr': 12264, 'nrg': 13769, 'espn': 4992, 'qwxzmezjv': 15932, 'staten': 18219, 'httpqgs': 8159, 'vyaf': 20493, 'jerseycity': 10851, 'prestorm': 15485, 'barreling': 1144, 'coast': 2911, 'httpadflyea': 7456, 'closure': 2841, 'suspension': 18609, 'oem': 13935, 'httpbitlysbzzlo': 7575, 'httpoutsidein': 8062, 'toddler': 19287, 'drew': 4362, 'trump': 19611, 'httpthehillcomblogsblogbriefingroomnews': 9566, 'trumpsignswallofshelterforhurricanevictims': 19616, 'prep': 15455, 'mittstormtips': 12807, 'enable': 4827, 'demolish': 3857, 'housing': 7361, 'httptlgdjqe': 9582, 'revenge': 16479, 'himmmmm': 7146, 'slaved': 17697, 'distribution': 4163, 'package': 14332, 'salad': 16911, 'alligator': 414, 'httpstwittercomdawnkopeckistatus': 8520, 'niallofficial': 13530, 'voter': 20446, 'category': 2375, 'irma': 10623, 'drowns': 4412, 'httponktlacomoovev': 8054, 'ktla': 11433, 'jim': 10886, 'bakker': 1078, 'judgment': 11025, 'urge': 20040, 'doomsday': 4279, 'httpwwwhuffingtonpostcomentryjimbakkerhurricanedoomsdayfoodus': 9774, 'ddncidengmodushpmg': 3731, 'ate': 842, 'shoreive': 17485, 'ice': 10104, 'amendment': 477, 'httpinstagramprv': 7932, 'cdlkkq': 2439, 'httpsreutrs': 8353, 'waiu': 20515, 'helper': 7028, 'temp': 18878, 'bean': 1241, 'rice': 16513, 'nicely': 13536, 'reheat': 16274, 'hurricanharvey': 10018, 'imminent': 10251, 'httpfbme': 7751, 'gqd': 6485, 'sxxb': 18677, 'cruise': 3457, 'potentially': 15339, 'opening': 14113, 'gullible': 6667, 'delivery': 3845, 'mechanicsburg': 12522, 'httpbitlyv': 7593, 'pictwittercomfez': 14799, 'kswjy': 11431, 'falsely': 5293, 'served': 17279, 'httpwwwwesternjournalismcomphotofalselyclaimsobamaservedfoodhurricaneharveyvictimsutmsourcetwitterutmmediumposttopsharingbuttonsutmcontent': 9861, 'utmcampaignwebsitesharingbuttons': 20119, 'lori': 12040, 'note': 13713, 'trangfox': 19488, 'capacity': 2219, 'sandycenpa': 16967, 'httpifttt': 7873, 'tug': 19663, 'roseville': 16704, 'sacramento': 16877, 'arrest': 745, 'jeff': 10827, 'httpstwittercomcopineconestatus': 8518, 'unsunghero': 19974, 'hurricaneharvey': 9980, 'duped': 4494, 'httpswwwwesternjournalismcomphotofalselyclaimsobamaservedfoodhurricaneharveyvictims': 8887, 'frankenstorm': 5905, 'stormtossed': 18350, 'thriller': 19143, 'slipping': 17719, 'coastguard': 2914, 'httpwwwamazoncomslippingthecablebillschweigartdp': 9694, 'refsr': 16248, 'ieutf': 10136, 'qid': 15801, 'keywordsslippingthecable': 11223, 'frostynj': 5984, 'semistar': 17244, 'httpreutrs': 8169, 'erhgkopictwittercomy': 4952, 'ffc': 5438, 'uhkp': 19817, 'cheese': 2582, 'curd': 3522, 'extinct': 5215, 'etf': 5015, 'coas': 2910, 'httpbitlyva': 7594, 'carsales': 2310, 'httpsrepokarcomblog': 8352, 'carsaleswillriseaftertheharveyhurricaneendswazauuhop': 2312, 'mtwitter': 13095, 'sholoteoter': 17470, 'justfood': 11054, 'mustang': 13160, 'usedcar': 20076, 'pictwittercomspykr': 14945, 'owqa': 14291, 'skaphy': 17653, 'type': 19747, 'normally': 13676, 'whistleblower': 20830, 'httpwhistleblowerjeffblogspotcom': 9666, 'hurricaneharveylikelytodestroymorehtml': 9986, 'est': 4999, 'monetary': 12897, 'addressing': 151, 'solace': 17887, 'pictwittercomw': 14984, 'sohfk': 17882, 'disintegrating': 4134, 'httpjalopnikcomwatchhowterrifyinghurricaneharveywasfrominsidea': 7959, 'polk': 15248, 'httponktvbcom': 8055, 'gmbhrwpictwittercomgog': 6360, 'fhwdg': 5457, 'hurricaneflooding': 9979, 'manage': 12289, 'starthave': 18204, 'spaghetti': 17995, 'sauce': 17019, 'junior': 11041, 'cheesecake': 2584, 'pq': 15377, 'evan': 5067, 'keepupwithkay': 11180, 'cough': 3277, 'realdonaldtrump': 16122, 'gouging': 6462, 'gasoline': 6136, 'advantage': 178, 'climatechange': 2804, 'httpfreebeaconcomissueshurricaneworseharveyhittexasamericansdrovecarsutmsourcefreedommailutmcampaign': 7809, 'emailcampaign': 4782, 'utmmediumemailutmterm': 20121, 'ea': 4544, 'previous': 15498, 'lbv': 11634, 'tze': 19758, 'unfortunately': 19903, 'muxjem': 13166, 'huffpost': 9915, 'httpsapplenewsavqxashlnqgelbpswvmqyg': 8193, 'pantry': 14394, 'rfimwquc': 16496, 'timara': 19200, 'mentioned': 12600, 'shelf': 17394, 'stable': 18153, 'flashlight': 5606, 'battery': 1178, 'responsible': 16424, 'self': 17231, 'ralphs': 16017, 'supermarket': 18536, 'httpdlvritpjr': 7708, 'retail': 16444, 'aspanlink': 799, 'arlington': 727, 'httpwwwaspanorgewshtml': 9698, 'candidate': 2199, 'oxygen': 14305, 'deprivation': 3900, 'asylum': 839, 'mapledoping': 12336, 'httpcutawayclothingbigcartelcomproducthaymarketmapleprogram': 7656, 'httpwwwfacebookcomaspanorg': 9752, 'delmarva': 3847, 'peninsula': 14581, 'typically': 19751, 'sting': 18291, 'excuse': 5146, 'servant': 17277, 'httpstwittercompolkcosheriffstatus': 8604, 'antiprice': 608, 'los': 12044, 'angeles': 549, 'prtw': 15638, 'spca': 18012, 'amazon': 463, 'httpswwwamazoncomhzwishlistls': 8671, 'kzkbgyjv': 11482, 'httpstwittercomjoeylaurenadamsstatus': 8547, 'nonemergency': 13649, 'poisoning': 15231, 'eff': 4674, 'trucker': 19602, 'mvow': 13170, 'deported': 3894, 'enjoy': 4873, 'httpgoogllgjny': 7841, 'decides': 3783, 'drown': 4409, 'goodhearted': 6418, 'frightened': 5966, 'falcon': 5284, 'nswo': 13781, 'kzze': 11485, 'shelterare': 17401, 'facade': 5248, 'normal': 13675, 'buzzfeednews': 2033, 'httpstwittercomiwebstatus': 8538, 'convenient': 3195, 'pictwittercomhcvqliidoi': 14818, 'httpwwwopposingviewscomisocialpicturereportedlyshowingobamaservingfoodafterhurricaneharveyactually': 9817, 'houstonarea': 7363, 'koi': 11381, 'njnationalguard': 13582, 'contamination': 3167, 'sfd': 17322, 'northjersey': 13698, 'handankle': 6791, 'cuffsflashlight': 3503, 'winesanitary': 20949, 'richard': 16515, 'branson': 1771, 'httpmoneycnncom': 8003, 'newsrichardbransonhurricaneirmaindexhtml': 13491, 'kysportsradio': 11476, 'lonely': 12006, 'bronx': 1867, 'hurricaineharvey': 9973, 'patrol': 14499, 'ycicca': 21437, 'tsx': 19645, 'shuttered': 17529, 'bear': 1242, 'httpbitlyxlrte': 7603, 'stiletto': 18285, 'iq': 10603, 'hawk': 6895, 'twat': 19704, 'httpstwittercomnbcnewsstatus': 8585, 'racking': 15967, 'wale': 20525, 'welsh': 20750, 'httpbitlyxndz': 7606, 'waterproof': 20630, 'drgnkiller': 4365, 'flowing': 5703, 'nfl': 13512, 'cancellation': 2196, 'fhttpswwwgooglecomampwwwcarbuzzcomamparticleaspx': 5456, 'fy': 6086, 'namehurricaneharveydestroysnearlyonemillioncars': 13228, 'weeeee': 20718, 'edge': 4647, 'heyfind': 7080, 'daystalk': 3700, 'ronmeister': 16687, 'httpinstagramprymeur': 7946, 'vg': 20289, 'reutersthevenot': 16473, 'httpsusatly': 8649, 'xnqeut': 21340, 'usatoday': 20057, 'httpbitlysoft': 7581, 'immigrant': 10247, 'racism': 15962, 'homie': 7266, 'dropping': 4404, 'sometimes': 17924, 'gulf': 6666, 'wate': 20614, 'svtcc': 18622, 'pictwittercomvjeg': 14976, 'httpbitlyxtdvez': 7610, 'realbad': 16120, 'httpsfinancialnewsdisclosurewordpresscom': 8237, 'hurricaneharveylikelytodestroymorecarsthankatrinathisisbadrealbad': 9985, 'httpsyoutubeqj': 8918, 'bmk': 1611, 'masonic': 12402, 'ingleside': 10413, 'bh': 1387, 'rq': 16739, 'inhabitat': 10419, 'httpinhabitatcomnychowtofindthehurricanesandyshelterclosesttoyou': 7881, 'thinkdevgrow': 19091, 'hurricanesandynyctimesquarefunnyinstagoodinstam': 10011, 'httpinstagramprx': 7938, 'bjxk': 1497, 'criticizedbut': 3432, 'itmore': 10681, 'httpstwittercombreaking': 8501, 'status': 18225, 'httpowlyh': 8086, 'eldk': 4736, 'denial': 3862, 'warming': 20565, 'owe': 14283, 'climate': 2801, 'change': 2517, 'billionaire': 1446, 'necker': 13361, 'httpwwwfoxbusinesscommarkets': 9760, 'billionairebransontorideouthurricaneirmaonneckerislandhtml': 1447, 'bend': 1312, 'httpsbuffly': 8203, 'vjbz': 20391, 'jpictwittercomuknhilhdim': 10999, 'batten': 1173, 'hatch': 6873, 'httpyfrogcomgya': 9875, 'lovj': 12078, 'httpbitlyr': 7566, 'soq': 17946, 'jonathanshia': 10967, 'cohen': 2938, 'httpinstagramprwcaxgnekz': 7933, 'tl': 19251, 'delay': 3829, 'tlkin': 19256, 'sharnelle': 17378, 'lr': 12101, 'parkview': 14438, 'debate': 3765, 'teacher': 18829, 'httparkansasmatterscomfulltextnxdid': 7471, 'halloween': 6771, 'haunting': 6883, 'httpwwwcockyboyscommovietourtrailerphpid': 9734, 'impossible': 10271, 'jamaica': 10759, 'osteen': 14191, 'profiting': 15568, 'congregation': 3118, 'scum': 17143, 'httpstwittercomjamesritch': 8541, 'pf': 14665, 'liar': 11769, 'huffpostmedia': 9917, 'submerged': 18448, 'nextan': 13505, 'shingle': 17440, 'ripple': 16567, 'httpwwwautonewscomarticle': 9705, 'supplychainsawaitharveyrippleeffectsutmsourcedlvritutmmediumtwitter': 18547, 'autonews': 943, 'nypictwittercom': 13847, 'aue': 901, 'raft': 15975, 'bih': 1434, 'fl': 5592, 'xpff': 21351, 'gpictwittercomqrzr': 6479, 'bph': 1737, 'tramp': 19487, 'hyped': 10056, 'avoiding': 965, 'httpdlvritpkkplkpictwittercomzdbjigenwu': 7717, 'seatbelt': 17181, 'wyd': 21261, 'httpstwittercomlittlelobbyistsstatus': 8562, 'smhrt': 17760, 'therealmikedean': 19060, 'tear': 18839, 'seamless': 17162, 'httpblogseamlesscom': 7624, 'hurricanesandyseamlessfoodordering': 10012, 'wgc': 20793, 'prepper': 15467, 'sht': 17519, 'nonpreppers': 13652, 'hurting': 10022, 'viytlt': 20388, 'glaalxpictwittercomntduxrynhs': 6308, 'spending': 18042, 'putting': 15725, 'necessity': 13358, 'sheer': 17391, 'stupidity': 18429, 'rating': 16064, 'httpnydnus': 8038, 'wqou': 21137, 'zacharydearing': 21620, 'texasstrong': 18938, 'rockporttx': 16656, 'heartwtexas': 6972, 'pictwittercombif': 14762, 'bitu': 1484, 'httpfreebeaconcomissueshurricaneworseharveyhittexasamericansdrovecars': 7808, 'foodsafety': 5787, 'floodsafety': 5667, 'httpstwittercomusdafoodsafetystatus': 8635, 'lmaooooo': 11932, 'purposely': 15708, 'proceeded': 15544, 'harley': 6845, 'charlatan': 2547, 'abandoning': 23, 'boggles': 1643, 'mayor': 12451, 'nutter': 13818, 'phila': 14693, 'superintendent': 18535, 'hite': 7174, 'ffglt': 5440, 'httpsyoutube': 8912, 'sxye': 18678, 'httpwwwdailymailcouknewsarticle': 9736, 'mothershoutsinterviewerhoustonshelterlivetvhtmlv': 12980, 'ait': 322, 'bussed': 2011, 'againanyone': 235, 'mass': 12404, 'alicitabrennan': 389, 'httpwwwthewireorgaustorydetailaspxid': 9841, 'viral': 20365, 'xcr': 21288, 'ue': 19791, 'corelogic': 3249, 'threatens': 19131, 'slowmoving': 17730, 'httpbitlyxmmie': 7604, 'mortgage': 12965, 'worked': 21083, 'sand': 16959, 'iamthatguynate': 10094, 'thatlol': 18999, 'atetebra': 843, 'coulter': 3283, 'disease': 4127, 'foodsthe': 5794, 'soaked': 17856, 'xypqx': 21404, 'jl': 10903, 'sengarypeters': 17254, 'lease': 11668, 'vws': 20488, 'pontiac': 15262, 'silver': 17581, 'dome': 4246, 'terrorizes': 18915, 'httptruepunditcomvideohurricanevictimsnapsaftercnnreporterterrorizeswomanandherchildrenathoustonshelter': 9609, 'tucked': 19658, 'mouse': 13007, 'craving': 3372, 'mac': 12192, 'ufhkocvv': 19801, 'defendag': 3814, 'httpbitlysdpuf': 7577, 'agriculture': 266, 'nobody': 13619, 'expo': 5199, 'sanantonio': 16956, 'wnw': 21039, 'jax': 10798, 'connection': 3127, 'facetime': 5255, 'fuckmylife': 6017, 'apart': 638, 'clown': 2853, 'pr': 15381, 'floridian': 5698, 'curse': 3531, 'clueless': 2858, 'httpdlvritpjdf': 7704, 'kpictwittercomcuuvnqr': 11397, 'httpstwittercomdailycallerstatus': 8519, 'raisingcanes': 16007, 'httppostf': 8149, 'rgyo': 16503, 'worry': 21104, 'stocked': 18309, 'gasshortage': 6138, 'graduating': 6507, 'storing': 18337, 'graysondolan': 6541, 'ethandolan': 5018, 'httpbitlyscaxmu': 7576, 'httpcnnit': 7650, 'cw': 3549, 'nonwhites': 13657, 'httpsgooglfblm': 8257, 'kbv': 11152, 'astrologyblog': 831, 'astrologywheel': 832, 'taurus': 18788, 'moon': 12936, 'svlus': 18619, 'allergy': 409, 'pbjnope': 14530, 'spaghettiosnope': 17997, 'pb': 14525, 'crackersdouble': 3350, 'stayawayirma': 18227, 'vucamj': 20479, 'happening': 6822, 'smoking': 17777, 'walking': 20531, 'feather': 5388, 'tnyt': 19272, 'timothy': 19213, 'ohara': 13966, 'played': 15141, 'suefp': 18480, 'irving': 10637, 'elderly': 4735, 'pictwittercombjhzpwifxd': 14763, 'lively': 11886, 'pointe': 15226, 'barton': 1147, 'sandystay': 16975, 'reopening': 16345, 'httpwrdcm': 9683, 'wdvpbo': 20670, 'orlando': 14176, 'charlie': 2549, 'opposingviews': 14132, 'screwin': 17139, 'bum': 1951, 'httpinstagramprww': 7937, 'gclzev': 6173, 'dunkin': 4486, 'donut': 4274, 'dunkindonuts': 4487, 'extra': 5220, 'aside': 791, 'needful': 13371, 'tlsutre': 19258, 'deterring': 3961, 'lifethreatening': 11797, 'fired': 5525, 'tristate': 19576, 'mandat': 12298, 'httpcbslocalxk': 7639, 'cqu': 3342, 'strawberry': 18372, 'poptarts': 15284, 'selling': 17239, 'calorie': 2153, 'dense': 3867, 'txwxpictwittercom': 19742, 'cohtwhydl': 2940, 'complain': 3054, 'vols': 20430, 'httpstwittercomtmzstatus': 8628, 'remembering': 16318, 'fabian': 5246, 'annual': 590, 'httpswwwinstagramcompbynidcwllvg': 8783, 'tba': 18804, 'pause': 14511, 'stockpile': 18313, 'hurricanetips': 10016, 'atleast': 858, 'breeze': 1807, 'weh': 20724, 'crazzzzyyy': 3384, 'httpespngocomnfl': 7746, 'august': 903, 'sandyhurricane': 16972, 'belonging': 1308, 'halligans': 6768, 'yrold': 21564, 'in': 10286, 'httpswwwgofundmecomuy': 8746, 'jxueppctwdncpgnsharemorerrcidr': 11083, 'bd': 1231, 'failed': 5267, 'recognize': 16179, 'kcjuhi': 11157, 'chronic': 2693, 'migraine': 12707, 'dose': 4288, 'braaaaaiiin': 1752, 'securing': 17203, 'humble': 9936, 'yacht': 21414, 'crownprince': 3451, 'httpsyoutubekizymjouzte': 8913, 'orleans': 14177, 'mostly': 12970, 'httpbingeditxpzcdb': 7484, 'tex': 18930, 'harry': 6858, 'sorta': 17952, 'horror': 7317, 'lotsa': 12056, 'httpwwwtalk': 9836, 'comarticlesabcnews': 2983, 'hurricaneharveyvictimsdesperateshelterevacuationcenters': 9994, 'deer': 3811, 'babylon': 1038, 'bab': 1033, 'httpowlyeqqmf': 8076, 'lindenhurst': 11837, 'patch': 14486, 'joelosteen': 10931, 'denying': 3875, 'sgt': 17335, 'taylor': 18801, 'httpinquisitrtoapndec': 7882, 'spiked': 18052, 'fight': 5470, 'flicking': 5625, 'delighted': 3839, 'girlguiding': 6284, 'montserrat': 12930, 'spared': 18004, 'hurricaneirma': 9998, 'guide': 6654, 'hq': 7394, 'httpdlvritpjwmff': 7715, 'techpictwittercomkpepcevbk': 18851, 'trumphaters': 19614, 'httpswwwweaselzippersus': 8883, 'trumphatersfallforandpushfakepicofobamaservingfoodtohurricanevictims': 19615, 'weaselzippers': 20685, 'chained': 2502, 'dealing': 3753, 'battening': 1174, 'being': 1294, 'threatened': 19129, 'httpmwashingtontimescomnews': 8011, 'aug': 902, 'texassb': 18936, 'immigrationlegislationcollideswithhu': 10249, 'hammered': 6780, 'mafus': 12217, 'totalled': 19409, 'jeep': 10822, 'medication': 12535, 'gics': 6266, 'hype': 10055, 'uzvswy': 20158, 'different': 4045, 'opinion': 14124, 'httpjewishbreakingnewscom': 7963, 'hurricanevictimtrumpdifferentopinionnowthinkheswonderfulman': 10017, 'afar': 205, 'httpbitlyrprxci': 7571, 'littlelobbyists': 11877, 'trae': 19469, 'httpimplurntcomtraethatruthbroughtwaterandfoodtotexasjailaffectedbyhurricaneharveypictwittercomepco': 7877, 'solowkey': 17904, 'wsbtv': 21181, 'ampictwittercomtqw': 498, 'awlwir': 999, 'amidst': 487, 'courthouse': 3310, 'httpbitlyuznmfr': 7592, 'nazi': 13292, 'universe': 19936, 'pictwittercomlypvfazait': 14873, 'impending': 10260, 'tropical': 19587, 'stormhurricane': 18343, 'reply': 16361, 'bunker': 1963, 'hasnt': 6870, 'httpwwwair': 9686, 'comblogpost': 2990, 'hurricanesandycrisismapaspx': 10010, 'junk': 11043, 'hoe': 7221, 'elbowspoking': 4733, 'stack': 18154, 'httpstwittercomjesex': 8543, 'cube': 3498, 'barbershop': 1124, 'classic': 2769, 'fai': 5265, 'httpwwwnaturalnewscom': 9805, 'hurricaneharveyprepperupdateshtjusthitthefaninsouthtexasfoodwaterpowerandemergencyservicesfailhtml': 9988, 'newspaper': 13488, 'httptribalojgsvfy': 9607, 'wvtiq': 21229, 'iqkklypictwittercom': 10607, 'hzmqpdi': 10072, 'natt': 13273, 'engulfed': 4867, 'unless': 19942, 'knau': 11355, 'fuel': 6021, 'httpknauorgpostnauresearchshowsrippleeffectshurricaneharveyuseconomy': 7973, 'pig': 15037, 'tjebt': 19241, 'jz': 11090, 'entitled': 4895, 'trumpettes': 19613, 'msnbc': 13075, 'pictwittercomd': 14782, 'wnzdtxo': 21040, 'filling': 5484, 'wiper': 20969, 'fluid': 5709, 'bho': 1400, 'plotting': 15169, 'diego': 4035, 'httpspatchcomcaliforniasandiegomoreshelterpetscomingsandiegoduehurricaneharvey': 8335, 'gassed': 6137, 'boughtits': 1706, 'brutal': 1891, 'sketchy': 17661, 'themedno': 19039, 'headlampsflashlights': 6937, 'cstefanyk': 3480, 'sandyhit': 16970, 'saanj': 16864, 'httpnewssaanjnetrecentnewsgurdwarasturnedintoshelterhomesinsandyhitareasofus': 8025, 'httpstwittercomgmastatus': 8532, 'sandbag': 16960, 'suited': 18496, 'unmanaged': 19948, 'httpdlvritphqrbr': 7699, 'httpstexashelptamueduanimalshelters': 8466, 'blind': 1542, 'willie': 20927, 'mctell': 12485, 'greart': 6544, 'pity': 15079, 'imimgrant': 10235, 'izej': 10726, 'feedly': 5406, 'lowfat': 12086, 'pot': 15334, 'pie': 15026, 'httppinterestcompin': 8143, 'avjfwzdw': 961, 'collateral': 2958, 'excessive': 5137, 'weight': 20726, 'gain': 6104, 'stuffing': 18423, 'reliefpictwittercomo': 16295, 'xsgsyoqt': 21370, 'coastal': 2912, 'haul': 6881, 'stinking': 18293, 'load': 11952, 'drsunilksahai': 4424, 'andy': 542, 'misery': 12776, 'httpstwittercomliztrestonstatus': 8563, 'houstonstrongpictwittercomhakj': 7372, 'jwroh': 11077, 'wreckage': 21149, 'glginz': 6323, 'allow': 418, 'looter': 12034, 'httpdlvritphwp': 7702, 'tcotpictwittercomuimxn': 18817, 'lghj': 11749, 'vacuum': 20168, 'seal': 17159, 'electronics': 4745, 'lifehack': 11788, 'httphtlyowlv': 7865, 'esrpx': 4994, 'httpaxsomreportcom': 7476, 'iagzgo': 10082, 'zerohedge': 21664, 'httpwwwzerohedgecomnews': 9871, 'hurricaneharveylikelydestroymorecarskatrinabadrealbad': 9984, 'httpwwwalcomnewsindexssf': 9688, 'hurricaneharveyhowtohelphhtml': 9982, 'espuelasvox': 4993, 'ncc': 13309, 'httpsumolyeth': 8645, 'ladyfreethinker': 11504, 'httpfbmebsjw': 7755, 'pge': 14673, 'awklgmk': 997, 'ike': 10188, 'bought': 1705, 'shutting': 17530, 'meantime': 12506, 'undocumented': 19887, 'disclosed': 4109, 'httpsnytims': 8325, 'vhn': 20297, 'walked': 20528, 'shoe': 17469, 'puddle': 15671, 'recorded': 16187, 'mini': 12753, 'slide': 17714, 'eyelash': 5234, 'vibe': 20306, 'lul': 12134, 'aclutx': 100, 'httpstwittercomnbcnightlynewsstatus': 8586, 'lukewilliamss': 12131, 'httpbitlyw': 7596, 'ux': 20149, 'httpgoogljuqjou': 7839, 'naan': 13206, 'bread': 1783, 'horseradish': 7322, 'hummus': 9941, 'medically': 12534, 'httpwwwlittlelobbyistsorgharvey': 9793, 'freezer': 5935, 'firstworldpains': 5559, 'sealed': 17160, 'shaines': 17349, 'nolanews': 13636, 'ironic': 10628, 'httpdlvritpjswjf': 7710, 'newspictwittercomblwp': 13490, 'lxoivaeh': 12168, 'goodsfood': 6426, 'floriadians': 5693, 'changer': 2523, 'bswrtdrh': 1900, 'arriving': 752, 'convention': 3197, 'httpswwwpscptvwbhnhddmyodezn': 8831, 'wxukrhbg': 21257, 'tcfh': 18813, 'zepmpapbm': 21659, 'rsewe': 16752, 'fh': 5451, 'mxojvpd': 13183, 'fkdfcmziq': 5589, 'nearest': 13348, 'chatting': 2562, 'flotus': 5700, 'qymlyubbx': 15941, 'milford': 12728, 'sufvi': 18486, 'rita': 16578, 'ashlee': 781, 'mullany': 13112, 'httptoplocalnowcomausydneyat': 9599, 'leadership': 11652, 'bedstuy': 1274, 'httphtlli': 7863, 'syqhd': 18687, 'fema': 5419, 'sheriffgradyjudd': 17424, 'irmahttpstwittercomnewsweekstatus': 10625, 'vsluwk': 20466, 'tavern': 18789, 'dropoff': 4402, 'mr': 13043, 'agl': 252, 'parade': 14404, 'convo': 3207, 'apocalypse': 646, 'whatnot': 20803, 'whoami': 20847, 'kinda': 11286, 'guarantee': 6643, 'jamaicaevents': 10760, 'jca': 10812, 'ptjs': 15657, 'derek': 3913, 'intexas': 10549, 'httpwwwcomocomprodesdevenezuelacomhurricaneharveymayhavedestroyedhalfamillioncarsandtrucksintexaspictwittercomq': 9735, 'lqoet': 12098, 'ju': 11018, 'library': 11774, 'erupts': 4974, 'starbucks': 18193, 'httponmashtospdvwv': 8056, 'strengthens': 18384, 'mormon': 12955, 'commodity': 3029, 'uujkxpox': 20136, 'httpinstagramprxum': 7939, 'dlae': 4194, 'troubled': 19592, 'helpyet': 7041, 'whi': 20819, 'httpdlvritpjwlpbpictwittercomgzjiismqpk': 7713, 'etftrends': 5016, 'appears': 659, 'bawdynycroadtrip': 1185, 'plot': 15168, 'twist': 19723, 'electric': 4739, 'tide': 19187, 'bw': 2040, 'wjzt': 21003, 'examiner': 5127, 'prvwr': 15640, 'neward': 13457, 'exaggerated': 5125, 'httpwwwsnopescomobamatexasduringhurricaneharvey': 9833, 'vagina': 20170, 'iphones': 10596, 'figured': 5474, 'aolvideo': 635, 'httpwwwaolcoukvideosurfersridethebigwavesfromhurricanesandy': 9697, 'adgiaolsharetwitter': 157, 'highrise': 7122, 'httpwwwmiamiheraldcomrealestatearticle': 9799, 'html': 7417, 'miamiherald': 12667, 'becus': 1265, 'errbody': 4967, 'bold': 1649, 'commute': 3037, 'clearance': 2784, 'httpfbmezqw': 7795, 'icuu': 10112, 'gore': 6446, 'inconvenient': 10319, 'retroactively': 16458, 'floodwaters': 5682, 'vhvuro': 20299, 'cautious': 2399, 'httpstwittercomedmundsstatus': 8527, 'stalker': 18174, 'jamie': 10767, 'httpchicagodailydigestus': 7644, 'hurricaneharveyprepperupdateshtjusthitthefaninsouthtexasnonpreppershurtingbadlyasfoodwaterpowerandemergencyservicesfail': 9989, 'carnival': 2288, 'caribbean': 2272, 'messing': 12624, 'httpbitlys': 7574, 'friendly': 5959, 'httpbitlyyr': 7621, 'obozo': 13881, 'imposter': 10272, 'httpwwwwesternjournalismcomphotofalselyclaimsobamaservedfoodhurricaneharveyvictimsutmsourcetwitterutmmediumpostbottomsharingbuttonsutmcontent': 9860, 'smack': 17737, 'chef': 2590, 'creole': 3406, 'haitian': 6755, 'residential': 16404, 'topped': 19348, 'diesel': 4041, 'brookfield': 1871, 'jrsr': 11007, 'httpswwwreadfulappcomsiteheadlinesitem': 8832, 'fc': 5366, 'reuterstopnews': 16474, 'vtfpix': 20472, 'harpictwittercomy': 6855, 'igscrk': 10161, 'extend': 5209, 'payment': 14522, 'farmer': 5317, 'texasbound': 18933, 'hurricanesurvivors': 10015, 'httpswashingtoninformercom': 8657, 'localfarmeristexasboundtoprovidefoodotheraidtohurricanesurvivorspictwittercomru': 11961, 'onedznw': 14048, 'wilddddd': 20885, 'xonsrr': 21347, 'nypictwittercomhf': 13848, 'wrv': 21178, 'deemed': 3803, 'inoperable': 10446, 'junked': 11044, 'salvage': 16935, 'harveylthat': 6865, 'httpfbmeyszapw': 7791, 'wildwood': 20919, 'crest': 3409, 'progress': 15574, 'httpbitlyypnvat': 7620, 'meee': 12549, 'losing': 12049, 'george': 6210, 'brown': 1880, 'kqutp': 11404, 'httpdlvritpj': 7703, 'npictwittercomdbojaekuxt': 13759, 'httpwpmep': 9673, 'ych': 21436, 'ae': 192, 'inch': 10299, 'hurticane': 10021, 'scandalousmimi': 17062, 'asian': 790, 'stupidness': 18430, 'goservg': 6452, 'sukupmfg': 18499, 'grain': 6511, 'bin': 1452, 'tested': 18927, 'proof': 15589, 'httpstwittercombcarp': 8496, 'httpfbmewhvuxxjj': 7786, 'vegan': 20232, 'chesterlovesmeatpictwittercomhw': 2609, 'ir': 10610, 'bedding': 1268, 'blaming': 1520, 'slavery': 17698, 'barcs': 1129, 'httpn': 8014, 'toudytot': 19421, 'app': 651, 'pjs': 15099, 'brint': 1841, 'pardoned': 14423, 'racist': 15963, 'vacation': 20162, 'notmypresident': 13728, 'jumped': 11037, 'stranger': 18368, 'vby': 20210, 'httpsgoogl': 8247, 'qcs': 15778, 'urban': 20033, 'farmfood': 5318, 'disappointing': 4093, 'polkcosheriff': 15249, 'deter': 3959, 'pictwittercome': 14792, 'strip': 18398, 'tire': 19227, 'annoyed': 588, 'shouldve': 17497, 'romneys': 16683, 'shameful': 17360, 'fakery': 5283, 'posthurricane': 15323, 'ryans': 16851, 'httpwwwslatecomblogsmoneybox': 9832, 'romneystormreliefeventsjustsendmoneyinsteadhtmltidsmtwbuttontoolbar': 16684, 'boning': 1662, 'httpwwwebaumsworldcomvideoscouplecaughtdoingthedeedinahurricaneharveyshelter': 9749, 'september': 17268, 'wired': 20972, 'destro': 3944, 'scientific': 17098, 'httprtcomusanewssandyresearchpowermedicine': 8174, 'sour': 17966, 'eclap': 4629, 'krispy': 11412, 'francisco': 5902, 'netter': 13448, 'aamc': 12, 'fitchic': 5570, 'knock': 11365, 'heat': 6973, 'httpbitlyt': 7587, 'blunts': 1605, 'gucci': 6648, 'unclear': 19864, 'lying': 12175, 'poordogabandonedtexasfloodwatersrisehtmlixzz': 15271, 'qul': 15918, 'noleaderhttpstwittercomhoustontxstatus': 13639, 'httpswwwreadfulappcomsitelocalweatheritem': 8833, 'cde': 2437, 'ccd': 2426, 'httpbitlysmirvc': 7579, 'snarkys': 17798, 'rant': 16045, 'fascist': 5328, 'antifa': 605, 'stumbled': 18425, 'lesser': 11725, 'known': 11371, 'disney': 4137, 'wxtwitter': 21256, 'worsh': 21108, 'prepar': 15457, 'dgx': 4001, 'httpbitlyloawdg': 7552, 'httpviame': 9652, 'dnla': 4211, 'httpbitlyykospb': 7619, 'chocolate': 2659, 'cake': 2092, 'httpowlyi': 8088, 'zpd': 21730, 'fraud': 5913, 'ul': 19835, 'hurricanehttpwwwopposingviewscomisocialpicturereportedlyshowingobamaservingfoodafterhurricaneharveyactually': 9997, 'pamslove': 14378, 'dnc': 4210, 'hunter': 9962, 'httpakkadiantimescom': 7460, 'aroughrideforthehurricanehunters': 738, 'deptford': 3903, 'httpwwwnjcomgloucestercountyindexssf': 9811, 'redcrosspreparesshelterathtml': 16210, 'bonkers': 1663, 'httptoplocalnowcomusoklahomacityat': 9600, 'dunno': 4490, 'citizen': 2728, 'monopoly': 12914, 'leg': 11692, 'shutupfarmer': 17533, 'lucky': 12124, 'antonelli': 610, 'httpshoustonfoodfindercom': 8276, 'houstonarearestaurantsbarsopenclosedhurricaneharvey': 7364, 'htownfoodfinder': 7438, 'httpswwwbuzzfeedcomcoralewisthisfloridasheriffsayshewilljailpeoplewithwarrantsutmtermylkol': 8685, 'cora': 3240, 'mandated': 12299, 'smog': 17769, 'nye': 13844, 'realhillaryclinton': 16125, 'fishtale': 5566, 'buzzfeed': 2032, 'whqb': 20857, 'httpbitlywaq': 7597, 'fk': 5588, 'inbetween': 10292, 'missile': 12789, 'qcbgj': 15771, 'httpsfdailydigestus': 8236, 'servic': 17281, 'httpfbmex': 7789, 'swcc': 18637, 'akfqrz': 337, 'httpwwwoccuworldorgnews': 9814, 'httpdlvritphwnxvpictwittercomhuc': 7701, 'bzbi': 2064, 'foster': 5874, 'austinpetsalive': 916, 'httpkxancom': 7977, 'fostersneededforshelteranimalsduetoharveyutmmediumsocialutmsourcetwitterkxannewspictwittercompkewsaxenz': 5875, 'univision': 19938, 'informercial': 10403, 'puppieskittens': 15697, 'antvuitton': 612, 'httpswwwvoanewscomaunlikelyhurricaneherotakesoverchaotictexasstormshelter': 8875, 'rainstorm': 15999, 'dysfunction': 4538, 'peoplesassemblynola': 14594, 'yelling': 21465, 'william': 20924, 'eager': 4549, 'license': 11779, 'trial': 19549, 'transportland': 19503, 'drtpdx': 4426, 'httpstwittercomstormchaserukeustatus': 8624, 'psa': 15642, 'imk': 10236, 'iwm': 10717, 'thisa': 19104, 'pony': 15264, 'iman': 10223, 'httpstwittercomconnellmcshanestatus': 8517, 'animalspets': 568, 'disasterrecovery': 4101, 'kitty': 11317, 'hemingway': 7042, 'mehttpstwittercomlucyfurtweetsstatus': 12562, 'kalebpierce': 11097, 'gotten': 6460, 'hitch': 7171, 'sbu': 17053, 'babe': 1035, 'gilesdorsaint': 6274, 'autographed': 935, 'httptlgdno': 9584, 'emoji': 4811, 'argument': 709, 'evac': 5054, 'botched': 1698, 'bull': 1944, 'otherotherbarry': 14195, 'apictwittercom': 642, 'tokanvwz': 19298, 'fishtown': 5567, 'emptystreets': 4823, 'philadelph': 14694, 'httpinstagrampryg': 7944, 'xscc': 21369, 'ship': 17444, 'galveston': 6110, 'hunkers': 9958, 'httpmchroncomnewshoustontexasarticle': 7997, 'stuckatseaincruiseshipsasgalveston': 18414, 'phpcmpidtwittermobile': 14718, 'houstonchron': 7365, 'block': 1572, 'refusal': 16253, 'maker': 12262, 'alexmiller': 380, 'thirdward': 19102, 'untold': 19977, 'taxfree': 18795, 'refusing': 16256, 'snitching': 17807, 'anyways': 626, 'haynes': 6900, 'recreation': 16195, 'located': 11964, 'clark': 2764, 'laredohttpstwittercomtminfocaststatus': 11570, 'chrisbrown': 2677, 'cent': 2471, 'hurricanejust': 10001, 'httpstwittercomkalpennstatus': 8549, 'brings': 1839, 'petfinders': 14649, 'httpmstrbustdlr': 8006, 'spiderman': 18051, 'misplaced': 12782, 'ehyvqw': 4710, 'nuf': 13800, 'gvg': 6703, 'awexler': 987, 'pitf': 15074, 'httpfbmehkyamx': 7760, 'auntie': 905, 'boutta': 1719, 'dishing': 4133, 'obamas': 13875, 'agv': 270, 'bahamian': 1068, 'complexmag': 3063, 'ski': 17662, 'httpcmplxittqbw': 7648, 'yolo': 21526, 'abcworldnews': 32, 'httpabcnws': 7443, 'wj': 20996, 'suq': 18563, 'eats': 4609, 'saddle': 16885, 'blizzard': 1548, 'notkidding': 13727, 'souldancing': 17959, 'yb': 21432, 'httpbitlyseu': 7578, 'gn': 6366, 'jamaicanblogger': 10762, 'incoming': 10313, 'postponing': 15330, 'httpswwwinstagramcompbyqxtnlbdui': 8788, 'shooooo': 17473, 'madd': 12203, 'hurricanesandy': 10009, 'gwaan': 6706, 'nuff': 13801, 'windshield': 20943, 'houseshurricanesandy': 7360, 'nude': 13799, 'httpstwittercombriannaaaostatus': 8503, 'httpswwwredditcomrgifsthatkeepongivingcomments': 8841, 'xureporterflagsdownrescuevehicleduringrefsharerefsourcetwitter': 21388, 'mpictwittercomuwjnxcxdyj': 13029, 'hurricaneharveyhero': 9981, 'httpwwwreuterscomarticleusstormharveyshelterheroiduskcn': 9826, 'unutmsourcetwitterutmmediumsocial': 19983, 'practical': 15383, 'httpstwittercomjoelosteenstatus': 8546, 'crime': 3415, 'transgender': 19493, 'rethink': 16447, 'rainbow': 15992, 'sprinkle': 18104, 'cream': 3387, 'lyft': 12174, 'httpslyftcomiaimarianne': 8302, 'steve': 18266, 'perez': 14608, 'tragically': 19478, 'sadly': 16886, 'benz': 1323, 'newly': 13465, 'gross': 6602, 'foodsleepno': 5791, 'pat': 14484, 'hunt': 9960, 'houstontexans': 7373, 'httpsfanlylink': 8235, 'ba': 1031, 'pictwittercomi': 14829, 'kynqzbrg': 11474, 'httponwtspcom': 8059, 'eldyw': 4737, 'pictwittercomb': 14759, 'tzp': 19760, 'romney': 16682, 'regular': 16267, 'surge': 18573, 'httptwgofundmehurricaneharveyhelpisherepctwcosharemrcidr': 9621, 'httpjtimesvuzr': 7969, 'eiuawpictwittercomkgroid': 4721, 'rzm': 16859, 'dvr': 4513, 'liquor': 11856, 'pajama': 14358, 'justinjkruger': 11063, 'sqcomq': 18120, 'du': 4458, 'thegame': 19024, 'doctorsadvocate': 4220, 'compton': 3070, 'westcoast': 20766, 'hiphop': 7158, 'letsride': 11735, 'httpswwwyoutubecomwatchvfkmfcthom': 8904, 'ttime': 19649, 'affect': 210, 'pullback': 15682, 'trashed': 19510, 'carport': 2297, 'crashed': 3366, 'httpstwittercompeteybutesstatus': 8600, 'octomom': 13921, 'httpjalopnikcomupto': 7958, 'carscouldbetotaledfromhurricaneharv': 2315, 'wary': 20590, 'px': 15742, 'zn': 21715, 'multipurpose': 13117, 'httpmoviewebcomspidermanvideohoustonfloodhurricaneharveypictwittercomd': 8004, 'httpbitlyxntrus': 7607, 'gridlock': 6583, 'catagory': 2361, 'breezy': 1809, 'httpwwwnydailynewscomnewyorkridestormbreezypointarticle': 9813, 'unlike': 19943, 'httpstmblrcozicxki': 8473, 'parmmc': 14443, 'nashua': 13252, 'tdpf': 18823, 'boston': 1695, 'zero': 21661, 'hedge': 6995, 'pyd': 15746, 'convicted': 3204, 'offender': 13939, 'denver': 3872, 'bucking': 1916, 'diva': 4171, 'duck': 4466, 'october': 13919, 'jam': 10758, 'realmeatloafpictwittercomyshg': 16138, 'tglxh': 18957, 'boring': 1688, 'mate': 12422, 'rely': 16305, 'httpstwittercomparishiltonstatus': 8598, 'httpamsncom': 7464, 'enusaaqzg': 4898, 'bocidst': 1638, 'waq': 20559, 'cn': 2881, 'donald': 4252, 'pictwittercomsdtfnezct': 14936, 'obrien': 13882, 'houstonpictwittercom': 7368, 'izzmxqilp': 10728, 'bitter': 1482, 'sunken': 18518, 'hurricaneshelter': 10013, 'httpbufflysqmtdv': 7630, 'srxpictwittercomdtfzooaqnd': 18143, 'httpdlvritpjvygzpictwittercomzpdzamkwum': 7711, 'hov': 7374, 'ridesharing': 16534, 'httprootlessmenyc': 8173, 'httpswwwgofundmecompkmdbhurricaneharveyvictimpctwcosharewrcidr': 8744, 'brookhaven': 1872, 'httpbrookhavenorg': 7628, 'sd': 17146, 'httpsgooglfbr': 8260, 'sglp': 17332, 'mhh': 12657, 'teamwork': 18837, 'pictwittercomslrcqxywk': 14942, 'finna': 5516, 'holding': 7229, 'httpdlvritpjqfts': 7707, 'freebeaconpictwittercomlppri': 5925, 'ykru': 21507, 'thankgod': 18972, 'thankyourory': 18985, 'angel': 546, 'spray': 18096, 'checking': 2575, 'inundated': 10557, 'opmuom': 14129, 'httpbitlyrk': 7568, 'foi': 5745, 'wgr': 20795, 'rt': 16756, 'httpiftttea': 7874, 'wearethepeoplehttpgoldenageofgaiacom': 20681, 'unlikelyhurricaneherotakesoverchaotictexasstormshelter': 19945, 'klc': 11339, 'beer': 1279, 'illtakeit': 10204, 'httpwwwinfiniteunknownnet': 9779, 'hurricaneharveyprepperupdateshtjusthitthefaninsouthtexasnonpreppershurtingbadlyasfoodwaterpowerandemergencyservicesfailwavlr': 9990, 'fjxnetwitter': 5587, 'philadelphia': 14695, 'httpbitlyuzhfml': 7591, 'disruption': 4150, 'httpswwwrightcarscomnewscarrentaldisruptionduehurricaneirma': 8845, 'lololyeah': 11996, 'buddy': 1923, 'cardboard': 2257, 'combo': 2991, 'saving': 17035, 'hahahah': 6737, 'pictwittercomcsfv': 14779, 'bvkg': 2037, 'wrath': 21144, 'httpswwwinstagramcompbyy': 8793, 'athpgk': 850, 'hunted': 9961, 'iamwilliewill': 10095, 'tense': 18892, 'shamefulhttpstwittercompolkcosheriffstatus': 17361, 'upsetting': 20019, 'scorn': 17109, 'unhappy': 19905, 'sleet': 17708, 'miriamhurricantip': 12773, 'essence': 4995, 'capitalism': 2225, 'snacking': 17790, 'httpyoutubezgkz': 9901, 'ww': 21232, 'ocean': 13910, 'oncoming': 14046, 'ibduvt': 10097, 'sanwiches': 16992, 'foodwater': 5806, 'stfu': 18277, 'dafuq': 3587, 'httpswwwaolcomarticlenews': 8673, 'rotting': 16718, 'takingpicturesoffood': 18728, 'trynta': 19632, 'somebody': 17910, 'ebsaiditpictwittercom': 4623, 'smzrwpkxu': 17786, 'cusiens': 3536, 'houseeee': 7356, 'httpstwittercomnflstatus': 8589, 'coveritlive': 3320, 'fork': 5851, 'yqt': 21559, 'drovecars': 4408, 'httpcrookophobiacomahurricaneworsethanharveyhittexasbeforeamericansdrovecars': 7653, 'taste': 18776, 'bud': 1920, 'dq': 4326, 'bobo': 1634, 'flgovscott': 5624, 'implement': 10261, 'canister': 2204, 'ridiculous': 16538, 'myselfim': 13195, 'anxiety': 617, 'athlete': 848, 'signing': 17564, 'hurri': 9972, 'igp': 10160, 'sheraton': 17421, 'sookaashaee': 17935, 'goodluck': 6420, 'finance': 5498, 'economics': 4637, 'mar': 12339, 'lb': 11629, 'httpswwwyoutubecomwatchvhtw': 8905, 'anm': 574, 'stabed': 18151, 'kept': 11207, 'everyones': 5094, 'stash': 18212, 'mwahaha': 13176, 'nibbler': 13534, 'deaf': 3747, 'advocate': 189, 'pres': 15475, 'kunle': 11450, 'adegboye': 153, 'pictwittercomlytzmuo': 14874, 'boooo': 1674, 'kevinbooker': 11215, 'teamvally': 18836, 'asshole': 812, 'pictwittercomnbysfqd': 14893, 'antonio': 611, 'unnecessary': 19950, 'httpwwwnjcomnewsindexssf': 9812, 'shelterinastormhomelessneshtml': 17410, 'njdotcom': 13579, 'cbc': 2412, 'topstories': 19349, 'barbarism': 1122, 'meanness': 12503, 'voh': 20421, 'cndpoli': 2887, 'joe': 10926, 'wellies': 20741, 'certified': 2486, 'dtmag': 4455, 'rowley': 16729, 'cigar': 2707, 'weigh': 20725, 'httpswwwinstagramcompbyombnfnul': 8785, 'younger': 21542, 'favorite': 5349, 'cheetah': 2587, 'banksbradley': 1111, 'tarrytown': 18773, 'httpbitlyy': 7615, 'themiamibeachcc': 19042, 'suspended': 18607, 'hittin': 7183, 'servin': 17284, 'httpwwwhotbeakcom': 9771, 'ipki': 10598, 'pictwittercomhrb': 14823, 'tjys': 19245, 'httpswwwbingobytecomtraethatruthbroughtwaterandfoodtotexasjailaffectedbyhurricaneharveypictwittercomcxl': 8677, 'bmnxef': 1612, 'floridastate': 5697, 'college': 2965, 'fsucom': 5999, 'pierce': 15031, 'yqwk': 21560, 'motorn': 12993, 'httpslnkdine': 8299, 'qgcdy': 15797, 'sizable': 17642, 'pictwittercomabrggphjhc': 14748, 'httpsshares': 8361, 'frozen': 5987, 'mamou': 12285, 'tradition': 19467, 'pictwittercomifgvfw': 14830, 'yih': 21501, 'wifi': 20879, 'austin': 913, 'httpstwittercomaustintexasgovstatus': 8493, 'httpstwittercomjeggitstatus': 8542, 'abortion': 46, 'murderer': 13136, 'lib': 11770, 'httptheboomboxcomtraethatruthbroughtwaterandfoodtotexasjailaffectedbyhurricaneharvey': 9563, 'mixtape': 12810, 'rapperpictwittercomngwb': 16052, 'dfzxa': 3994, 'nothern': 13717, 'httpbitlyxsqusr': 7609, 'association': 821, 'refinery': 16241, 'yojxv': 21523, 'plenty': 15159, 'essentially': 4997, 'coaster': 2913, 'planning': 15124, 'snoreastercane': 17813, 'protein': 15611, 'powder': 15353, 'carbohydrate': 2247, 'aisle': 321, 'eastcoast': 4595, 'httpinstagramprwlr': 7935, 'throne': 19151, 'finale': 5494, 'gameofthrones': 6113, 'httppostlbatss': 8155, 'hlhljw': 7195, 'sosavvyy': 17954, 'venturing': 20261, 'hungrygirlprobz': 9952, 'finished': 5514, 'africagathering': 222, 'meditate': 12542, 'suspect': 18605, 'marketing': 12367, 'ploy': 15174, 'chick': 2620, 'tow': 19431, 'stolen': 18319, 'towing': 19439, 'depends': 3885, 'slowlyheaded': 17729, 'determined': 3960, 'httpstwittercommikeljollettstatus': 8576, 'christ': 2683, 'reeeeeeeaaaal': 16230, 'conspiracy': 3145, 'costco': 3269, 'bjs': 1496, 'teamsthey': 18835, 'preemptive': 15444, 'yjxeui': 21505, 'ongoing': 14060, 'dallascert': 3605, 'hurricaneharveyhttpstwittercomdallasoemstatus': 9983, 'wally': 20541, 'beirut': 1296, 'chuck': 2696, 'hurricaneharveysurvivor': 9993, 'ole': 14016, 'lgord': 11755, 'jalopnik': 10757, 'measly': 12509, 'discount': 4114, 'automaker': 936, 'pictwittercombaltjaskpw': 14760, 'rockport': 16655, 'jeffpiotrowski': 10830, 'httpcarstrendolizercom': 7636, 'watchhowterrifyinghurricaneharveywasfrominsideadisintegratingcarwashhtmlpictwittercomu': 20610, 'ylp': 21508, 'gjz': 6303, 'fld': 5613, 'httpawesomecarvideozcom': 7475, 'fldhurricanesandyupdate': 5614, 'dyuicx': 4541, 'aydijxzywo': 1018, 'trig': 19560, 'wswm': 21193, 'vchs': 20215, 'httpviheartcoml': 9656, 'goddaughter': 6382, 'horseback': 7319, 'competition': 3050, 'tommorow': 19316, 'httpdlvritphqgcf': 7697, 'httpstwittercombrasilmagicstatus': 8500, 'catching': 2372, 'httpwwwcnncom': 9732, 'uspolkcountysheriffirmatweetstrndindexhtmlutmsourcedlvritutmmediumtwitterpictwittercomkwhez': 20096, 'cfu': 2492, 'xsl': 21373, 'phx': 14722, 'famine': 5301, 'scarcity': 17067, 'grocery': 6599, 'emptied': 4821, 'korea': 11389, 'brexit': 1818, 'syria': 18688, 'headwind': 6944, 'httpfbmeccvjlhrz': 7756, 'theyd': 19077, 'misjudged': 12778, 'pn': 15206, 'para': 14402, 'jmarinotero': 10908, 'lujo': 12129, 'spotify': 18089, 'gizmodo': 6297, 'httpgizmodocom': 7813, 'heresaspotifyplaylisttohelpyourideouthurricanesandy': 7062, 'httpbitlysw': 7585, 'rrb': 16745, 'dfw': 3992, 'encouraged': 4833, 'houstonlast': 7366, 'forbes': 5824, 'httptwylasrixoj': 9632, 'pictwittercomzcjmx': 15017, 'qcdb': 15772, 'cleaner': 2780, 'nolas': 13637, 'httpsgooglfbur': 8261, 'yev': 21486, 'httpowlywkdk': 8122, 'ik': 10186, 'northea': 13689, 'httpbitlyxw': 7613, 'ehn': 4706, 'lampe': 11540, 'httphoustondailydigestus': 7861, 'starring': 18198, 'httpmillerplacerockypointpatchcom': 7999, 'foodporn': 5783, 'httpinstagrampryeab': 7943, 'rrao': 16744, 'sandyfrom': 16969, 'nnyboy': 13610, 'listing': 11866, 'httpbgrcotqyef': 7481, 'bgr': 1384, 'apple': 662, 'httpswwwcnbccom': 8699, 'reutersamericaanunlikelyhurricaneherotakesoverchaotictexasstormshelterhtml': 16471, 'qcvj': 15779, 'feedingtexas': 5405, 'httpowlynzkf': 8097, 'emgb': 4799, 'pictwittercomdhcdv': 14784, 'xvqp': 21391, 'qui': 15902, 'londra': 12003, 'wbqmav': 20653, 'niece': 13547, 'wwqwh': 21243, 'irony': 10629, 'prepping': 15471, 'stocking': 18311, 'unsure': 19975, 'gqpmjd': 6488, 'shout': 17498, 'midst': 12696, 'ration': 16066, 'httpswwwinstagramcompbyojow': 8784, 'harbor': 6832, 'twisted': 19724, 'httpfbmejooqgpqm': 7763, 'surgery': 18574, 'grandparent': 6524, 'funeral': 6043, 'discoveryed': 4122, 'nut': 13812, 'soldier': 17895, 'tomb': 19311, 'solider': 17901, 'jdvh': 10819, 'agreed': 263, 'piney': 15058, 'supplying': 18548, 'httpwwwheraldcouriercomnewspineyflatsfirmsupplyingfoodtohurricanevictimsarticle': 9770, 'ed': 4644, 'fec': 5393, 'bhtmlutmmediumsocialutmsourcetwitterutmcampaignusershare': 1403, 'heraldcourier': 7055, 'tmvppvej': 19264, 'baker': 1075, 'loaf': 11955, 'httpsgooglfbnk': 8258, 'mp': 13025, 'showed': 17507, 'personally': 14628, 'handed': 6795, 'liberal': 11772, 'handling': 6801, 'filthy': 5490, 'impeach': 10259, 'pennsylvanian': 14583, 'httptftoa': 9560, 'jgg': 10872, 'blasting': 1528, 'chose': 2672, 'zip': 21691, 'standard': 18182, 'httpowlyer': 8079, 'xw': 21394, 'webcam': 20701, 'httpswwwreuterscomarticleusstormharveyshelterheroiduskcn': 8844, 'administration': 162, 'crackdown': 3347, 'httpthebeast': 9561, 'dkq': 4190, 'cruel': 3455, 'aidfood': 286, 'trn': 19579, 'httpinstagramprdqwlaaeq': 7930, 'otyzbe': 14208, 'deacon': 3738, 'presence': 15477, 'pictwittercomvjovvgx': 14977, 'httpowlyesimu': 8082, 'eclipse': 4630, 'overrated': 14266, 'overhyped': 14257, 'barbados': 1121, 'getundergroundfasthttpstwittercomread': 6236, 'ksstatus': 11428, 'bored': 1685, 'poison': 15229, 'leaning': 11660, 'miami': 12663, 'setting': 17294, 'responded': 16419, 'generosity': 6196, 'pictwittercomjqewfyjvmb': 14851, 'httpslawnewzcomcrazyfloridasheriffthreatenshurricaneirmaevacueesseekingshelterwithjailtime': 8297, 'lawnewz': 11618, 'unpleasant': 19957, 'frickrightoff': 5953, 'soparents': 17944, 'stretched': 18389, 'thin': 19086, 'forparking': 5859, 'ticket': 19181, 'application': 664, 'httpespn': 7745, 'wmzzxy': 21030, 'alexandria': 377, 'republican': 16378, 'shape': 17370, 'httpgizmodoyl': 7814, 'iee': 10132, 'keithharingfdn': 11182, 'lanadelraytheon': 11542, 'gouger': 6461, 'potential': 15338, 'tlh': 19254, 'httpdlvritphqvhr': 7700, 'gizmodopictwittercomsxqrzfhlnx': 6298, 'robe': 16633, 'judd': 11021, 'embrace': 4788, 'httpgooglnewsyoqf': 7842, 'uggghhhhh': 19803, 'heb': 6990, 'crowded': 3448, 'amusement': 510, 'everhttpstwittercombuzzfeednewsstatus': 5087, 'uamc': 19764, 'neworleans': 13467, 'chaz': 2565, 'loot': 12033, 'elgustavoonline': 4753, 'fined': 5507, 'restaurateur': 16430, 'critic': 3427, 'httpbigforkcoxtigqs': 7482, 'drrichardbesser': 4418, 'httpabcnwsvxs': 7449, 'sacrificing': 16881, 'mower': 13021, 'shift': 17434, 'jzjgxtgqm': 11091, 'decent': 3780, 'dwelling': 4518, 'squalid': 18126, 'httpbitlyxiy': 7602, 'httpwwwwenycomstory': 9859, 'sheriffsaysthosewithwarrantshouldgotojailnotahurricaneshelterutmmediumsocialutmsourcetwitterwenytvpictwittercomzqxkkoqzin': 17425, 'sbrm': 17052, 'httpwwwboredpandacompowerfulphotoshurricaneharveytexasutmsourcetwitterutmmediumlinkutmcampaign': 9713, 'amt': 504, 'cuisine': 3504, 'complete': 3058, 'slatest': 17695, 'pmlqw': 15199, 'recipe': 16168, 'rjg': 16593, 'proper': 15593, 'sustained': 18613, 'nm': 13597, 'httpwwwhuffingtonpostcom': 9772, 'imbecile': 10225, 'katrinawasstaged': 11142, 'labor': 11491, 'hhx': 7095, 'deut': 3965, 'httpjalopnikcomhereareallofthemeaslydiscountsautomakersareoff': 7957, 'utmmediumsharefromsiteutmsourcejalopniktwitter': 20122, 'vdp': 20225, 'accelerator': 69, 'smartbitautocom': 17743, 'prayfortexas': 15413, 'prayforlouisiana': 15410, 'desde': 3921, 'httpowlybri': 8067, 'dfwto': 3993, 'ammo': 489, 'bow': 1722, 'arrow': 753, 'catch': 2370, 'guantanamo': 6640, 'httpdlvritpl': 7718, 'terrorism': 18913, 'vmc': 20405, 'hurricaneharveyreliefpictwittercomkc': 9991, 'dhcms': 4010, 'certainly': 2484, 'onslaught': 14080, 'denton': 3871, 'goldentrimall': 6396, 'pictwittercomsfyw': 14937, 'clvit': 2861, 'tacobell': 18707, 'petsneedsafetytoo': 14659, 'waterboarding': 20616, 'bbvmq': 1219, 'inland': 10436, 'greyhound': 6580, 'insanely': 10452, 'expensive': 5180, 'faced': 5252, 'burying': 2002, 'zsh': 21749, 'naval': 13279, 'httpswwwgooglecomurlrctjsaturlhttpheavycomnews': 8750, 'guantanamohurricaneirmacubactgacdcaiygjbkntm': 6641, 'ytk': 21571, 'nwrkywiwzdu': 13831, 'tomvuolvtusgafqjcnenxagr': 19324, 'nu': 13793, 'jpt': 11000, 'wxn': 21252, 'byuh': 2057, 'shelterinplace': 17412, 'personne': 14630, 'jtgxjybz': 11014, 'fare': 5313, 'httplftto': 7979, 'vtrkphpictwittercomzbzhr': 20476, 'sandychinese': 16968, 'sleepover': 17707, 'potter': 15342, 'stayinginside': 18232, 'httpstwittercomvincenttheowlstatus': 8638, 'wbktfg': 20650, 'solar': 17892, 'foodwaterflashlights': 5807, 'amy': 512, 'mya': 13185, 'ashley': 782, 'httpcnbcx': 7649, 'xqmz': 21364, 'limited': 11830, 'choose': 2665, 'carefully': 2266, 'httpssurvivallifecomhurricanesheltersutmcampaigncoscheduleutmsourcetwitterutmmediumsurvivallfutmcontenthow': 8375, 'redcrosscanada': 16204, 'portable': 15294, 'wplenty': 21128, 'precipitation': 15431, 'httpfbmeyyg': 7793, 'ze': 21648, 'pictwittercompgugapgnfv': 14919, 'maxi': 12440, 'pictwittercomsifjw': 14938, 'yxd': 21598, 'bunkered': 1964, 'musicmonday': 13150, 'httpfbmebiuppdn': 7754, 'pecan': 14566, 'whoever': 20849, 'dwells': 4519, 'shadow': 17342, 'almighty': 424, 'psalm': 15643, 'buck': 1913, 'qx': 15933, 'kku': 11335, 'aye': 1019, 'tk': 19246, 'chem': 2593, 'lecture': 11678, 'manmade': 12317, 'directive': 4078, 'deskas': 3934, 'mid': 12687, 'httpbitlysxuwrl': 7586, 'foodsafetynews': 5789, 'melanie': 12565, 'httpsyoutubemyhi': 8916, 'yaknfa': 21420, 'clip': 2823, 'wictor': 20869, 'slammed': 17691, 'theeggstand': 19015, 'ipa': 10588, 'tap': 18765, 'onpictwittercom': 14076, 'zogl': 21722, 'httpnolacom': 8034, 'nolacomn': 13635, 'lfzn': 11748, 'shitty': 17458, 'uggs': 19804, 'httpviawghpcom': 9653, 'oulj': 14212, 'myfox': 13192, 'rich': 16514, 'hurricaneravaged': 10007, 'justifies': 11057, 'salisbury': 16922, 'loft': 11979, 'suggestleaving': 18493, 'carless': 2278, 'httpswwwinstagramcompbytgtwxfgan': 8790, 'female': 5421, 'hairstylist': 6752, 'vzbgm': 20497, 'xonecolepictwittercomjeyehkx': 21346, 'mbta': 12457, 'httpbitlytrozu': 7590, 'artificially': 763, 'elpolloloco': 4773, 'staffed': 18160, 'qrmrx': 15857, 'ubo': 19772, 'fgonzalez': 5448, 'jewish': 10868, 'scramble': 17120, 'httpbitlyrt': 7572, 'hudson': 9911, 'toeg': 19290, 'httpswwwbuzzfeedcomcoralewisthisfloridasheriffsayshewilljailpeoplewithwarrantsutmtermvbeyxa': 8684, 'jx': 11079, 'supremacy': 18559, 'pictwittercomu': 14958, 'uuty': 20140, 'lut': 12147, 'limbaugh': 11827, 'heathumidity': 6978, 'excruciating': 5145, 'waterice': 20628, 'bathing': 1169, 'darkness': 3657, 'bergen': 1332, 'paramus': 14417, 'bergencounty': 1333, 'cece': 2452, 'replying': 16362, 'juice': 11029, 'uncomfortable': 19866, 'confrontation': 3112, 'httpstwittercombrithumestatus': 8504, 'upstate': 20022, 'packing': 14338, 'awake': 974, 'beginning': 1289, 'filter': 5489, 'repent': 16354, 'heavily': 6987, 'spare': 18003, 'httpswwwinstagramcompbyrd': 8789, 'cyajdj': 3560, 'stray': 18373, 'prepare': 15459, 'httpbitlysrnzwg': 7583, 'herbivore': 7057, 'toiletry': 19296, 'httpstwittercomlouverture': 8567, 'eme': 4791, 'getmeoutnews': 6228, 'freeze': 5933, 'assume': 824, 'buckle': 1918, 'onshore': 14078, 'squall': 18127, 'joehockey': 10928, 'teamed': 18833, 'paragon': 14411, 'egjrbw': 4693, 'sengop': 17255, 'sendems': 17250, 'housedemocrats': 7355, 'nrsc': 13771, 'bright': 1829, 'httpstwittercomappoliticsstatus': 8492, 'newsday': 13477, 'booked': 1671, 'httpbitlyrphuoh': 7570, 'rlw': 16607, 'sumn': 18509, 'agpambondi': 258, 'httpswwwgooglecomampmyfox': 8749, 'com': 2980, 'floridasheriffresidentswithactivewarrantsseekingshelterfromhurricanestillgotojailamp': 5696, 'dreading': 4354, 'ptsd': 15660, 'concept': 3084, 'curled': 3525, 'refrigerator': 16247, 'adamtrackwooten': 136, 'httptmimeybchh': 9596, 'anniversary': 583, 'ivan': 10705, 'costly': 3270, 'letter': 11736, 'httpstwittercomstephanieabramsstatus': 8623, 'dj': 4185, 'tattedupbastard': 18782, 'caf': 2080, 'egkfefp': 4694, 'thelittleidiot': 19033, 'httpsrowdygirlsanctuaryorg': 8355, 'exhausted': 5155, 'hbomo': 6911, 'vgu': 20293, 'comfortablehurricane': 3003, 'allday': 400, 'bikers': 1440, 'boi': 1646, 'httpwwwwiredcomconveyprolgxznpqv': 9863, 'nvey': 13822, 'prior': 15519, 'landfall': 11547, 'repeat': 16351, 'hifletch': 7110, 'glngerr': 6331, 'dres': 4358, 'brink': 1840, 'lqhddopz': 12097, 'moviekangzupdate': 13017, 'httpfbmelzfykl': 7767, 'gold': 6393, 'tablet': 18703, 'whale': 20800, 'shopped': 17479, 'picerne': 14733, 'decorating': 3798, 'albert': 361, 'einstein': 4718, 'oct': 13918, 'bb': 1195, 'padre': 14346, 'sargent': 17005, 'regret': 16266, 'httpsapplenewsaofrjpweq': 8187, 'eamdxlhs': 4552, 'fingerscrossed': 5512, 'breadth': 1786, 'httpbitlywzs': 7600, 'ppictwittercometksaxhrfy': 15369, 'throughout': 19154, 'backk': 1046, 'zana': 21627, 'stall': 18177, 'manufacturer': 12330, 'hershey': 7074, 'httpbitlyxtmphx': 7611, 'httpswwwnytimescomreuters': 8817, 'reutersstormharveyshelterherohtmlpartnerifttt': 16472, 'puerto': 15673, 'rico': 16523, 'bwahaha': 2041, 'tri': 19548, 'stream': 18374, 'urging': 20046, 'honest': 7269, 'rollercoaster': 16674, 'nk': 13583, 'missle': 12794, 'sleazyness': 17702, 'httpwoaicomlisten': 9671, 'theyll': 19078, 'fq': 5894, 'bluelivesmatter': 1602, 'erm': 4961, 'ideal': 10118, 'none': 13647, 'regardless': 16259, 'doggy': 4233, 'wa': 20500, 'became': 1254, 'forcharity': 5828, 'httpscarsforcharityinfohowhurricaneharveybecamesodestructivecarsforcharityhtmlpictwittercomsyd': 8206, 'hgkhls': 7084, 'munozs': 13127, 'httpstwittercomcaptthicknessstatus': 8508, 'atcapacity': 841, 'httpgoogleorgcrisismap': 7824, 'crop': 3438, 'fueling': 6024, 'woe': 21043, 'batter': 1175, 'exte': 5208, 'qsqu': 15861, 'protip': 15613, 'tortilla': 19398, 'telegraphhttpwwwtelegraphcouknews': 18862, 'driversformhumanchainsaveelderlymantrappedcarhurricane': 4387, 'abuse': 58, 'illegal': 10199, 'shat': 17382, 'httpswwwinstagramcompbyq': 8787, 'ak': 333, 'wkc': 21007, 'vo': 20413, 'itbhl': 10671, 'joking': 10961, 'weed': 20715, 'toss': 19401, 'wellsfargo': 20746, 'besafe': 1344, 'httpbitlyxtwwoy': 7612, 'increase': 10321, 'inn': 10439, 'availability': 950, 'plxsj': 15185, 'vitgwa': 20385, 'gjjuc': 6301, 'lu': 12117, 'httpswwwdigitaltrendscomcarshurricaneharveycardamagepictwittercomqksa': 8708, 'cth': 3489, 'httpoccasiontobecomforumindexphptopic': 8044, 'htmlmsg': 7419, 'occasion': 13900, 'autistic': 931, 'unfamiliar': 19896, 'httpwwwautismsocietyorgharveysaftermath': 9700, 'aj': 326, 'hinch': 7148, 'astrospictwittercombktzkbcl': 835, 'httpdlvritplgcxxpictwittercomildgoppedr': 7719, 'max': 12438, 'stanfordrice': 18189, 'httpswwwgoodbullhuntingcom': 8747, 'footballdownunderstanfordvsricegamethreadutmcampaigngoodbullhuntingutmcontentchorusutmmediumsocialutmsourcetwitter': 5817, 'bellaire': 1305, 'psychiatrist': 15649, 'rachel': 15958, 'hurricanehrhttpswwwpscptvwbhr': 9996, 'df': 3986, 'tlfheerktnlyrwj': 19253, 'mu': 13097, 'zee': 21653, 'ywfhvb': 21591, 'bhd': 1396, 'zfmze': 21671, 'vmgv': 20406, 'sigpfgcucaawsgzmbo': 17566, 'httpwwwknssradiocomarticlesabcnews': 9785, 'addthis': 152, 'eusohh': 5046, 'jesup': 10859, 'aagbdqiv': 7, 'pigskin': 15041, 'ouncers': 14214, 'lifesir': 11792, 'httpwwwtelegraphcouknews': 9837, 'richardbransonridehurricaneirmaneckerisland': 16516, 'newssuite': 13495, 'httpbitlynewssuiteapp': 7563, 'httpswwwinstagramcompbybzhgyn': 8779, 'eaf': 4548, 'eo': 4912, 'ceuvrnsnzzlo': 2488, 'stomach': 18320, 'cleaning': 2781, 'wcp': 20660, 'govts': 6472, 'dcps': 3724, 'httpbitlytofn': 7589, 'basing': 1158, 'labeled': 11490, 'minority': 12765, 'merely': 12614, 'outthe': 14243, 'combination': 2986, 'ncwsl': 13329, 'stimulus': 18290, 'jimbakker': 10887, 'stillsafe': 18289, 'httpwwwlatimescombusinessmoneylafimosandyfoodstoresconsumers': 9788, 'nickyfbaby': 13543, 'brandonshamy': 1770, 'szakacs': 18695, 'hurrican': 9974, 'httpinstagramprfxffnixs': 7931, 'pmlp': 15198, 'controlled': 3189, 'targeting': 18769, 'chamillionaire': 2508, 'httpcrwdfr': 7654, 'exyovipictwittercomn': 5229, 'dxmgdrnj': 4527, 'cuba': 3496, 'cuban': 3497, 'assessing': 807, 'relocated': 16304, 'httpnytimsytlxaw': 8043, 'destiny': 3941, 'driversformhumanchainsaveelderlymantrappedcarhurricaneutmsourcedlvritutmmediumtwitter': 4388, 'pgr': 14678, 'trv': 19626, 'inscompanies': 10458, 'httpswwwyoutubecomwatchvjbkis': 8906, 'sbnsi': 17051, 'lifecycle': 11787, 'designed': 3930, 'meatspace': 12517, 'hurricanecarhealthfireetc': 9977, 'cyberspace': 3561, 'httpbitlyphlo': 7565, 'switch': 18664, 'cod': 2925, 'presatellite': 15476, 'mistake': 12800, 'httpfbmew': 7782, 'vkjbnw': 20396, 'httpseinnewscom': 8225, 'py': 15745, 'aagjo': 8, 'newsgrit': 13481, 'httpswwwbuzzfeedcomcoralewisthisfloridasheriffsayshewilljailpeoplewithwarrantsutmtermodpykrdrr': 8683, 'bftwnewspcn': 1377, 'qvdjj': 15925, 'allowed': 420, 'httpoptimedscom': 8061, 'reality': 16128, 'httpstwittercomlawyerrogeliostatus': 8558, 'hardlynormal': 6841, 'httpowlyeriqk': 8080, 'httpsgooglfbbuxjkw': 8252, 'ennewsblog': 4878, 'pk': 15102, 'explain': 5190, 'limitedrungames': 11831, 'purchase': 15699, 'panda': 14382, 'fairfax': 5273, 'geez': 6187, 'dumbass': 4477, 'joy': 10989, 'alumnus': 447, 'towed': 19434, 'utility': 20113, 'declined': 3794, 'cbrehotels': 2419, 'spoof': 18080, 'prodigal': 15551, 'peacock': 14557, 'httpisgdkhbyrb': 7951, 'buildinghow': 1939, 'httpstwittercomrogerenriquezstatus': 8616, 'freeway': 5931, 'predict': 15437, 'supposed': 18555, 'duh': 4474, 'prisoner': 15525, 'led': 11681, 'slew': 17711, 'hou': 7345, 'kerrville': 11211, 'compilation': 3052, 'httpwwwliquidtubescomrideoutthehurricanewiththisweathermanfailcompilationhtml': 9792, 'cywonoeh': 3571, 'httpwwwnewsvideocliptvfloridasheriffthreatenshurricaneirmavictimsseekingshelterwithjailtime': 9810, 'unconstitutional': 19869, 'shanehelmscompictwittercomlavwhy': 17366, 'mqu': 13040, 'xodehzpictwittercoma': 21344, 'zeby': 21652, 'ml': 12828, 'cox': 3326, 'httpwwwfimagazinecomchanneldpsofficenewsstory': 9754, 'blackbookupto': 1508, 'mcarscouldbetotaledbyhurricaneharveyaspxutmsourcedlvritutmmediumtwitterpictwittercomp': 12464, 'mir': 12770, 'xkfu': 21323, 'httpfbmeadyfrirl': 7752, 'httpktlacom': 7975, 'houstonpoliceofficerdrownsinhurricaneharveyfloodwaters': 7369, 'nikki': 13565, 'sticking': 18281, 'ogs': 13963, 'httpswwwjapantimescojpnews': 8797, 'worldunlikelyhurricaneherotakeschaotictexasstormshelterwaqqiqadddotwitter': 21098, 'putty': 15726, 'grady': 6508, 'stopping': 18330, 'offense': 13940, 'httphiptorocomviralphotoobamahurricaneharveyfakephotos': 7860, 'term': 18899, 'homemade': 7252, 'healthyliving': 6952, 'httpinstagramprydcd': 7942, 'xrq': 21367, 'jewelry': 10867, 'wtax': 21196, 'knowing': 11369, 'pictwittercomp': 14916, 'miembply': 12703, 'martial': 12388, 'ncislosangeles': 13311, 'fixing': 5582, 'floating': 5639, 'httpfindmytowedcarcom': 7801, 'httpdailymai': 7657, 'whtuegv': 20860, 'httpdailymaiandroid': 7658, 'earbuds': 4555, 'pictwittercomln': 14866, 'dsapgks': 4442, 'teach': 18828, 'solution': 17907, 'placelost': 15114, 'millionsmore': 12740, 'wagon': 20507, 'miranda': 12772, 'httptribal': 9605, 'owfywdpictwittercomyrcbhk': 14285, 'cul': 3505, 'httptinyurlcomcprneun': 9572, 'oval': 14246, 'genuine': 6203, 'garnet': 6126, 'stud': 18416, 'earring': 4564, 'mm': 12834, 'austinpetsalives': 917, 'overflow': 14254, 'httpswwwinstagramcompbyjj': 8781, 'iqls': 10609, 'weeksno': 20723, 'badtrees': 1058, 'everywhereno': 5101, 'gasno': 6135, 'virginamerica': 20367, 'solo': 17903, 'officialspyder': 13949, 'gopro': 6443, 'openyourroad': 14114, 'filipinoriderpictwittercompwvddttvjw': 5481, 'shortage': 17488, 'murder': 13134, 'unleaded': 19941, 'debunked': 3772, 'controversy': 3191, 'httpwwwchroncomlifehoustonbeliefarticledebunkedfakejoelosteenyachtstoryspreads': 9728, 'php': 14716, 'ac': 61, 'acand': 65, 'texaspictwittercom': 18934, 'jxb': 11080, 'yz': 21612, 'nx': 13833, 'recommendation': 16181, 'hurricaneno': 10003, 'admire': 163, 'spirit': 18059, 'guwx': 6694, 'httpfbmewbhvvy': 7783, 'httpowlywrz': 8123, 'exkku': 5163, 'httpswwwbuzzfeedcomcoralewisthisfloridasheriffsayshewilljailpeoplewithwarrantsutmtermgso': 8682, 'zzmlo': 21781, 'dgaf': 3996, 'trynna': 19631, 'otllz': 14201, 'httpwwwsunsentinelcomnewsweatherhurricanesflhchistory': 9835, 'htmlstoryhtml': 7430, 'emission': 4804, 'httpstwittercompoliticomagstatus': 8602, 'httpfzlnkcomqtbnyxyvpictwittercompwgepxyb': 7811, 'joesorto': 10933, 'caus': 2392, 'httpbitlysod': 7580, 'td': 18821, 'teamfollowback': 18834, 'cecetin': 2453, 'bust': 2012, 'stale': 18172, 'miamiheat': 12666, 'duffysmvp': 4471, 'metrorail': 12638, 'ridealong': 16527, 'saybrooks': 17041, 'cranberryapple': 3360, 'comfortfood': 3004, 'httpowlyepq': 8075, 'lackland': 11496, 'bx': 2047, 'theater': 19005, 'graduate': 6506, 'restricted': 16438, 'pictwittercomlxebngrer': 14870, 'lakewood': 11528, 'httpstwittercomlakewoodchstatus': 8556, 'travesty': 19522, 'host': 7328, 'ruining': 16791, 'madewithpaper': 12210, 'imsoviral': 10284, 'httptmblrcozrmo': 9593, 'xwdisjs': 21395, 'crohn': 3436, 'httpfeedproxygooglecomrzerohedgefeed': 7797, 'nxhvxlg': 13835, 'mrmhurricaneharveylikelydestroymorecarskatrinabadrealbadpictwittercom': 13055, 'trk': 19578, 'depresses': 3898, 'httpmlivecom': 8000, 'runner': 16802, 'nicholas': 13537, 'httpbitlyyes': 7616, 'hej': 7008, 'stormies': 18345, 'asshat': 810, 'httpstwittercomnickenyonstatus': 8591, 'opt': 14137, 'looming': 12029, 'httpbitlystqnzy': 7584, 'unearths': 19889, 'hurr': 9970, 'swxc': 18673, 'carmax': 2285, 'opportunity': 14131, 'capitalizing': 2227, 'endless': 4840, 'vanilla': 20191, 'mood': 12934, 'coffee': 2930, 'httpwwwlocalmemphiscomnewsnationalsheriffsaysthosewithwarrantsshouldgotojailnotahurricaneshelter': 9794, 'httppatchcom': 8136, 'httppulpnewscomciphpid': 8158, 'preach': 15424, 'ksbt': 11421, 'aecx': 194, 'cty': 3494, 'flower': 5702, 'springdale': 18101, 'httpswwwpgsuitecompostid': 8820, 'danbury': 3631, 'ctdidnt': 3485, 'httptoiinoazqoa': 9598, 'tomllamasabc': 19313, 'outraged': 14231, 'httpstwittercomtomllamasabcstatus': 8630, 'hopin': 7304, 'pjnet': 15096, 'modded': 12863, 'wrangler': 21141, 'descent': 3916, 'hallow': 6770, 'chute': 2701, 'httpsgearheadsorgmoddedwranglertakesonimpossibledescentutmsourcedlvritutmmediumtwitter': 8243, 'nypictwittercomxzrmcla': 13850, 'gb': 6160, 'craby': 3345, 'patty': 14506, 'casino': 2348, 'trouble': 19591, 'skipping': 17672, 'hyuninc': 10066, 'volunteering': 20436, 'overnight': 14262, 'technical': 18846, 'httppathcomp': 8137, 'hdt': 6929, 'lent': 11719, 'thanx': 18987, 'sacrifice': 16879, 'populism': 15288, 'baking': 1077, 'mtl': 13090, 'sylvester': 18682, 'httprdcrssorgrrt': 8165, 'gearing': 6184, 'forward': 5868, 'wildfire': 20888, 'catdog': 2374, 'bowl': 1726, 'shooting': 17476, 'perfectly': 14610, 'rosenstein': 16702, 'migrant': 12708, 'httptrendingpresscomclimatechangerosensteinmigrantchildrenyoureveningbriefing': 9602, 'signup': 17565, 'worsening': 21107, 'coastline': 2915, 'pictwittercomgvj': 14816, 'xtievj': 21381, 'population': 15287, 'california': 2114, 'culprit': 3508, 'wilderness': 20887, 'httpswwwnytimescom': 8816, 'uscaliforniatodayfireshumanshtml': 20067, 'immigration': 10248, 'httpscnnit': 8211, 'ovikxw': 14276, 'blaze': 1530, 'forcing': 5829, 'burned': 1985, 'flame': 5598, 'butte': 2020, 'httptwibinlnxnxlq': 9624, 'usrcpictwittercomhce': 20098, 'ff': 5436, 'xq': 21360, 'moderate': 12868, 'predictable': 15438, 'irreversible': 10633, 'animalsfire': 565, 'orangecounty': 14147, 'evacshelterinfo': 5055, 'httpstwittercomdisasteranimalsstatus': 8525, 'airborne': 299, 'toxin': 19446, 'httpswwwexpresscouknewsworld': 8715, 'woolseyfireradioactiveriskhealthnuclearsitecalifornia': 21069, 'californiafire': 2116, 'californiafires': 2118, 'radiation': 15971, 'jos': 10974, 'andrs': 539, 'nominated': 13643, 'nobel': 13616, 'ricans': 16512, 'drumpf': 4432, 'truly': 19610, 'httpsapplenewsambabmikrqeokvvsfj': 8186, 'sjw': 17649, 'californiawildfires': 2130, 'httpsbingpediacom': 8199, 'moreanimalsinsheltercarethanpeopleaftercaliforniawildfires': 12947, 'clifton': 2799, 'robert': 16634, 'boyle': 1733, 'madeheadlineswhen': 12208, 'shoot': 17474, 'manager': 12293, 'httpsnjanimalobserverwordpresscom': 8317, 'cliftonscrummyanimalshelter': 2800, 'actor': 125, 'gerard': 6217, 'butler': 2018, 'malibu': 12270, 'httpswwwbishopikediblogcom': 8678, 'californiawildfiresactorgerardhtml': 2131, 'californiawildfiresactorgerardhtmlspreffb': 2132, 'shasta': 17380, 'eligible': 4755, 'receive': 16158, 'calfresh': 2103, 'httpwwwcdsscagovdisastercalfreshshastacounty': 9723, 'paradise': 14405, 'dwuqfzpictwittercom': 4524, 'osjhn': 14188, 'cam': 2155, 'crept': 3408, 'vacavillepoliceraceagainsttimerescueshelteranimalswildfirehtml': 20164, 'melt': 12571, 'charred': 2553, 'wreak': 21146, 'havoc': 6891, 'californiawildfireshttpswwwabpliveinworldnewsdeathtollreaches': 2138, 'incaliforniawildfirescarsmeltdownpowerlinescharredasgiantflameswreakhavoc': 10295, 'overcome': 14250, 'httpdlvritqr': 7730, 'integrative': 10511, 'httpswww': 8665, 'mdcomblogstayhealthyduringwildfires': 12489, 'ipccch': 10591, 'dieoff': 4039, 'coralreefs': 3243, 'esiwdi': 4988, 'unprecedented': 19958, 'petra': 14655, 'jordan': 10972, 'plugin': 15179, 'hybrid': 10044, 'pavement': 14514, 'surrounded': 18586, 'poorly': 15273, 'insulated': 10499, 'climatebreakdownpictwittercomkfwbun': 2803, 'master': 12410, 'flavortown': 5611, 'treated': 19529, 'guyfieri': 6697, 'choosekindness': 2667, 'giveback': 6291, 'httpqoolytga': 8161, 'written': 21167, 'edited': 4651, 'countriesdescribes': 3294, 'coral': 3241, 'reef': 16231, 'climateipccclimatereport': 2813, 'yzo': 21615, 'qy': 15939, 'sin': 17591, 'respiratory': 16417, 'longterm': 12017, 'onein': 14049, 'httpstribalvfh': 8482, 'prevalent': 15492, 'develop': 3974, 'simply': 17590, 'reclusive': 16175, 'firesafety': 5540, 'buildfirebunkers': 1936, 'legacy': 11693, 'premium': 15453, 'storage': 18332, 'bucket': 1914, 'wfrench': 20788, 'httpenbglobalestorecomproductslegacypremiumlongtermfoodstorage': 7744, 'servingcoffeebucketwfrenchpress': 17286, 'beready': 1327, 'shopsmall': 17483, 'foodstorage': 5795, 'volcano': 20426, 'llama': 11922, 'owl': 14287, 'cali': 2110, 'httpswwwbuzzfeednewscomarticleskbaeranimalsfleecaliforniawildfiresphotospictwittercomkm': 8692, 'xwqstd': 21397, 'conquer': 3130, 'cancer': 2198, 'hick': 7100, 'yosemite': 21532, 'vehiclerelated': 20248, 'usfssays': 20086, 'httpbingpediacom': 7485, 'causeofdeadlywildfirenearyosemitewasvehiclerelatedusfssays': 2395, 'woosley': 21074, 'ventura': 20258, 'lacounties': 11499, 'prompted': 15585, 'mandatory': 12300, 'voluntary': 20433, 'pch': 14536, 'southbound': 17971, 'northbound': 13687, 'bowgntg': 1724, 'burning': 1992, 'canyon': 2216, 'withstand': 20991, 'consumed': 3156, 'ifaw': 10139, 'httpsgifaworg': 8244, 'qtvtct': 15872, 'campfire': 2171, 'pictwitt': 14745, 'cigarette': 2708, 'incinerates': 10303, 'httpctvnewswjapwhk': 7655, 'carscowsearth': 2316, 'upclimate': 19995, 'changeweather': 2524, 'changefloods': 2521, 'wildfireslives': 20908, 'tesla': 18920, 'solve': 17908, 'problemtree': 15541, 'dryless': 4440, 'evyou': 5117, 'loan': 11957, 'nearparadise': 13352, 'httpswwwairiterscomcaliforniawildfiresfivepeoplefounddeadintheircarsnearparadise': 8669, 'theredcross': 19062, 'grantspass': 6531, 'hugo': 9922, 'oregonpictwittercombbvzfpdpqi': 14159, 'thanksgiving': 18976, 'lorastrum': 12037, 'httpstopbsorg': 8475, 'aea': 193, 'dun': 4484, 'essential': 4996, 'httpswwwredcrossorgdonatedonationhtmlciddisastermedcpcsourcegooglescodersg': 8838, 'gclsrcawdsgclidcj': 6172, 'kcqiaw': 11160, 'fbrcsarisagodhkw': 5361, 'ewoxcificp': 5121, 'yduqucrqvp': 21442, 'xaocf': 21269, 'qakfjinmg': 15760, 'ejmg': 4724, 'ryaaao': 16845, 'cealwwcb': 2451, 'disheartened': 4132, 'httpshubslyh': 8278, 'pattersonnbc': 14504, 'chico': 2625, 'httpsnbcnewsto': 8308, 'qmz': 15824, 'yfhttpswwwpscptvw': 21489, 'rdglqjpnamjl': 16098, 'sheen': 17389, 'plea': 15148, 'martin': 12389, 'heartnewspictwittercomyetea': 6968, 'cbqv': 2417, 'workits': 21087, 'ash': 779, 'carrfire': 2300, 'pawneefire': 14517, 'mendocinocomplex': 12592, 'fergusonfire': 5426, 'pictwittercomqifutrcvrl': 14926, 'melted': 12573, 'snapped': 17796, 'burninghell': 1993, 'httpssomsirsawordpresscom': 8370, 'killedcarsmeltedpowersnappedaswildfireturnscaliforniatownintoburninghellpictwittercomrmutoamngr': 11274, 'linking': 11847, 'fossilfuel': 5872, 'linked': 11845, 'hence': 7044, 'glib': 6325, 'sarcastic': 17001, 'whether': 20818, 'homestead': 7261, 'patio': 14495, 'enusbbpd': 4903, 'gocidst': 6376, 'skeleton': 17660, 'rmu': 16617, 'elite': 4760, 'silk': 17576, 'chemtrails': 2597, 'seeding': 17209, 'pinned': 15060, 'factor': 5260, 'highrisk': 7124, 'wildland': 20916, 'interface': 10529, 'santa': 16987, 'ana': 517, 'fireresilient': 5539, 'threshhold': 19138, 'precipitating': 15430, 'drought': 4405, 'httpswwwcnncom': 8700, 'worldclimatechangenewipccreportwxcindexhtml': 21093, 'banded': 1099, 'shore': 17484, 'pictwittercomckaxu': 14774, 'xqcj': 21361, 'elonmusk': 4771, 'submarine': 18445, 'environment': 4908, 'trucking': 19603, 'jeffbezos': 10828, 'billgates': 1444, 'gatesfoundation': 6140, 'combat': 2984, 'effectively': 4680, 'httpstwittercommtfirereliefstatus': 8580, 'plzunitedwedream': 15189, 'illegals': 10200, 'muslim': 13158, 'politician': 15244, 'lawyer': 11621, 'ivanka': 10707, 'demand': 3852, 'edsoros': 4662, 'taxeshows': 18794, 'vgsotn': 20292, 'httpswwwyoutubecomwatchvx': 8908, 'zubrfdkb': 21755, 'featureshare': 5390, 'httpsbbcin': 8198, 'ql': 15816, 'httpphonescreenguardcom': 8140, 'followback': 5749, 'twitterer': 19729, 'socialenvy': 17864, 'tweegram': 19710, 'photooftheday': 14715, 'instalike': 10485, 'igers': 10149, 'picoftheday': 14740, 'cxgtou': 3556, 'chilly': 2644, 'wearing': 20682, 'mask': 12399, 'fastmoving': 5334, 'fleeing': 5619, 'httpsnpr': 8321, 'yzzm': 21616, 'healthcare': 6947, 'education': 4664, 'pictwittercomsvgcvtajad': 14947, 'fundraising': 6040, 'workfromoutside': 21085, 'wreaking': 21147, 'httpswwwinstagramcompbmmvvouaezvutmsourceigtwittershareigshid': 8769, 'jn': 10915, 'affecting': 212, 'wildlife': 20918, 'httpstwittercomreturntofreedomstatus': 8614, 'battling': 1181, 'fieri': 5466, 'iupy': 10703, 'httpsiupyonline': 8287, 'firefightersareexhaustedafterbattlingcaliforniawildfiresthenspotguyfierisettingupfoodtent': 5528, 'bcwildfires': 1229, 'loosing': 12032, 'canning': 2208, 'device': 3977, 'httpstwittercomredcrosscanadastatus': 8611, 'upper': 20014, 'widespread': 20874, 'norovirus': 13681, 'httpswwwyahoocomnewslateststiffwindscontinuefanningcaliforniafires': 8898, 'htmlsocsrchlviewersoctrktw': 7428, 'yahoonews': 21417, 'recirculate': 16172, 'fur': 6054, 'pictwittercomdvjsgdhyph': 14791, 'firefighting': 5529, 'httpsbitly': 8200, 'xdttjm': 21292, 'deltafire': 3849, 'unionpacific': 19925, 'davidcaraccio': 3680, 'qysmidnytcoreiosshare': 15945, 'ipcc': 10590, 'httpsdfndus': 8218, 'yp': 21553, 'suk': 18497, 'smallest': 17741, 'backyard': 1052, 'mechanical': 12521, 'failure': 5270, 'powerline': 15360, 'weldingcutting': 20733, 'grass': 6534, 'plausible': 15134, 'vague': 20171, 'outline': 14226, 'seattle': 17183, 'pictwittercomflum': 14804, 'enhrp': 4872, 'temperature': 18880, 'rangeland': 16040, 'disrupt': 4147, 'productivity': 15560, 'livestock': 11893, 'decline': 3793, 'yield': 21498, 'harm': 6846, 'income': 10312, 'httpsgooglaswv': 8248, 'devinnunes': 3979, 'arson': 756, 'keswick': 11212, 'pictwittercomms': 14888, 'yievtz': 21500, 'dwarf': 4517, 'lifestyle': 11793, 'camo': 2166, 'lifestylecamopictwittercomlj': 11794, 'oicu': 13982, 'ty': 19743, 'dew': 3983, 'pbws': 14534, 'httpchristianobservernetdewsvspbwsbehindrecentwildfiresfoodforthoughtdews': 7645, 'pictwittercomnb': 14892, 'blacken': 1511, 'visibility': 20371, 'blocking': 1576, 'pictwittercomyrbimpqbt': 15012, 'sprawling': 18095, 'ignited': 10153, 'spark': 18005, 'httpseuusatodaycomstorynewsnation': 8234, 'homestorchedcaliforniafirerages': 7262, 'nine': 13570, 'httpswwwbuzzfeedcomskbaeranimalsfleecaliforniawildfiresphotosutmsourcedynamicutmcampaignbffbbuzzfeedrefbffbbuzzfeed': 8686, 'httpwwwcoastalgsrorg': 9733, 'httpswwwfacebookcomcoastalgsrposts': 8720, 'age': 239, 'httpswwwwesternjournalcomlloreneatonage': 8886, 'girlhandsfoodfirefightersbattlingragingwildfiresincludingfamilyutmsourcetwitterutmmediumpostsidesharingbuttonsutmcontent': 6286, 'blamed': 1519, 'httpsifttt': 8279, 'rsn': 16753, 'promote': 15583, 'infotrueliesmagazinecom': 10405, 'partnerpictwittercomvu': 14459, 'qani': 15762, 'heroism': 7072, 'bodycam': 1640, 'httpswwwsunnyskyzcomgoodnews': 8855, 'policebodycamfootageshowsofficersracingtoevacuateanimalshelterinpathofwildfirew': 15236, 'kb': 11148, 'cstwitter': 3481, 'californian': 2124, 'russell': 16815, 'incinerated': 10302, 'httpbitlycbsnewscast': 7489, 'emitted': 4807, 'pollution': 15255, 'httpswwwnbcnewscomstorylinewesternwildfirescaliforniawildfiresemittedyearsworthcarpollutionlessweekn': 8808, 'vegetation': 20236, 'vigilant': 20341, 'httpwdcli': 9664, 'dlvplpictwittercommu': 4198, 'xicl': 21315, 'mismanaged': 12780, 'armed': 729, 'inconveniently': 10320, 'empathy': 4816, 'ambiance': 466, 'resistancehttpsthebeast': 16410, 'oonxg': 14095, 'sourcetwitterviadesktop': 17968, 'httpnbcchicom': 8017, 'gzevlt': 6720, 'fest': 5431, 'sept': 17267, 'httpswwwplowiopostsfgreenfilmfestsept': 8823, 'touchesoncaliforniawildfiresutmsourcetwitterutmcampaigneastbayfood': 19418, 'hellabot': 7016, 'eastbay': 4594, 'verizon': 20269, 'throttled': 19152, 'wkbos': 21006, 'admits': 166, 'commandandcontrol': 3016, 'mskwaz': 13072, 'subdivision': 18439, 'wildlands': 20917, 'millennium': 12736, 'claiming': 2751, 'heirloom': 7007, 'httpswwwmercurynewscom': 8802, 'californiawildfiresitsapeopleproblem': 2139, 'ford': 5830, 'juror': 11049, 'monsantos': 12917, 'roundup': 16722, 'weedkiller': 20717, 'ydlzpictwittercomkbcekl': 21441, 'fba': 5355, 'equivalent': 4944, 'comic': 3008, 'changing': 2525, 'wxh': 21249, 'lddtqpictwittercom': 11641, 'rvvzdb': 16831, 'montana': 12922, 'vkvdft': 20398, 'cx': 3555, 'burn': 1983, 'undisturbed': 19886, 'inflammable': 10392, 'liquid': 11854, 'conducted': 3101, 'rim': 16554, 'convection': 3193, 'phonegolf': 14708, 'clubjunk': 2856, 'energy': 4850, 'reuniting': 16469, 'flint': 5630, 'trade': 19464, 'negotiation': 13381, 'tariff': 18770, 'sanction': 16957, 'nuke': 13804, 'resignation': 16407, 'urged': 20041, 'httppostibnptxpictwittercomsccqudz': 8151, 'advisory': 188, 'novel': 13739, 'process': 15546, 'pictwittercomxt': 15000, 'pntwqkt': 15211, 'commenting': 3021, 'dullard': 4475, 'canadaglobal': 2187, 'defender': 3815, 'armoured': 732, 'peaceful': 14553, 'intent': 10520, 'expansion': 5170, 'dougford': 4297, 'canadasaudi': 2188, 'sinclair': 17596, 'rogerscup': 16664, 'globalnews': 6341, 'unpacked': 19956, 'pictwittercomknfzmqmuk': 14860, 'mikebettes': 12713, 'wildfiresive': 20907, 'proven': 15625, 'method': 12633, 'researching': 16396, 'sheltersa': 17416, 'fireproof': 5538, 'demohttpdit': 3856, 'extraordinarythanks': 5223, 'bruce': 1883, 'httpsgooglglzufu': 8263, 'comfortable': 3002, 'breathing': 1802, 'burnt': 1995, 'recognition': 16178, 'skeletal': 17659, 'remainsfoul': 16310, 'halturner': 6773, 'httpswhistleblowerjeffholyspiritwindnet': 8660, 'warningextremelygraphicimagesofdeadbodiesburntbeyondrecognitiondowntoskeletalremainsfoullanguageaswellcaliforniawildfirescarsfilledwithdeadbodiesburntskeletonshal': 20573, 'httpstwittercomvangovanpoolsstatus': 8636, 'linecook': 11840, 'ilovefamilydog': 10209, 'pictwittercomypodhtrdwj': 15011, 'httptweetedtimescomv': 9619, 'stnp': 18306, 'exhaust': 5154, 'governor': 6468, 'construction': 3151, 'httpstwittercomwusa': 8644, 'pictwittercomq': 14923, 'quarantine': 15887, 'httpswwwdailymailcoukhealtharticle': 8704, 'norovirusoutbreakwildfireshelterofficialsforcedquarantinevomitingevacueeshtml': 13685, 'lemon': 11710, 'herb': 7056, 'beef': 1276, 'stir': 18294, 'coconut': 2923, 'milk': 12730, 'nourish': 13735, 'chefsforcaliforniapictwittercom': 2591, 'httpsapplenewsaxmz': 8194, 'jjgntocbye': 10893, 'lyjfoq': 12176, 'daring': 3655, 'housed': 7354, 'httpswwwfacebookcomgrouchypuppyposts': 8722, 'corapunzel': 3244, 'fbi': 5358, 'veteran': 20280, 'noballsdonnie': 13615, 'asbestos': 776, 'efficient': 4683, 'puertorico': 15674, 'failing': 5268, 'infrastructure': 10407, 'treasury': 19527, 'luoz': 12144, 'fhq': 5454, 'smokey': 17776, 'hydrated': 10049, 'recycling': 16199, 'pictwittercomx': 14992, 'yn': 21514, 'eyx': 5238, 'httpstwittercomrealdonaldtrumpstatus': 8610, 'greenhouse': 6568, 'boost': 1676, 'fahrenheit': 5264, 'intensifying': 10518, 'httpswwwipccchreportsr': 8795, 'increasingly': 10324, 'agricultural': 265, 'uscaliforniafiresanimalsheltersindexhtml': 20060, 'httpswwwnoroviruscomnorovirusoutbreakconfirmedatcaliforniawildfireshelternewyorkpost': 8811, 'httpnews': 8020, 'httpswwwnews': 8809, 'comworldnewswatchdramaticfootagefrominsidecarshowsdevastationofcaliforniawildfires': 3081, 'handful': 6796, 'obviously': 13896, 'imagining': 10221, 'goodsamaritan': 6424, 'nopetleftbehind': 13666, 'animalshelters': 567, 'disasterpets': 4098, 'campfirepets': 2176, 'buttecounty': 2021, 'californiawildfireshttpstwittercomjoshkrigerstatus': 2136, 'realistic': 16127, 'storyline': 18358, 'mystery': 13196, 'pictwittercomjl': 14848, 'mmxxlz': 12839, 'httpbitlywildfirerev': 7598, 'published': 15668, 'artist': 764, 'napa': 13238, 'wzedg': 21266, 'lung': 12140, 'ymm': 21512, 'succeed': 18462, 'thankyoufirstresponders': 18982, 'haze': 6903, 'cordyceps': 3247, 'fungus': 6044, 'historically': 7168, 'illness': 10203, 'longevity': 12012, 'restore': 16436, 'clinic': 2821, 'lunghealth': 12142, 'holistichealth': 7234, 'tcm': 18815, 'wildfiresmokepictwittercom': 20910, 'eqiinocf': 4936, 'alaska': 356, 'httpswwwadncomnationworld': 8666, 'withdiseaseinsheltersandrainintheforecastwildfireevacueesdesperatelysearchforshelter': 20988, 'ecosearch': 4641, 'httpssearchecointernetorgsearchresultsqdisease': 8358, 'shelterwrelevance': 17420, 'acre': 107, 'wyoming': 21264, 'horseshoecreek': 7323, 'threecripplecreek': 19134, 'httpswwwinstagramcompbnufq': 8773, 'yghvcutmsourceigtwittershareigshidrtyems': 21495, 'gckqz': 6170, 'peta': 14644, 'equaled': 4939, 'carbon': 2248, 'wildfiresmoke': 20909, 'seattlesmoke': 17185, 'dust': 4499, 'selective': 17229, 'vaporization': 20193, 'bewildering': 1367, 'accept': 70, 'zephyrfire': 21658, 'extinguished': 5218, 'tahoefire': 18714, 'laketahoeusfs': 11527, 'befiresafe': 1283, 'pictwittercomlvjtoku': 14868, 'vm': 20403, 'novice': 13742, 'dnxegk': 4214, 'fled': 5616, 'onli': 14063, 'testament': 18926, 'performs': 14614, 'doubledown': 4293, 'goodwill': 6427, 'homerunhttpsjalopnikcomnursewhocookedhistrucktohelpcaliforniawildfire': 7257, 'utmmediumsocialflowutmcampaignsocialflowjalopnikfacebookutmsourcejalopnikfacebookfbclidiwar': 20124, 'ov': 14245, 'lscykptvwvthcwud': 12107, 'giq': 6281, 'qnjmkd': 15827, 'ljrubvdiue': 11912, 'kvyo': 11458, 'ragc': 15977, 'httpsyoutubell': 8915, 'bshsic': 1897, 'tirelessly': 19229, 'saved': 17026, 'usanimalshelterpetsrescuedvacavillehtml': 20056, 'realsuperheroespictwittercom': 16139, 'acsgsnv': 110, 'foodtv': 5803, 'worldkitchenhttpstwittercomguyfieristatus': 21095, 'clara': 2759, 'coordinating': 3227, 'cqchoi': 3336, 'netneutrality': 13447, 'httpsarstechnicacomtechpolicy': 8197, 'verizonthrottledfiredepartmentsunlimiteddataduringcalifwildfire': 20272, 'httpsnzzlusuwmnldm': 8326, 'httponnbc': 8057, 'comv': 3078, 'kan': 11103, 'woolsey': 21067, 'pepperdine': 14601, 'initiated': 10429, 'httpemergencypepperdineedu': 7743, 'overall': 14249, 'coat': 2916, 'tail': 18715, 'allstar': 423, 'oiler': 13987, 'disappoint': 4091, 'combined': 2988, 'beak': 1239, 'backends': 1044, 'peasant': 14565, 'tollof': 19304, 'brutalfires': 1893, 'vehiclegrew': 20247, 'httpsampusatodaycomamp': 8179, 'twitterimpressiontrue': 19730, 'anticipated': 604, 'windowsdoors': 20940, 'uvwwiuwsx': 20144, 'result': 16441, 'net': 13445, 'neutrality': 13450, 'repeal': 16350, 'pictwittercomiygjgvjbcr': 14840, 'unforgettable': 19901, 'tale': 18730, 'mercury': 12611, 'httpsapplenewsafukstkrqt': 8185, 'kg': 11234, 'gpovtzgva': 6481, 'httpsennewsnercomfamilyfirefightersareexhaustedafterbattlingcaliforniawildfiresthenspotguyfierisettingupfoodtent': 8231, 'newsner': 13487, 'english': 4866, 'skin': 17668, 'paw': 14515, 'acupuncture': 130, 'healing': 6945, 'httpswwwfacebookcomendeavourcollegeofnaturalhealthposts': 8721, 'httpsgooglfb': 8251, 'uemmd': 19794, 'meltdown': 12572, 'expiration': 5188, 'infrared': 10406, 'westworld': 20772, 'quinn': 15909, 'httpdlvritqqtfwtpictwittercomhbk': 7729, 'maqrch': 12338, 'stressed': 18386, 'hundr': 9945, 'httpswwwhuffingtonpostcomentrycaliforniawildfiresshelterchicous': 8753, 'httpssearchecointernetorgsearchresultsqinside': 8359, 'wildfirewrelevance': 20914, 'fascinating': 5327, 'predator': 15435, 'breeding': 1806, 'httpstwittercomsantamonicamtnsstatus': 8618, 'tearful': 18840, 'entertainment': 4892, 'httptinyurlcomy': 9577, 'equm': 4945, 'pittsburgh': 15077, 'engulfs': 4869, 'httpdlvritqqtb': 7728, 'hpictwittercom': 7389, 'jvxl': 11070, 'ttsv': 19654, 'disabilitychild': 4088, 'budget': 1924, 'intergovernmental': 10532, 'panel': 14384, 'maximum': 12442, 'climatechangepictwittercom': 2808, 'cihfqv': 2710, 'somethings': 17922, 'fishy': 5568, 'unique': 19926, 'tilapia': 19196, 'repost': 16370, 'getrepost': 6231, 'fish': 5560, 'cub': 3495, 'receives': 16160, 'httpswwwfacebookcomjohnlewlosvideos': 8724, 'httpstwittercomabcstatus': 8488, 'rolloversof': 16678, 'occur': 13906, 'often': 13957, 'percent': 14605, 'httpstwittercomwildfiretodaystatus': 8642, 'summary': 18504, 'heatwave': 6981, 'foodsupply': 5798, 'extremeweatherhttpsinsideclimatenewsorgnews': 5226, 'heatwavewildfiresclimatechangeevidencecropsfloodingdeathsrecordsbroken': 6983, 'crosscountry': 3443, 'beetle': 1282, 'firsthand': 5554, 'httpsrelaynationalgeographiccomproxydistributionpublicamptraveldestinationsnorthamericaunitedstatesbikerideclimatechangeimpacttwitterimpressiontrue': 8351, 'battled': 1180, 'greekfires': 6560, 'jtpjh': 11015, 'annoyance': 587, 'redding': 16213, 'sparked': 18006, 'sixthmost': 17641, 'httpsslatecomnewsandpolitics': 8367, 'aflattirewasresponsibleforsparkingcaliforniasdeadlycarrfirehtml': 216, 'indoors': 10369, 'httpssanfranciscocbslocalcom': 8356, 'helpvictimswildfirebuttecounty': 7040, 'denier': 3863, 'httpswwwcnncomstylearticledoomsdayluxurybunkersindexhtml': 8701, 'specie': 18023, 'specially': 18021, 'protecting': 15608, 'reddingstrong': 16214, 'mendocinocomplexfire': 12593, 'firenado': 5533, 'firevortex': 5546, 'holyfire': 7239, 'statefarmpictwittercompyztld': 18217, 'hbg': 6909, 'kilometer': 11279, 'postscript': 15332, 'origin': 14171, 'turkey': 19680, 'trot': 19589, 'bibchat': 1407, 'httpstwittercomr': 8606, 'firenewsstatus': 5535, 'climatechangeisreal': 2807, 'sustainability': 18610, 'ourfuture': 14215, 'httptimecom': 9568, 'nelsonfirescpacatsdogsrescue': 13397, 'bestest': 1353, 'pictwittercomkhm': 14857, 'xfj': 21305, 'norhkz': 13673, 'investigator': 10570, 'sparking': 18007, 'threeweek': 19137, 'clos': 2831, 'zvtyym': 21763, 'paradisefire': 14408, 'httpwwwdeepfindorgcaliforniawildfiresfivepeoplefounddeadincarscaughtupinparadisefirepictwittercomzjjsiwagtq': 9740, 'minnesota': 12763, 'drop': 4400, 'paved': 14513, 'gmo': 6363, 'aluminum': 446, 'engage': 4854, 'understanding': 19882, 'sooner': 17938, 'weapon': 20673, 'wherever': 20817, 'cajun': 2091, 'humidity': 9940, 'loses': 12048, 'cowboy': 3322, 'httpwwwfox': 9759, 'austincomsportscaliforniawildfirevictimlosesallexceptcowboysticketscarplanstoattendthanksgivinggame': 914, 'larger': 11573, 'scarce': 17066, 'thirstyfood': 19103, 'engagethechain': 4857, 'oidpdq': 13983, 'mismanagement': 12781, 'primary': 15508, 'purpose': 15707, 'orchestrated': 14149, 'ruthless': 16823, 'httpsapplenewsaeocd': 8184, 'vdkt': 20221, 'slyd': 17732, 'pdl': 14546, 'greatly': 6554, 'appreciated': 669, 'camarillo': 2156, 'httpwwwvcasusdonate': 9853, 'feedingamerica': 5403, 'potent': 15336, 'zjb': 21695, 'osts': 14193, 'demonstrates': 3859, 'ghe': 6254, 'prosperity': 15604, 'qosvv': 15837, 'oyl': 14309, 'vox': 20450, 'cnbc': 2882, 'heavenssake': 6986, 'magflights': 12223, 'realtime': 16141, 'inlcuding': 10437, 'passageable': 14471, 'unsafe': 19966, 'othercatastrophieshttpsbabyawacswordpresscom': 14194, 'wildfiresautoautoscarcarsvoxfoxabccnbcespncbsamcforheavenssakefeedthemagflightsrealtimesaferoutesoutinlcudingsattemperatureswindswherethestuffispassageable': 20902, 'represent': 16372, 'httpswwwusatodaycomstorynewsnation': 8871, 'carrfirecaliforniawildfiresgetworsegovjerrybrownsays': 2301, 'kxan': 11461, 'contained': 3162, 'httpsplanetradiocouktfmskyworldcaliforniawildfiredeathsriseto': 8341, 'asmorebodiesarefoundincarsandhomes': 798, 'increased': 10322, 'insecurity': 10461, 'ecosystem': 4642, 'nmleghttpstwittercomnmreportstatus': 13599, 'sunrise': 18523, 'ferry': 5430, 'vancouver': 20185, 'dogsoftwitter': 4239, 'dogsofinstagram': 4238, 'dogslife': 4237, 'pictwittercomzp': 15024, 'aezhoj': 201, 'httpwwwoneindiacominternationalnortherncaliforniawildfiretollreaches': 9815, 'peoplefounddeadincarshomes': 14590, 'squished': 18132, 'identifies': 10121, 'occurring': 13908, 'mf': 12644, 'smidnytcoreiosshare': 17762, 'sanctuary': 16958, 'trafficking': 19473, 'organ': 14162, 'httpchroncom': 7646, 'httpswwwnoroviruscomthelatestoutbreakofnorovirusatwildfireshelterchroncom': 8812, 'duo': 4493, 'hellthey': 7021, 'jesseandjd': 10853, 'cjay': 2740, 'httpsgoogln': 8265, 'eapb': 4553, 'woosleyfire': 21075, 'wsp': 21190, 'maintained': 12247, 'httpsonkremcom': 8330, 'lzzusopictwittercomkhxtmkjjhe': 12188, 'qqps': 15850, 'instadai': 10476, 'alternative': 439, 'catastrophe': 2365, 'dieoffs': 4040, 'conflict': 3111, 'deafening': 3748, 'piercing': 15032, 'xym': 21402, 'worldgeochat': 21094, 'sschat': 18145, 'edchat': 4645, 'advertise': 183, 'navigating': 13283, 'surrounding': 18587, 'httppostjsdsq': 8154, 'pictwittercomiprr': 14835, 'heatwaves': 6982, 'sealevelrise': 17161, 'climateaction': 2802, 'httpwwwbusinessinsiderfruswheretolivetoavoidnaturaldisasterclimatologists': 9717, 'bifrance': 1419, 'httpsnewsskycomstorycaliforniawildfiredeathsriseto': 8311, 'globalwarming': 6342, 'reggie': 16262, 'ericwynalda': 4955, 'audio': 896, 'iheartmedia': 10169, 'httpwwwiheartcomvideoplayreidnewassets': 9776, 'teton': 18929, 'yellowstone': 21467, 'moose': 12942, 'httpswwwinstagramcompbmfvb': 8767, 'xhgf': 21311, 'utmsourceigtwittershareigshid': 20127, 'bhp': 1401, 'grpzpi': 6618, 'httpshrgs': 8277, 'kkpqxkpictwittercomqftrzyu': 11332, 'harrowing': 6857, 'commitment': 3024, 'educator': 4665, 'httpblogsedweekorgedweekdistrictdossier': 7625, 'californiafireravagesschoolhtmlcmpsoctwshr': 2117, 'quicker': 15904, 'planet': 15121, 'httpsgooglzxupph': 8267, 'november': 13741, 'httpdrewandmikepodcastcomdrewandmikenovember': 7737, 'sieg': 17552, 'hiel': 7107, 'celebs': 2461, 'coopting': 3224, 'precogs': 15434, 'shooter': 17475, 'bookcameo': 1670, 'exclusivity': 5144, 'kristin': 11413, 'babypictwittercomljeukioqu': 1040, 'fleeescaping': 5618, 'wolf': 21047, 'vimeo': 20355, 'dftj': 3991, 'httpcarpropertycom': 7635, 'glacier': 6309, 'oq': 14141, 'dej': 3826, 'realestate': 16124, 'healthypaws': 6953, 'playa': 15136, 'vista': 20379, 'collar': 2955, 'leash': 11669, 'playavista': 15138, 'californiawildfire': 2126, 'calfunds': 2104, 'homesprovides': 7260, 'httpswwwcalfundorgwildfirerelieffund': 8693, 'httpswwwdirectrelieforgemergencycaliforniawildfires': 8709, 'enusbbltaouocidst': 4901, 'zzl': 21780, 'fa': 5244, 'aquarius': 690, 'feat': 5387, 'juicy': 11030, 'sweataquarius': 18641, 'thug': 19165, 'joyride': 10992, 'ooh': 14089, 'ravaging': 16075, 'busier': 2007, 'mcintyres': 12474, 'policy': 15238, 'analyst': 522, 'bonner': 1664, 'httpcfactorg': 7642, 'indeed': 10330, 'httpwwwcfactorg': 9725, 'firesfarworselastcentury': 5541, 'carr': 2299, 'grandmother': 6521, 'drain': 4337, 'unlimited': 19946, 'unburned': 19861, 'stalled': 18178, 'choked': 2663, 'carburetor': 2250, 'woefully': 21044, 'rage': 15978, 'uscaliforniafireshtmlpartnerrssemcrss': 20065, 'routinely': 16725, 'pictwittercomgysqulfjyx': 14817, 'robin': 16641, 'thicke': 19083, 'shannen': 17369, 'doherty': 4242, 'httpswwwusatodaycomstorylifepeople': 8869, 'robinthickeshannendohertylosehomescaliforniawildfires': 16644, 'reallywho': 16137, 'homeswhat': 7263, 'celeb': 2457, 'appreciate': 668, 'cinematographer': 2715, 'heartwarming': 6969, 'burnedout': 1987, 'animalrescue': 563, 'httpswwwdailymailcouknewsarticle': 8705, 'heartwarmingmomentmancrawlsburnedtruckrescueterrifiedcathtmlv': 6970, 'pictwittercomuqr': 14966, 'oqyu': 14144, 'invades': 10560, 'httpswwwharmanyappcom': 8751, 'httpsweathercomnewsnews': 8658, 'northerncaliforniawildfirecampfireevacuations': 13695, 'harmany': 6847, 'wildfirezone': 20915, 'brim': 1834, 'hotburning': 7333, 'flammable': 5599, 'microwave': 12685, 'laser': 11583, 'interference': 10530, 'anyhow': 620, 'select': 17227, 'untouched': 19978, 'httpswwwyoutubecomwatchv': 8903, 'qgtwrmuozs': 15799, 'partnership': 14460, 'wednesdaymotivation': 20711, 'yycvote': 21605, 'airbnb': 296, 'omyuvx': 14041, 'cluster': 2859, 'resid': 16401, 'rubber': 16778, 'sell': 17238, 'douglas': 4298, 'tender': 18888, 'californiastrong': 2125, 'grainfree': 6512, 'openfarmpet': 14111, 'httpswwwinstagramcompbqqb': 8778, 'wwbot': 21234, 'miamibased': 12664, 'watergenusa': 20626, 'httpswsvncomnewslocalspecializedwatertruckheadedtocaliforniatoassistindeadlywildfires': 8664, 'watergen': 20625, 'waterfromair': 20624, 'waterfrocalifornia': 20623, 'watersolution': 20631, 'airtowater': 319, 'erv': 4975, 'awg': 992, 'interview': 10546, 'grandfather': 6518, 'grandchild': 6516, 'themhe': 19040, 'listened': 11862, 'rushed': 16811, 'yahweh': 21418, 'httpswwwautoblogcom': 8674, 'videofathersondrivethroughglacierparkwildfire': 20332, 'diligent': 4057, 'properly': 15594, 'disposing': 4144, 'roadway': 16623, 'httpskomonewscomnewsnationworldnortherncaliforniablazequadruplesinsize': 8292, 'motorist': 12992, 'arm': 728, 'httpswwwbbccomnewsworlduscanada': 8676, 'attempting': 873, 'httpsdvdclipcomatleastfivekilledattemptingtofleenortherncaliforniawildfire': 8221, 'flare': 5600, 'columbia': 2978, 'httpowlyilop': 8089, 'lzxih': 12187, 'eventually': 5079, 'pitbull': 15071, 'duffel': 4470, 'trio': 19570, 'aggressively': 249, 'blazing': 1531, 'forestmismanagement': 5839, 'sustainablemovement': 18612, 'zfmsxc': 21670, 'wildfirenews': 20896, 'foodwastestudypictwittercomm': 5805, 'lgxrdyl': 11757, 'httpswwwinstagramcompbqewtieboqqutmsourceigtwittershareigshidpx': 8776, 'flazokami': 5612, 'dramatically': 4342, 'secure': 17199, 'civilization': 2737, 'stake': 18169, 'httpnymagcomintelligenceramp': 8040, 'unsaysclimategenocidecomingbutitsworsethanthathtmltwitterimpressiontrue': 19968, 'threaten': 19128, 'livelihood': 11884, 'sustainable': 18611, 'stability': 18152, 'reactor': 16110, 'portugal': 15300, 'tames': 18748, 'banned': 1113, 'polluting': 15254, 'heatlinked': 6980, 'ozone': 14319, 'ozonhttpsapnewscomba': 14321, 'eebb': 4667, 'cawxhttpstwittercomskarlamanglastatus': 2406, 'kelowna': 11191, 'cst': 3479, 'carson': 2327, 'thrilled': 19142, 'httpraiseathoncacopsforkidsrideprofilej': 8163, 'kl': 11336, 'kfi': 11229, 'martinsheen': 12391, 'woolseyfire': 21068, 'thoughtsprayersaction': 19123, 'uwashcom': 20147, 'vehicleblamedfordeadlycaliforniawildfire': 20242, 'clovis': 2851, 'calif': 2112, 'veh': 20238, 'pictwittercomnum': 14901, 'jm': 10905, 'pcl': 14538, 'assigned': 813, 'shastastrongpictwittercomownyfdz': 17381, 'shtf': 17520, 'preppers': 15468, 'gobag': 6372, 'medicinetoiletries': 12539, 'httpstwittercombenioffstatus': 8498, 'olts': 14029, 'paramount': 14414, 'ranch': 16032, 'hbos': 6912, 'httpswwwwthrcomarticlewildfiretorchesfamedmoviesitesendscelebritiesfleeing': 8892, 'jerry': 10848, 'tgxilbpictwittercomwd': 18960, 'vyvvau': 20495, 'commander': 3017, 'dqlfqg': 4328, 'pictwittercomdrwbrpm': 14789, 'httpstwittercomcnnstatus': 8515, 'pictwittercomcf': 14772, 'lv': 12154, 'brush': 1890, 'httpstheopenviewin': 8469, 'wildfiredeathtollrisesassearchformissingcontinues': 20892, 'creek': 3402, 'grown': 6614, 'hectare': 6992, 'dease': 3758, 'hub': 9906, 'pictwittercomvtueho': 14981, 'httpswwwbrothershelpingbrothersorgvehicleblamedfordeadlycaliforniawildfire': 8681, 'print': 15518, 'leaflet': 11656, 'explaining': 5192, 'carjessica': 2276, 'httpslinkmediumcom': 8298, 'nf': 13506, 'crxvdr': 3468, 'heavenly': 6985, 'httpswwwpremierorguknewsworldheavenlyfatherpleasehelpusfamilyincarfleedeadlyuswildfiresutmsourcepremierchristianmediautmmediumemailutmcampaign': 8825, 'dailynews': 3596, 'dmi': 4204, 'msa': 13062, 'cndfez': 2886, 'applied': 665, 'httpsstarspostcomcaliforniawildfirestearfulsurvivorfindscharredourbodiesinvehiclesafternarrowlyescapingaslossoflifetollshits': 8373, 'pictwittercomvotmfj': 14979, 'yrd': 21562, 'pictwittercomlypgqwgvfq': 14872, 'kkj': 11327, 'holiday': 7232, 'basket': 1160, 'roasted': 16627, 'verity': 20268, 'assortment': 823, 'tray': 19524, 'christmas': 2690, 'exercise': 5152, 'debatable': 3764, 'helpvictimscampfirebuttecountydonatevolunteer': 7039, 'httpstwittercomracysicilianstatus': 8607, 'httpswpmep': 8662, 'zomh': 21724, 'consequence': 3134, 'managed': 12290, 'reduced': 16224, 'juwkaypictwittercomrb': 11067, 'qrlraki': 15856, 'hardrockheals': 6842, 'counseling': 3286, 'httpswwwredcrossorgdonatecmhardrockpubhtml': 8836, 'canoe': 2211, 'copaba': 3230, 'amap': 458, 'nshgeopictwittercomjggxuc': 13775, 'dk': 4189, 'metal': 12629, 'enusbbm': 4902, 'qxoocidst': 15937, 'ladygaga': 11505, 'lxp': 12169, 'markemarktweetshttpswwwwblicomnewsnationalladygagadeliverspizzawildfireevacueesduringworldkindnessday': 12364, 'kduqz': 11170, 'bglft': 1382, 'rqvje': 16742, 'dgo': 3999, 'gender': 6191, 'nday': 13332, 'heroic': 7071, 'indigenous': 10362, 'lakecounty': 11525, 'chest': 2605, 'blanketssleeping': 1523, 'hygiene': 10053, 'product': 15557, 'glide': 6326, 'ave': 956, 'vintage': 20359, 'norman': 13677, 'timbs': 19201, 'httpwwwthedrivecomnews': 9839, 'californiawildfireclaimsvintagecarcollectionincluding': 2127, 'normantimbsspecialxidfbshare': 13679, 'cooked': 3211, 'midterm': 12698, 'sensepictwittercomcbrobpirw': 17260, 'khsu': 11251, 'httpwwwkhsuorgpostcampfireupdates': 9784, 'northerncalifornia': 13694, 'httpsdailymai': 8215, 'pkrj': 15107, 'httpstwittercomjessepestastatus': 8544, 'patterson': 14503, 'httpswwwfacebookcomiamaliberaltilmydyingdayposts': 8723, 'pgsobota': 14679, 'pgswiech': 14680, 'statefarm': 18216, 'takb': 18721, 'lpictwittercomcwqygdddiy': 12093, 'httpsnewsskycomstoryfivedieintheircarsaswildfiresspreadandmalibuisevacuated': 8314, 'httpswwwctvnewscacanadahumansresponsibleformorethan': 8703, 'bcwildfiressofarthisseason': 1230, 'httpsgooglfbfd': 8256, 'rka': 16599, 'fingerprint': 5511, 'trap': 19504, 'sunlight': 18519, 'atmosphere': 861, 'baseline': 1153, 'hospitable': 7324, 'lmfpx': 11938, 'calwildfires': 2154, 'cawxpictwittercomilvz': 2407, 'goliq': 6404, 'eater': 4604, 'httpswwweatercom': 8712, 'californiawildfiresfirstrespondersdiet': 2134, 'ohubz': 13980, 'smoky': 17778, 'throat': 19148, 'partly': 14456, 'ridden': 16524, 'httpstwittercomrgjstatus': 8615, 'yieldquality': 21499, 'abroad': 48, 'httpstwittercomkhayhoestatus': 8553, 'gtuhpictwittercomtgsxdf': 6637, 'dyi': 4531, 'thomas': 19115, 'fuller': 6031, 'haag': 6724, 'medina': 12541, 'rkq': 16601, 'bpictwittercomqe': 1741, 'prrvral': 15636, 'dope': 4284, 'streaming': 18376, 'httpswwwfacebookcomclairemagazineposts': 8719, 'pair': 14357, 'httpsfxnws': 8240, 'vsfqcwpictwittercomhexlm': 20463, 'bpictwittercomkwsxrru': 1739, 'cm': 2863, 'dispatched': 4139, 'mendocino': 12591, 'httpswwwsacbeecomnewsstatecaliforniafiresarticle': 8847, 'htmlstorylinkcpy': 7431, 'notification': 13722, 'ffh': 5441, 'document': 4221, 'kqednewshttpswwwkqedorgnews': 11403, 'howtohelpcampfirevictims': 7380, 'raking': 16012, 'prevents': 15497, 'notion': 13726, 'hoax': 7216, 'noticed': 13720, 'melting': 12575, 'americares': 483, 'httpswwwamericaresorgennewsroomnews': 8672, 'gf': 6241, 'koyct': 11393, 'lungdamaging': 12141, 'allergen': 407, 'pollutant': 15252, 'pictwittercomgjf': 14813, 'exlhki': 5165, 'silvercreek': 17583, 'salvationarmy': 16937, 'cracker': 3349, 'pictwittercommchwwhxpxz': 14877, 'firecalifornia': 5523, 'topbuzz': 19342, 'httpvatopbuzzcomsmqftdt': 9648, 'themosthigh': 19045, 'httpvanewsrepublicnetsuxxydt': 9646, 'nytclimate': 13854, 'manmadecat': 12318, 'dph': 4320, 'smpictwittercomtbims': 17783, 'bzw': 2065, 'ipccreporthttpstwittercomcbsthismorningstatus': 10594, 'convinced': 3205, 'omnipresent': 14040, 'scent': 17085, 'inflamed': 10391, 'wolfish': 21049, 'wildfireavoidance': 20889, 'chew': 2613, 'pictwittercomxkgb': 14995, 'gbewg': 6161, 'champion': 2511, 'harper': 6854, 'spicy': 18049, 'lasso': 11587, 'willa': 20921, 'httpsamznto': 8180, 'piwpictwittercomcaylrroxli': 15083, 'beerandpizzaday': 1280, 'partyoncheers': 14464, 'devastate': 3968, 'spectator': 18028, 'winespectator': 20950, 'webfeature': 20702, 'pictwittercomaosvzhribj': 14754, 'httpswwwsiasatcomnewscarsmeltpowerdownwildfireturnscaliforniatownburninghell': 8852, 'pictwittercommee': 14878, 'hbxwcs': 6917, 'quitedetailed': 15916, 'temporary': 18883, 'uscaliforniawildfirewalmarttenthtml': 20070, 'keflex': 11181, 'antibiotic': 602, 'doom': 4278, 'bloom': 1585, 'nahck': 13215, 'pictwittercomuqlrjzer': 14964, 'reducing': 16226, 'aware': 978, 'restriction': 16439, 'extinguishing': 5219, 'dragging': 4334, 'pictwittercomvacdmjbkvd': 14973, 'waterdrop': 20619, 'douse': 4299, 'incrediblefootageshowscaliforniansfleeinglatestfiresflameslicksidesinterstatehtml': 10326, 'annually': 591, 'interplay': 10542, 'choke': 2662, 'farmworkers': 5323, 'wtakck': 21195, 'coincidence': 2942, 'haiku': 6744, 'conchita': 3088, 'ubuxjxlwrq': 19775, 'buzz': 2031, 'bioweapon': 1459, 'airpollution': 312, 'remove': 16330, 'identical': 10119, 'particulate': 14455, 'httpsqraetuhgx': 8348, 'pictwittercommt': 14889, 'lamwf': 11541, 'infierno': 10389, 'manchester': 12297, 'sigalert': 17554, 'particularly': 14454, 'perhaps': 14615, 'melania': 12564, 'possession': 15312, 'relationship': 16283, 'damian': 3617, 'european': 5044, 'httpswwwtraveller': 8866, 'comexploregreeneuropeanheatwaveportugaltameswildfirewhilefrenchcitiesbancars': 3000, 'segment': 17220, 'vico': 20322, 'througho': 19153, 'vv': 20484, 'dxn': 4528, 'httpswwwdoomandbloomnetsurvivalmedicinehourwildfiresurvivalkeflexandotherantibioticsmorepictwittercomde': 8711, 'gcnbesn': 6174, 'caters': 2377, 'lover': 12075, 'serf': 17270, 'grace': 6499, 'unbeatable': 19857, 'httpsseahorseranchcom': 8357, 'wildfireproperties': 20898, 'httpssortiwacomwildfireskillatleast': 8371, 'trappedincarsinnortherncalifornia': 19508, 'httpsseattleinformercom': 8360, 'vehicleblamedfordeadlycaliforniawildfirepictwittercomvvdy': 20244, 'bixr': 1485, 'agreebefore': 262, 'enusbbpx': 4904, 'docidst': 4218, 'maga': 12219, 'caravan': 2242, 'patriot': 14498, 'smoldering': 17779, 'httpswwwbloombergcomnewsarticles': 8680, 'thelatestofficialsreopenmajorlosangelesareafreeway': 19032, 'arctic': 701, 'polarbears': 15233, 'wwcc': 21236, 'httpsyoutubey': 8922, 'wda': 20664, 'oipictwittercomat': 13989, 'wjfyqeo': 20998, 'realdonaldtrumphttpstwittercomnanfitzpatrickstatus': 16123, 'helmetcam': 7024, 'retardant': 16446, 'mutualaid': 13165, 'wsome': 21189, 'nmas': 13598, 'situationalawareness': 17631, 'anotherreasonwewearhelmets': 595, 'itsalsoslippery': 10682, 'cafire': 2083, 'iafc': 10079, 'hardhats': 6838, 'ppe': 15367, 'airtankerhttpstwittercomshorealonefilmsstatus': 318, 'nurse': 13809, 'allnew': 415, 'tundra': 19670, 'trd': 19525, 'adventist': 180, 'httpwwwautomotivetestdriverscomheronursetakesdeliveryofallnewtoyotatundratrdpro': 9702, 'utmsourcedlvritutmmediumtwitter': 20126, 'automotivepictwittercomlsmvwvwoob': 940, 'wildfireogist': 20897, 'corner': 3253, 'coproducing': 3237, 'mammal': 12282, 'fart': 5324, 'speck': 18026, 'compared': 3043, 'adopts': 169, 'loving': 12077, 'forever': 5842, 'fate': 5341, 'uintah': 19820, 'ufd': 19799, 'marcweaver': 12350, 'ksltvpictwittercomhhg': 11425, 'mbxzjb': 12460, 'piwpictwittercomrhkqc': 15086, 'jsxt': 11010, 'meowing': 12602, 'barking': 1137, 'cnnhttpscnnit': 2894, 'orji': 14175, 'oezf': 13936, 'basis': 1159, 'franchise': 5899, 'httpwwwclydefitchreportcom': 9731, 'climatechangeunitednations': 2810, 'imprisoning': 10278, 'imprison': 10277, 'morally': 12946, 'bankrupt': 1109, 'connectthedots': 3128, 'cattle': 2390, 'grazing': 6542, 'herd': 7058, 'uscaliforniafireshtml': 20062, 'themhttpwildfirecrisiscom': 19041, 'shoutout': 17500, 'gettyvilla': 6235, 'secured': 17200, 'villa': 20349, 'gettymuseum': 6234, 'httpblogsgettyeduirisnewsgettyvillacentersafefromfirespictwittercomx': 7626, 'gcodp': 6175, 'kcranews': 11161, 'kyburz': 11470, 'guessing': 6651, 'pictwittercoml': 14864, 'srj': 18139, 'fed': 5395, 'spends': 18043, 'thinning': 19099, 'cutting': 3542, 'diseased': 4128, 'subsidy': 18455, 'directed': 4076, 'httpstwittercomjohnschreiberstatus': 8548, 'httpseinnewscommtzsq': 8227, 'pfq': 14669, 'httpswsoeorgvehicleblamedfordeadlycaliforniawildfire': 8663, 'httpsabcnws': 8176, 'littering': 11874, 'epo': 4932, 'gx': 6709, 'httpvizecraftmenorovirusoutbreakinwildfireshelterincalifornia': 9659, 'deadass': 3740, 'singular': 17607, 'virus': 20369, 'sweeping': 18647, 'httpsdailycallercom': 8214, 'noroviruscaliforniacampwoolseywildfire': 13682, 'dailycaller': 3591, 'httpyoutubell': 9890, 'software': 17879, 'unlock': 19947, 'supercharging': 18530, 'upgrade': 20007, 'cynhvbhpf': 3569, 'exception': 5134, 'psychotic': 15652, 'httpstfsnewscomnothingherecaliforniansreturntotowndestroyedbyblaze': 8467, 'thick': 19082, 'ferocious': 5427, 'pictwittercomlvrqyvsfup': 14869, 'httpswwwsfgatecomnewsarticlewithdiseaseinsheltersandraininthe': 8851, 'phputmcampaigntwitterdesktoputmsourcecms': 14719, 'buttonutmmediumsocial': 2027, 'sfgate': 17325, 'httpswwwplowiopostfivekilledincarsascaliforniawildfirescausedevastationutmsourcetwitterutmcampaignsanfrancisco': 8821, 'foggybot': 5743, 'sfbay': 17321, 'httpsglobalnewscanews': 8245, 'bodycamvideosaveshelteranimalscaliforniawildfirepictwittercomg': 1642, 'qjwvehlm': 15809, 'outdoor': 14220, 'enveloped': 4907, 'httpsabc': 8175, 'ltreds': 12116, 'httppostibnptx': 8150, 'pictwittercomzhpxejnvpv': 15018, 'screened': 17134, 'cheez': 2589, 'puff': 15675, 'removed': 16331, 'tsa': 19633, 'agent': 244, 'waltz': 20548, 'loo': 12019, 'seaport': 17166, 'howimakeadifference': 7377, 'httpskhafayalbcomfourthauthoritykhafaya': 8290, 'principally': 15516, 'fecal': 5394, 'httpsnypostcom': 8323, 'norovirusoutbreakconfirmedatcaliforniawildfireshelter': 13683, 'settling': 17296, 'pictwittercombpmga': 14766, 'rehabilitate': 16271, 'httpwwwidausaorgdisasterrelief': 9775, 'pictwittercomqhdejhzffo': 14924, 'survivingmars': 18597, 'sol': 17886, 'initial': 10428, 'infection': 10387, 'countless': 3293, 'paying': 14521, 'shipping': 17447, 'bribing': 1820, 'eradicated': 4948, 'pictwittercomreqsobmyyb': 14930, 'engulfing': 4868, 'organism': 14165, 'disappear': 4090, 'alter': 437, 'capradionews': 2231, 'ucdavisnews': 19781, 'connecting': 3126, 'httpwwwcapradioorgarticles': 9718, 'ifthissmallorganismcontinuestodisappearincaliforniasforestsduetowildfiresitwillalterthefoodchainpictwittercom': 10144, 'qb': 15765, 'wml': 21027, 'encroach': 4834, 'httpstwittercomkhanoisseurstatus': 8552, 'forestry': 5840, 'researcher': 16395, 'stewart': 18275, 'nuance': 13794, 'zpt': 21733, 'liplxpictwittercomxqkvzeclcj': 11852, 'kevin': 11214, 'mccarthy': 12465, 'rated': 16060, 'wpyjjtpictwittercom': 21132, 'mqy': 13041, 'ffckk': 5439, 'besides': 1347, 'posing': 15305, 'paradiseca': 14406, 'pictwittercomkhk': 14856, 'mrbbe': 13044, 'httpswwwindependentcouknewsworldamericascaliforniawildfiresupdatelatestdeathtollcarsfiresparadiselocationa': 8754, 'combating': 2985, 'hc': 6918, 'fraser': 5912, 'venue': 20262, 'legion': 11699, 'swan': 18631, 'musicvendorsfood': 13154, 'samoan': 16948, 'dusty': 4502, 'httpstwittercomcbsnewsstatus': 8511, 'gartrelllinda': 6127, 'deplorablechoir': 3888, 'realjameswood': 16132, 'donatehttpstwittercomdeplorablechoirstatus': 4256, 'collector': 2964, 'knight': 11362, 'shining': 17442, 'armor': 731, 'httpswwwfacebookcomkool': 8725, 'average': 958, 'zbbqpv': 21633, 'tickborne': 19179, 'fairwarnings': 5276, 'wire': 20971, 'fueleconomy': 6022, 'httpowlyc': 8069, 'ic': 10102, 'httpswwwpetcoachcoarticledramaticvideoshowspolicerescueshelteranimalsfromcaliforni': 8818, 'petcoachapp': 14645, 'positivenews': 15311, 'httpinspiredmotivationcomvideoshowsofficerssavinganimalsfromshelteraswildfireapproaches': 7883, 'hoback': 7218, 'roosevelt': 16695, 'sublette': 18444, 'scso': 17142, 'httpatinciwebnwcggov': 7472, 'incinews': 10305, 'phv': 14721, 'ucdavis': 19780, 'suggests': 18494, 'impacting': 10255, 'lichen': 11780, 'capradionewshttpbitly': 2232, 'scar': 17064, 'italian': 10668, 'instapot': 10490, 'inevitably': 10381, 'payson': 14523, 'atv': 887, 'cliff': 2798, 'httpsgcmazcomwildfirestartsnearpaysonfollowinganatvcrashthatsentthevehicleoffacliff': 8242, 'wildfirescaliforniaparadiseauthorities': 20903, 'httpswwwwashingtonpostcomweather': 8881, 'towncalledparadiseprettymuchdestroyedwildfireragesnortherncalifornianoredirectonutmterm': 19442, 'yxpiuqnji': 21602, 'limit': 11829, 'httpdlvritqf': 7724, 'httpszenithnewswelcometowalmartnowashelterforcaliforniafireevacueestw': 8926, 'kitsap': 11314, 'httpkirotvlivenewspictwittercomiw': 7971, 'wfmsgf': 20785, 'httpstrendingpresscomcaliforniawildfireskillatleast': 8479, 'trappedincarsastheyfled': 19507, 'retireme': 16451, 'pictwittercomaliqwqoxrf': 14753, 'qve': 15926, 'instadail': 10477, 'constantly': 3149, 'berate': 1326, 'ordinary': 14155, 'guzzling': 6700, 'exceptionally': 5136, 'gobble': 6373, 'preindustrial': 15451, 'httpswwwsdentertainercomnewsunreportstatesplanethasuntil': 8849, 'tostopcatastrophicclimatechangepictwittercompsvgl': 19405, 'zv': 21761, 'resulting': 16442, 'malibustrong': 12272, 'inspecting': 10471, 'socal': 17860, 'pictwittercommnnlhfkxer': 14885, 'httpwwwsamueljackson': 9830, 'comgerard': 3007, 'selfie': 17233, 'httpshelterhopepetshoporg': 8275, 'intentionally': 10522, 'discarded': 4108, 'firework': 5547, 'uscaliforniawildfireshumancausesarsonhtml': 20068, 'discovered': 4120, 'quarantined': 15888, 'californiafireshttpswwwabc': 2119, 'comvideoentertainmenttelevisionprogramsmorningblendnorovirusoutbreakdiscoveredatchicowildfireshelter': 3079, 'httpswwwbuzzfeednewscomarticleskbaeranimalsfleecaliforniawildfiresphotosbftwnewsutmterm': 8691, 'ldqpgc': 11644, 'pictwittercomt': 14949, 'bdgszwcp': 1234, 'suggested': 18490, 'httpswwwpgecomenussafetyemergencypreparednesspreparednesskitemergencypreparednesskitpagewtpgeacwildfirecommunitykit': 8819, 'bestcase': 1352, 'lifestylehttpstwittercomjournojanestatus': 11796, 'abstract': 55, 'fortunate': 5865, 'compete': 3049, 'training': 19485, 'cutest': 3541, 'hallmark': 6769, 'encourage': 4832, 'roster': 16712, 'httpdlvritqgqndp': 7725, 'detected': 3957, 'pintler': 15062, 'ranger': 16041, 'httpsmfanewsnetwildfiredetectednearmedicinelakepintlerrangerdistrict': 8305, 'mfanewsnetwork': 12647, 'mfa': 12645, 'mfanews': 12646, 'marchforamerica': 12345, 'gaga': 6100, 'httpstribalxq': 8483, 'csej': 3472, 'seriousness': 17275, 'sector': 17198, 'ingj': 10412, 'drrpictwittercomm': 4419, 'zlv': 21709, 'conservation': 3135, 'correctional': 3262, 'deputy': 3905, 'httpnovascotiacaslowdownmoveoverpictwittercomjwaofnst': 8036, 'thread': 19126, 'vicious': 20319, 'circle': 2722, 'dependence': 3882, 'changecalifornia': 2519, 'context': 3173, 'inability': 10287, 'httpstwittercommateosfostatus': 8570, 'httpscbslocal': 8207, 'smallbites': 17739, 'interest': 10526, 'wildfireradio': 20899, 'httpseatinginsjerseyblogwordpresscom': 8223, 'notsmallbitesforoctober': 13732, 'xmrj': 21338, 'xszo': 21378, 'newscomsports': 13476, 'ersbringfirestruckparadisehighschoolteamtogameviabus': 4970, 'lrp': 12105, 'mtwx': 13096, 'httpswwwgoodinxcomgoodinxwebindexhtmlfeedid': 8748, 'isadminfalsefeedcategorygeneralpictwittercomi': 10644, 'egz': 4701, 'nhuo': 13526, 'coza': 3328, 'bakkie': 1079, 'httpseinnewscomuh': 8229, 'bxsm': 2051, 'utjgjlutv': 20115, 'uscaliforniafireshtmlpartneriftttpictwittercomftthp': 20063, 'wtmt': 21204, 'squad': 18124, 'honked': 7278, 'screamed': 17130, 'httpstribalslhw': 8481, 'isj': 10651, 'sullivangetty': 18501, 'melty': 12576, 'plastic': 15130, 'asphalt': 800, 'ember': 4786, 'ventilation': 20257, 'duct': 4467, 'attic': 879, 'httpswwwyahoocomnewscaliforniawildfiresfivepeoplefound': 8897, 'htmltsrcfauxdal': 7432, 'httpskatucomnewsnationworldthingsstartedexplodingwildfiredestroyscaliforniatownofparadise': 8289, 'claimed': 2750, 'wffoundation': 20784, 'salvationarmyus': 16938, 'havenhumanesoc': 6887, 'letshelp': 11733, 'pictwittercomaww': 14758, 'skyauz': 17677, 'unpredictable': 19959, 'thus': 19172, 'covering': 3319, 'httpswwwairiterscom': 8668, 'revisionv': 16488, 'mkglyf': 12820, 'jessi': 10854, 'fruit': 5989, 'httpswwwfacebookcomstoryphpstoryfbid': 8733, 'salvation': 16936, 'foodbased': 5759, 'opbbqrelief': 14106, 'firstresponderspictwittercom': 5558, 'dosiaa': 4289, 'sziw': 18696, 'andrewthomas': 538, 'chupacabra': 2699, 'onion': 14061, 'ring': 16555, 'discussed': 4124, 'wtommy': 21205, 'wrestlingroadstories': 21158, 'hawaii': 6892, 'hurricanelane': 10002, 'erupting': 4972, 'httpstwittercombbcjamescookstatus': 8495, 'neilyoung': 13394, 'mcmurray': 12480, 'tripscars': 19574, 'httpnewsstandunitedorg': 8028, 'yearoldgivesfoodfirefighterscalifornia': 21454, 'standunitedorg': 18187, 'zinkes': 21689, 'absurd': 56, 'unscientific': 19970, 'incompetent': 10315, 'ooru': 14101, 'refute': 16257, 'corroborate': 3263, 'proposing': 15602, 'mitigating': 12805, 'sidestepping': 17550, 'quo': 15919, 'capitalist': 2226, 'realism': 16126, 'fisher': 5562, 'piwpictwittercommk': 15085, 'cbg': 2415, 'uscaliforniafireshtmlpartneriftttpictwittercomliduf': 20064, 'chisholm': 2653, 'injures': 10433, 'ballerina': 1083, 'returning': 16463, 'canberra': 2191, 'stage': 18164, 'battle': 1179, 'winnewsact': 20956, 'produced': 15553, 'vetoed': 20283, 'bipartisan': 1460, 'flashreport': 5607, 'httpwwwflashreportorgblog': 9755, 'cagovjerrybrownvetoedbipartisanwildfiremanagementbillin': 2086, 'fbclidiwar': 5356, 'gwwu': 6708, 'pgkeyqhop': 14677, 'wmg': 21026, 'ddrktb': 3735, 'pemhybo': 14579, 'jws': 11078, 'climatechangepictwittercomd': 2809, 'krd': 11408, 'ezfi': 5241, 'breitbart': 1810, 'httpspatriotifycom': 8336, 'westworlddrquinnmedicinewomanwesterntownmoviesetburnsincawildfirebreitbart': 20773, 'describing': 3919, 'reneworegon': 16335, 'plolan': 15167, 'bash': 1155, 'ampamp': 495, 'speech': 18030, 'sqo': 18122, 'queenhoneyc': 15894, 'influencing': 10395, 'farming': 5319, 'burch': 1969, 'director': 4080, 'agribusiness': 264, 'httpswwwinstagramcompbob': 8774, 'kiazdeutmsourceigtwittershareigshid': 11255, 'wc': 20656, 'kyagd': 11469, 'hound': 7346, 'lovable': 12064, 'partner': 14457, 'heartwrenching': 6971, 'pictwittercomurmkfwjjtx': 14967, 'explosive': 5198, 'httpapnewsxjedrbu': 7469, 'startling': 18206, 'analysis': 521, 'predicts': 15442, 'climatechangehttpswwwnytimescom': 2806, 'scienceclimatechangedoomhtmlclickhttpstco': 17096, 'ihdaecuok': 10167, 'vwy': 20489, 'asthmatic': 829, 'otter': 14205, 'aquarium': 689, 'httpstwittercombymikebakerstatus': 8507, 'curtail': 3532, 'renewable': 16334, 'efficiency': 4682, 'grid': 6582, 'modernization': 12870, 'program': 15572, 'httpsplatformmispglobalcomwebclientauthinheritnewsarticleid': 8342, 'cdida': 2438, 'pictwittercomygnravhgby': 15006, 'gay': 6155, 'realization': 16129, 'nationalcomingoutday': 13264, 'carb': 2243, 'requirement': 16385, 'alleviated': 410, 'oahu': 13863, 'maili': 12242, 'elementary': 4747, 'cafeteria': 2082, 'kulaaupuni': 11446, 'waianae': 20508, 'mahalo': 12231, 'honolulu': 7280, 'httpswwwfacebookcommichaelgolojuchjrposts': 8726, 'unintentionally': 19921, 'calfiresandiegohttpswwwcountynewscentercomvehiclesremainatopcauseoflocalwildfires': 2101, 'geraldorivera': 6216, 'defending': 3816, 'invasion': 10562, 'baiting': 1073, 'convened': 3194, 'httpswwwthegazettecomsubjectnewsnationandworldwithdiseaseinsheltersandrainintheforecastcaliforniawildfireevacueesdesperatelysearchforshelter': 8861, 'httpindoorsits': 7879, 'treesfoliage': 19534, 'insulation': 10500, 'inhalable': 10420, 'airquality': 316, 'besafeoutthere': 1345, 'airpollutionpictwittercom': 313, 'iqaiionxq': 10604, 'httpwwwcdsscagovdisastercalfresh': 9722, 'httpwwwcdsscagovportals': 9724, 'disasterassistanceguideforcaliforniansfinalpdfver': 4095, 'choosecalfresh': 2666, 'nowthisnews': 13750, 'pictwittercomtkvxiiiwvw': 14951, 'httptweetedtimescomhomeforhomelessstnp': 9617, 'oregon': 14156, 'idahothere': 10116, 'httpwwwnewscabalcoukcaliforniawildfirestearfulsurvivorfindscharredbodiesincarsafternarrowlyescapingasdeathtollhits': 9807, 'bpictwittercomq': 1740, 'ao': 630, 'yvjjt': 21587, 'jackass': 10733, 'maxwell': 12444, 'eugene': 5034, 'audi': 895, 'plate': 15131, 'gyy': 6718, 'retweetpictwittercom': 16466, 'ztao': 21753, 'deoy': 3876, 'httpshedgeaccordinglycomcaliforniawildfiresfivepeoplefounddeadincarscaughtupinparadisefire': 8274, 'mamasballsand': 12280, 'jcohl': 10816, 'industryfun': 10376, 'foodtrucks': 5802, 'httpwildfireradiocomdiningonadimeepisode': 9668, 'nsgov': 13773, 'httpnovascotiacaslowdownmoveoverpictwittercomf': 8035, 'ywvsl': 21594, 'nn': 13604, 'httpswwwtheguardiancomworld': 8862, 'nov': 13737, 'californiafiresmalibuevacuationslatestnewsupdatestodaycmpsharebtntw': 2120, 'httpsolamamasblogblogspotcom': 8329, 'gerardbutlersharesselfiewhereheshtmlspreftw': 6220, 'sonoma': 17931, 'regional': 16264, 'guided': 6655, 'workshop': 21090, 'qehy': 15788, 'capradioinsight': 2230, 'gopleader': 6442, 'httppolitifactcomcalifornia': 8147, 'httpdlvritqms': 7726, 'qgpictwittercomxfhjzqht': 15798, 'httpswwwaircraporg': 8667, 'californiawildfirescarsfilledwithdeadbodiesburntskeletons': 2133, 'httpstwittercomwichemtrails': 8641, 'httpnymagcomintelligencer': 8039, 'unsaysclimategenocidecomingbutitsworsethanthathtml': 19967, 'cira': 2720, 'shuv': 17534, 'sdwx': 17151, 'mnwxpictwittercomtlh': 12847, 'ej': 4723, 'httpglobalnewsca': 7815, 'bodycamvideosaveshelteranimalscaliforniawildfire': 1641, 'httptweetedtimescommarriottyvrstnp': 9618, 'dried': 4369, 'grabn': 6497, 'ebay': 4614, 'httpsroverebaycomrover': 8354, 'mprehttps': 13036, 'fwwwebaycom': 6083, 'fulk': 6028, 'fitm': 5571, 'freezedriedfood': 5934, 'onlineshopping': 14066, 'hunting': 9965, 'bigrigs': 1430, 'rvlifepictwittercomnrgynghpyh': 16827, 'dim': 4058, 'dish': 4131, 'veggie': 20237, 'fspf': 5996, 'bmw': 1613, 'xapictwittercombruvstsk': 21270, 'onlyyou': 14075, 'goteam': 6457, 'orfirehttpstwittercomoregondotstatus': 14160, 'dave': 3672, 'grohl': 6600, 'delivers': 3844, 'httpswwwetonlinecomdavegrohldeliversfoodtofirstrespondersfightingcaliforniawildfires': 8714, 'pictwittercompn': 14921, 'vaw': 20202, 'jbe': 10806, 'dvcd': 4509, 'httpstorontocitynewsca': 8476, 'deadincarsandhomesnortherncaliforniafiretollat': 3742, 'firetollpictwittercomyghekijrh': 5544, 'httpswwweckvilleechocomnewswalmartfined': 8713, 'kforcontaminatedfoodsoldafterfortmcmurraywildfire': 11230, 'httpssharesaahxhp': 8363, 'livescience': 11891, 'salt': 16929, 'httpowlyrnex': 8116, 'luu': 12150, 'vegetaion': 20234, 'bottom': 1702, 'preparedness': 15461, 'emphasising': 4817, 'hottest': 7342, 'mandolin': 12303, 'aegean': 196, 'bistro': 1475, 'httpsgooglatg': 8249, 'htmlutmsourcedlvritutmmediumtwitter': 7436, 'automotivepictwittercomuuptye': 941, 'xpm': 21354, 'gagakim': 6101, 'fireplace': 5537, 'httpsnewsplusbd': 8310, 'blogspotcom': 1580, 'fireatgagakimhousehtml': 5521, 'raged': 15979, 'californiahttpsifttt': 2122, 'bpictwittercomw': 1742, 'keo': 11204, 'ldrq': 11645, 'httptinyurlcomyc': 9579, 'wikyou': 20882, 'troop': 19584, 'indefinite': 10331, 'containment': 3164, 'unneeded': 19951, 'httpstwittercommichaelschweitzstatus': 8573, 'opposition': 14134, 'democrat': 3854, 'saudi': 17021, 'arabia': 693, 'ouch': 14210, 'larussa': 11581, 'berkeley': 1337, 'humane': 9927, 'petsfromacarrfirethreatenedshelterarriveinthebayarea': 14658, 'expense': 5179, 'youd': 21538, 'httpswwwgofundmecomsharonamprobblackparadisefirefbclidiwar': 8745, 'nuwmzzah': 13820, 'wsyoec': 21194, 'awnxl': 1001, 'udzoa': 19790, 'eunc': 5037, 'yftbatcwduhdfqhuee': 21492, 'navigate': 13282, 'httppostzcvip': 8156, 'pictwittercombkq': 14764, 'zbuwfm': 21639, 'depend': 3880, 'perilous': 14616, 'rainy': 16002, 'cascadia': 2340, 'vehicleemission': 20246, 'httpstwittercomclimaterealitystatus': 8513, 'ipccchpictwittercomegc': 10592, 'pncbup': 15207, 'httpvanewsrepublicnetsydffdt': 9647, 'relentless': 16290, 'pictwittercomrhbhuvq': 14931, 'liddle': 11783, 'adam': 135, 'qanonhttpstwittercomrepadamschiffstatus': 15764, 'mjhvh': 12815, 'invisible': 10574, 'foodjustice': 5775, 'httpsjalopnikcomfirefighterspushagt': 8288, 'outofaburninghomeincali': 14227, 'utmmediumsharefromsiteutmsourcejalopniktwitterutmcampaignsharebar': 20123, 'redsox': 16222, 'nhlbruins': 13523, 'celtic': 2467, 'davidortiz': 3683, 'robgronkowski': 16639, 'destructionplease': 3951, 'lafdfoundation': 11513, 'httpsupportlafdorg': 8646, 'redcrossla': 16208, 'traced': 19457, 'verisks': 20267, 'fireline': 5532, 'guiding': 6657, 'perimeter': 14617, 'firefightingwildfire': 5530, 'httpfalcnfirelinecarrfirepictwittercomipfbgnvmbt': 7750, 'tracy': 19463, 'handing': 6798, 'encountered': 4831, 'brundige': 1889, 'wwii': 21239, 'kindnesshttpswwwcnncom': 11290, 'uscalifornia': 20059, 'veteranparadisefiretrndindexhtml': 20281, 'carrier': 2304, 'crate': 3369, 'httpwwwijprorgpostfourleggedevacueescarrfireshelterhumanspetsstream': 9777, 'improved': 10280, 'socked': 17872, 'ebbettspass': 4616, 'eerie': 4672, 'section': 17197, 'ebbettspassscenicbyway': 4617, 'httpswwwinstagramcompbmhlkikgyiautmsourceigtwittershareigshid': 8768, 'kr': 11405, 'rawnessdeptintelect': 16079, 'poetry': 15222, 'craves': 3370, 'wildfiremidnight': 20895, 'wbg': 20649, 'drpictwittercom': 4413, 'xdqauyi': 21291, 'furniture': 6056, 'pictwittercomjiezpwuz': 14845, 'legendary': 11697, 'production': 15558, 'celebrate': 2458, 'httpstwittercomimoments': 8537, 'httpswwwnprorgsectionsthesalt': 8815, 'fathersonduoturnsruinedgrapesintotastyaidfornapafirevictims': 5344, 'httptweetedtimescomalawinetop': 9616, 'winetweetersstnp': 20951, 'illusion': 10206, 'depended': 3881, 'eruption': 4973, 'hypocrisy': 10057, 'dutch': 4503, 'vanfoodbank': 20190, 'httpsmiss': 8306, 'greatervancouverfoodbanklaunchessocialenterprisegoodlyhtmlpictwittercom': 6550, 'lqqjzqsn': 12099, 'bbq': 1217, 'cart': 2332, 'exposure': 5203, 'remaining': 16308, 'alternate': 438, 'vigorous': 20343, 'physical': 14724, 'httpaqmdgovwildfirehealthinfosmoketips': 7470, 'hillfirepictwittercomfompaputuw': 7138, 'dashing': 3664, 'httpswwwplowioposthikingnearwildfirezoneswhattoknowbeforedashingupthattrailutmsourcetwitterutmcampaigneastbayfood': 8822, 'httpstwittercomnichcurtisstatus': 8590, 'normantimbsspecial': 13678, 'migration': 12710, 'permanent': 14624, 'stink': 18292, 'marijuana': 12356, 'stench': 18257, 'overpowering': 14265, 'irregular': 10630, 'defy': 3821, 'prayersforcalifornia': 15405, 'uscaliforniafireshowtohelpamphtml': 20061, 'pepp': 14599, 'eval': 5064, 'offseason': 13954, 'exist': 5158, 'foodtruck': 5801, 'muellerthemed': 13102, 'httpowlyjhwb': 8090, 'mecnx': 12526, 'rmvqcj': 16618, 'ideology': 10122, 'cathmckenna': 2380, 'cdnfp': 2441, 'httpowlyq': 8108, 'moroccan': 12960, 'trader': 19466, 'approves': 678, 'krtq': 11419, 'smokegetsinyoureyes': 17773, 'httpswwwinstagramcompbmwfh': 8771, 'ihi': 10170, 'putmsourceigtwittershareigshid': 15722, 'ut': 20109, 'desert': 3923, 'palm': 14375, 'conditioner': 3094, 'designated': 3929, 'cooling': 3218, 'httpsyoutubeqzhjvpxnqeo': 8920, 'caption': 2235, 'dafnpictwittercomyshokrywnm': 3586, 'supplier': 18544, 'canin': 2203, 'stepped': 18264, 'dogcat': 4232, 'httpswwwfacebookcomrealtypgposts': 8730, 'httpssharesaass': 8364, 'livesciencehttpstwittercomkamvtvstatus': 11892, 'bush': 2005, 'intact': 10509, 'pictwittercomafq': 14750, 'ozrta': 14323, 'expenditure': 5178, 'savelives': 17027, 'trending': 19541, 'venturacounty': 20259, 'transition': 19495, 'callutheran': 2149, 'gilbert': 6273, 'newshttpstwittercomventurasheriffstatus': 13483, 'kraus': 11406, 'pkg': 15105, 'drastic': 4347, 'pictwittercomhkya': 14822, 'jog': 10939, 'unsaysclimategenocidecomingbutitsworsethanthathtmlutmsourcetw': 19969, 'driven': 4379, 'dominant': 4248, 'jjhorgan': 10894, 'roller': 16673, 'lng': 11948, 'httpowlyld': 8092, 'lvdg': 12155, 'bcwildfire': 1228, 'bcpoli': 1227, 'axe': 1009, 'shovel': 17501, 'trunk': 19619, 'dire': 4073, 'chinquapin': 2649, 'junction': 11039, 'badger': 1055, 'httpssierranewsonlinecomfergusonfirejumpshighway': 8366, 'inyosemiteheadsforbadgerpasspictwittercomt': 10582, 'oopqzvu': 14098, 'rare': 16054, 'httpsonwhiocom': 8332, 'ebapictwittercomtqknwmbedv': 4613, 'tgmn': 18958, 'shorter': 17491, 'appearing': 658, 'complimentary': 3065, 'onstar': 14081, 'equipped': 4943, 'serviced': 17283, 'httpswwwfacebookcomsimivalleychevroletvideos': 8732, 'supplemental': 18543, 'dec': 3773, 'nbclacom': 13299, 'gpemng': 6475, 'pictwittercomuuciepn': 14970, 'southcoastaqmd': 17972, 'recommends': 16183, 'smokesee': 17775, 'serve': 17278, 'retreat': 16453, 'firestorm': 5543, 'maxmoritzfire': 12443, 'matthewbrownap': 12432, 'knickmeyerellen': 11360, 'httpwwwkulr': 9787, 'comstory': 3074, 'fatalcaliforniafiresspursearchforsolutions': 5338, 'shuttle': 17531, 'httpmygrandforksnowcom': 8012, 'qotd': 15838, 'mpsdxesg': 13037, 'klyda': 11344, 'danhalyburton': 3640, 'sincepictwittercomhunoucqkhv': 17594, 'frantically': 5910, 'httpsyoutubenacfpmj': 8917, 'imi': 10234, 'rosa': 16698, 'rosette': 16703, 'necklace': 13362, 'redwood': 16228, 'empire': 4818, 'httpowlyztfe': 8134, 'lftci': 11746, 'hemisphere': 7043, 'summerextreme': 18507, 'raced': 15955, 'ughht': 19807, 'fw': 6074, 'sprawl': 18094, 'httpsstaticnytimescomemailcontentca': 8374, 'htmlnlid': 7420, 'atm': 860, 'southerncaliforniafiresforceevacuation': 17977, 'homeshtmlitoamptwittersharetop': 7259, 'wildfiresfloodstsunamis': 20905, 'complacent': 3053, 'nycmayor': 13842, 'inaction': 10288, 'highhttpswwwnytimescom': 7115, 'fought': 5876, 'comrruq': 3072, 'pv': 15729, 'httpsfrontieryahoocomnewscaliforniawildfiresfivepeoplefound': 8238, 'httpsplanetradiocoukfreeskyworldcaliforniawildfiredeathsriseto': 8339, 'simple': 17589, 'drama': 4339, 'ozqk': 14322, 'reopened': 16344, 'scenic': 17084, 'lodging': 11976, 'httpwwwdjccomnewsle': 9745, 'pictwittercomobksxeacuo': 14905, 'ingenuity': 10411, 'httpwwwfoxnewscomtech': 9761, 'nursefleeingcaliforniawildfiresputshorseincarpicturegoesviralhtml': 13810, 'httpstmblrcoz': 8472, 'ibwj': 10101, 'cfi': 2490, 'undergoing': 19875, 'growing': 6612, 'httpwwwhawaiinewsnowcom': 9769, 'wildfiredevastatescaliforniatownparadise': 20893, 'professor': 15564, 'advanced': 177, 'surgically': 18576, 'hockey': 7220, 'stick': 18279, 'wedged': 20709, 'quadruped': 15877, 'kloutpictwittercomyxlriy': 11342, 'ku': 11440, 'httpswwwinfowarscomhorrifyingfootagefathersondrivethroughhelltoescapewildfire': 8756, 'marriage': 12380, 'bot': 1697, 'shattering': 17384, 'httpstwittercomievents': 8536, 'hotter': 7341, 'bigger': 1423, 'broad': 1856, 'diversity': 4175, 'landscape': 11554, 'nutrient': 13814, 'multiple': 13114, 'foodchain': 5764, 'interaction': 10523, 'httpseurekalertorge': 8233, 'eurekalert': 5039, 'htmlutmtermautofeedutmmediumsocialutmsourcetwitterechobox': 7437, 'pictwittercomzatzb': 15016, 'rzzy': 16862, 'saveplanetearth': 17031, 'flashfood': 5605, 'wildfirescarred': 20904, 'fri': 5951, 'snowstorm': 17846, 'tonybizjak': 19331, 'countyofbutte': 3300, 'orrin': 14180, 'credit': 3398, 'noah': 13613, 'berger': 1334, 'trottrotpictwittercomjs': 19590, 'xfhyqhe': 21304, 'chiefsrams': 2630, 'setback': 17291, 'dummy': 4480, 'glen': 6318, 'burnie': 1991, 'threshold': 19139, 'celsius': 2466, 'piwpictwittercom': 15082, 'mow': 13020, 'hmtfw': 7205, 'foundcat': 5879, 'chicoairport': 2626, 'northwooddrive': 13704, 'magalia': 12220, 'californiawildfirespictwittercomgygbej': 2140, 'yzj': 21614, 'detox': 3963, 'tru': 19600, 'hhk': 7091, 'mfvie': 12650, 'httpspetrescuereportcom': 8337, 'noroomandoutoftimeangelinshelternearhugecawildfireandmustleavedeath': 13680, 'unhealthy': 19907, 'drived': 4377, 'attacked': 870, 'thy': 19174, 'happiest': 6825, 'rebecca': 16146, 'gldaca': 6316, 'kx': 11460, 'vineyard': 20356, 'feral': 5425, 'nuisance': 13803, 'grower': 6611, 'brief': 1827, 'httpwwwamericanvineyardmagazinecom': 9695, 'dealingwithwildpigpestsonthefarm': 3754, 'quiedan': 15907, 'duartenursery': 4461, 'cawggrowers': 2404, 'lakecountywine': 11526, 'ucanr': 19777, 'sonomagrapespictwittercomtmnmoqthgo': 17932, 'joaquin': 10924, 'pepperoni': 14603, 'chart': 2554, 'ozoneforming': 14320, 'climatepictwittercomvbpwepdwmq': 2814, 'lengthy': 11716, 'sold': 17894, 'wildfirecontaminated': 20891, 'httpstwittercomcbcdavidstatus': 8510, 'cswtmnpictwittercom': 3482, 'gjieib': 6300, 'rank': 16043, 'httpswwwwitncomcontentnewslocalredcrossvolunteersprovidingassistanceforcaliforniawildfirevictims': 8890, 'adapt': 137, 'httpstgamca': 8468, 'odxfyv': 13931, 'evergreencanada': 5086, 'futurecitiesca': 6062, 'rzfzvg': 16857, 'outdoorhospitality': 14222, 'rvparks': 16828, 'campground': 2179, 'torch': 19352, 'httpswwwyoutubecomattributionlinkamiwp': 8902, 'dmst': 4206, 'fwatch': 6075, 'fv': 6067, 'zhb': 21678, 'slcpfc': 17701, 'dshare': 4446, 'propagate': 15592, 'bigotry': 1429, 'meanwhile': 12507, 'silent': 17574, 'altright': 445, 'arsonist': 757, 'qanon': 15763, 'pictwittercomowmvsptfmr': 14911, 'httpsgooglfbbwor': 8253, 'leavenworth': 11675, 'keepin': 11177, 'cooler': 3217, 'changeover': 2522, 'faster': 5331, 'imagined': 10219, 'sogot': 17881, 'boot': 1677, 'vrnhsipictwittercomocifckkgdw': 20461, 'cheated': 2571, 'fuckmykids': 6016, 'fuckmybitch': 6015, 'calabasasfire': 2094, 'breitbartnews': 1811, 'httpnewsskycomstorycaliforniawildfiredeathsriseto': 8027, 'pictwittercomquikrnk': 14927, 'prompt': 15584, 'maximize': 12441, 'wildfiresafetypictwittercomllybljpsde': 20901, 'breathe': 1800, 'lip': 11851, 'turning': 19685, 'climatecrisis': 2811, 'willreach': 20930, 'expectedhttpswwwrawstorycom': 5174, 'newclimatechangereportissuesdirewarning': 13460, 'summercoral': 18506, 'parisagreement': 14427, 'moonbeam': 12937, 'uninhabitable': 19920, 'existing': 5160, 'extinction': 5216, 'decimation': 3785, 'console': 3143, 'bruising': 1886, 'talker': 18738, 'httpskvoacomnews': 8296, 'todaystalkersdadcalmsdaughterdogskatespolefightingpictwittercom': 19284, 'kmoydpveo': 11352, 'contagious': 3160, 'diarrhea': 4024, 'fever': 5434, 'dvcimv': 4510, 'outselling': 14235, 'midsize': 12695, 'classcombined': 2767, 'coldflu': 2947, 'feedmetro': 5407, 'httpswwwfeedmetrocomwhatisnoroviruscaliforniawildfireshelterfacesoutbreak': 8739, 'embarrassment': 4784, 'obsessed': 13890, 'obsession': 13891, 'kolmarden': 11384, 'pictwittercompeqdzk': 14918, 'amq': 499, 'cabin': 2070, 'arrested': 746, 'catalytic': 2362, 'converter': 3201, 'httpsksbycomnews': 8293, 'hotvehiclecomponentcausedcaliforniasdeadlyfergusonfire': 7343, 'httpstendailycomaunewsworlda': 8465, 'pwdcaliforniawildfireclaimsfivelives': 15734, 'learning': 11665, 'httpswwwwesternjournalcomlkimwomanwalkscopcarparkedstreetlearnsstayedbehindjustprotectutmsourcetwitterutmmediumliftableutmcampaigndlvritutmcontent': 8885, 'httpbitlyiicfcawildfirecampaign': 7516, 'mindful': 12748, 'uscaliforniafiresindexhtml': 20066, 'mechanic': 12520, 'httpswwwfacebookcom': 8716, 'lianabrackett': 11768, 'mburger': 12458, 'maggianos': 12224, 'wowbao': 21120, 'navy': 13285, 'pier': 15030, 'midway': 12700, 'rahm': 15982, 'jerrodmelman': 10847, 'rjmelman': 16596, 'mollymelman': 12882, 'welltrained': 20747, 'ratinfestedschoolloving': 16063, 'popshttpstwittercomsfornekstatus': 15282, 'cement': 2468, 'wantsand': 20557, 'httpowlykz': 8091, 'mcdde': 12467, 'tterpating': 19647, 'httpswwwtopbuzzcoma': 8865, 'wildfiresthe': 20911, 'httpsisgdhwbccdpictwittercomdjbsgjypxy': 8285, 'cxu': 3559, 'instadaily': 10478, 'instafoll': 10479, 'fossilfueled': 5873, 'exxonweather': 5228, 'httpstwittercomcnnvalenciastatus': 8516, 'pictwittercomug': 14960, 'fvuvvh': 6073, 'generation': 6193, 'pdkofh': 14545, 'anaheimfire': 519, 'physic': 14723, 'httpswwwvetmeducdavisedunewsguidelineshorsesexposedwildfiresmokew': 8874, 'nxdcjeyfacebook': 13834, 'attend': 874, 'httpdlvritqrpcbspictwittercomvs': 7733, 'okmq': 14000, 'insulting': 10503, 'rested': 16431, 'motorcade': 12988, 'lafd': 11512, 'losangeles': 12045, 'fwy': 6084, 'boulevard': 1711, 'lacity': 11493, 'fireshelter': 5542, 'httpswwwvcemergencycom': 8873, 'interactive': 10524, 'environmental': 4909, 'ratio': 16065, 'unauthorized': 19854, 'dumping': 4482, 'httpstwittercomnasastatus': 8584, 'jrld': 11006, 'agbecerra': 237, 'cacounties': 2075, 'pricegouging': 15501, 'testing': 18928, 'httpcheerswsz': 7643, 'mcewutmsourcedlvritutmmediumtwitterpictwittercom': 12471, 'obwkx': 13897, 'traumatic': 19512, 'hug': 9919, 'httpgooglalertsyydkx': 7819, 'googlealerts': 6431, 'httpsisgddsndex': 8284, 'ridiculed': 16537, 'mercilessly': 12610, 'surf': 18570, 'httpswwwbuzzfeednewscomarticlebriannasackscaliforniawildfiresmaliburesidentsyachtssurfboards': 8687, 'dianne': 4021, 'feinstein': 5413, 'calfire': 2100, 'investing': 10571, 'healthyforests': 6951, 'yeson': 21477, 'treating': 19530, 'httpvatopbuzzcomsvnyqdt': 9649, 'politely': 15241, 'rwjo': 16834, 'ry': 16844, 'pictwittercombrtqezsdc': 14767, 'howtohelp': 7379, 'doglovers': 4234, 'animalrescuehttpstwittercomtheeadamamanistatus': 564, 'guerrillastreet': 6649, 'draft': 4332, 'togo': 19294, 'gvvjsl': 6705, 'brewery': 1816, 'tasting': 18778, 'ernie': 4963, 'bulldog': 1945, 'httpnewsnowcoukshareuhttps': 8024, 'fwwwdailymailcouk': 6082, 'fwires': 6078, 'fafp': 5263, 'farticle': 5325, 'fwellcomeusfiressplitfamiliespetshtmlsgtshv': 6077, 'bonus': 1666, 'skylight': 17681, 'landlord': 11550, 'sweatbox': 18642, 'hellish': 7019, 'refill': 16240, 'bnsf': 1621, 'longeroutta': 12010, 'porno': 15292, 'dvd': 4511, 'thobut': 19114, 'coded': 2927, 'httpswwwyoutubecomattributionlinkagbdbljwj': 8901, 'dtc': 4452, 'yyvezono': 21609, 'producerproblems': 15555, 'writing': 21166, 'teslamoviepassthe': 18923, 'epahot': 4920, 'deathswildfiresbabies': 3760, 'freewaydogs': 5932, 'dayanimals': 3692, 'zoo': 21728, 'chinaand': 2647, 'httpshawaiinformercom': 8273, 'vehicleblamedfordeadlycaliforniawildfirepictwittercom': 20243, 'vsymsu': 20468, 'lump': 12136, 'electrical': 4740, 'carma': 2284, 'pictwittercomivjvlgfsjz': 14838, 'corpmedia': 3257, 'idiocracy': 10125, 'oligarch': 14018, 'megabanks': 12554, 'nodapl': 13623, 'blm': 1570, 'sdf': 17147, 'daca': 3580, 'httpswwwfireengineeringcomapnews': 8740, 'portugalbattlesmajorwildfireinalgarveregionhtml': 15301, 'fourday': 5884, 'touri': 19428, 'av': 949, 'oily': 13988, 'establishment': 5002, 'backpain': 1048, 'unbearable': 19856, 'drnealbarnard': 4397, 'michaelklapermd': 12674, 'sodium': 17874, 'onthegotowels': 14083, 'maxed': 12439, 'paradisecafires': 14407, 'helpinghand': 7031, 'grill': 6587, 'httpswwwfacebookcomtavern': 8735, 'agourahillsphotosa': 256, 'exclaim': 5142, 'seafret': 17156, 'longest': 12011, 'seafretofficial': 17157, 'emotional': 4815, 'httpswwwredcrossorgaboutusnewsandeventsnews': 8835, 'californiawildfiresredcrosshelpsasthousandsevacuatehtmlpictwittercomqsougtvzut': 2141, 'pnut': 15212, 'nickhexum': 13539, 'soulhugs': 17960, 'colder': 2946, 'iicf': 10177, 'statepictwittercomsti': 18222, 'lusi': 12146, 'swallowed': 18627, 'roared': 16625, 'towncalledparadiseprettymuchdestroyedwildfireragesnortherncalifornia': 19441, 'vancetaylor': 20184, 'accessible': 75, 'doorway': 4282, 'narrow': 13244, 'preptalks': 15473, 'retiree': 16450, 'deny': 3874, 'httpswwwajccomnewsnationalmalibuwildfiresdestroynormantimbsspecialotherrarecarstj': 8670, 'eixng': 4722, 'dlceic': 4195, 'tijutmmediumsocialutmsourcetwittercmgnationalnews': 19195, 'babbling': 1034, 'genius': 6199, 'irrigate': 10634, 'gatorade': 6146, 'httpsfroshloadedcomnggerardbutlersharesselfiewherehesstandinginfrontofhisburneddownhouseandcardestroyedbythecaliforniawildfirespictwittercoms': 8239, 'fha': 5452, 'pictwittercomov': 14909, 'rqr': 16741, 'huddle': 9909, 'httpswwwfacebookcompermalinkphpstoryfbid': 8728, 'theneighborhood': 19049, 'tichinaarnold': 19178, 'cbstweetpictwittercompz': 2423, 'qivlsxm': 15805, 'knife': 11361, 'hijack': 7129, 'assassinate': 804, 'various': 20196, 'leftwing': 11690, 'synagogue': 18686, 'kroger': 11418, 'protester': 15612, 'kyemen': 11471, 'ussaudi': 20099, 'bom': 1654, 'ingsiege': 10417, 'foodmedicine': 5780, 'genocide': 6200, 'palestinian': 14371, 'enoughmelt': 4882, 'glassfact': 6315, 'ftoqs': 6004, 'pomdr': 15258, 'fby': 5364, 'httpseaglerisingcom': 8222, 'wildfireclaimslivesoffiveburnedaliveintheircarstryingtoescapeflames': 20890, 'sycamore': 18679, 'terrace': 18901, 'temecula': 18877, 'hosting': 7330, 'httpswwwfacebookcomsycamoretemeculaposts': 8734, 'httpstribalenhb': 8480, 'offset': 13955, 'plunged': 15181, 'democratic': 3855, 'utopia': 20129, 'fails': 5269, 'wage': 20505, 'httpswwwfoxnewscomuscaliforniawildfireevacueesplungedintostateshousingcrisis': 8742, 'winecountry': 20947, 'mxpuutmsourcedlvritutmmediumtwitterpictwittercomtcryy': 13184, 'lgjh': 11752, 'burden': 1970, 'rolandmartinunfiltered': 16669, 'httprolandmartinunfilteredcom': 8172, 'nazarene': 13291, 'httpaco': 7451, 'mwu': 13180, 'address': 149, 'pictwittercomz': 15015, 'qoax': 15832, 'replay': 16359, 'educated': 4663, 'subject': 18443, 'perspective': 14633, 'inappropriate': 10289, 'phsui': 14720, 'continent': 3174, 'intensity': 10519, 'szp': 18699, 'facet': 5254, 'httpswwwcbsnewscomnewsnationalclimateassessmentsmostshockingclimatechangewarningspictwittercomu': 8696, 'mrrs': 13058, 'pfu': 14670, 'httpsdroolindognet': 8220, 'californiawildfiresupdatelatestdeathtollcarsfiresparadiselocationa': 2142, 'htmlpictwittercomrocqnhvte': 7427, 'goldstone': 6401, 'httpsmtstandardcomnewslocalwildfireupdategoldstoneandmedicinelakefiresarticlea': 8307, 'cadc': 2077, 'cb': 2409, 'htmlpictwittercomdddk': 7424, 'zjawh': 21694, 'skynews': 17683, 'pictwittercomowtzcgepxn': 14912, 'ifthissmallorganismcontinuestodisappearincaliforniasforestsduetowildfiresitwillalterthefoodchain': 10143, 'vacaville': 20163, 'pictwittercomf': 14798, 'vjazyofj': 20390, 'whaaaaat': 20798, 'shed': 17387, 'pictwittercomkzetyej': 14863, 'risked': 16573, 'solanospcapictwittercom': 17891, 'mqz': 13042, 'martha': 12387, 'mendoza': 12594, 'gillian': 6277, 'flaccus': 5593, 'httpmowetentcomncaliforniafiresdeathtollnowat': 8005, 'manystillmissing': 12334, 'httpsmailchimpeqmediadiscoverbrookeusaatweg': 8303, 'cfe': 2489, 'pictwittercomwx': 14991, 'pbjif': 14529, 'httpqoolyriiwh': 8160, 'torched': 19353, 'httpswwwkion': 8798, 'comnewsnationalworldwildfireforces': 3039, 'innortherncaliforniatofleefromwallsoffire': 10445, 'lgqyh': 11756, 'slfpbq': 17712, 'mjtcjfl': 12817, 'snimggwzdjfg': 17805, 'tttg': 19655, 'gqtv': 6491, 'ce': 2449, 'httpswwwbuzzfeednewscomarticleskbaeranimalsfleecaliforniawildfiresphotos': 8690, 'defense': 3817, 'httpsimgurcomshvnoiv': 8281, 'electricvehicle': 4742, 'electricvehicles': 4743, 'teslamodel': 18921, 'teslamodels': 18922, 'zeroemission': 21663, 'tsla': 19637, 'dbdvsk': 3706, 'eastpoint': 4599, 'httpstwittercom': 8486, 'rgrlsstatus': 16502, 'httpstwittercomtribelawstatus': 8632, 'incredibly': 10327, 'axle': 1012, 'ft': 6000, 'httpstwittercomkateaurthurstatus': 8551, 'gawd': 6151, 'httpuafpcomovjy': 9634, 'spooktacular': 18082, 'hog': 7223, 'costume': 3272, 'cooper': 3223, 'scorching': 17106, 'incinerating': 10304, 'intoxicate': 10551, 'monoxide': 12915, 'campfireupdatenorovirusoutbreakevacuationshelterchicocalifornia': 2178, 'relying': 16306, 'wildfiretm': 20913, 'stroll': 18402, 'stojqe': 18316, 'foodjets': 5774, 'pictwittercomdlpkj': 14787, 'sjtr': 17648, 'httpstwittercomnapahumanestatus': 8582, 'cranstonfire': 3362, 'jacinto': 10731, 'httpsdesertsn': 8217, 'lnzi': 11950, 'httpwwwtrendingsnippetscomush': 9845, 'zzztherewerepeoplewhowerenzzztabletogetoutzzzfivetrappedincarsburntoxyy': 21783, 'paradisepictwittercomuq': 14409, 'zy': 21775, 'supo': 18541, 'lainiwildfire': 11523, 'delight': 3838, 'wednesdaywisdompictwittercomgduwvimtgh': 20713, 'practicing': 15386, 'safedrivingpictwittercomygbd': 16891, 'kj': 11318, 'httpsyoutubeslg': 8921, 'zwja': 21768, 'rmbpha': 16614, 'httpsgousagovxpsbvpictwittercomq': 8268, 'evgl': 5103, 'ketogenic': 11213, 'style': 18434, 'fatty': 5345, 'httpstruththeorycom': 8484, 'isitpossibletofollowavegetarianketogenicdieteverythingyouneedtoknow': 10650, 'friendsi': 5961, 'underinsured': 19877, 'wkow': 21011, 'httpswkowcomnationalnewsfromtheassociatedpress': 8661, 'tossing': 19403, 'httpsblogtherainforestsitegreatergoodcomclimatereportutmsourcetrsutmmediumsocialtwtutmcampaignsocialbubblesutmcontentblogshare': 8202, 'coal': 2909, 'oott': 14102, 'htmlactionclickmoduletop': 7418, 'storiespgtypehomepage': 18336, 'coralmdavenport': 3242, 'houseguest': 7357, 'halfway': 6765, 'matador': 12418, 'derail': 3908, 'pictwittercomcdurgtbtq': 14771, 'bomber': 1657, 'snapback': 17794, 'honda': 7268, 'maybach': 12446, 'playback': 15139, 'speeding': 18034, 'finish': 5513, 'contraire': 3183, 'monsieur': 12918, 'repurposed': 16379, 'wider': 20873, 'sidewalk': 17551, 'parklets': 14436, 'fewer': 5435, 'resting': 16432, 'yow': 21552, 'creosote': 3407, 'shiny': 17443, 'eyesthroat': 5236, 'gah': 6102, 'adapted': 138, 'chaparral': 2534, 'introduce': 10552, 'dependent': 3883, 'carlospennac': 2282, 'cio': 2718, 'tresearch': 19544, 'pictwittercomslkde': 14941, 'halfhear': 6764, 'greenery': 6565, 'engaged': 4855, 'greatawakening': 6548, 'wwg': 21238, 'wga': 20791, 'httpsusauknewscomnorovirusoutbreakconfirmedatcaliforniawildfireshelter': 8650, 'httpwwwpreventwildfirecaorg': 9821, 'onelessspark': 14051, 'onelesswildfirepictwittercomdbnfmlf': 14054, 'httpswarritatafocomgerardbutlersharesselfiewherehesstandinginfrontofhisburneddownhouseandcardestroyedbythecaliforniawildfirespictwittercom': 8656, 'xf': 21302, 'qtlfsi': 15869, 'climbed': 2819, 'httpswwwwtvycomcontentnews': 8893, 'htmlpictwittercomji': 7425, 'sq': 18114, 'qa': 15758, 'hilo': 7141, 'europeansounding': 5045, 'blaring': 1524, 'oqzkd': 14145, 'httpszingacom': 8927, 'randallstown': 16033, 'httpdlvritqrtw': 7735, 'fpictwittercomk': 5891, 'qtgjb': 15866, 'exciting': 5141, 'org': 14161, 'yyc': 21604, 'httpstwittercomajplusstatus': 8489, 'brockhampton': 1862, 'qvgrpd': 15928, 'grader': 6504, 'attended': 876, 'yoakum': 21517, 'jamboree': 10763, 'peanut': 14560, 'sponsored': 18078, 'hosted': 7329, 'pictwittercombtxfsavzer': 14769, 'httpvatopbuzzcomszqbfdt': 9650, 'wk': 21004, 'httpowlyaq': 8066, 'pmwildfireradioftauthority': 15205, 'weekly': 20722, 'mobilefoodnewspictwittercomjcwrifc': 12853, 'httpanimalstrendolizercom': 7465, 'moreanimalsinsheltercarethanpeopleaftercaliforniawildfireshtmlpictwittercomrot': 12948, 'hyhzu': 10054, 'dieloff': 4037, 'legend': 11696, 'httpsisgdjsv': 8286, 'ge': 6182, 'antisemitic': 609, 'woosleyfires': 21076, 'shamefulhttpstwittercomrealdonaldtrumpstatus': 17362, 'realtalkpictwittercomuwkgxdb': 16140, 'kq': 11402, 'burntout': 1996, 'httpsplanetradiocoukmetroskyworldcaliforniawildfiredeathsriseto': 8340, 'californiawildfirepictwittercomciiotoxob': 2129, 'zinke': 21688, 'wasted': 20602, 'dgz': 4002, 'ipccreport': 10593, 'elimination': 4757, 'ghg': 6255, 'neededhttpswwwlivemintcomopinioniitttsglyb': 13369, 'lnq': 11949, 'bsifotimetorenewindiasplantocombatclimatechangehtml': 1898, 'letting': 11737, 'gop': 6439, 'diegos': 4036, 'falconer': 5285, 'owning': 14290, 'taxpayer': 18798, 'bleach': 1533, 'lapd': 11565, 'pictwittercomj': 14841, 'dbyud': 3715, 'hatred': 6879, 'anger': 552, 'react': 16108, 'civility': 2736, 'yelled': 21463, 'cruz': 3466, 'httpowlyph': 8104, 'sickness': 17544, 'groundlevel': 6606, 'waterborne': 20617, 'foodborne': 5763, 'httpsapplenewsatldnkdit': 8192, 'enzexbznuqza': 4911, 'musicreview': 13153, 'congregationally': 3119, 'worship': 21109, 'httpsxrhythms': 8910, 'ksly': 11426, 'jpictwittercomikvfljftvn': 10998, 'cnftweet': 2888, 'rewildingrestoring': 16492, 'landscapebeavers': 11555, 'enhance': 4870, 'wetland': 20777, 'diversityreindeer': 4176, 'muskoxen': 13157, 'mitigate': 12804, 'warminglarge': 20566, 'httpsphysorgnews': 8338, 'rewildinglandscapesmultipleproblemshtml': 16491, 'physorgcom': 14727, 'pictwittercomhunoucqkhv': 14826, 'revealed': 16477, 'thatearth': 18995, 'campfirehttpnbcbaycomkyvrand': 2174, 'footprint': 5821, 'uncountable': 19870, 'logic': 11984, 'derive': 3914, 'conclusion': 3089, 'emit': 4805, 'httpspubsacsorgdoiabs': 8347, 'collected': 2961, 'saveonfoods': 17030, 'httpswwwmix': 8803, 'fmcom': 5721, 'pi': 14728, 'mix': 12809, 'ymmhttpstwittercomalberta': 21513, 'farmsanctuary': 5321, 'downloadrepost': 4307, 'acton': 124, 'httpswwwinstagramcompbqi': 8777, 'ynf': 21515, 'zutmsourceigtwittershareigshidqu': 21759, 'dcplt': 3723, 'prevention': 15496, 'httphawaiiwildfireorglookout': 7857, 'wildfirelookout': 20894, 'hifire': 7109, 'hawaiipictwittercom': 6894, 'wcw': 20662, 'eutx': 5049, 'compassionate': 3046, 'circumstance': 2726, 'sundaynight': 18514, 'cafires': 2084, 'emts': 4825, 'blessing': 1540, 'rumorhasitpictwittercom': 16798, 'tdsnemo': 18824, 'nevermind': 13453, 'trickling': 19558, 'gooder': 6415, 'propped': 15603, 'awhile': 995, 'recall': 16154, 'intentional': 10521, 'debtwires': 3771, 'quoted': 15922, 'marketwatch': 12369, 'bond': 1658, 'httpsonmktwnet': 8331, 'djglge': 4187, 'invaluable': 10561, 'hepa': 7051, 'breath': 1799, 'califires': 2113, 'techcrunchhttpstwittercomelonmuskstatus': 18844, 'redflag': 16219, 'hotaugustnights': 7332, 'pin': 15053, 'washoefiresafe': 20598, 'washoecountypictwittercomb': 20597, 'qn': 15826, 'owd': 14282, 'firedamaged': 5526, 'replace': 16355, 'httpwwwautomotivetestdriverscomgoodguytoyotaisreplacingawildfireherosfiredamagedtruckutmsourcedlvritutmmediumtwitter': 9701, 'automotivepictwittercomvauv': 942, 'instruction': 10496, 'femaregion': 5422, 'pictwittercomtltvrra': 14952, 'respro': 16425, 'techno': 18848, 'economical': 4635, 'bandit': 1100, 'fb': 5354, 'download': 4305, 'pir': 15065, 'pictwittercomagdsgwehqc': 14751, 'apparent': 654, 'likelihood': 11820, 'poh': 15223, 'lopictwittercom': 12036, 'nxve': 13838, 'ueu': 19797, 'wrenching': 21155, 'sdge': 17148, 'precaution': 15425, 'httpowlyyk': 8133, 'livewellsd': 11895, 'crawling': 3375, 'wattage': 20635, 'huricanemichael': 9969, 'newnormal': 13466, 'dem': 3851, 'congress': 3120, 'sake': 16909, 'somerhing': 17916, 'contruction': 3192, 'strict': 18392, 'httpwwwbbccouknewsworlduscanada': 9710, 'litivate': 11872, 'happythanksgiving': 6831, 'solacepictwittercomqtiff': 17888, 'karp': 11121, 'girlhandsfoodfirefightersbattlingragingwildfiresincludingfamilyutmsourcetwitterutmmediummobilefloatingsharingbuttonsutmcontent': 6285, 'lte': 12114, 'june': 11040, 'coordinate': 3225, 'resou': 16413, 'inundating': 10558, 'httpwwwipccchreportsr': 9781, 'httpswwwirishtimescomnewsenvironmentclimatechangeeffectstobefarworsethanpreviouslythought': 8796, 'tkkpfczngtwitter': 19249, 'irishtimes': 10620, 'heel': 6998, 'harkey': 6844, 'harmed': 6848, 'bootsand': 1681, 'poorpeoplescampaignhttpstwittercomacbowenstatus': 15275, 'declare': 3790, 'victory': 20330, 'assaulted': 806, 'attacker': 871, 'kidnapped': 11266, 'dumped': 4481, 'diversion': 4174, 'occasional': 13901, 'barbecue': 1123, 'federalnutritionprogram': 5397, 'waiver': 20517, 'tastyfixhttplinkengagesociallinkzfn': 18780, 'jqmnmf': 11002, 'uen': 19795, 'pjt': 15101, 'pvljzbzutmsourceengagesocialutmmediumsocialutmcampaigntwitterutmterm': 15731, 'millcreek': 12734, 'httpswwwnorthcoastjournalcomnewsblogarchives': 8814, 'noonpilotcarcancelledtodayduetomillcreekfireactivity': 13662, 'httpstwittercomsethmacfarlanestatus': 8620, 'balloon': 1085, 'wlpm': 21022, 'snohomish': 17811, 'ballooning': 1086, 'birthdayssomeone': 1470, 'flew': 5622, 'pictwittercomcofkj': 14778, 'chemical': 2594, 'leak': 11658, 'gutting': 6691, 'regulation': 16270, 'httpstwittercomnewsweekstatus': 8588, 'httpsnewsskycomstorycaliforniawildfirenursewhoescapedburningcarthoughtshewasgoingtodie': 8312, 'unitedstates': 19930, 'cnnhttpswwwcnncomvideosweather': 2895, 'familypraysdrivingthroughparadisecaliforniacampfirevpxcnn': 5300, 'prop': 15590, 'realjameswoods': 16133, 'kristyswansonxo': 11416, 'caustic': 2397, 'glitterland': 6330, 'wildfireswith': 20912, 'httpswwwwiredcomstoryweknowexactlyhowtostopwildfireswithmoneymbidsocialtwitteronsiteshare': 8889, 'irvingfire': 10638, 'flaghigh': 5595, 'garagedriveway': 6121, 'httpwwwcityofberkeleyinfowildfireevacuationpictwittercombrl': 9729, 'sviz': 18618, 'mldczr': 12830, 'httpswwwreporterswallcom': 8843, 'gerardbutlerpostsselfiestandingfrontburnthousecardestroyedcaliforniawildfirespictwittercomdmjgv': 6218, 'thrt': 19159, 'httpswwwwpsdlocal': 8891, 'peoplefounddeadinvehiclestorchedbycaliforniawildfireutmmediumsocialutmsourcetwitterwpsdlocal': 14591, 'httpswwwsmhcomauworldnorthamericapleasfloodsocialmediawithlovedonesmissingaftercaliforniawildfire': 8853, 'khtml': 11252, 'kjr': 11322, 'pictwittercomsj': 14939, 'dx': 4525, 'pstm': 15646, 'cha': 2497, 'siu': 17633, 'bao': 1115, 'coloring': 2975, 'handmade': 6803, 'httpowlyafrl': 8065, 'lxflf': 12166, 'qhmjqj': 15800, 'httpsyoutubekwsq': 8914, 'aeifo': 197, 'peole': 14587, 'extermeweatherevents': 5214, 'distinction': 4155, 'socialeconomic': 17863, 'fossil': 5871, 'proliferation': 15578, 'accelerating': 68, 'currency': 3526, 'diseasehttpstwittercomzachpeeryconbiostatus': 4129, 'httpswwwfacebookcommountainviewchevyvideos': 8727, 'strikeslike': 18395, 'httpswwwrealworldsurvivorcom': 8834, 'diyvehicleemergencykitpictwittercom': 4182, 'nhhek': 13521, 'intending': 10514, 'powered': 15356, 'unusually': 19982, 'eassist': 4592, 'ridebikes': 16529, 'quadding': 15876, 'firearm': 5520, 'machinery': 12196, 'disc': 4107, 'brake': 1763, 'gnarly': 6368, 'downhill': 4304, 'kidding': 11263, 'conditons': 3096, 'httpstwittercombcgovfireinfostatus': 8497, 'elon': 4770, 'musk': 13156, 'authorizes': 927, 'httpspowurcommarkbocknewselonmuskauthorizesteslaemployeestoprovideassistanceforthecaliforniawildfiresandnotworryaboutpaymenttwitter': 8345, 'httpssputniknewscomus': 8372, 'fivebodiesdiscoveredcaliforniawildfire': 5578, 'perish': 14620, 'pentatonix': 14586, 'clooney': 2830, 'soweird': 17989, 'goofy': 6429, 'leasing': 11670, 'httptwibinlre': 9625, 'kga': 11235, 'bdag': 1232, 'usnews': 20093, 'usrcpictwittercomb': 20097, 'epgpzjd': 4924, 'scam': 17060, 'consumer': 3157, 'catchup': 2373, 'kgotv': 11238, 'newscombusinessconsumercatchupwildfiretaxreliefbestcarsforcollege': 13475, 'httpwwwledgernewsnewsvehicleblamedfordeadlycaliforniawildfirearticle': 9789, 'acdf': 93, 'htmlutmmediumsocialutmsourcefacebookutmcampaignusershare': 7435, 'httpsdeadlinecom': 8216, 'paramountranchwesterntownburnsdownwildfire': 14416, 'parkjidoon': 14435, 'httpsopenspotifycomtrack': 8333, 'gl': 6307, 'fzulxfly': 6095, 'npifjp': 13760, 'drsivtyefyzq': 4422, 'irhouwv': 10618, 'iiva': 10182, 'portion': 15297, 'sneezing': 17804, 'flu': 5705, 'ecowackos': 4643, 'allowing': 421, 'logging': 11983, 'httpstwittercomlatimesstatus': 8557, 'pvbbtz': 15730, 'httpgreatergoodorg': 7855, 'seattlebased': 17184, 'platinumrated': 15133, 'httpswwwfacebookcomalexbrooklynharperposts': 8717, 'hillfire': 7137, 'httpowlybsie': 8068, 'mclrdpictwittercomngdkrtocpv': 12478, 'aircrap': 303, 'monitoring': 12905, 'tempatures': 18879, 'pictwittercomvfxj': 14975, 'murdered': 13135, 'gang': 6116, 'thigs': 19085, 'httpstwittercomthehillstatus': 8626, 'poshan': 15304, 'maah': 12189, 'mizoramtruely': 12812, 'observe': 13885, 'movedyoung': 13012, 'awakening': 976, 'intake': 10510, 'nutritious': 13817, 'option': 14139, 'femaca': 5420, 'govtmilitary': 6471, 'cotsbathroomsshowerkitchen': 3274, 'evaluated': 5065, 'httpstwittercomb': 8494, 'malmetstatus': 12276, 'newpost': 13469, 'vomiting': 20438, 'httphealthmedicinetcomi': 7858, 'norovirusoutbreakinwildfireshelterofficialsforcedtoquarantinevomitingevacuees': 13684, 'nile': 13566, 'announcing': 586, 'spraying': 18097, 'pesticide': 14641, 'httpswwwbuzzfeednewscomarticlebuzzfeednewscaliforniawildfiresutmtermywbpmargo': 8689, 'ywbpmargo': 21589, 'craig': 3357, 'sikhcoalition': 17570, 'messy': 12626, 'oclock': 13915, 'sepiatoned': 17266, 'nofilter': 13627, 'pictwittercomjkahkz': 14846, 'xfp': 21306, 'usfs': 20085, 'pictwittercomwaccv': 14985, 'rrmo': 16751, 'content': 3169, 'cove': 3313, 'sunset': 18524, 'httpswwwredditcomrseaporncomments': 8842, 'zcd': 21642, 'fosoc': 5870, 'blacksandsbeachinsheltercovepictwittercomklg': 1513, 'vag': 20169, 'httpswwwyahoocomnewscaliforniareceivedramaticreliefapos': 8896, 'oroville': 14179, 'ucce': 19779, 'httpstwittercombriandahlecastatus': 8502, 'chemistry': 2596, 'significantly': 17563, 'rig': 16544, 'combustion': 2992, 'httpsenwikipediaorgwikiexhaustgas': 8232, 'accommodate': 84, 'regularsized': 16269, 'httpsdocsgooglecomformsde': 8219, 'faipqlsfvqxs': 5271, 'krkvxplud': 11417, 'fsnr': 5995, 'eofy': 4914, 'frqtatwvon': 5988, 'uawviewform': 19767, 'pacific': 14330, 'leftist': 11688, 'httpstwittercomtreyvondinkisstatus': 8631, 'inexplicably': 10383, 'endures': 4846, 'httpsapplenewsap': 8188, 'lhisnydhnibgia': 11761, 'edufreedomfree': 4666, 'ademminte': 155, 'wellness': 20743, 'lifestylehttpsifttt': 11795, 'mujthx': 13109, 'burnedup': 1988, 'homeowner': 7256, 'dxkmnvpictwittercom': 4526, 'xlcwqbsyb': 21330, 'noticedeverything': 13721, 'butt': 2019, 'californialogic': 2123, 'traveling': 19517, 'onelesssparkpictwittercompti': 14052, 'hyfxo': 10052, 'risky': 16576, 'rainier': 15997, 'sheltering': 17411, 'oldstyle': 14015, 'imaginable': 10217, 'modification': 12873, 'inexpensive': 10382, 'dirt': 4082, 'httpswwwcomocomprodesdevenezuelacomcaliforniawildfiresfivepeoplefounddeadincarscaughtupinparadisefire': 8702, 'zakbaganspictwittercomoorksapqqv': 21623, 'dqlfqgpictwittercomjltkzpvaww': 4329, 'htmlpartnerrssemcrss': 7422, 'httpsrdcrssorg': 8350, 'pgvkly': 14681, 'redcrosserpictwittercomyt': 16207, 'fmte': 5728, 'httpsadzbuzzlinkshares': 8178, 'intensefootageofahelicopterfightingawildfirefeetawayfromcarsincaliforniagmsl': 10516, 'reproductive': 16374, 'reintroducing': 16278, 'toxic': 19445, 'foodhate': 5769, 'httpskttccomnewsnationalnewsfromtheassociatedpress': 8295, 'vehicleblamedfordeadlycaliforniawildfireutmmediumsocialutmsourcetwitterkttctv': 20245, 'orca': 14148, 'bald': 1080, 'decomposers': 3795, 'distant': 4153, 'coding': 2928, 'bare': 1132, 'norm': 13674, 'httpswwwscientificamericancomarticlehereswhatweknowaboutwildfiresandclimatechange': 8848, 'httpdlvritqrpp': 7734, 'gpictwittercomggwdcdzb': 6478, 'httpsapplenewsasohzscfhrowsiv': 8191, 'zo': 21719, 'asthma': 828, 'wildfirerelated': 20900, 'downloadnow': 4306, 'blueairglobe': 1600, 'tomcnamara': 19312, 'fcy': 5377, 'breathesmarter': 1801, 'alberto': 363, 'santaanawinds': 16989, 'poweroutages': 15361, 'amys': 514, 'automated': 937, 'capictwittercomx': 2223, 'qya': 15940, 'msm': 13073, 'uncompassionate': 19867, 'voted': 20443, 'aliensfoodmedicalhousing': 390, 'mfdpxk': 12649, 'httpswwwindiatvnewscomnewsworldcaliforniawildfiredeadliestinushistorylatestnewsdeathscasualtiesinjuriesdeathtoll': 8755, 'presidentialmedals': 15480, 'americanheroes': 481, 'pictwittercomnydz': 14903, 'fyrkb': 6090, 'httpswwwtrillycoukp': 8867, 'recovering': 16193, 'httpswwwusatodaycomstorynewsnationnow': 8872, 'californiawildfireshowsurvivorscancomebackafterlosingall': 2135, 'consume': 3155, 'httpswwwwesternjournalcomlkimwomanwalkscopcarparkedstreetlearnsstayedbehindjustprotectutmsourcefacebookutmmediumconservative': 8884, 'plusutmcampaignlminetworkutmcontent': 15184, 'microwaved': 12686, 'pictwittercomfjg': 14802, 'mkqeb': 12824, 'globally': 6339, 'packingsacks': 14339, 'assuring': 827, 'holynativityhttpstwittercomjasonwahlstromstatus': 7241, 'kxly': 11465, 'httpswwwkxlycomnewsnationalnewswildfireforces': 8800, 'utmmediumsocialutmsourcetwitterkxly': 20125, 'httptrendingpresscominawalmartlotaroughrefugeforwildfireevacuees': 9603, 'jarrad': 10791, 'hairraising': 6751, 'pictwittercomtpajgqp': 14955, 'fz': 6091, 'yetdummy': 21484, 'countingla': 3292, 'rep': 16347, 'colluding': 2968, 'skip': 17670, 'httpswwwinstagramcompbnrpudihodtutmsourceigtwittershareigshid': 8772, 'pbv': 14532, 'uvxst': 20145, 'theechola': 19014, 'firefightla': 5531, 'giveawaysall': 6290, 'pmmidnight': 15200, 'httpswwwticketflycompurchaseevent': 8864, 'utmmediumbkspictwittercomzok': 20120, 'yyjg': 21608, 'elk': 4763, 'alfalfa': 385, 'casper': 2350, 'startribune': 18207, 'httplivingbetterideascomlifestylefoodwildfiresproduceelkfoodasnutritiousasalfalfamontanastudyshowscasperstartribuneonlinepictwittercomcnmh': 7981, 'qznw': 15947, 'buzzybuzz': 2034, 'httpsbuzzybuzzinfofoodgilbertfoodbankhelpsvictimsofcaliforniawildfirepictwittercom': 8205, 'mhvvkdy': 12659, 'oregonemhttpstwittercomnytimesstatus': 14157, 'videothey': 20335, 'calfornia': 2102, 'httpstwittercomamericanhumanestatus': 8490, 'firenews': 5534, 'onelesswildfirepictwittercombubasju': 14053, 'residence': 16402, 'httpsgooglbjagg': 8250, 'eva': 5053, 'momktho': 12889, 'httppostibnptxpictwittercomzffchpybsa': 8152, 'vice': 20315, 'versa': 20275, 'httpsinsideclimatenewsorgnews': 8282, 'extremewildfiresclimatechangeglobalwarmingairpollutionfiremanagementblackcarbonco': 5227, 'utmsourcetwitterutmmediumsocial': 20128, 'chicostate': 2628, 'httpsappmobilecausecomvfwildcatsriserobindonatello': 8196, 'wildcatsrise': 20884, 'buttecountystrong': 2022, 'hillary': 7135, 'pictwittercompatqhcnoai': 14917, 'santaana': 16988, 'whipping': 20823, 'nbc': 13296, 'httpnbc': 8016, 'compictwittercomhgw': 3051, 'bbneqf': 1215, 'cal': 2093, 'toughest': 19424, 'assignment': 814, 'pound': 15346, 'jimmyfallon': 10889, 'thoughtful': 19122, 'personthankyou': 14632, 'httpcaliforniait': 7632, 'sadmy': 16887, 'homecar': 7244, 'dayshe': 3698, 'prayforcalifornia': 15408, 'fighter': 5471, 'tanker': 18762, 'coulson': 3282, 'converting': 3203, 'kion': 11303, 'joshkion': 10977, 'soledad': 17897, 'inmate': 10438, 'prison': 15523, 'riot': 16559, 'chualar': 2695, 'gye': 6713, 'qkpictwittercomsdu': 15815, 'nfft': 13511, 'carsfactories': 2319, 'clamoring': 2755, 'drastically': 4348, 'httpssmartairfilterscomenblogteslamazdapictwittercomsv': 8368, 'supuqxa': 18562, 'deadlybulldozer': 3745, 'burnedcalifornia': 1986, 'horrendous': 7312, 'bursting': 2000, 'frontlines': 5979, 'climaterelated': 2815, 'farmland': 5320, 'resiliencyhttpwwwhawaiiwildfireorgnewscenterrepeatednaturaldisasterspummelhawaiisfarmsaffectingmacadamianutstaropapayaflowerharvests': 16409, 'httpswwwnewscabalcoukcaliforniawildfirestearfulsurvivorfindscharredbodiesincarsafternarrowlyescapingasdeathtollshits': 8810, 'pictwittercomvubaxv': 14982, 'vf': 20286, 'nelson': 13396, 'steadily': 18239, 'approached': 673, 'httpwwwreshareworthycompoliceracetosaveanimalsfromwildfire': 9825, 'cheeto': 2588, 'wasting': 20603, 'deplorable': 3887, 'timing': 19211, 'pneumonia': 15208, 'snowy': 17851, 'rr': 16743, 'freight': 5937, 'thedreamcatcherranchtradingpost': 19013, 'hamiltoncity': 6778, 'campfireevacuationorder': 2172, 'campfirejameswoods': 2175, 'campfireevacuations': 2173, 'firstresponders': 5557, 'kindnessmatterspictwittercomoudrfncepb': 11291, 'darkwe': 3658, 'malibufire': 12271, 'booooyyyy': 1675, 'ranging': 16042, 'spf': 18045, 'httpswwwwhysprayfoamorgsprayfoaminsulationcanhelpaccomplishunrecommendationdecreasegreenhousegases': 8888, 'league': 11657, 'titan': 19231, 'unconcerned': 19868, 'profitable': 15567, 'parasite': 14420, 'pestilence': 14642, 'achieve': 96, 'reduction': 16227, 'yohonp': 21522, 'kootenaynp': 11387, 'respectively': 16416, 'detoured': 3962, 'crowsnest': 3452, 'httpwwwdrivebcca': 9747, 'stateofemergency': 18221, 'vaccination': 20166, 'doc': 4216, 'elayneboosler': 4732, 'kellycarlin': 11190, 'kimhttpstwittercomharleyroudastatus': 11282, 'rheootpictwittercommzmy': 16507, 'xjjft': 21319, 'httpdlvritqqsw': 7727, 'wttjv': 21208, 'breakingnewspictwittercomvupszm': 1793, 'kd': 11163, 'ubers': 19770, 'castellemmare': 2352, 'surroundings': 18588, 'sucker': 18471, 'pictwittercomdlb': 14786, 'hhqm': 7092, 'httpswwwdailymailcoukvideonewsvideo': 8706, 'videomanrescuescattrappedcarcaliforniawildfireshtmlmwvrmrtafallback': 20333, 'accountsthats': 89, 'goingto': 6392, 'sodbustin': 17873, 'pictwittercomndtjp': 14895, 'qsup': 15862, 'leap': 11661, 'qnteku': 15829, 'httpswwwnationalgeographiccomenvironmentnaturaldisasterswildfiresafetytips': 8807, 'environmentalist': 4910, 'infestation': 10388, 'httpowlyt': 8119, 'mgsdj': 12655, 'stormsurge': 18349, 'httpsclimateprooforgclimateproof': 8210, 'httpstwittercompoliticalhedgestatus': 8601, 'meaning': 12501, 'ptr': 15659, 'hl': 7193, 'wawxpictwittercomw': 20640, 'axacwxpa': 1007, 'muting': 13164, 'mute': 13163, 'overly': 14261, 'pension': 14585, 'retired': 16448, 'unionized': 19924, 'httpswwwinvestorscompoliticseditorialsworstrunstatesbigspendingdemocrats': 8794, 'executive': 5150, 'cosmopolitan': 3267, 'steakhouse': 18241, 'passion': 14478, 'exceptional': 5135, 'pictwittercomoqeza': 14908, 'vhsy': 20298, 'quadruple': 15878, 'qymngspictwittercomi': 15942, 'igjkphh': 10150, 'sacrificed': 16880, 'httpsrachfeedcomtoyotaoffersbrandnewvehicletonursewhosacrificedtoyotatundratosavelivesinwildfire': 8349, 'httpstechcrunchcom': 8464, 'airbnbhostsofferfreehousingtoevacueesdisplacedbycaliforniawildfirespictwittercomllmowwg': 298, 'bg': 1379, 'leadershipmatters': 11653, 'unhttpstwittercomsurreynowleaderstatus': 19909, 'fck': 5372, 'fishless': 5565, 'idiocy': 10126, 'wildfireshelter': 20906, 'httpswwwstlnewschicocalifthelatestoutbreakofnorovirusatwildfireshelter': 8854, 'httpowlyhpmd': 8087, 'lueag': 12126, 'rmpqme': 16616, 'httpstwittercomnytimesstatus': 8597, 'climatereport': 2816, 'receding': 16156, 'copy': 3238, 'masteryourdisaster': 12413, 'paperback': 14399, 'kindle': 11287, 'sa': 16863, 'itl': 10679, 'disasterprep': 4099, 'firepictwittercomj': 5536, 'nbh': 13304, 'rbr': 16088, 'fao': 5310, 'httpwwwmalibuzztvfaoinemergencies': 9796, 'pest': 14640, 'globe': 6343, 'programme': 15573, 'compost': 3066, 'styrofoam': 18436, 'meat': 12514, 'bred': 1805, 'slaughter': 17696, 'anomaly': 593, 'pnwlife': 15214, 'httpswwwinstagramcompbmv': 8770, 'dlxxolnfumrtsa': 4199, 'mpnrg': 13033, 'oylz': 14310, 'bxgea': 2049, 'ywl': 21593, 'enusbblrtycocidst': 4899, 'httpowlyppwn': 8107, 'ldd': 11640, 'bpictwittercomzozjjnte': 1743, 'scarystoriesforadults': 17074, 'opinionclimatechangeipccreporthtml': 14125, 'httpswwwsfchroniclecomcaliforniawildfiresarticlesmokehazardforcesdozensofbayareaschoolsto': 8850, 'burntskeletons': 1997, 'httpsclassic': 8209, 'blogwordpresscom': 1581, 'httpsgabaiwny': 8241, 'cnrposts': 2902, 'sbalinda': 17046, 'autonomous': 944, 'sized': 17644, 'quadcopter': 15875, 'cornstarch': 3254, 'suppress': 18557, 'extinguish': 5217, 'wbsbpd': 20654, 'gmailcom': 6358, 'pictwittercomillozhbo': 14834, 'stakenearly': 18170, 'annuallythe': 592, 'httpswwwnoroviruscomthelatestoutbreakofnorovirusatwildfireshelterusnewsworldreport': 8813, 'actress': 126, 'alyssa': 453, 'milano': 12721, 'dccomkoynpnt': 3719, 'wsbt': 21180, 'council': 3285, 'tutt': 19691, 'edrussowsbt': 4659, 'ncalifornia': 13308, 'httpswwwhuffingtonpostcomentrycaliforniamostdestructivewildfireus': 8752, 'fe': 5383, 'dbe': 3707, 'ncidengmodushpmg': 13310, 'downer': 4302, 'ravage': 16073, 'derby': 3912, 'mrdameq': 13048, 'kicked': 11259, 'halifax': 6766, 'manneken': 12321, 'nottingham': 13733, 'smashbrollers': 17749, 'pictwittercomozoyq': 14915, 'hqq': 7397, 'immense': 10246, 'nourishing': 13736, 'pictwittercomyok': 15010, 'lzelbg': 12186, 'reconnect': 16184, 'httpstwittercomredcrossstatus': 8613, 'polio': 15239, 'measles': 12508, 'mumps': 13123, 'vaccine': 20167, 'httpstwittercomnitaaxostatus': 8593, 'profiled': 15565, 'nytimeshttpsnytims': 13856, 'zjwy': 21701, 'xsmidnytcoreiosshare': 21374, 'specifically': 18024, 'targeted': 18768, 'file': 5478, 'cabinet': 2071, 'backseat': 1050, 'httpszenithnewsbodiesfoundinburntcarsascaliffireincineratestowntw': 8925, 'dalles': 3606, 'southvalleyfire': 17985, 'oregonpictwittercom': 14158, 'kvslovjak': 11457, 'guzzle': 6699, 'httpstwittercomenviroactionstatus': 8528, 'sask': 17006, 'britishcolumbiawildfiresstateofemergencydeclaredcmpshareandroidapptweet': 1846, 'rape': 16047, 'allegation': 402, 'votethemout': 20447, 'demforcehttpstwittercomtripgabrielstatus': 3853, 'messenger': 12622, 'franciscos': 5903, 'smokefilled': 17772, 'snorkel': 17814, 'aerial': 199, 'assault': 805, 'scorched': 17105, 'reminiscent': 16324, 'uscaliforniawildfireswarhtmlpartnerrssemcrss': 20069, 'piwpictwittercomgrlem': 15084, 'chriscuomo': 2679, 'platform': 15132, 'herughh': 7076, 'awfuli': 989, 'earlierhe': 4558, 'stroller': 18403, 'boiling': 1647, 'carsome': 2326, 'pictwittercomxj': 14993, 'xsxc': 21376, 'checklist': 2576, 'psegpictwittercomkyq': 15644, 'dym': 4534, 'pictwittercomxknirod': 14996, 'linkedin': 11846, 'pictwittercoma': 14747, 'aokgnof': 633, 'horsepeople': 7320, 'californiawildfireshttpstwittercomrealjameswoodsstatus': 2137, 'fom': 5754, 'httpswwwsylvanlakenewscomnewswalmartfined': 8859, 'paramountproductionsetdestroyedwildfirenortherncaliforniahtml': 14415, 'irresponsible': 10632, 'donotgiveashit': 4267, 'solano': 17889, 'nose': 13707, 'purr': 15709, 'ensue': 4884, 'httpswwwmynbc': 8805, 'comarticlecaughtonvideo': 2982, 'dogscatssavedbypoliceindaringwildfirerescue': 4236, 'yogyakarta': 21521, 'brilliant': 1833, 'paddy': 14345, 'weaving': 20699, 'sticky': 18282, 'planting': 15127, 'karaoke': 11113, 'wishk': 20984, 'wishw': 20985, 'pictwittercomhkhl': 14821, 'zfnby': 21672, 'httpsnypst': 8324, 'qixtqppictwittercommnhbyqlrbq': 15806, 'zealot': 21649, 'httpssharesaah': 8362, 'quintessential': 15913, 'fatherson': 5343, 'explode': 5194, 'httpswwwpopularmechanicscomscienceenvironmenta': 8824, 'mythbusterjamiehynemanwildfiretanksentry': 13199, 'nancycatlover': 13232, 'chandler': 2515, 'httpstrategiccsrsageblogspotcom': 8477, 'strategiccsrplanethtml': 18370, 'identified': 10120, 'httpswwwbuzzfeednewscomarticlebuzzfeednewscaliforniawildfiresbftwnewsutmterm': 8688, 'equhttpslnkding': 4941, 'atn': 862, 'thttpstcrnch': 19164, 'hillbrushfire': 7136, 'pictwittercomoyxo': 14914, 'wuxa': 21223, 'davis': 3686, 'answered': 597, 'httpswwwkviacomnewsusworldveterinarianstudentshelpanimalshurtincampfire': 8799, 'httpstwittercomdrmartybeckerstatus': 8526, 'monobe': 12912, 'crumbled': 3459, 'andrew': 536, 'zimmern': 21685, 'httpstwittercomkorshawilsonstatus': 8555, 'lefty': 11691, 'hesitation': 7077, 'verify': 20266, 'httpswwwbitchutecomvideoayepw': 8679, 'tfzvls': 18949, 'bitchute': 1478, 'devasting': 3973, 'wnothing': 21037, 'bepresidential': 1325, 'qfwjdf': 15795, 'musty': 13162, 'lessen': 11724, 'puritan': 15704, 'antilogging': 606, 'dogma': 4235, 'rerouted': 16387, 'starved': 18210, 'paradisethere': 14410, 'enusbbltaouocidsf': 4900, 'dislocation': 4136, 'httpstwittercomsjandrews': 8621, 'goldilocks': 6398, 'airfield': 304, 'plume': 15180, 'jetting': 10866, 'httpswwwinstagramcompbodpwggfnsxutmsourceigtwittershareigshid': 8775, 'qbmpc': 15767, 'kck': 11158, 'ozark': 14316, 'flinging': 5629, 'cig': 2706, 'athleta': 847, 'thevillage': 19073, 'topanga': 19341, 'gladly': 6312, 'woolsleyfire': 21070, 'lafirespictwittercomoisfe': 11515, 'maer': 12216, 'httpyoutubesjjaytmuo': 9893, 'crushing': 3462, 'recordscrop': 16188, 'buildfood': 1937, 'analyzed': 523, 'htmlnytapptruesmidnytcoreiosshare': 7421, 'lingers': 11843, 'mati': 12426, 'plastered': 15129, 'pole': 15234, 'wander': 20551, 'surgical': 18575, 'wlpbya': 21021, 'httppgecomwildfiresafetyhttpstwittercompge': 8138, 'mestatus': 12627, 'barbitwins': 1125, 'kenwahl': 11202, 'morgfair': 12953, 'larsjohanl': 11579, 'shicooks': 17433, 'theresamax': 19065, 'petsouthllc': 14660, 'bywildfire': 2058, 'httpswendymypoohwordpresscom': 8659, 'drquinnmedicinewomansetdestroyedbywildfirepictwittercomsxm': 4415, 'tiymju': 19238, 'httpstwittercomlionelmediastatus': 8560, 'httpswwwfacebookcomangelanimalwhispererposts': 8718, 'rehydration': 16275, 'infant': 10385, 'feedingamericahttpstwittercomfeedingamericastatus': 5404, 'forestfires': 5838, 'norway': 13706, 'reindeer': 16277, 'sheep': 17390, 'tunnel': 19673, 'shutdown': 17524, 'httpsshrtmnubjrt': 8365, 'incar': 10296, 'httpwwwautomotivetestdriverscommontanawildfirecarvideoutmsourcedlvritutmmediumtwitter': 9703, 'httpsnevidablogcom': 8309, 'gerardbutlersharesselfiehesstandingfrontburnedhousecardestroyedcaliforniawildfirespictwittercombmamblmp': 6219, 'particle': 14452, 'pleading': 15149, 'guilty': 6661, 'httpowlyqdvh': 8109, 'aof': 632, 'pasqual': 14468, 'kuxih': 11454, 'ptpictwittercomqzacct': 15658, 'dyv': 4542, 'apwestregion': 685, 'bilton': 1449, 'httptweetlinkqgdmdvpictwittercomnoren': 9620, 'wkpd': 21012, 'httpsapplenewsapus': 8189, 'zmeqtxujcvacvi': 21712, 'ticking': 19182, 'hookin': 7290, 'httpstwittercomjacknicasstatus': 8540, 'tornadolike': 19374, 'multiply': 13115, 'climatechangehttpswwwabc': 2805, 'comvideonewsrawgovbrownholdspressconferenceondestructivewildfires': 3080, 'wipworldbuilders': 20970, 'plague': 15115, 'anhaeda': 558, 'claimless': 2752, 'infected': 10386, 'httpstwittercompepperdaphoenixstatus': 8599, 'panicked': 14386, 'httptinyurlcomybfgtdpe': 9578, 'uninteresting': 19922, 'mansion': 12328, 'httpswwwthesuncouknews': 8863, 'sevenburntodeathintheircarsinparadiseas': 17303, 'panickedresidentsofcaliforniatowndestroyedbywildfirestrytoescapedownsingleroad': 14387, 'seedy': 17210, 'motel': 12972, 'alike': 391, 'mentally': 12598, 'addict': 145, 'economically': 4636, 'disadvantaged': 4089, 'polluted': 15253, 'erase': 4950, 'httpwwwbaaqmdgovmediafilesplanningandresearchresearchandmodelingsourceapportionment': 9706, 'updatepdfpictwittercomfzb': 20002, 'zsd': 21748, 'kzdi': 11480, 'httpflipittykue': 7804, 'gist': 6288, 'unelected': 19890, 'bureaucrat': 1973, 'placed': 15113, 'pictwittercomhwuhibd': 14827, 'hunterchinas': 9963, 'vehicleslicing': 20249, 'hitech': 7175, 'weaponry': 20674, 'toinstall': 19297, 'gunships': 6675, 'foofighters': 5810, 'foodie': 5771, 'davegrohlhttpsconsequenceofsoundnet': 3675, 'davegrohlbbqfirefighters': 3673, 'porter': 15295, 'mopping': 12944, 'janitor': 10779, 'legislation': 11700, 'improve': 10279, 'metaphor': 12630, 'fountain': 5882, 'dontos': 4272, 'dragon': 4336, 'sansa': 16986, 'petyr': 14662, 'httpswwwreddingcomstorynewslocalfires': 8840, 'campfireshelternursesbikerseastavenuechurchclinic': 2177, 'httpstwittercomkimbikeskcstatus': 8554, 'storageno': 18333, 'murrieta': 13141, 'riverside': 16585, 'hillifire': 7139, 'httpswwwredcrossorgdonatedonationhtml': 8837, 'jeezus': 10826, 'embarrassed': 4783, 'wondered': 21054, 'dodo': 4226, 'solanospca': 17890, 'vmywz': 20408, 'httpyoutubetc': 9895, 'yyvezonoa': 21610, 'hospitalized': 7327, 'broadmoor': 1859, 'manitou': 12315, 'hailstorm': 6747, 'anniesage': 581, 'critically': 3429, 'httpsthetyeecanews': 8470, 'treeteachingsforestwildfires': 19535, 'pearson': 14564, 'edgewater': 4648, 'vma': 20404, 'httpscvmanetcvmadisasterresponse': 8213, 'httpswwwfacebookcomwsbtvvideos': 8738, 'httpsbusinessfacebookcomgeorgiaveterinarymedicalassociationposts': 8204, 'kamalaharris': 11101, 'httpswwwfacebookcomwaynefreedmanabc': 8737, 'countryside': 3297, 'detection': 3958, 'escalating': 4978, 'outdoorfiresafety': 14221, 'microchipped': 12683, 'wtw': 21212, 'nationwide': 13270, 'httpswwwmdjonlinecomnewsnationalwildfiresmokeisbecominganationwidehealththreatarticle': 8801, 'dba': 3704, 'ehtmlutmcampaignbloxutmsourcetwitterutmmediumsocial': 4708, 'assisting': 819, 'an': 516, 'httpswwwusatodaycomstorynews': 8870, 'californiafirespiercecollegetransformsintoanimalsanctuary': 2121, 'pictwittercomsjzcfuhyar': 14940, 'xvypictwittercomymoirfqkvi': 21393, 'climatewarning': 2817, 'verizons': 20270, 'governance': 6466, 'contract': 3182, 'httpsapplenewsacl': 8183, 'hdd': 6923, 'hsysxsxgjzgpojapictwittercomvcdxl': 7413, 'clg': 2795, 'httpscbsnws': 8208, 'nepictwittercomfjopovqjly': 13441, 'mosul': 12971, 'raqqa': 16053, 'httpsnewsskycomstorycaliforniawildfiresparadisedestructionisascompleteasmosulorraqqa': 8313, 'gocidsf': 6375, 'httpdlvritqrls': 7732, 'qpictwittercom': 15846, 'oufwajque': 14211, 'reserve': 16398, 'neighborhoodhttpstwittercomwildfiretodaystatus': 13387, 'safeguard': 16892, 'superpollutants': 18540, 'vendor': 20253, 'httpampsacbeecomnewspoliticsgovernmentcapitolalertarticle': 7462, 'htmltwitterimpressiontrue': 7434, 'viowpictwittercom': 20362, 'tmcqrq': 19260, 'xi': 21314, 'cdcenvironment': 2434, 'pictwittercomikd': 14832, 'cj': 2739, 'grainy': 6513, 'unselfie': 19972, 'givingtuesday': 6296, 'hsvcojai': 7412, 'rosiesplace': 16707, 'hk': 7192, 'foodbankccs': 5757, 'foodsharevc': 5790, 'lafoodbank': 11516, 'neighboring': 13388, 'pictwittercomsmjnl': 14944, 'znec': 21716, 'emitting': 4808, 'dioxide': 4067, 'httpswwwfoxnewscomscienceterrifyingclimatechangewarning': 8741, 'yearsuntilweredoomed': 21459, 'httpswwwwbtwcomnewsnationalaflattirestartedthedeadlycarrfireanddaysofdevastationincalifornia': 8882, 'magnesium': 12226, 'scrape': 17123, 'ignite': 10152, 'httpswwwaxioscomcaliforniasdeadlycarrfirestartedbyflattire': 8675, 'dbhtml': 3709, 'hammer': 6779, 'screwdriver': 17137, 'wrench': 21154, 'cricket': 3413, 'bat': 1165, 'pipe': 15064, 'sword': 18669, 'ax': 1006, 'razor': 16083, 'atvs': 888, 'swimming': 18659, 'panoramic': 14390, 'overlook': 14260, 'camping': 2180, 'camper': 2170, 'smoker': 17774, 'httpstinyiaviannetpo': 8471, 'httpswwwfacebookcomshopdoslagosposts': 8731, 'carwash': 2338, 'fallin': 5288, 'httpskng': 8291, 'kun': 11448, 'pictwittercomtu': 14957, 'hgebjgr': 7082, 'harmful': 6849, 'pattison': 14505, 'volkswagen': 20428, 'surrey': 18583, 'nocharge': 13621, 'httpbitlyfreecabinfilterpictwittercom': 7498, 'pdz': 14549, 'hexx': 7078, 'blink': 1544, 'httpreadrmeavmc': 8167, 'stoner': 18322, 'allergic': 408, 'psychosis': 15651, 'maddonline': 12204, 'consensus': 3133, 'climatefridayhttpsnca': 2812, 'globalchangegovsf': 6335, 'navigator': 13284, 'httpswwwcharitynavigatororgindexcfmbaycontentviewcpid': 8698, 'clarification': 2761, 'negotiator': 13382, 'controversial': 3190, 'reform': 16244, 'forestrywildfire': 5841, 'httpstwittercomlisadnewsstatus': 8561, 'musthave': 13161, 'risking': 16574, 'ckqx': 2747, 'httptwitchtvthedestinchannelpictwittercomnuzsv': 9626, 'vr': 20458, 'httpswwwcanberratimescomauworldnorthamericapleasfloodsocialmediawithlovedonesmissingaftercaliforniawildfire': 8694, 'canberratimes': 2192, 'ddale': 3728, 'dems': 3860, 'luxury': 12153, 'mideastern': 12692, 'terrorist': 18914, 'httpstwittercomddale': 8522, 'reeling': 16233, 'petrified': 14656, 'pictwittercomitk': 14836, 'bvrjy': 2038, 'caitlyn': 2089, 'jenner': 10839, 'perspectivepictwittercomcqb': 14634, 'knsp': 11373, 'bio': 1457, 'litter': 11873, 'catthat': 2388, 'shitin': 17455, 'snomahog': 17812, 'stacked': 18155, 'gaslast': 6134, 'teleworking': 18869, 'driverless': 4381, 'httpwapost': 9662, 'litheon': 11871, 'maria': 12355, 'frisby': 5968, 'pictwittercombepwo': 14761, 'ntz': 13792, 'hungover': 9950, 'httpswwwinstagramcompba': 8758, 'xdu': 21293, 'pictwittercomyh': 15007, 'bo': 1623, 'udha': 19788, 'stormjonas': 18347, 'dance': 3632, 'doneeveryone': 4263, 'guilt': 6660, 'wjt': 21002, 'hypothermia': 10060, 'samaritan': 16941, 'httpwwwrawstorycom': 9822, 'ncmanaccusedofexecutinggoodsamaritantryingtohelphimwithstalledcarinblizzardvqq': 13313, 'quc': 15890, 'qootwitter': 15836, 'httpsgmayahoocomnationalguardrescueswomanapparentlylivingcartrapped': 8246, 'abcnewstopstorieshtmlsocsrcmediacontentstorysoctrktw': 31, 'ransacked': 16044, 'dairy': 3600, 'standstill': 18186, 'slamm': 17690, 'httpyhooit': 9878, 'lecxcz': 11680, 'takeout': 18725, 'sext': 17316, 'tauntaun': 18786, 'iqkx': 10608, 'fzk': 6093, 'miekadoll': 12702, 'verb': 20264, 'httpswwwteacherspayteacherscomproductgetfitactionstoryronsracecaradventure': 8860, 'parlor': 14441, 'httpdlvritkkcnrb': 7681, 'pictwittercomhjoqlvalfg': 14820, 'slate': 17694, 'warmth': 20567, 'bikecleveland': 1438, 'happyincle': 6830, 'grantpettrie': 6530, 'httpgooglwtiu': 7851, 'periscope': 14619, 'qthenews': 15867, 'sander': 16961, 'stockmarket': 18312, 'busi': 2006, 'httpswwwpscptvwaxj': 8826, 'uzgzmzi': 20157, 'nzj': 13861, 'mwt': 13179, 'bnd': 1616, 'xyvlb': 21408, 'rwlkklqnduq': 16836, 'wxtodvxa': 21255, 'gz': 6719, 'xcwg': 21289, 'xtkm': 21382, 'organico': 14163, 'yelp': 21469, 'httpwwwyelpcombizorganicorestaurantbarportwashington': 9865, 'hridvr': 7400, 'pxrrnzh': 15744, 'lvvdcsk': 12160, 'arwptreviewreftwitterutmcampaignreviewutmmediumtwitterutmsourceisharev': 771, 'attracts': 885, 'httpgooglxpprqh': 7852, 'olisatv': 14019, 'brunch': 1888, 'awwhellsnow': 1003, 'jonas': 10965, 'wwe': 21237, 'iniq': 10427, 'banana': 1097, 'walnut': 20544, 'cooky': 3214, 'rrkwwtmt': 16749, 'washingtondc': 20595, 'crippled': 3420, 'icy': 10113, 'httpstwittercombuzzfeednewsstatus': 8505, 'httpgooglcevyka': 7820, 'postblizzard': 15317, 'nakedly': 13224, 'prioritizes': 15521, 'mobility': 12855, 'ncmanaccusedofexecutinggoodsamaritantryingtohelphimwithstalledcarinblizzardvqqei': 13314, 'snowing': 17835, 'delicious': 3837, 'xezlwy': 21301, 'septum': 17269, 'mgmt': 12654, 'gim': 6278, 'httpdlvritknfp': 7694, 'couldve': 3280, 'pussy': 15719, 'williamsburg': 20926, 'alexrkonrad': 383, 'recommend': 16180, 'snowman': 17839, 'httplainnewscommemphisnewspostp': 7978, 'httpswwwyahoocomparentingcreativewaymomsaved': 8900, 'yearoldslifeaftercar': 21455, 'htmlsocsrcsocialshsoctrktw': 7429, 'mommyissues': 12891, 'parenting': 14425, 'plow': 15170, 'acdc': 92, 'monkey': 12907, 'httpstwittercomdianna': 8524, 'nsstatus': 13777, 'httpgoogliamxel': 7838, 'vebxbf': 20230, 'peritoengrafoscopia': 14622, 'witcher': 20987, 'snowdays': 17828, 'xboxone': 21281, 'wishiwassledding': 20983, 'taydert': 18800, 'miakhalifa': 12662, 'littleesther': 11876, 'ovie': 14275, 'chillllll': 2642, 'snowstormjonas': 17848, 'plowedin': 15172, 'nlv': 13595, 'breakingne': 1790, 'bringbacksummer': 1837, 'bqe': 1746, 'paco': 14340, 'xsxzn': 21377, 'httpwwwtwitchtvjohnxhill': 9846, 'constant': 3148, 'negotiate': 13380, 'gracious': 6502, 'nova': 13738, 'httpalertsweathergovcapwwacapgetphpxva': 7461, 'ccdd': 2427, 'blizzardwatch': 1567, 'valwxwswlwx': 20182, 'cea': 2450, 'tiniest': 19216, 'blower': 1592, 'subie': 18440, 'californiabut': 2115, 'httpsgooglqtyudu': 8266, 'rightrelevance': 16548, 'speedysticks': 18037, 'oldie': 14012, 'band': 1098, 'rochester': 16648, 'creative': 3393, 'betw': 1364, 'dcdpr': 3720, 'foodbankmetrodc': 5758, 'distrib': 4160, 'ctrs': 3492, 'whitneycummings': 20841, 'hbo': 6910, 'menu': 12601, 'httpswwwinstagramcompbaz': 8761, 'jrdls': 11004, 'pictwittercoms': 14935, 'qsxzserv': 15863, 'azzolino': 1030, 'pictwittercomiyagi': 14839, 'jonasblizzard': 10966, 'newjerseysnow': 13464, 'uiyxws': 19821, 'grand': 6514, 'theft': 19023, 'series': 17271, 'carcheck': 2252, 'generatorcheck': 6195, 'shovelcheck': 17502, 'scotch': 17111, 'snowcheck': 17822, 'cmon': 2874, 'jyqsve': 11088, 'combine': 2987, 'sno': 17809, 'wz': 21265, 'cheat': 2570, 'daybc': 3693, 'yum': 21577, 'getinmybelly': 6227, 'zfwmjcq': 21673, 'shoveled': 17503, 'fluffy': 5708, 'esgwd': 4985, 'httpwwwpeepstalkscomsomestoresstillawaitingshipmentsoffreshfoodfollowingblizzardbuypictwittercomacoqv': 9818, 'khpl': 11250, 'dug': 4472, 'ues': 19796, 'qpbrl': 15843, 'httpb': 7477, 'ininfoapsd': 10421, 'snowed': 17829, 'lhggli': 11760, 'httpdlvritknfnx': 7690, 'westvillage': 20771, 'eatspictwittercomsrfos': 4610, 'xhhn': 21312, 'ncmanaccusedofexecutinggoodsamaritantryingtohelphimwithstalledcarinblizzardvqqeu': 13316, 'nlgmytwitter': 13592, 'iowa': 10587, 'bernie': 1342, 'idiotic': 10128, 'httpstwittercomforbesstatus': 8531, 'pfkeh': 14666, 'eeportalcom': 4671, 'httpslnkdinevrqqhp': 8301, 'broccoli': 1861, 'httpstwittercomnbcphiladelphiastatus': 8587, 'yyfcwd': 21607, 'janes': 10776, 'httpstwittercompoliticostatus': 8603, 'qjetxrtidsstw': 15808, 'yestopizzahttpwwwmedicaldailycomblizzard': 21482, 'healthycomfortfoodrecipeswithoutsideguilt': 6950, 'coa': 2907, 'httpstwittercomharsh': 8533, 'adnan': 167, 'munawar': 13124, 'statement': 18218, 'nearrecord': 13353, 'shu': 17521, 'anwp': 616, 'madeulookbylex': 12209, 'snowfall': 17831, 'andypollin': 543, 'pictwittercomiuujs': 14837, 'vjrt': 20392, 'spilt': 18054, 'dairyqueen': 3601, 'ooops': 14097, 'gpfsx': 6476, 'mrbdx': 13045, 'townhouses': 19444, 'stigma': 18284, 'wqpbr': 21138, 'snowball': 17816, 'meatball': 12515, 'fir': 5518, 'acci': 76, 'bedim': 1271, 'libby': 11771, 'petpics': 14654, 'snowday': 17823, 'nv': 13821, 'striking': 18396, 'similarity': 17586, 'httpstwittercomantiinertiastatus': 8491, 'chloecaldwell': 2658, 'frey': 5950, 'henleysinging': 7046, 'carblizzard': 2245, 'legitimate': 11702, 'gorgeous': 6450, 'jgddztvm': 10871, 'etiquette': 5023, 'johngibbinssdut': 10944, 'sdut': 17149, 'httpviafox': 9651, 'comzicmj': 3082, 'xyoqs': 21403, 'superheroes': 18534, 'pllxxw': 15165, 'blasio': 1525, 'jan': 10774, 'faithhill': 5280, 'traditional': 19468, 'impatient': 10258, 'stamped': 18180, 'windexd': 20936, 'bassnectarpictwittercomf': 1163, 'kbtdjwur': 11151, 'deadspin': 3746, 'grabbing': 6496, 'marlboro': 12374, 'httpswwwswarmappcomccdosgx': 8857, 'wxxc': 21258, 'soup': 17965, 'bubbly': 1910, 'comt': 3075, 'blizzardfood': 1554, 'httpowlyxnls': 8126, 'snowmageddon': 17837, 'winterstorm': 20964, 'pup': 15696, 'cmc': 2864, 'caron': 2293, 'pikecreekdepictwittercomcwade': 15043, 'ixqg': 10719, 'bray': 1779, 'snowboard': 17817, 'rideau': 16528, 'pudding': 15670, 'soak': 17855, 'crustless': 3464, 'cinnamon': 2717, 'nutmeg': 13813, 'httpswwwwashingtonpostcomnewstheswitchwp': 8880, 'driverlesscarsworkgreatinsunnycaliforniabuthowaboutinablizzardhpidhphpcardshpcardtechnology': 4383, 'ahomepage': 280, 'fcard': 5367, 'nbwzv': 13306, 'hereflashlightsfoodbeer': 7060, 'httpkottkeorg': 7974, 'snowboardingonthestreetsofmanhattan': 17821, 'azilb': 1026, 'seasoned': 17176, 'potato': 15335, 'wedge': 20708, 'tahliamade': 18713, 'hrj': 7402, 'httpowlyxopfi': 8128, 'chemicallylaced': 2595, 'blizzardfoodstockpilingstoreshelveshtml': 1555, 'stoop': 18326, 'nevershovelingagain': 13454, 'snowfun': 17832, 'invested': 10566, 'hotsauce': 7339, 'pepper': 14600, 'rloxszj': 16605, 'ambivalent': 469, 'classespictwittercomfmjc': 2768, 'pchwf': 14537, 'schmizzard': 17090, 'linmanuel': 11848, 'pictwittercomc': 14770, 'wg': 20790, 'ni': 13528, 'dbsucl': 3713, 'yorker': 21529, 'powdermyride': 15354, 'amqq': 500, 'foggy': 5742, 'pre': 15423, 'spinach': 18056, 'cheddar': 2579, 'frittata': 5969, 'snowzilla': 17852, 'cabinfever': 2072, 'httpsparkleandclinkcom': 8334, 'blizzardbabyspinachcheddarfrittataspictwittercomsteunisk': 1549, 'restless': 16433, 'bardupont': 1131, 'dcfoodie': 3721, 'pictwittercomfint': 14801, 'dptwr': 4324, 'fbf': 5357, 'sammitysam': 16947, 'moochbromarc': 12933, 'kop': 11388, 'bosnaud': 1694, 'thekenchilds': 19030, 'httpdlvritknfnzs': 7693, 'nuuwxmpictwittercomnjre': 13819, 'mggjs': 12653, 'tgenyk': 18956, 'gotdamn': 6456, 'chevy': 2612, 'silverado': 17582, 'hnel': 7209, 'ncmanaccusedofexecutinggoodsamaritantryingtohelphimwithstalledcarinblizzardvqscaybjfnktwitter': 13323, 'httpapnews': 7467, 'zu': 21754, 'httpstwittercomibterrencestatus': 8535, 'mura': 13132, 'httpjalopnikcombravecarsaysenoughofthisblizzardcatchesfire': 7955, 'consideration': 3138, 'vnjyfx': 20412, 'inspired': 10472, 'medley': 12545, 'cvukwi': 3548, 'pks': 15108, 'tallboy': 18745, 'gallon': 6109, 'luthrvan': 12148, 'spppz': 18092, 'mhlrke': 12658, 'zgqnxjfwsue': 21676, 'iwcu': 10712, 'usedcars': 20077, 'qlgejp': 15817, 'uspictwittercommcfd': 20095, 'iwjec': 10714, 'oefnj': 13934, 'valentinonora': 20173, 'vocmnightline': 20416, 'purring': 15711, 'httpmtbnnitkk': 8009, 'sxtpictwittercomohljrdw': 18676, 'slzjc': 17735, 'shortcut': 17490, 'snowmaggedon': 17838, 'robmarciano': 16645, 'mta': 13084, 'accessaride': 74, 'httpwwwwelcome': 9858, 'thebronxcomwordpress': 19010, 'updatemtashuttingdownbusesandaccessaridebynoontoday': 20001, 'hoth': 7336, 'minnesnowta': 12762, 'hackensack': 6731, 'httpviawgntvcomtdbs': 9654, 'pictwittercomjq': 14850, 'popping': 15281, 'racked': 15966, 'suppliesfood': 18545, 'reliving': 16302, 'boyhood': 1732, 'excitement': 5140, 'crossbronx': 3442, 'rampant': 16028, 'imaging': 10220, 'lidar': 11782, 'odji': 13927, 'pictwittercomzriqrvuoo': 15025, 'musingamanda': 13155, 'cheap': 2567, 'ache': 95, 'httpswwwinstagramcompbbnxhmmrech': 8764, 'fineand': 5506, 'httpdlvritknfnwm': 7689, 'httpwpostrvr': 9679, 'hgmd': 7085, 'tca': 18811, 'afrosypaella': 226, 'appetitefood': 661, 'oktgfe': 14006, 'suuuuuper': 18614, 'ncmanaccusedofexecutinggoodsamaritantryingtohelphimwithstalledcarinblizzardvqrrera': 13322, 'wonderland': 21058, 'httpfabulousfashions': 7749, 'sensiblestyleblogspotcom': 17261, 'wordlesswednesdayblizzard': 21079, 'funhtml': 6045, 'blizzardcseuen': 1551, 'musicgoodfood': 13148, 'andgood': 530, 'pawcircle': 14516, 'robinrescues': 16643, 'purrayers': 15710, 'cocktail': 2921, 'eeeeeats': 4668, 'evgrieve': 5104, 'eaterny': 4605, 'grubstreet': 6623, 'thrillistnyc': 19145, 'kcolrf': 11159, 'philly': 14702, 'pictwittercomjg': 14843, 'thtn': 19163, 'decisionsdecisions': 3787, 'dcsnowpictwittercomsdxezn': 3726, 'tuy': 19692, 'cwt': 3551, 'snowboarding': 17820, 'pictwittercomiinpctuang': 14831, 'vegetable': 20233, 'iqjch': 10605, 'comicnrrd': 3009, 'avetheparisofthe': 960, 'sigh': 17555, 'httpstwittercomwnycstatus': 8643, 'conditionsstreets': 3095, 'impassable': 10257, 'sled': 17703, 'hipster': 7159, 'hauling': 6882, 'pabst': 14327, 'dbj': 3710, 'ebghea': 4619, 'httptribin': 9608, 'httpstwittercomtextmasterflexstatus': 8625, 'httpjmp': 7964, 'pictwittercomfloivqitgr': 14803, 'vicenews': 20316, 'pummels': 15685, 'xz': 21409, 'kh': 11240, 'pictwittercomv': 14972, 'ury': 20051, 'rossyttv': 16711, 'tampa': 18750, 'grossly': 6603, 'overestimated': 14253, 'crackerz': 3351, 'vending': 20252, 'machine': 12195, 'foodwise': 5809, 'usher': 20089, 'january': 10783, 'lilianewyork': 11824, 'acmenyc': 101, 'nypd': 13846, 'httpsyoutubeqrv': 8919, 'wpoou': 21129, 'qsjplxq': 15859, 'diner': 4060, 'gona': 6408, 'httpwwwusatodaycomstorynews': 9851, 'didyoulosepowerduringblizzardhowtellifyourfoodsafe': 4032, 'usi': 20090, 'httptwibinlbn': 9623, 'rjexgoar': 16591, 'httpstwibbleiopictwittercom': 8485, 'rbn': 16087, 'quantity': 15886, 'unanticipated': 19853, 'paralyzes': 14412, 'scannernewsnj': 17063, 'somerset': 17917, 'optnk': 14140, 'emily': 4800, 'osborn': 14186, 'shack': 17340, 'pohho': 15224, 'iluvu': 10212, 'hlvpw': 7197, 'httpwwwdelishcomrecipescookingrecipessnowdayrecipes': 9744, 'delishdotcom': 3840, 'housebound': 7353, 'qqtaba': 15851, 'alternet': 440, 'httpwwwalternetorgnewsamppoliticsmanshootsandkillsgoodsamaritantryinghelphimstalledcarblizzardvqelndw': 9691, 'jt': 11012, 'httpwwwalternetorgnewsamppoliticsmanshootsandkillsgoodsamaritantryinghelphimstalledcarblizzardvqalddujapetwitter': 9690, 'httpstwittercomdchumanservstatus': 8521, 'httpdlvritkkbtms': 7678, 'frenzy': 5940, 'countryeh': 3296, 'foodsupplies': 5797, 'mvp': 13171, 'httpgooglo': 7844, 'fuqo': 6053, 'snowreads': 17845, 'frost': 5981, 'snowedin': 17830, 'hzfbq': 10069, 'inventive': 10563, 'httpdlvritkk': 7674, 'hcgpictwittercomgouxldjbc': 6919, 'clearly': 2787, 'liibjb': 11814, 'christinaeleeds': 2687, 'remarkably': 16313, 'heineken': 7006, 'snowi': 17833, 'bacon': 1053, 'lecherous': 11677, 'vixen': 20387, 'satisfy': 17013, 'hunger': 9948, 'assorted': 822, 'purple': 15705, 'pan': 14379, 'granola': 6526, 'xqkvqhlj': 21363, 'crippling': 3421, 'acrossthemargin': 109, 'httpacrossthemargincomsnowdays': 7452, 'pillownaut': 15050, 'jkqelvws': 10899, 'imgcjnc': 10231, 'zau': 21631, 'blackforest': 1512, 'httpswwwinstagramcompbbboudxk': 8762, 'qt': 15864, 'boredom': 1686, 'bite': 1480, 'axed': 1010, 'httpgooglnie': 7843, 'bl': 1505, 'brookebcnn': 1870, 'dearest': 3756, 'carefull': 2265, 'aupublicsafety': 906, 'httpwwwwashingtonpostcomblogsliveblogliveliveblogupdateswinterstormtargetsdcregiontidsstwcaeaa': 9855, 'bbf': 1211, 'httpsapplenewsar': 8190, 'ntvhitzcvdgx': 13790, 'yugq': 21575, 'httpstwittercomlongdickcannonstatus': 8566, 'httpswwwwashingtonpostcomlifestylefoodhowtomakethemostofyourblizzardfoodstashevenwhenyoulosepower': 8877, 'bcda': 1223, 'storyhtmltidpmlifestylepopb': 18357, 'winterizing': 20963, 'anlchwre': 573, 'tostitos': 19404, 'drmark': 4396, 'dropin': 4401, 'cocoa': 2922, 'httpfbmeouh': 7772, 'hwrm': 10037, 'remedy': 16315, 'ininfofsrq': 10422, 'foaigdld': 5735, 'nszyiq': 13782, 'driverlesscarsworkgreatinsunnycaliforniabuthowaboutinablizzardpictwittercomvvytfjicjp': 4384, 'freely': 5927, 'httpdlvritkjbpxcpictwittercomue': 7673, 'uupkfgr': 20138, 'chill': 2638, 'httpgoogl': 7817, 'zt': 21752, 'lodi': 11977, 'ohxlhr': 13981, 'slamming': 17692, 'httpmtbnnitdmkggp': 8008, 'newark': 13458, 'jcmakeityours': 10814, 'xbrhod': 21283, 'hip': 7157, 'flask': 5608, 'rotgut': 16715, 'coggin': 2937, 'tobggan': 19277, 'blizzardthen': 1564, 'iaapahq': 10075, 'pbvmqkci': 14533, 'safetyfirst': 16899, 'httpwwwalternetorgnewsamppoliticsncmanshotandkilledgoodsamaritantryinghelphimstalledcarblizzardcops': 9692, 'gunsense': 6674, 'httpowlyxxpqfpictwittercompyfnrnit': 8132, 'cereal': 2481, 'zptbn': 21734, 'exceed': 5130, 'ld': 11639, 'chrisfixed': 2680, 'gdq': 6181, 'vea': 20228, 'nba': 13294, 'fave': 5348, 'pacer': 14329, 'winterstormjonas': 20965, 'nwdqbt': 13829, 'squirrel': 18131, 'wtopsnowpictwittercoma': 21207, 'uou': 19993, 'sksv': 17674, 'ddpft': 3733, 'lazy': 11628, 'httpwpost': 9675, 'zg': 21674, 'fargond': 5315, 'againfroze': 236, 'deathtrue': 3763, 'incomxml': 10316, 'eternally': 5014, 'purchasing': 15701, 'sleigh': 17709, 'keystone': 11221, 'chapo': 2536, 'nacho': 13207, 'clearup': 2789, 'lhqkxv': 11765, 'northerner': 13696, 'hover': 7375, 'httpstwittercomlexsantanastatus': 8559, 'vip': 20363, 'dmitrinickell': 4205, 'coupon': 3306, 'jerk': 10844, 'breast': 1797, 'acorn': 104, 'squash': 18129, 'stuffed': 18422, 'quinoa': 15911, 'pictwittercomgerqfnw': 14811, 'joannacoon': 10922, 'ughh': 19806, 'oops': 14099, 'httpcommunityscenecombrooklynbrooklynmanmissingduringblizzardfounddeadhisplowedcar': 7652, 'communityscene': 3036, 'lasky': 11584, 'formerly': 5856, 'angelo': 551, 'lqtxdx': 12100, 'abominable': 44, 'snowmanit': 17840, 'momgoals': 12888, 'httpbuffly': 7629, 'otjjc': 14200, 'zzxway': 21782, 'httpsnewsvicecomarticlemayororderstravelbanandsaysnofooddeliveriesasblizzardpummelsnewyork': 8315, 'sheerans': 17392, 'tp': 19450, 'nycblizzard': 13841, 'hcq': 6921, 'pictwittercomopuywzoch': 14907, 'spictwittercomq': 18048, 'hsabiz': 7405, 'npa': 13756, 'cq': 3335, 'nasapictwittercomfkkaxfgyfd': 13248, 'httpwwwdailyprogresscomnewsvirginiannewsinstormsaftermathlocalfamilyreachesoutforsupportarticle': 9737, 'htmlpictwittercomcnwotlbiyg': 7423, 'booze': 1682, 'httpwwwcbcca': 9719, 'attitude': 880, 'spec': 18019, 'bueno': 1926, 'detailed': 3954, 'rtn': 16770, 'skill': 17665, 'ocho': 13912, 'ikx': 10193, 'sk': 17652, 'married': 12381, 'patersonnj': 14488, 'pictwittercomwwcc': 14990, 'unfft': 19897, 'httpgooglfbwk': 7834, 'inevitable': 10380, 'presnow': 15481, 'claytongerard': 2777, 'condo': 3097, 'ncmanaccusedofexecutinggoodsamaritantryingtohelphimwithstalledcarinblizzardvqtlhcoioktwitter': 13324, 'ywca': 21590, 'escort': 4982, 'httpstwittercomdeliaephronstatus': 8523, 'dina': 4059, 'hoevlmga': 7222, 'myth': 13198, 'fiction': 5462, 'tjtaq': 19244, 'lemontokki': 11711, 'wmata': 21024, 'cqnow': 3340, 'culinary': 3506, 'creativity': 3394, 'circa': 2721, 'freshman': 5948, 'nail': 13218, 'doneand': 4262, 'pricing': 15505, 'guaranteeing': 6644, 'bazz': 1194, 'bingeing': 1455, 'purdysuperpictwittercomxygneet': 15702, 'mplt': 13030, 'ariels': 716, 'lkv': 11920, 'winterwonderland': 20966, 'stormblizzard': 18340, 'typezay': 19748, 'gxwjei': 6711, 'httpdlvritdm': 7671, 'qj': 15807, 'coped': 3232, 'httpmashablecom': 7995, 'knickerbockerstormhv': 11359, 'bhy': 1405, 'trooper': 19585, 'httpswwwwashingtonpostcomlocalthegreatpostblizzardparkingstrugglepleasthreatsandlawnchairs': 8878, 'cestoryhtmlhpidhphptoptablemainparkingpain': 2487, 'fstory': 5997, 'rican': 16511, 'stew': 18274, 'instafood': 10480, 'httpswwwinstagramcompbbrl': 8765, 'qlksau': 15819, 'bimmer': 1450, 'shade': 17341, 'gray': 6540, 'httpsnjcomupas': 8319, 'unkbiol': 19939, 'drc': 4353, 'carlsonlab': 2283, 'xqj': 21362, 'afweg': 233, 'epjhu': 4931, 'avocado': 962, 'tomato': 19310, 'guac': 6639, 'shoveling': 17505, 'gurl': 6682, 'driverlesscarsworkgreatinsunnycaliforniabuthowaboutinablizzard': 4382, 'bigsexy': 1431, 'nowww': 13755, 'pictwittercomlynlngcrqv': 14871, 'cole': 2949, 'peakstreak': 14559, 'kicking': 11260, 'lrgoe': 12102, 'audition': 898, 'tea': 18827, 'feb': 5392, 'bdmehve': 1235, 'httpfbmewpuzh': 7787, 'altho': 442, 'fried': 5957, 'theneeds': 19047, 'httpwwwtheneedscomfoodn': 9840, 'hereshowmuchbusinessblizzardjonasnewyorkmagutmsourcetwitterutmmediumsocialutmcampaignfoodutmcontentshare': 7063, 'httpwwwdelishcomcookingg': 9742, 'snowdayrecipes': 17826, 'staywarmpictwittercomeyuedl': 18236, 'thisthink': 19110, 'prefer': 15447, 'thanked': 18968, 'httpnewsgroopspeakcomwomanbraveseastcoastblizzardtodeliverfoodtorichpeoplehereshowtheythankedher': 8022, 'distinctly': 4156, 'erie': 4956, 'whiteout': 20834, 'longisland': 12013, 'blizzardjonas': 1559, 'oldschoolhttpstwittercommara': 14014, 'wrbmhttpwwwbuzzfeedcomcaodonnell': 21145, 'snowdayrecipesyoucancookordrinkrightnowycp': 17827, 'mkvbe': 12826, 'httponwusa': 8060, 'rdtknu': 16102, 'wusa': 21219, 'prius': 15527, 'drudgereport': 4427, 'sdx': 17152, 'hmu': 7206, 'braved': 1776, 'iceg': 10105, 'notgonnastarve': 13716, 'homemakerstacey': 7253, 'somewhereblizzard': 17926, 'crazyweather': 3382, 'cxkbroqp': 3557, 'httpusatly': 9640, 'vftwmt': 20288, 'deli': 3836, 'edible': 4649, 'readable': 16112, 'qby': 15768, 'dprintingpictwittercom': 4323, 'cpljw': 3334, 'eki': 4728, 'landen': 11546, 'barenberg': 1134, 'dieting': 4043, 'httpwwwgoogleorgpublicalertsalertsourcenowglushlenaid': 9766, 'dfe': 3988, 'duration': 4495, 'bvhuptwb': 2036, 'explorer': 5197, 'updxh': 20004, 'markiemarkie': 12371, 'shutterbuggeek': 17528, 'midnight': 12694, 'delcosnow': 3831, 'httpwwwdelcotimescomarticledc': 9741, 'delcotimes': 3832, 'lgiijm': 11750, 'hourly': 7350, 'httpwikiplaysorgeconomicsofablizzardwinterstormjonasisawinforwholefoodsbutalossforhourlyworkersforbes': 9667, 'httpdlvritknfnzr': 7692, 'joshuaevanbrown': 10978, 'dfrpg': 3990, 'httpjalops': 7960, 'zyizjhpictwittercomhwbxzizadv': 21778, 'germanfood': 6222, 'weiner': 20727, 'wurst': 21218, 'pflzb': 14667, 'iy': 10721, 'httpdlvritkndqpc': 7687, 'guppyfree': 6676, 'retrieve': 16456, 'screw': 17136, 'janiyah': 10780, 'cddolphins': 2436, 'pictwittercomrnqfabpsh': 14933, 'definitly': 3820, 'httptmblrcozflmeq': 9589, 'ygqgq': 21496, 'moorestown': 12940, 'dayold': 3695, 'wing': 20953, 'weathering': 20693, 'hellblizzard': 7018, 'todaysparent': 19283, 'instaweather': 10491, 'pinoy': 15061, 'filipino': 5480, 'bwi': 2042, 'emilyjyu': 4802, 'kelliwardaz': 11188, 'wakeuptucson': 20522, 'kvoi': 11455, 'sierravistaaz': 17553, 'ward': 20562, 'radi': 15970, 'pictwittercomy': 15004, 'clovmnp': 2852, 'httpgooglqld': 7847, 'pictwittercomla': 14865, 'jehan': 10831, 'barcadenewyork': 1128, 'craft': 3355, 'arcade': 697, 'barcade': 1127, 'ncmanaccusedofexecutinggoodsamaritantryingtohelphimwithstalledcarinblizzardvqy': 13326, 'sptz': 18106, 'uktwitter': 19831, 'prisoncalledfor': 15524, 'tampon': 18753, 'markskogan': 12372, 'amaxsmith': 461, 'flipping': 5635, 'httpgooglfbksdeeu': 7829, 'httpwwwgoodnewsnetworkorghomelessmanhelpsmotoristsstuckinblizzardutmsourcedlvritutmmediumtwitterutmcampaignnewserdottel': 9765, 'goodnews': 6422, 'onlygoodnews': 14069, 'noodle': 13660, 'notcupnoodles': 13711, 'pictwittercommkrbmxo': 14884, 'vlasic': 20400, 'sqq': 18123, 'vanessvelocity': 20189, 'nokill': 13634, 'owiyd': 14286, 'hack': 6730, 'aklhv': 338, 'httpdlvritkkbw': 7680, 'bpictwittercom': 1738, 'ljk': 11910, 'supergirlcbs': 18532, 'foodfried': 5768, 'fishandgritsthanks': 5561, 'ddqeiyrlrpftet': 3734, 'qoy': 15839, 'cbrxbv': 2420, 'wnjmg': 21032, 'traction': 19461, 'reeses': 16234, 'evilhealthyself': 5109, 'manna': 12320, 'pictwittercomnchwdm': 14894, 'inf': 10384, 'snowboarder': 17818, 'brendan': 1812, 'kittredge': 11316, 'lyzdes': 12182, 'tidsstw': 19190, 'bfung': 1378, 'foodsnacks': 5792, 'dining': 4063, 'rjkzlix': 16595, 'kknightbooks': 11329, 'tbrlist': 18808, 'endoscopy': 4842, 'offnot': 13952, 'matt': 12427, 'epic': 4927, 'tir': 19225, 'lzac': 12184, 'blizzardstatus': 1563, 'draping': 4345, 'bearattack': 1243, 'skidded': 17663, 'dgnmi': 3998, 'nigeld': 13551, 'friendzone': 5963, 'httpstwittercomnigeldstatus': 8592, 'pictwittercommijbrmccyd': 14881, 'httpwpostzke': 9682, 'zkuobsh': 21704, 'arl': 725, 'httpdragpluscompostid': 7736, 'peoole': 14588, 'dickhead': 4027, 'rampictwittercomrdas': 16029, 'stof': 18315, 'kmmdm': 11348, 'tid': 19184, 'letitsnow': 11731, 'slowcooker': 17724, 'pork': 15290, 'ocphnhzu': 13917, 'zxle': 21774, 'medic': 12532, 'deaththreat': 3761, 'pictwittercomikvez': 14833, 'zrax': 21742, 'httpwnepcom': 9670, 'yearoldwomanscaredtodriveinblizzardfounddeadincaroutsidenjburgerking': 21456, 'pictwittercomfzusu': 14808, 'doovers': 4283, 'profc': 15562, 'holyland': 7240, 'butterfinger': 2024, 'cannoli': 2209, 'belle': 1306, 'distraction': 4157, 'loneliness': 12005, 'confession': 3105, 'ukulele': 19833, 'adqlhree': 171, 'eparillon': 4922, 'atrios': 864, 'ooo': 14096, 'cheesesteak': 2586, 'dip': 4068, 'puvflzju': 15727, 'httpdlvritdmrttz': 7672, 'drift': 4370, 'nebraska': 13355, 'nebraskablizzardhttpstwittercomkristag': 13356, 'httpwwwwiredcom': 9862, 'sneckdownsthehiddenurbandesignlessoninwinterstormjonasmbidsocialtwitter': 17803, 'httpfeedsgawkercom': 7799, 'erjalopnikfull': 4960, 'qxdjkpk': 15934, 'pfoautomakersanddealersareinblizzardrecoverymode': 14668, 'truckspictwittercomh': 19604, 'rhb': 16506, 'ocny': 13916, 'trolfacehttpstwittercomdiablostatus': 19581, 'eaten': 4603, 'viob': 20360, 'httpfeedsfeedblitzcom': 7798, 'alternetncmanshotandkilledgoodsamaritantryingtohelphimwithstalledcarinblizzardcops': 441, 'quitting': 15917, 'milemarch': 12726, 'march': 12344, 'kareen': 11114, 'httpworldnewsherecom': 9672, 'dcresidentsshareblizzardpreplistsfoodboozetoiletpaperandsledspictwittercomt': 3725, 'rmajcxus': 16611, 'jszq': 11011, 'comedy': 2997, 'ethiopian': 5022, 'extraordinary': 5222, 'recove': 16190, 'qcpzeu': 15777, 'eyemama': 5235, 'anhttpbitly': 559, 'shy': 17538, 'foodmag': 5779, 'peppermint': 14602, 'dmv': 4207, 'snowin': 17834, 'peruvian': 14638, 'madness': 12215, 'sjtorres': 17647, 'jimwilsonphd': 10890, 'smullaney': 17784, 'ammertime': 488, 'jake': 10756, 'slope': 17720, 'coop': 3221, 'singleday': 17605, 'engineering': 4863, 'squibb': 18130, 'httpwwwbrownstonercomblog': 9716, 'morninglinksslopefoodcoopsoldarecord': 12958, 'ingroceriesindaybeforeblizzardutmcampaigncoscheduleutmsourcetwitterutmmediumbrownstonerutmcontentmorning': 10416, 'stiffed': 18283, 'httpnypst': 8041, 'puxcrk': 15728, 'nypost': 13851, 'noreaster': 13671, 'sears': 17172, 'httpsywcoanniegarlock': 8924, 'neildsteinberg': 13392, 'pictwittercommimwz': 14882, 'dvdp': 4512, 'enhancedsight': 4871, 'forthbut': 5863, 'medford': 12529, 'hungryhipsters': 9953, 'gjwlt': 6302, 'bv': 2035, 'consisting': 3142, 'ncmanaccusedofexecutinggoodsamaritantryingtohelphimwithstalledcarinblizzardvqqpt': 13319, 'vfinatwitterpictwittercomr': 20287, 'pmsyh': 15203, 'vgd': 20290, 'mocking': 12860, 'repenc': 16353, 'youtubers': 21549, 'joyfully': 10991, 'rebellious': 16149, 'httplnisinsiderfoxnewscomiftc': 7985, 'tempting': 18885, 'yearsalli': 21458, 'pictwittercomzlhqauaueu': 15020, 'ox': 14296, 'fnlpictwittercom': 5732, 'opdc': 14108, 'muoy': 13131, 'inconsiderate': 10317, 'qcmtap': 15775, 'philastreets': 14696, 'resync': 16443, 'brechin': 1804, 'dundee': 4485, 'arnold': 737, 'tonyperkinsfox': 19332, 'bikedc': 1439, 'nycs': 13843, 'httpwww': 9685, 'litefmcomonairhelenlittle': 11869, 'snowboardersdefybantaketonycs': 17819, 'litefm': 11868, 'sinatra': 17592, 'httpdlvritkkbr': 7675, 'httpwwwgodlikeproductionscomforum': 9763, 'sweater': 18643, 'httpwwwtheawesomepresscom': 9838, 'bravecarsaysenoughofthisblizzardcatchesfirepictwittercomwonlfmnove': 1775, 'pennsylvania': 14582, 'turnpike': 19687, 'begs': 1290, 'predicted': 15439, 'rushmillerfound': 16814, 'httpswwwpscptvwaya': 8830, 'ttezmtkwnzy': 19648, 'fdftbnhlyk': 5380, 'jmcyjkgrh': 10909, 'oxpzbumbwvuiemwltuec': 14303, 'ldxnva': 11648, 'pqptg': 15380, 'zvb': 21762, 'oa': 13862, 'sneaky': 17801, 'cyclist': 3564, 'almondmilkandglutenfreebread': 425, 'hipsterpanic': 7160, 'fairyburger': 5277, 'youneedtomakethis': 21540, 'tracking': 19460, 'btwn': 1907, 'glenmont': 6321, 'wheaton': 20812, 'woodbineslic': 21061, 'lic': 11777, 'thai': 18963, 'dirtiness': 4084, 'ihavenoluck': 10166, 'slyfoxhound': 17733, 'anartica': 526, 'pug': 15676, 'acana': 64, 'pugsinjammiespictwittercom': 15677, 'alvzqmyse': 448, 'foodnex': 5782, 'rehdcf': 16273, 'brimercedes': 1835, 'nbcnews': 13300, 'lindsayell': 11838, 'showsblizzard': 17513, 'heater': 6975, 'starter': 18203, 'clutch': 2860, 'rkhorry': 16600, 'kayla': 11147, 'bigshotbob': 1432, 'vacant': 20160, 'httpnycdogsurgentpodrorgrosea': 8037, 'marker': 12365, 'vodkaalready': 20419, 'whiskey': 20827, 'capo': 2229, 'crystal': 3470, 'meth': 12632, 'snowstormjonaspictwittercomaprrnkwoae': 17849, 'blitzed': 1547, 'mardecristal': 12351, 'yeaaaa': 21447, 'httpwwwalternetorgnewsamppoliticsncmanshotandkilledgoodsamaritantryinghelphimstalledcarblizzardcopsvquiilqurc': 9693, 'pwvrdq': 15741, 'parmesan': 14442, 'wucgamym': 21214, 'mjq': 12816, 'entertaining': 4891, 'jicehi': 10879, 'wxpnfm': 21253, 'organize': 14167, 'sock': 17871, 'drawer': 4351, 'httpbcvcfdyhws': 7479, 'unnoticed': 19953, 'blizzardhunker': 1557, 'httpstwittercommmonstrolastatus': 8578, 'staffer': 18161, 'httpstwittercombyaaroncdavisstatus': 8506, 'orderin': 14153, 'pltg': 15177, 'jpictwittercomcghto': 10997, 'bazaar': 1192, 'mcl': 12476, 'djohjvjp': 4188, 'ppexryfzbehyepwolvxtw': 15368, 'mailbox': 12241, 'convent': 3196, 'awhellsnow': 994, 'boar': 1624, 'smoked': 17771, 'hoagie': 7214, 'grocer': 6597, 'salle': 16924, 'tny': 19271, 'worcestercommon': 21077, 'wormtownbrewery': 21102, 'skating': 17656, 'pictwittercomk': 14854, 'kepb': 11206, 'jihettly': 10881, 'esd': 4983, 'noosa': 13664, 'waqiyfc': 20560, 'kierpanda': 11268, 'mock': 12859, 'diablo': 4020, 'httpwpostdib': 9676, 'httpdlvritkkbrks': 7676, 'nhl': 13522, 'chi': 2615, 'ott': 14203, 'nyr': 13852, 'cgy': 2495, 'pitwshpostponed': 15078, 'carll': 2280, 'updatesbot': 20003, 'httpmegalegitcomaliensbabybornduringblizzarddoingwelloneweeklater': 7998, 'paranormal': 14419, 'advertisemen': 184, 'deliveryman': 3846, 'doktorbuzzo': 4244, 'venture': 20260, 'ncmanaccusedofexecutinggoodsamaritantryingtohelphimwithstalledcarinblizzardvqrqcyts': 13321, 'bubble': 1909, 'httpstwittercomrationalwebguystatus': 8608, 'unstuck': 19973, 'slippery': 17718, 'beverage': 1365, 'adore': 170, 'jatore': 10796, 'jvghbe': 11068, 'cowx': 3325, 'httpwwwlyftcominvitedjonjonandcopictwittercomilyliy': 9795, 'tyu': 19754, 'httpdlvritkkcqdq': 7682, 'httpwpostrv': 9678, 'ncmanaccusedofexecutinggoodsamaritantryingtohelphimwithstalledcarinblizzardvqwkc': 13325, 'liberty': 11773, 'jammies': 10771, 'httpwwwforbescomsitessamanthasharf': 9757, 'economicsofablizzardwinterstormjonasisawinforwholefoodsbutalossforhourlyworkerspictwittercomumqqv': 4638, 'akwj': 342, 'zjejs': 21696, 'wuyy': 21225, 'nfdt': 13507, 'httpdlvritknfnyf': 7691, 'httpviewims': 9655, 'yywm': 21611, 'httppix': 8144, 'founddeadincaroutsidenewjerseyburgerkingpictwittercomccljim': 5880, 'pov': 15351, 'ayq': 1022, 'zwgjdt': 21766, 'scmszt': 17101, 'vskfrjry': 20464, 'elevated': 4748, 'httpsnjcomwipmyva': 8320, 'nytv': 13857, 'nnlwkdpictwittercomlrizlbejl': 13608, 'babycat': 1037, 'httpyoutubeeuimytxygcga': 9886, 'blizzardent': 1553, 'starcraft': 18194, 'satisfying': 17014, 'chabad': 2498, 'whj': 20842, 'ifx': 10146, 'lgmf': 11754, 'everythings': 5097, 'corn': 3250, 'salsa': 16927, 'oatmeal': 13869, 'lizzard': 11905, 'hahahahaha': 6739, 'snowstormhttpstwittercomamnewyorkstatus': 17847, 'entouragetvshow': 4896, 'newssnow': 13493, 'snowpictwittercomgm': 17843, 'kk': 11325, 'overwhelming': 14273, 'desire': 3931, 'httpswwwinstagramcompbawwf': 8760, 'httptwibinl': 9622, 'ebmrelx': 4620, 'schphf': 17093, 'httptzdailyeyeblogspotcom': 9633, 'brutalblizzardjonasbites': 1892, 'cannae': 2205, 'windscreen': 20942, 'carsalesfun': 2311, 'peach': 14556, 'walki': 20530, 'blizzardthis': 1565, 'freunden': 5949, 'shovelin': 17504, 'qxnmis': 15936, 'groceriesand': 6598, 'tbt': 18809, 'mdtrwq': 12492, 'ahh': 276, 'ethical': 5021, 'httpgothamistcom': 7853, 'blizzarddelivery': 1552, 'wjeujv': 20997, 'retiredskeptic': 16449, 'yakimaracks': 21419, 'description': 3920, 'wf': 20780, 'bound': 1714, 'lssv': 12110, 'sfg': 17324, 'ambitious': 467, 'leftover': 11689, 'finishing': 5515, 'bgtipictwittercomc': 1385, 'iebdpw': 10131, 'fireball': 5522, 'republic': 16377, 'httpwwwmitchellrepubliccomnewsstate': 9802, 'driverlesscarsworkgreatsunnycaliforniahowaboutblizzard': 4386, 'httplniswwwrawstorycom': 7990, 'wqcqg': 21135, 'stevenlittlefit': 18271, 'ridepeloton': 16530, 'masundbe': 12415, 'pghpickleco': 14676, 'wno': 21035, 'sunoco': 18521, 'sunocosucks': 18522, 'egg': 4692, 'toast': 19273, 'dislike': 4135, 'pronto': 15588, 'ghjw': 6256, 'ingredient': 10415, 'httpsapplenewsaygq': 8195, 'sroxjdyopw': 18140, 'froze': 5986, 'meh': 12559, 'comingi': 3012, 'vbwjbf': 20209, 'httpsmarwsfvmsn': 8304, 'musical': 13147, 'visitphilly': 20378, 'oldcity': 14009, 'musicpictwittercomn': 13152, 'bbmihsdm': 1214, 'alexparker': 382, 'bummer': 1952, 'manahattan': 12295, 'ncmanaccusedofexecutinggoodsamaritantryingtohelphimwithstalledcarinblizzardvqqpklgadpatwitter': 13318, 'httpmtbnnitkltqwt': 8010, 'snowplow': 17844, 'caterpillarinc': 2376, 'frontend': 5977, 'loader': 11954, 'impaled': 10256, 'bel': 1297, 'orlqnj': 14178, 'gazed': 6159, 'angrily': 555, 'petty': 14661, 'kick': 11257, 'httpgooglfbtgjegb': 7832, 'ane': 545, 'sabertooth': 16869, 'smellystrobespictwittercomg': 17756, 'jmjt': 10912, 'covenanthousedc': 3315, 'chipotle': 2651, 'fil': 5477, 'httpnltipskkljjr': 8033, 'breakingnewspictwittercomapiohoz': 1792, 'dw': 4516, 'torture': 19399, 'pleaseno': 15157, 'carolyn': 2292, 'hoagy': 7215, 'inc': 10294, 'gtchat': 6633, 'begging': 1287, 'mushroom': 13144, 'scallion': 17058, 'crusty': 3465, 'baguette': 1065, 'twj': 19733, 'mqtd': 13039, 'httpfxnws': 7810, 'tc': 18810, 'ldl': 11643, 'montclair': 12923, 'plgs': 15163, 'janacegifford': 10775, 'pictwittercomxjhuchujrr': 14994, 'pictwittercomumbj': 14962, 'whw': 20862, 'clankingwarming': 2756, 'merrick': 12617, 'iib': 10176, 'scritches': 17140, 'qpaftsq': 15842, 'httpflipitkq': 7803, 'tumblr': 19667, 'zuft': 21757, 'horsepower': 7321, 'camaro': 2157, 'httpjapancarsinfoarchives': 7961, 'japancars': 10787, 'joxdl': 10988, 'ru': 16775, 'boldly': 1650, 'httpbizjus': 7622, 'kzqeg': 11483, 'phillygrubpictwittercom': 14704, 'vciex': 20216, 'twaiku': 19701, 'blakeleyers': 1516, 'devil': 3978, 'scone': 17102, 'contemplated': 3168, 'emilyanne': 4801, 'illuminates': 10205, 'discove': 4118, 'mkq': 12823, 'fing': 5509, 'httpnytims': 8042, 'vvoss': 20486, 'xh': 21310, 'trenton': 19543, 'httpswwwpscptvwaxqlhte': 8827, 'mdy': 12494, 'nde': 13334, 'fdfuqutftndqeurzr': 5381, 'zkuqzlghft': 21705, 'yrhcq': 21563, 'pvqasevmigmko': 15732, 'sglq': 17333, 'batch': 1166, 'pea': 14551, 'edibleeastend': 4650, 'glutenfree': 6355, 'akteyfo': 341, 'heated': 6974, 'hidden': 7102, 'sneckdownsthehiddenurbandesignlessoninwinterstormjonas': 17802, 'retrofit': 16459, 'intersection': 10543, 'pwu': 15740, 'grn': 6596, 'remembered': 16317, 'scrapper': 17125, 'ncmanaccusedofexecutinggoodsamaritantryingtohelphimwithstalledcarinblizzardvqqgzdrxegitwitter': 13317, 'justify': 11058, 'bammin': 1095, 'gahh': 6103, 'patience': 14492, 'klalicea': 11337, 'sarahhhjeanx': 16996, 'lyric': 12181, 'particular': 14453, 'ordereast': 14151, 'sarah': 16995, 'palin': 14372, 'sputnik': 18111, 'lacolombecoffee': 11498, 'glnnmxyw': 6332, 'mtg': 13088, 'pictwittercomwqsfdqw': 14987, 'installed': 10486, 'iamking': 10087, 'nudd': 13798, 'digimatizedpictwittercomur': 4052, 'irx': 10640, 'jewishyoucould': 10869, 'sundae': 18512, 'llvektd': 11927, 'urbanphoenixfox': 20034, 'offroad': 13953, 'httpdlvritklhlp': 7686, 'spaghettios': 17996, 'fin': 5491, 'shark': 17376, 'spoiler': 18070, 'stylish': 18435, 'rlysgoik': 16609, 'mania': 12309, 'ijustneedwine': 10185, 'manikinhead': 12311, 'xpost': 21356, 'rfoodporn': 16497, 'perk': 14623, 'pqmmznpictwittercomelgwgumuf': 15378, 'cuomo': 3517, 'httpreadbi': 8166, 'lfwi': 11747, 'popsicle': 15283, 'dianneg': 4022, 'renting': 16342, 'keeppounding': 11179, 'httpwwwdreamstimecomeditorialimagecarparkingpeoplewhoclearsnowcarsimage': 9746, 'bucharest': 1912, 'nyers': 13845, 'rationally': 16067, 'milkbreadeggs': 12731, 'importantcat': 10266, 'pictwittercomuilqytoi': 14961, 'log': 11980, 'omagazine': 14031, 'bqzqcmu': 1749, 'cwuval': 3552, 'homebound': 7243, 'thatsitalian': 19002, 'pictwittercomnwbxj': 14902, 'grya': 6624, 'httptribaljxqtfkx': 9606, 'naija': 13216, 'troegsbeer': 19580, 'nlew': 13591, 'onesies': 14058, 'slumber': 17731, 'hideout': 7104, 'pictwittercomuqocqsv': 14965, 'tackle': 18704, 'hairygary': 6753, 'plowed': 15171, 'grinding': 6592, 'fatbike': 5340, 'snowmegeddon': 17841, 'pictwittercommjnlg': 14883, 'rxza': 16843, 'httptinyurlcompkz': 9575, 'retailer': 16445, 'motley': 12982, 'luo': 12143, 'rat': 16058, 'ambling': 470, 'sm': 17736, 'foh': 5744, 'probs': 15542, 'itblizzard': 10672, 'pnvin': 15213, 'accomplished': 86, 'oldmobilealero': 14013, 'pwrt': 15738, 'corona': 3255, 'manischewitz': 12314, 'someplace': 17915, 'reservestay': 16399, 'euamm': 5030, 'roast': 16626, 'toun': 19425, 'zebrafinch': 21651, 'passaic': 14472, 'mourned': 13004, 'httpsnjcomklrw': 8318, 'snowmobile': 17842, 'explore': 5196, 'pwl': 15736, 'jacuzziofficial': 10745, 'raykarls': 16081, 'bobxdarker': 1636, 'rodgross': 16661, 'igkyeiln': 10151, 'rum': 16795, 'httpgoogld': 7821, 'rufl': 16786, 'spite': 18063, 'gorged': 6449, 'shopper': 17480, 'pictwittercomwdbmpki': 14986, 'prod': 15550, 'kevinfrezhx': 11216, 'vodpop': 20420, 'httpowlyxwwks': 8131, 'httpstwittercomloganrtwstatus': 8564, 'totallygotmychipsandcheesetoo': 19411, 'kellybutlerpictwittercomejyr': 11189, 'jcdhm': 10813, 'httpdlvritknfnv': 7688, 'tribeca': 19552, 'whiter': 20835, 'onaboat': 14042, 'peepjx': 14575, 'kindness': 11289, 'motherjones': 12978, 'httpswwwwashingtonpostcomblogsliveblogliveliveblogupdateswinterstormtargetsdcregionf': 8876, 'eaaa': 4545, 'baeae': 1059, 'rxxah': 16842, 'pobtcpbg': 15217, 'jctudawldyieuo': 10818, 'verizonsupport': 20271, 'pictwittercomo': 14904, 'ukzerp': 19834, 'metroweekly': 12639, 'lhommagedc': 11763, 'txjacksbarbecue': 19738, 'httpowlyxntwn': 8127, 'selfdriving': 17232, 'httpswwwwashingtonpostcomnewsgoingoutguidewp': 8879, 'grabthesefoodanddrinkdealsbeforetheblizzardshutseverythingdownwpmm': 6498, 'wpisrcnldc': 21127, 'talkwordy': 18742, 'pictwittercomzlsn': 15021, 'amzyl': 515, 'unburied': 19860, 'reparked': 16349, 'drr': 4416, 'bolx': 1653, 'endlessly': 4841, 'httpwwwhuffingtonpostcomentrycomfortfoodrecipesus': 9773, 'hplifestyle': 7390, 'bourguignon': 1716, 'smittenkitchen': 17768, 'httpswwwinstagramcompbannnsfkgrb': 8759, 'independent': 10335, 'dyshddvn': 4539, 'plmbzzcj': 15166, 'httpcanyoucookthiscom': 7633, 'moreblizzardfoodpictwittercomffzwrqzjgl': 12949, 'stirfysaturdaypictwittercom': 18295, 'bjak': 1490, 'kpyn': 11401, 'alisonannyoung': 393, 'wi': 20865, 'picturesblizzard': 14743, 'lhnwjs': 11762, 'freshdirect': 5945, 'httpdeliverycom': 7668, 'yorkers': 21530, 'nbcnycomeoa': 13301, 'yxk': 21600, 'handbag': 6792, 'boingboing': 1648, 'fromedome': 5974, 'aswx': 838, 'ywzq': 21595, 'gofondue': 6385, 'goldminr': 6400, 'ht': 7414, 'httpdlvritkkbvxz': 7679, 'veao': 20229, 'feministrevenge': 5424, 'wtvr': 21210, 'forgotten': 5850, 'jyqsvepictwittercomgbbr': 11089, 'rbxoj': 16089, 'pictwittercomzoygqrsmsk': 15023, 'httptinyurlcomzvgd': 9580, 'hailice': 6746, 'derailment': 3909, 'carshovel': 2324, 'negotiable': 13379, 'rfpubmfu': 16498, 'twaimz': 19702, 'iisuperwomanii': 10181, 'carrot': 2306, 'pictwittercomckpwmwb': 14775, 'eighth': 4714, 'noproblem': 13667, 'tdxtp': 18825, 'wsfa': 21183, 'mainly': 12246, 'ncmanaccusedofexecutinggoodsamaritantryingtohelphimwithstalledcarinblizzardvqqeiswdleutwitter': 13315, 'remodel': 16327, 'kickback': 11258, 'pictwittercomyg': 15005, 'xyhlg': 21401, 'httpyoutubeu': 9896, 'oyxwa': 14312, 'ken': 11196, 'vlog': 20402, 'blizzardbut': 1550, 'enjoys': 4876, 'talinkpink': 18733, 'caved': 2402, 'umd': 19844, 'pgwqgt': 14682, 'httponforbes': 8051, 'ldhmkt': 11642, 'loyalty': 12090, 'flake': 5597, 'pictwittercomeje': 14793, 'lorsn': 12043, 'tgatdc': 18953, 'glowing': 6350, 'glowinginthedark': 6351, 'pictwittercommuuwueukrp': 14890, 'xmnmcyb': 21335, 'adventurer': 182, 'smartest': 17745, 'jessica': 10855, 'hypot': 10059, 'qcpkmq': 15776, 'namelesscynic': 13229, 'caseyneistats': 2344, 'mumbo': 13122, 'nonartisanal': 13646, 'glue': 6353, 'angela': 547, 'reader': 16113, 'disasterpreparedness': 4100, 'mcm': 12479, 'ameliasegal': 475, 'bettertv': 1363, 'youarekillingtimeanyway': 21534, 'skidmore': 17664, 'rddchj': 16096, 'blizzardices': 1558, 'savage': 17023, 'drugged': 4429, 'killer': 11275, 'ncmanaccusedofexecutinggoodsamaritantryingtohelphimwithstalledcarinblizzardvqrfjcrh': 13320, 'ktwitter': 11439, 'megadeth': 12556, 'dystopia': 4540, 'httpowlyxb': 8124, 'juliettetpanda': 11033, 'elem': 4746, 'principal': 15515, 'avqut': 967, 'catsoftwitter': 2385, 'httpsinstagramcompba': 8283, 'joey': 10936, 'monica': 12901, 'hamiltonbway': 6777, 'httponktlacomb': 8053, 'xl': 21328, 'aaa': 1, 'nmx': 13602, 'oqpictwittercommgy': 14143, 'kyqdjq': 11475, 'breadmilk': 1784, 'retrospect': 16460, 'ank': 572, 'vhbl': 20296, 'pictwittercomodnnr': 14906, 'kmnq': 11350, 'coffin': 2932, 'kmqzv': 11353, 'iadtosfo': 10077, 'redbox': 16201, 'jntfwkap': 10920, 'thankfulforitall': 18970, 'duchess': 4465, 'hay': 6896, 'sefiuaez': 17219, 'ritual': 16579, 'moscato': 12969, 'jbkyws': 10808, 'novelty': 13740, 'hamster': 6788, 'carlosmencia': 2281, 'frostbite': 5982, 'preppingearly': 15472, 'blizzardwarning': 1566, 'nypictwittercomiqsoxqfmwz': 13849, 'fnhkwnqr': 5731, 'httpowlyxvp': 8130, 'vodka': 20418, 'uncrustables': 19871, 'theannakaiser': 19004, 'stayin': 18230, 'shouldnt': 17496, 'compelled': 3047, 'tipping': 19222, 'zrnhdbin': 21747, 'lizlx': 11903, 'goodsamaritanshotdeathstoppinghelpstrandeddriverhtml': 6425, 'whitetail': 20837, 'trailcam': 19480, 'wintepictwittercomezm': 20961, 'cnd': 2885, 'qg': 15796, 'qxssor': 15938, 'aaand': 4, 'insistent': 10467, 'autofeeder': 933, 'stormi': 18344, 'gonn': 6410, 'allornothing': 416, 'wcqmul': 20661, 'zod': 21720, 'phantom': 14686, 'zyizjhpictwittercom': 21777, 'gmwfrzuiu': 6364, 'btq': 1905, 'frustrated': 5990, 'jackmitchelllnk': 10739, 'goose': 6437, 'rothcos': 16716, 'parkajacket': 14429, 'qypictwittercomqroflkcqh': 15943, 'classified': 2771, 'blizzardsnowfall': 1562, 'hows': 7378, 'pictwittercomjghxvg': 14844, 'qys': 15944, 'pictwittercomcnpu': 14777, 'tgeme': 18955, 'blizzardnoreaster': 1560, 'safehope': 16893, 'xjdng': 21318, 'zyb': 21776, 'broughtim': 1879, 'helplol': 7036, 'charmsdove': 2552, 'bundle': 1959, 'phase': 14688, 'kze': 11481, 'ndiznjj': 13336, 'uegvit': 19793, 'jpcfflwn': 10994, 'irgyynykmuvjfdv': 10616, 'tfvbni': 18948, 'om': 14030, 'msn': 13074, 'afaii': 204, 'outing': 14224, 'ecn': 4631, 'xfav': 21303, 'chilli': 2639, 'burrito': 1999, 'httpswwwinstagramcompbbtf': 8766, 'iwjiie': 10715, 'ihneyxmi': 10171, 'newton': 13501, 'depletion': 3886, 'spoiledmilkandeggs': 18069, 'httpwwwitrucktvcomp': 9782, 'pictwittercomhreyunuwgu': 14824, 'diary': 4025, 'pictwittercomm': 14875, 'ovj': 14277, 'ubsp': 19773, 'pictwittercomxz': 15003, 'dsdoph': 4443, 'walgreens': 20526, 'lxyxze': 12171, 'gysw': 6717, 'httptinyurlcomh': 9573, 'dbv': 3714, 'selectionsmore': 17228, 'ramen': 16021, 'relivingcollege': 16303, 'itwasonly': 10700, 'yearsago': 21457, 'foreveryoung': 5844, 'everyonefreakout': 5093, 'dgfd': 3997, 'rivergazermusic': 16584, 'successfully': 18465, 'biy': 1486, 'suction': 18473, 'cup': 3518, 'httpwwwsafebeecomoutdoorshowsurvivebeingtrappedcarduringblizzard': 9829, 'httpswwwpscptvwaxqoljfewutywgfowmflz': 8828, 'ueg': 19792, 'plzuvkt': 15190, 'aixizqio': 324, 'fqukoer': 5896, 'oqfnyms': 14142, 'xnwj': 21341, 'hoo': 7286, 'storyhtml': 18356, 'bayshore': 1189, 'pictwittercomcizcxiirrj': 14773, 'spitdontswallow': 18062, 'mlkvksa': 12831, 'swallowing': 18628, 'httpstwittercommikehamernikstatus': 8575, 'dusting': 4500, 'wbuotr': 20655, 'httpwwwnewsmaxcomthewiredcblizzardparkingtickets': 9809, 'remediesmore': 16314, 'httpsurvivalbypreparednesscomsurvivalmedicinehourblizzardtopnaturalremedies': 8648, 'cue': 3502, 'deluge': 3850, 'dcarea': 3717, 'authorized': 926, 'httpstwittercommarkknollerstatus': 8568, 'binge': 1454, 'korra': 11391, 'downton': 4311, 'screwed': 17138, 'mariushollenga': 12360, 'ryebourbon': 16854, 'bumpercars': 1955, 'httpgooglebprbm': 7823, 'frontin': 5978, 'tactic': 18708, 'glendale': 6320, 'soopers': 17943, 'recipient': 16170, 'starve': 18209, 'voltfamilymeal': 20432, 'bryanvoltaggio': 1894, 'bogopictwittercomumbtdpjdvd': 1644, 'qq': 15847, 'instagood': 10482, 'nomnom': 13644, 'pichoftheday': 14735, 'fpictwittercompmrgasjmw': 5892, 'httpstwittercomnwsbaltwashstatus': 8595, 'pumpkin': 15688, 'caramel': 2241, 'yvmlm': 21588, 'recipies': 16171, 'httpwwwgoodnewsnetworkorghomelessmanhelpsmotoristsstuckinblizzard': 9764, 'gratuitously': 6538, 'decadent': 3775, 'breakfast': 1788, 'nrmjzh': 13770, 'httpdlvritkkgffk': 7683, 'doodle': 4276, 'draw': 4349, 'pictwittercomhgvjf': 14819, 'kkng': 11328, 'httpwpostyxo': 9681, 'blzrd': 1608, 'pearlshes': 14563, 'nationalguard': 13265, 'httphubslyh': 7869, 'zhsj': 21681, 'loveourheroespictwittercom': 12074, 'hgzvzgzjd': 7088, 'champagne': 2510, 'httpowlyxdsic': 8125, 'httpwposttzc': 9680, 'recipeoftheday': 16169, 'foodwaste': 5804, 'caoimheharkin': 2217, 'liverpool': 11888, 'httpwposto': 9677, 'wleaf': 21019, 'rebel': 16148, 'bffs': 1374, 'jyhcytrf': 11085, 'dpdmwj': 4316, 'ukeewashington': 19826, 'fluffer': 5707, 'httpstwittercomtrickymcvomitstatus': 8633, 'httpwwwalternetorgnewsamppoliticsmanshootsandkillsgoodsamaritantryinghelphimstalledcarblizzard': 9689, 'nytwist': 13859, 'chevrolet': 2611, 'kfpzsega': 11231, 'sushi': 18601, 'yumsasianbistro': 21580, 'rhysaxn': 16509, 'yinrc': 21503, 'insist': 10466, 'filson': 5488, 'agq': 259, 'surround': 18585, 'muscle': 13142, 'tissue': 19230, 'otvllo': 14206, 'shea': 17386, 'lapse': 11567, 'kdlmk': 11166, 'frank': 5904, 'lecturing': 11679, 'breezing': 1808, 'crv': 3467, 'mchenry': 12473, 'plaza': 15146, 'themdta': 19035, 'httpswwwswarmappcomcga': 8858, 'prtt': 15637, 'cripple': 3419, 'stockedup': 18310, 'frige': 5964, 'mound': 12996, 'jpckh': 10995, 'httplniswwwusatodaycomstorh': 7991, 'sugarcookies': 18488, 'zqdrefpl': 21738, 'kevinhart': 11217, 'justwantedwholefoodssushi': 11066, 'nvm': 13825, 'poyx': 15364, 'kjd': 11319, 'httpgooglk': 7840, 'jbky': 10807, 'fitzfox': 5575, 'inverter': 10564, 'httpwwwthinkgeekcomproductb': 9842, 'epfmsearchtpower': 4923, 'kiracorrell': 11304, 'httpstwittercomsodamntruestatus': 8622, 'yxtpictwittercomyorhoskczu': 21603, 'pictwittercomkj': 14859, 'zmhn': 21713, 'uumq': 20137, 'okayeast': 13997, 'seaboard': 17155, 'habit': 6728, 'ncmanaccusedofexecutinggoodsamaritantryingtohelphimwithstalledcarinblizzardpictwittercoms': 13312, 'efpytyf': 4688, 'norberto': 13669, 'grilled': 6588, 'salmon': 16926, 'zucchini': 21756, 'pictwittercomdhgounc': 14785, 'supercross': 18531, 'ridevideogame': 16535, 'httpwwwrecordonlinecomarticle': 9823, 'topic': 19345, 'aphexangel': 641, 'afoot': 218, 'vt': 20470, 'jwcag': 11073, 'httpmtbnnitdmhjlh': 8007, 'prohibited': 15576, 'erpgdfmeysrraymmxehmxqgxet': 4964, 'ezakpictwittercomi': 5240, 'ihdvhviu': 10168, 'obligatory': 13879, 'curved': 3534, 'imreadyforyou': 10282, 'xeptjz': 21297, 'juno': 11047, 'onlyinbospictwittercomantun': 14070, 'thrive': 19146, 'borough': 1690, 'thriving': 19147, 're': 16103, 'httptinyurlcomhb': 9574, 'gna': 6367, 'curried': 3529, 'chickpea': 2624, 'dvrysamm': 4514, 'animalsfootprints': 566, 'ixuirj': 10720, 'dinnercreamy': 4065, 'sogood': 17880, 'pictwittercomga': 14809, 'xawg': 21275, 'psyched': 15648, 'wds': 20669, 'zq': 21736, 'weokg': 20757, 'findingnemo': 5503, 'tailpipe': 18717, 'dryer': 4438, 'vent': 20256, 'indont': 10367, 'pictwittercomrep': 14929, 'sbhgt': 17049, 'stewbrownies': 18276, 'cheesenow': 2585, 'blizzardsi': 1561, 'clauhori': 2773, 'kpd': 11395, 'gejbn': 6189, 'cloudbytepony': 2848, 'cityflyer': 2730, 'marouf': 12377, 'statensfinest': 18220, 'httpswwwinstagramcompbbnvuf': 8763, 'brixcitygurl': 1853, 'httptmblrcozqapgy': 9591, 'ilc': 10195, 'httpowlyxsuov': 8129, 'pictwittercomcvrmz': 14780, 'hz': 10067, 'blizzardfriendly': 1556, 'restocked': 16435, 'gloverpark': 6349, 'pictwittercomhycrekdn': 14828, 'carbload': 2246, 'paste': 14481, 'magazine': 12222, 'llz': 11928, 'stalking': 18176, 'fooddrink': 5766, 'queue': 15898, 'cinemug': 2716, 'snowdaypictwittercomy': 17825, 'burried': 1998, 'hvu': 10033, 'kppu': 11400, 'adequate': 156, 'fmlmo': 5725, 'httpswwwpscptvwaxtvqdfttuvqa': 8829, 'qufqr': 15901, 'kbhfrz': 11149, 'fleu': 5621, 'lbgd': 11631, 'xtpnnvb': 21383, 'pkc': 15104, 'sioq': 17613, 'tentmz': 18895, 'jyow': 11086, 'pothole': 15340, 'repair': 16348, 'mayorkenney': 12453, 'huoqsvelm': 9968, 'vng': 20411, 'uxmeb': 20151, 'wcjgxxeel': 20657, 'awwwhellsnow': 1005, 'cartalk': 2333, 'httpstwittercombklynbckstretchstatus': 8499, 'organizing': 14168, 'foodlover': 5778, 'pictwittercomgjuq': 14814, 'cngni': 2889, 'workplace': 21089, 'suggesting': 18491, 'snac': 17788, 'bamf': 1094, 'fab': 5245, 'jackie': 10735, 'latte': 11599, 'httplnisabcnewsgocomusviphrax': 7983, 'settle': 17295, 'cjq': 2742, 'gcdb': 6168, 'oc': 13898, 'xpictwittercomudlynw': 21352, 'kjt': 11323, 'why': 20863, 'lgiuni': 11751, 'suffers': 18485, 'httpsnikkeicom': 8316, 'zju': 21700, 'pypictwittercomhlrwyzyreo': 15748, 'unseenperfidy': 19971, 'joerogan': 10932, 'driverlesscarsworkgreatinsunnycaliforniabuthowaboutinablizzardtidsmtw': 4385, 'invite': 10575, 'aaront': 17, 'redeem': 16216, 'httpswwwubercominviteaaront': 8868, 'sittinonthesideoftheroad': 17629, 'carsarecold': 2314, 'httplubestopcomblognewshowtosurviveablizzardifstrandedinyourcar': 7992, 'lightfoodbandaidescash': 11807, 'httpstwittercomreadygovstatus': 8609, 'homeeee': 7245, 'goodjob': 6419, 'speedenews': 18033, 'artmp': 765, 'liverwurst': 11889, 'katch': 11125, 'httpsktchtv': 8294, 'ndcpictwittercomu': 13333, 'lgyr': 11758, 'xtra': 21384, 'wiedefeld': 20875, 'jetta': 10865, 'gli': 6324, 'mk': 12819, 'mkvi': 12827, 'fbzjntum': 5365, 'greasy': 6546, 'justkillme': 11065, 'elijah': 4756, 'ukiteyedi': 19829, 'pictwittercomxxc': 15002, 'pasta': 14480, 'cornbread': 3251, 'newsdc': 13478, 'thewinterawakens': 19074, 'ffb': 5437, 'greek': 6559, 'greekrecipe': 6561, 'collard': 2956, 'httpfbmeovq': 7773, 'kytv': 11477, 'throatkicked': 19149, 'pmest': 15195, 'boo': 1667, 'pictwittercomuuju': 14971, 'gihe': 6271, 'snowtireshttpstwittercomphiladelphiacpstatus': 17850, 'unexpectedly': 19895, 'foodlitter': 5777, 'errand': 4966, 'httpbcvclfivdb': 7480, 'archive': 700, 'httpstwittercompopscistatus': 8605, 'httpdlvritklbqdm': 7685, 'cure': 3523, 'tequila': 18897, 'pictwittercomduk': 14790, 'anzgw': 628, 'digg': 4050, 'hazzardous': 6905, 'yxkjwkmb': 21601, 'barricade': 1146, 'frostypictwittercomkp': 5985, 'ehucif': 4709, 'httpwwwearthcamcomusanewyorktimessquarecamtsrobo': 9748, 'httplniswwwirelateblogzcomqaozu': 7989, 'nkmxob': 13587, 'pictwittercomrmn': 14932, 'fbxl': 5363, 'httpdlvritkkbrzz': 7677, 'httpstwittercomtomcblock': 8629, 'whitehouse': 20833, 'pictwittercomarcorigv': 14755, 'southerner': 17978, 'joeimel': 10929, 'bgfd': 1381, 'moneyteam': 12900, 'jseay': 11009, 'httpinstagramcompf': 7898, 'eofka': 4913, 'boundless': 1715, 'bottomless': 1703, 'neither': 13395, 'anchorageneither': 527, 'appointed': 667, 'destination': 3940, 'shahsudh': 17348, 'oca': 13899, 'intend': 10512, 'pakets': 14362, 'floodcyclone': 5648, 'engaging': 4858, 'lowered': 12082, 'wann': 20553, 'lucifer': 12120, 'saltburn': 16930, 'httpitvco': 7954, 'zbh': 21635, 'wildebeest': 20886, 'talek': 18731, 'wnmu': 21033, 'reclaimpromise': 16174, 'walmarts': 20543, 'glitch': 6329, 'httpwwwwashingtontimescomnews': 9856, 'foodstamprecipientsfloodwalmartsebtglitchutmsourcerssfeedutmmediumrss': 5793, 'pinecrest': 15057, 'miamipictwittercom': 12668, 'lloeil': 11925, 'karnapfeifer': 11119, 'analoggrrrl': 520, 'translating': 19496, 'keywords': 11222, 'haiyan': 6756, 'nafta': 13212, 'foreignmade': 5835, 'detroit': 3964, 'tzottj': 19759, 'floodhelp': 5654, 'kibble': 11256, 'eisenhower': 4719, 'loveland': 12069, 'cofloodpictwittercomto': 2934, 'tiwiyvm': 19236, 'victoriawenman': 20329, 'cobham': 2919, 'underwater': 19883, 'byyyeeee': 2060, 'neeed': 13376, 'ammout': 490, 'naeemraza': 13211, 'drawab': 4350, 'sabreenarazaq': 16873, 'nicoleebrooklyn': 13545, 'misread': 12783, 'eyeexam': 5233, 'oga': 13958, 'cnt': 2903, 'wrkmy': 21171, 'bee': 1275, 'strobe': 18401, 'haley': 6760, 'httpsvinecovhuhhje': 8654, 'vjwx': 20393, 'chetmoss': 2610, 'wooden': 21062, 'sukhothai': 18498, 'lao': 11564, 'rzw': 16861, 'zdu': 21647, 'completed': 3059, 'httprnkprcoma': 8171, 'mtn': 13091, 'runkeeper': 16801, 'panikhaitee': 14389, 'pobitora': 15216, 'assam': 803, 'fmmrhgm': 5727, 'appalled': 652, 'mandela': 12301, 'justineee': 11062, 'eastside': 4600, 'utep': 20111, 'notdo': 13712, 'deeptoo': 3810, 'deepcar': 3807, 'float': 5636, 'seize': 17225, 'qanda': 15761, 'sekeh': 17226, 'kepala': 11205, 'auditor': 899, 'seround': 17276, 'bernamadotcom': 1340, 'muhyiddin': 13108, 'oasis': 13867, 'castle': 2353, 'pun': 15689, 'intended': 10513, 'gazaysmusic': 6158, 'httpyoutubee': 9885, 'zsitzgm': 21750, 'motorcyclist': 12990, 'adriankan': 173, 'gasing': 6133, 'elidott': 4754, 'aribbones': 715, 'ding': 4061, 'mud': 13099, 'biblical': 1409, 'coloradopictwittercom': 2974, 'xvvtfk': 21392, 'gillette': 6275, 'raffle': 15974, 'httpfloodrunorg': 7805, 'curve': 3533, 'jemmawinzer': 10833, 'chayne': 2564, 'assure': 825, 'midge': 12693, 'flooddamaged': 5650, 'plsffel': 15176, 'sarahthesheepu': 16999, 'guweather': 6693, 'bedford': 1269, 'klang': 11338, 'creates': 3390, 'esp': 4989, 'congestion': 3116, 'tb': 18803, 'wfbn': 20782, 'reverse': 16481, 'tuoitrenewsvn': 19674, 'vietnam': 20337, 'eth': 5017, 'surburb': 18566, 'euv': 5050, 'heating': 6979, 'dhoni': 4015, 'manforacrisis': 12306, 'whistle': 20829, 'httphtlyp': 7866, 'ferrari': 5428, 'ditched': 4170, 'httpjalopnikcomferrarigivescrazydealtolawyerwhoditchedhiscar': 7956, 'innocent': 10444, 'corrupt': 3264, 'cong': 3115, 'mcrf': 12484, 'highlandsstrong': 7117, 'proftimlang': 15570, 'tim': 19199, 'percentage': 14606, 'gaylussite': 6156, 'journo': 10985, 'ting': 19215, 'tomarro': 19306, 'indicates': 10355, 'quebecistani': 15892, 'ebooks': 4622, 'jaguar': 10749, 'xke': 21322, 'coupe': 3303, 'httpcarpdfdownloadsharenettag': 7634, 'jaguarxke': 10750, 'etypecoupeinsurancefloodcar': 5028, 'manual': 12329, 'pdf': 14543, 'awfully': 990, 'saveme': 17028, 'forum': 5867, 'marketsmall': 12368, 'httpwwwchiswickw': 9727, 'comdefaultaspsectioncommunitylinkhttpappaspchiswickw': 2993, 'comserverappforumshowmessageaspid': 3073, 'outsidealready': 14238, 'godalming': 6378, 'shitchester': 17453, 'wrapper': 21143, 'vomit': 20437, 'stain': 18167, 'fresher': 5947, 'garden': 6124, 'qtr': 15871, 'survivalpictwittercomvd': 18592, 'okoree': 14001, 'ghana': 6251, 'saline': 16921, 'tolerant': 19302, 'httpbingedit': 7483, 'gvcakv': 6701, 'redirected': 16221, 'mario': 12359, 'envagencyyne': 4906, 'floodaware': 5645, 'martinflood': 12390, 'exhausting': 5156, 'outonashout': 14229, 'hantsfire': 6817, 'southampton': 17970, 'thinkdontsink': 19092, 'peterchurch': 14647, 'vowchurch': 20449, 'hereford': 7061, 'reservation': 16397, 'httpfbmevdcjtvse': 7780, 'waterthe': 20633, 'trick': 19556, 'httpsvinecovhjrj': 8653, 'ppat': 15366, 'foothill': 5819, 'httpwwwexaminercomarticlefoothillsanimalshelterhelpsoutduringcoloradofloods': 9750, 'examinercom': 5128, 'disrup': 4146, 'envagency': 4905, 'contains': 3165, 'pictwittercomsmhbn': 14943, 'doww': 4313, 'cloydrivers': 2854, 'duval': 4506, 'absorb': 53, 'admit': 165, 'panamanian': 14380, 'ftdeep': 6001, 'evdelen': 5072, 'july': 11034, 'sardinia': 17004, 'httpnewsjoyrnetrfbvho': 8023, 'sabah': 16866, 'httpon': 8045, 'livetk': 11894, 'hyufa': 10062, 'cambrileejean': 2159, 'jmacworldblog': 10907, 'kelken': 11185, 'ensuring': 4887, 'calgarystampede': 2108, 'ciphi': 2719, 'ephw': 4925, 'immadopegirl': 10238, 'rumbling': 16796, 'undercover': 19874, 'carscrooked': 2317, 'sexyfemale': 17318, 'judgevillagepeoplea': 11023, 'garybarlow': 6129, 'gbsolo': 6165, 'barlow': 1138, 'recruitingajc': 16196, 'evanflood': 5068, 'diddy': 4029, 'blocked': 1574, 'alderman': 368, 'odds': 13924, 'tan': 18755, 'calgaryparking': 2107, 'lenient': 11717, 'rdilive': 16100, 'httpadflyvh': 7457, 'coloradoflood': 2972, 'macc': 12194, 'latermy': 11596, 'xmas': 21332, 'guildford': 6658, 'httpflickrpiacegd': 7802, 'itsflood': 10685, 'butterfly': 2025, 'kiss': 11309, 'junwensayhi': 11048, 'abit': 41, 'tyre': 19752, 'subside': 18451, 'buffet': 1930, 'carthey': 2336, 'nqrzpnvf': 13765, 'dontforgetchaos': 4270, 'nervous': 13444, 'metre': 12635, 'shet': 17432, 'bakery': 1076, 'shall': 17358, 'httptmblrcozc': 9587, 'loucarmichael': 12057, 'pub': 15662, 'lawyerologist': 11622, 'lawyerology': 11623, 'httpowlyodw': 8098, 'asda': 777, 'goingthere': 6391, 'kneedeep': 11357, 'wbahner': 20648, 'greengregdennis': 6567, 'flaguila': 5596, 'cher': 2602, 'nonsense': 13654, 'cspan': 3475, 'sentedcruz': 17263, 'cspanvl': 3476, 'impresive': 10273, 'salesman': 16920, 'rtcs': 16762, 'cardiac': 2258, 'burglary': 1979, 'rustle': 16822, 'grub': 6622, 'pictwittercomelvmto': 14794, 'vgo': 20291, 'acceptable': 71, 'weatherchannel': 20689, 'mojave': 12878, 'srry': 18141, 'iloilo': 10208, 'httptmblrcozabbcwuiobqu': 9586, 'landrover': 11552, 'edsa': 4660, 'santolan': 16990, 'uturn': 20132, 'slot': 17722, 'mmda': 12836, 'waving': 20639, 'saludot': 16933, 'salamat': 16912, 'utrecht': 20130, 'somehow': 17913, 'waitits': 20513, 'dutchweather': 4504, 'httpinstagramcompelvoasrg': 7889, 'pplp': 15373, 'httpgdatayoutubecomschemas': 7812, 'ellettsville': 4767, 'vernal': 20274, 'pike': 15042, 'indianaweather': 10344, 'swagger': 18625, 'whoaaaa': 20846, 'floodsyikes': 5679, 'jk': 10898, 'pfz': 14671, 'ftm': 6003, 'floatthemoat': 5640, 'coe': 2929, 'boatsships': 1630, 'amur': 508, 'russia': 16817, 'wsrk': 21191, 'clothesfoodmoney': 2844, 'orthodox': 14181, 'motorbikesbut': 12987, 'mentallity': 12597, 'smartcarproblems': 17744, 'byginajewellery': 2054, 'brightlingsea': 1830, 'pictwittercombtrevtm': 14768, 'awemancancelschool': 984, 'acey': 94, 'satan': 17010, 'wpfvi': 21125, 'rentacar': 16338, 'torrential': 19397, 'bloombergnews': 1587, 'zimbabwe': 21684, 'httpbloombg': 7627, 'blxudl': 1606, 'httpinstagramcompeqphfjup': 7893, 'skegness': 17658, 'drhugozhakenbus': 4368, 'poisoned': 15230, 'bizarre': 1488, 'peoplesupposed': 14596, 'servemy': 17280, 'ivanaaaax': 10706, 'buff': 1928, 'prichjr': 15504, 'buffnation': 1931, 'victimshelping': 20326, 'oksusugoddess': 14005, 'ytd': 21570, 'trolley': 19582, 'joked': 10958, 'httpwwwbathchroniclecoukcommunityworkrescuewomancarstuckfloodsstory': 9707, 'detailstoryhtmlixzz': 3955, 'ogtvugpw': 13964, 'martinson': 12392, 'beason': 1246, 'httpgoogle': 7822, 'uuf': 20134, 'caraccident': 2240, 'waterdamage': 20618, 'object': 13877, 'swervinghell': 18655, 'boulderoem': 1710, 'infiniti': 10390, 'httpinstagramcompggq': 7911, 'mpmlqi': 13032, 'beckenham': 1260, 'waitrose': 20514, 'splashy': 18066, 'isabelle': 10642, 'minwv': 12769, 'io': 10583, 'hyundai': 10063, 'bighyundai': 1426, 'neighbourhood': 13391, 'hitrun': 7180, 'plunging': 15182, 'jof': 10937, 'xc': 21285, 'oww': 14294, 'jillpsparrow': 10884, 'tinned': 19217, 'bowen': 1723, 'tidalsurge': 19186, 'httpinstagramcomphkpwffckjj': 7924, 'mtanagram': 13086, 'qipuu': 15803, 'spoil': 18068, 'vegetarian': 20235, 'cataclysmic': 2360, 'racbreakdown': 15952, 'yeovil': 21472, 'sayit': 17044, 'robertprice': 16636, 'reflection': 16243, 'impression': 10275, 'blackbikesuk': 1507, 'doh': 4241, 'brighton': 1831, 'mourning': 13005, 'afterall': 228, 'pictwittercomgop': 14815, 'qdoxdq': 15783, 'acapulco': 67, 'waterflood': 20620, 'waist': 20509, 'airportpple': 315, 'homescars': 7258, 'httpwwwchicagotribunecomnewssnsrtusstormingrid': 9726, 'maidstonebc': 12239, 'ruler': 16794, 'francie': 5901, 'carpet': 2296, 'httpsprly': 8346, 'seajpg': 17158, 'happiness': 6827, 'modelojom': 12867, 'jeszaline': 10861, 'heavyrain': 6989, 'instantbonding': 10489, 'palipasoras': 14373, 'httpinstagramcompetjn': 7897, 'philip': 14698, 'blueintheface': 1601, 'prayforphilly': 15412, 'whoownsthisfeckingboot': 20853, 'northdakota': 13688, 'southdakota': 17973, 'producer': 15554, 'govshutdown': 6469, 'swat': 18633, 'cindym': 2713, 'overflowing': 14255, 'arc': 696, 'circuit': 2723, 'pictwittercomwtroeoeghl': 14988, 'rac': 15951, 'objected': 13878, 'kingshurst': 11297, 'nankers': 13236, 'hehe': 7000, 'ishhad': 10647, 'jasonelsom': 10794, 'grandad': 6515, 'finest': 5508, 'hourhttpwwwdailycameracomnewsboulderci': 7349, 'bridgehouseboulderhomelesswereturnedawayfrom': 1824, 'menangis': 12590, 'fsu': 5998, 'queuing': 15899, 'httpinstagramcompfssce': 7906, 'sherriesparkle': 17427, 'amen': 476, 'carsx': 2331, 'votemorethan': 20445, 'httpniblyh': 8030, 'sja': 17646, 'proudaunt': 15618, 'aiya': 325, 'thailand': 18964, 'motorbike': 12985, 'ignores': 10158, 'httpautoiqcocarcrash': 7473, 'motorbikedriverignoresfloodinterestingtrafficaccidentsutmcampaigntwitterutmmediumtwitterutmsourcetwitter': 12986, 'seasonendless': 17177, 'trafficflooded': 19471, 'streetsso': 18379, 'homethought': 7264, 'wud': 21215, 'httpfbmeoy': 7774, 'od': 13922, 'captain': 2233, 'daniel': 3642, 'packer': 14335, 'inne': 10441, 'mystic': 13197, 'romantic': 16679, 'input': 10448, 'drivingi': 4393, 'cardiffcouncil': 2259, 'passable': 14470, 'nonstop': 13655, 'niall': 13529, 'latched': 11591, 'theo': 19050, 'carmelfuel': 2286, 'crimson': 3418, 'splashed': 18064, 'devon': 3981, 'dorset': 4287, 'urghhh': 20045, 'ehomsc': 4707, 'egoshare': 4696, 'boulderdenver': 1708, 'postflood': 15321, 'relate': 16281, 'carsharing': 2320, 'doornail': 4281, 'oncein': 14045, 'spoiling': 18071, 'luckyvon': 12125, 'qfttzdu': 15794, 'phailin': 14684, 'odisha': 13926, 'cuqnv': 3519, 'httptmblrcozhsfrsbxmmy': 9590, 'mehn': 12561, 'discover': 4119, 'nigerian': 13552, 'sixfields': 17639, 'pitsford': 15075, 'reservoir': 16400, 'sane': 16976, 'mattepp': 12429, 'robhines': 16640, 'therealfbloke': 19059, 'thereits': 19064, 'parkand': 14430, 'rubbish': 16779, 'texasprepares': 18935, 'coflood': 2933, 'bigthompson': 1433, 'httpinstagramcompenvrz': 7892, 'xelix': 21295, 'httpwwwmyamigoukcom': 9803, 'rey': 16494, 'thatsenoughrain': 19001, 'christinblacker': 2689, 'wguns': 20796, 'marinerecondad': 12358, 'billbuck': 1443, 'goddamm': 6380, 'screaaaaam': 17128, 'beekaynz': 1278, 'parcel': 14422, 'dch': 3722, 'lincs': 11835, 'httpinstagramcompgtrbr': 7918, 'gtfo': 6634, 'elkut': 4764, 'recede': 16155, 'teddyfreshy': 18855, 'retract': 16452, 'enginechux': 4861, 'retreatcar': 16454, 'reversetideflood': 16482, 'flashback': 5602, 'carter': 2334, 'grey': 6579, 'besmellah': 1348, 'dozydollop': 4315, 'trop': 19586, 'vega': 20231, 'chitty': 2654, 'pictwittercomr': 14928, 'mrtepatl': 13061, 'mig': 12704, 'hitched': 7172, 'motorcycle': 12989, 'jordanstiva': 10973, 'danielashby': 3644, 'larimer': 11575, 'estes': 5004, 'coleg': 2950, 'yuu': 21584, 'boarding': 1626, 'httpowlys': 8118, 'uur': 20139, 'astronomical': 834, 'pertinent': 14636, 'baggage': 1061, 'zjpsazeq': 21699, 'moth': 12973, 'agg': 246, 'lightswatched': 11811, 'calgary': 2105, 'lpwarr': 12095, 'hie': 7106, 'tesco': 18919, 'canon': 2212, 'mrmmu': 13056, 'valwel': 20181, 'neededi': 13370, 'wearecalcutta': 20677, 'amarcalcutta': 459, 'pala': 14368, 'windora': 20937, 'willbphotos': 20922, 'annbritton': 577, 'ssmccarter': 18147, 'aljazeera': 398, 'african': 223, 'repub': 16375, 'httpajeme': 7459, 'jappaa': 10790, 'stephm': 18263, 'andystoddart': 544, 'miniature': 12754, 'favourite': 5350, 'sara': 16994, 'httpwallblogscomgipphpi': 9661, 'threatning': 19132, 'creation': 3392, 'biblicalconnections': 1410, 'import': 10263, 'httpeconomyincrisisorgcontenttoxicdangerousfoodimportscontinuetofloodusmarkets': 7741, 'inglewood': 10414, 'cleanup': 2782, 'floodaffected': 5644, 'onsite': 14079, 'sembreak': 17240, 'hivissupply': 7185, 'emergencyresponse': 4797, 'barden': 1130, 'nearbarden': 13346, 'xud': 21387, 'fnqgp': 5733, 'dingy': 4062, 'ceiling': 2456, 'goodbyeseatwarmers': 6414, 'cattituude': 2389, 'musicjust': 13149, 'taft': 18709, 'smidge': 17761, 'muse': 13143, 'submerge': 18447, 'khwb': 11253, 'hyunhohan': 10065, 'heraklion': 7053, 'liz': 11902, 'upt': 20023, 'morrison': 12962, 'newbrighton': 13459, 'promenade': 15580, 'httpinstagramcomphi': 7921, 'hp': 7384, 'unusual': 19981, 'sceneit': 17083, 'fron': 5975, 'zljho': 21708, 'kw': 11459, 'sportscar': 18086, 'medieval': 12540, 'mdv': 12493, 'sloshy': 17721, 'httpfbmemwoobrfy': 7768, 'reubenmunger': 16467, 'nobrainer': 13620, 'davidjohnsitv': 3682, 'conked': 3122, 'progs': 15575, 'gophungergames': 6441, 'civilrightsorg': 2738, 'httpuafpcomsrd': 9635, 'teamcnn': 18832, 'wingingitmotown': 20954, 'floodruined': 5665, 'macinnis': 12198, 'foodruined': 5786, 'euro': 5040, 'grape': 6532, 'fluoride': 5710, 'widely': 20872, 'publicized': 15666, 'suppressed': 18558, 'hahleena': 6742, 'mexico': 12643, 'httpwwwanimalpoliticocom': 9696, 'ayuda': 1023, 'pajaropolitico': 14359, 'pushin': 15717, 'floated': 5637, 'httpinstagramcompgoas': 7916, 'wfe': 20783, 'phoned': 14707, 'attached': 868, 'scrapped': 17124, 'maiden': 12238, 'voyage': 20451, 'tandem': 18756, 'pirate': 15066, 'cruiser': 3458, 'smiling': 17765, 'butchymoose': 2017, 'colo': 2969, 'rotten': 16717, 'tangled': 18760, 'stagnant': 18166, 'egxxx': 4699, 'theeverettsmith': 19017, 'drowning': 4411, 'jaemillz': 10748, 'verse': 20277, 'uppppppp': 20015, 'oohyoutite': 14091, 'chelseaaaah': 2592, 'bhinese': 1398, 'fucc': 6007, 'wthat': 21200, 'destinymg': 3942, 'container': 3163, 'treehugger': 19533, 'stucked': 18415, 'forgive': 5848, 'terreinca': 18903, 'tomorroweversobusy': 19321, 'carbiz': 2244, 'kidssorting': 11267, 'provence': 15626, 'sinkhole': 17610, 'swallow': 18626, 'galleria': 6108, 'httpcmapit': 7647, 'fvimfk': 6069, 'franchisees': 5900, 'cannon': 2210, 'zkxgz': 21706, 'greenwichmarket': 6571, 'httpfbmeyvjpsk': 7792, 'postman': 15325, 'moped': 12943, 'msdavinia': 13063, 'fav': 5347, 'jovi': 10986, 'cropdestruction': 3439, 'insufficiency': 10498, 'selfsufficient': 17236, 'ruxcon': 16824, 'arrrr': 754, 'talklikepirateday': 18741, 'adrianvenzo': 174, 'underwear': 19885, 'shamelesslycaribbean': 17364, 'lastmoment': 11589, 'pictwittercompletbun': 14920, 'indonesia': 10366, 'jammed': 10770, 'jakarta': 10755, 'aide': 285, 'httpbitlyioua': 7522, 'bhlsdj': 1399, 'socialshakeup': 17869, 'overcoming': 14251, 'tiger': 19193, 'httpyoutubevvwtiimyolka': 9900, 'lovekianna': 12068, 'momma': 12890, 'whip': 20822, 'marciaherrin': 12346, 'acid': 97, 'aedchat': 195, 'bsf': 1896, 'elisajaffe': 4759, 'helpliveonkomo': 7035, 'pictwittercomjsozsiq': 14853, 'taunting': 18787, 'glucose': 6352, 'cholesterol': 2664, 'burnfat': 1990, 'owyhee': 14295, 'gulch': 6665, 'choses': 2673, 'preference': 15449, 'presumptive': 15486, 'partnered': 14458, 'tempts': 18886, 'bopgwc': 1683, 'floodtheyre': 5680, 'shiraz': 17449, 'khana': 11243, 'imported': 10269, 'subsidized': 18454, 'httpwwwbbccouknewsuk': 9709, 'xmep': 21334, 'ack': 99, 'kxanweather': 11463, 'swamped': 18629, 'chrisattila': 2676, 'drinksmillions': 4375, 'pgh': 14675, 'seriesno': 17272, 'loser': 12047, 'greerim': 6573, 'kingplayoffs': 11296, 'floodcaved': 5647, 'dainty': 3599, 'szmjkxdw': 18697, 'stalk': 18173, 'httpwwwbloombergcomnews': 9711, 'hungerstalkszimbabweasdroughtcombinedwithfloodshitcropshtml': 9949, 'gfitzpatrick': 6243, 'interlocken': 10534, 'newsweather': 13499, 'httpedmuin': 7742, 'yrq': 21565, 'httpwwwdailytube': 9738, 'ucomviewvideo': 19784, 'entertainmentvideodeadlystormfloodinitalyssardiniasweepsawaycarsbridges': 4893, 'uch': 19783, 'elliott': 4769, 'larson': 11580, 'rocky': 16658, 'httpwwwrockymountainrescueorgindexphp': 9828, 'mmbb': 12835, 'jgo': 10873, 'smashin': 17752, 'hahah': 6735, 'suv': 18615, 'symbol': 18683, 'cokids': 2944, 'dontdrinkthis': 4269, 'httpinstagramcompelge': 7888, 'tattoo': 18783, 'httpinstagramcompfsvudnfav': 7908, 'avenged': 957, 'sevenfold': 17304, 'syn': 18685, 'utmcampaignsocialflowjalopniktwitterutmsourcejalopniktwitterutmmediumsocialflow': 20118, 'ur': 20032, 'iamalexofficial': 10084, 'python': 15749, 'andrewlucas': 537, 'ccwmv': 2430, 'impulsive': 10281, 'httpadflya': 7453, 'xgw': 21308, 'kdh': 11165, 'cree': 3399, 'utv': 20133, 'rjkek': 16594, 'surat': 18565, 'flyover': 5717, 'httpinstagramcompel': 7886, 'lkcubqh': 11917, 'finalist': 5495, 'ego': 4695, 'newsletter': 13485, 'httpp': 8135, 'vrespcomvcnhea': 20459, 'httptriawheelscom': 9604, 'httpbbcin': 7478, 'yamxw': 21423, 'burnaby': 1984, 'rampage': 16027, 'vancouversun': 20186, 'httpwwwvancouversuncomhealthtrashespolicecarsfloodsburnabyhospitaldestructiverampage': 9852, 'jennyyyjoelle': 10843, 'battered': 1176, 'puddlesmini': 15672, 'rizzamontoya': 16588, 'southsnippets': 17983, 'olivares': 14020, 'sucat': 18461, 'counterflow': 3290, 'southie': 17980, 'alexpagee': 381, 'inhabitablemaybe': 10418, 'floodor': 5659, 'wknds': 21010, 'httpinstagramcompgh': 7912, 'rfsvlt': 16499, 'oopsflood': 14100, 'kholmeslive': 11249, 'michaeldriver': 12672, 'pictwittercomkz': 14862, 'ayboah': 1017, 'millennials': 12735, 'spur': 18109, 'fastfood': 5333, 'httpwwwusatodaycomstorymoneybusiness': 9850, 'fancybreadsbunsmillennialswendysbrioche': 5308, 'httpinstagramcompeqy': 7894, 'ldv': 11647, 'strangely': 18367, 'inducing': 10372, 'noneedtoshowertonight': 13648, 'error': 4969, 'kfa': 11225, 'nealrogers': 13344, 'echopeterbarron': 4628, 'evtxgpl': 5115, 'ygfux': 21494, 'kdqs': 11169, 'murderous': 13138, 'pwcxi': 15733, 'jap': 10785, 'woooot': 21071, 'semiflood': 17243, 'splashing': 18065, 'opposite': 14133, 'heheh': 7002, 'httptinyurlcompo': 9576, 'httpwwwtimescallcomlongmontlocalnewsci': 9843, 'lovelandwomantrappedsubmergedcarduringfloodsgrateful': 12070, 'timescall': 19206, 'smashburger': 17750, 'zbdr': 21634, 'creeeeepy': 3401, 'httpinstagramcompiz': 7928, 'pksw': 15109, 'tli': 19255, 'familyfood': 5299, 'bernard': 1341, 'kravitz': 11407, 'approximately': 679, 'moominbadger': 12935, 'write': 21163, 'pictwittercommiblp': 14880, 'mlpd': 12832, 'agw': 271, 'biodiversity': 1458, 'httpwwwucsusaorgglobalwarmingscienceandimpactsimpacts': 9848, 'trounced': 19595, 'mogollon': 12877, 'haniffera': 6812, 'wading': 20503, 'chirstmas': 2652, 'residual': 16406, 'clover': 2850, 'pictwittercomxp': 14997, 'ttlasmt': 19650, 'trimblee': 19568, 'delreyismyway': 3848, 'skx': 17675, 'justinaa': 11060, 'girlies': 6287, 'papi': 14400, 'huffpostgreen': 9916, 'httphuffto': 7870, 'httpinstagramcompenlkgocoiq': 7891, 'pta': 15654, 'fvcked': 6068, 'upflood': 20006, 'uljyv': 19837, 'fj': 5584, 'piggyback': 15040, 'gfsk': 6245, 'handy': 6806, 'qkfsilst': 15812, 'fabkara': 5247, 'osaxy': 14185, 'terezhumphrey': 18898, 'lovelife': 12071, 'canbheather': 2193, 'beautpersnfide': 1252, 'bigmikeswife': 1428, 'obsolete': 13892, 'walksum': 20532, 'pictwittercommo': 14886, 'gg': 6246, 'monmouthshirecc': 12911, 'tress': 19545, 'andhrapradesh': 532, 'shortageinflation': 17489, 'floodsrainsome': 5674, 'betaken': 1359, 'thefarmers': 19019, 'futureroots': 6063, 'lad': 11501, 'mtametronorth': 13085, 'omen': 14035, 'flashflood': 5604, 'motorway': 12994, 'bouttime': 1721, 'searsucker': 17173, 'apologize': 649, 'bootheel': 1679, 'theofiasco': 19052, 'doest': 4229, 'insta': 10475, 'httpsvinecovhdyheinmdx': 8652, 'sto': 18307, 'adcf': 141, 'nakedandafraid': 13223, 'manus': 12331, 'lizzzing': 11907, 'honk': 7277, 'transform': 19490, 'goretex': 6447, 'lyon': 12180, 'clog': 2828, 'kp': 11394, 'ci': 2703, 'inundate': 10556, 'gasfield': 6132, 'httponkdvrcomkndej': 8052, 'csg': 3473, 'rhyme': 16508, 'thatisall': 18997, 'cbchomestretch': 2414, 'httpwwwcbccaliveradiopopupindexhtmlnetworkkeycbcradiooneprogramkeycalgary': 9720, 'fgwco': 5449, 'hpgoodnewstoo': 7386, 'kcallaghan': 11155, 'lowimpact': 12087, 'runoff': 16805, 'futurewater': 6064, 'curbing': 3521, 'httpwwwbbccomfuturestory': 9708, 'greenwonderyourparkin': 6572, 'ocidglobalfuturerss': 13914, 'shaunaflood': 17385, 'awh': 993, 'kodaline': 11379, 'xxz': 21399, 'calgaryherald': 2106, 'okotoks': 14002, 'gic': 6265, 'muddy': 13100, 'carpark': 2294, 'knot': 11367, 'addition': 147, 'household': 7358, 'pictwittercomrqjpxtkejo': 14934, 'trillestnigmix': 19563, 'trapgoddesss': 19505, 'wammie': 20549, 'ddaw': 3729, 'awi': 996, 'polo': 15256, 'ffs': 5443, 'gut': 6690, 'microbiome': 12682, 'httpphenomenanationalgeographiccom': 8139, 'youarewhatyoueatall': 21535, 'trillionofyou': 19566, 'ambulance': 471, 'offcars': 13938, 'cheapest': 2569, 'aggedoff': 247, 'httpyoutubevr': 9898, 'vppd': 20453, 'yalls': 21422, 'httpinstagramcompetborfacu': 7895, 'milkenpen': 12732, 'mattwilson': 12436, 'pictwittercomup': 14963, 'xshoqqf': 21371, 'gosh': 6453, 'damit': 3618, 'rammed': 16025, 'baked': 1074, 'nowadays': 13744, 'thankies': 18973, 'spotflood': 18088, 'gccujl': 6167, 'prepperta': 15470, 'trs': 19599, 'cambodia': 2158, 'httphtlyq': 7867, 'storming': 18346, 'bombed': 1656, 'cudi': 3501, 'httptmblrcozqff': 9592, 'yxawrwl': 21596, 'handlebar': 6800, 'pictwittercomtnd': 14953, 'axh': 1011, 'httplnisajeme': 7984, 'vjy': 20394, 'ajnews': 331, 'actin': 112, 'httplunarcraterarchitectureblogspotcouk': 7993, 'growingfoodcurbingfloodshtml': 6613, 'stephenclark': 18262, 'ccliffordwxyz': 2428, 'backchannel': 1042, 'stakeout': 18171, 'elevation': 4749, 'certificate': 2485, 'httpinstagramcompgv': 7919, 'headin': 6935, 'seasonofgivingpictwittercomzr': 17179, 'pmspeaksagain': 15202, 'becoz': 1264, 'droughtflood': 4406, 'atand': 840, 'indoor': 10368, 'practise': 15387, 'scoreboard': 17108, 'dressing': 4361, 'didmybit': 4030, 'iscout': 10646, 'jamesfreake': 10765, 'deed': 3802, 'winched': 20933, 'landroverowner': 11553, 'pictwittercomvezwummbnh': 14974, 'ific': 10142, 'confident': 3106, 'foodrisc': 5785, 'conference': 3104, 'laaaaawdrt': 11488, 'prettyamarillo': 15488, 'jazeera': 10800, 'republ': 16376, 'byyc': 2059, 'httpziteto': 9902, 'witug': 20994, 'locust': 11974, 'jpdnz': 10996, 'jr': 11003, 'getready': 6230, 'httpinstagramcompetd': 7896, 'subinspector': 18441, 'dispur': 4145, 'constable': 3147, 'pictwittercompzjs': 14922, 'upl': 20009, 'tavis': 18791, 'smiley': 17764, 'cpfwmi': 3333, 'catkin': 2382, 'jowettla': 10987, 'khaoszr': 11246, 'ant': 598, 'hellaflush': 7017, 'thestruggle': 19070, 'agctk': 238, 'surprising': 18581, 'admission': 164, 'investigation': 10568, 'httpgooglfbylxgz': 7835, 'insurancecompanies': 10505, 'wallbridge': 20536, 'floodprob': 5662, 'absorbent': 54, 'frome': 5973, 'tharougarou': 18991, 'subsided': 18452, 'jw': 11071, 'earlsimxx': 4559, 'towhattsapp': 19438, 'nini': 13571, 'proportion': 15600, 'otvnews': 14207, 'larimersquare': 11576, 'truffle': 19609, 'shrimp': 17517, 'induced': 10371, 'cyclonic': 3566, 'exporter': 5200, 'staring': 18196, 'toowoomba': 19339, 'fatal': 5337, 'complaint': 3057, 'searing': 17171, 'blackburn': 1509, 'httpgooglpl': 7845, 'heidewrite': 7003, 'hire': 7163, 'fleet': 5620, 'leavemaybe': 11674, 'twt': 19736, 'takeaway': 18723, 'difficulty': 4047, 'blocker': 1575, 'lawd': 11615, 'bobbyoremotorsports': 1632, 'cragmor': 3356, 'crack': 3346, 'rogue': 16665, 'httpowlypjgek': 8105, 'bunz': 1967, 'pharaohkofi': 14687, 'philippine': 14700, 'uybhfpby': 20155, 'boscastle': 1693, 'johore': 10953, 'tganuwwwtheedgemalaysiacommore': 18952, 'httponfbme': 8048, 'bfcues': 1371, 'cany': 2215, 'ufeelme': 19800, 'yslflood': 21567, 'strictly': 18393, 'chap': 2533, 'buh': 1934, 'fflwers': 5442, 'dah': 3588, 'tlabeikuspoongh': 19252, 'charway': 2555, 'laffta': 11514, 'medicinelaff': 12537, 'nowwithalex': 13754, 'trillion': 19565, 'koch': 11378, 'aca': 62, 'agencylonden': 243, 'friendsintl': 5962, 'gsotb': 6629, 'firstcc': 5552, 'paullead': 14508, 'hull': 9925, 'motordepot': 12991, 'audis': 897, 'pictwittercomysfgho': 15013, 'philgardham': 14697, 'kilnsea': 11278, 'spurn': 18110, 'nenshi': 13399, 'retweeting': 16465, 'ryanbarnett': 16848, 'natashahgoodwin': 13257, 'bexshenton': 1368, 'dangerousonly': 3639, 'yfgbkhim': 21488, 'thatd': 18994, 'janiahart': 10777, 'statistically': 18224, 'blade': 1514, 'httpowlyor': 8099, 'flooddont': 5651, 'lewisham': 11740, 'parramattard': 14444, 'khalde': 11242, 'httpinstagramcomphgy': 7920, 'woxuaw': 21122, 'ctvmontreal': 3493, 'smash': 17748, 'httpowllirad': 8063, 'doodlebug': 4277, 'proton': 15615, 'carhere': 2269, 'bqfsd': 1747, 'httpusatlyi': 9641, 'mozy': 13023, 'tbhi': 18806, 'floodbut': 5646, 'apparentlythe': 656, 'patillumaneti': 14494, 'compartment': 3044, 'boatoh': 1629, 'pictwittercomvjptb': 14978, 'mdbm': 12488, 'follower': 5751, 'carlissa': 2279, 'trafficsouthe': 19474, 'coultershaw': 3284, 'giditraffic': 6268, 'giditinz': 6267, 'yaba': 21413, 'alagomeji': 352, 'slowing': 17727, 'avoing': 966, 'kingkasey': 11295, 'hund': 9944, 'byz': 2061, 'gdmac': 6178, 'mediagirl': 12530, 'meanthats': 12505, 'realbeazy': 16121, 'royalteee': 16733, 'pictwittercomexvap': 14797, 'fwr': 6081, 'alastormtracker': 357, 'transit': 19494, 'bunny': 1966, 'prosthetic': 15605, 'bumper': 1954, 'kldn': 11340, 'pleased': 15154, 'cycle': 3562, 'salcedo': 16916, 'marcos': 12349, 'floodpraising': 5661, 'brooklands': 1873, 'roadrunner': 16621, 'scottmoves': 17116, 'bnfko': 1617, 'crc': 3385, 'flyn': 5716, 'slappn': 17693, 'wene': 20754, 'pictwittercomaclvarla': 14749, 'skateboarder': 17654, 'contentious': 3170, 'broadway': 1860, 'mfx': 12651, 'ydxp': 21443, 'tobacco': 19276, 'skydiving': 17678, 'pure': 15703, 'kernel': 11210, 'locking': 11972, 'weld': 20732, 'httpgreeleytribunecom': 7856, 'httpwwwgreeleytribunecomnews': 9767, 'biggestflood': 1425, 'libsflood': 11775, 'zvudz': 21764, 'lucasbrim': 12118, 'doin': 4243, 'tandemfunerals': 18757, 'hotelpassable': 7335, 'fellowship': 5417, 'shabby': 17339, 'httpinstagramcompegqcyugkj': 7884, 'getreading': 6229, 'kingalamy': 11293, 'pictwittercomkiw': 14858, 'hzlup': 10070, 'httpinstantrimshotcom': 7948, 'httpimggawkerassetscomimg': 7876, 'zc': 21640, 'jma': 10906, 'prayyyyyyy': 15422, 'tomorow': 19319, 'ugli': 19808, 'hahahaha': 6738, 'moaning': 12850, 'greeting': 6574, 'rhandaktvu': 16505, 'stortini': 18353, 'mitchell': 12802, 'buf': 1927, 'crawford': 3373, 'pelley': 14578, 'sestito': 17289, 'nsh': 13774, 'rodney': 16662, 'beware': 1366, 'kallala': 11100, 'lapechepictwittercom': 11566, 'ikdhtur': 10187, 'skilled': 17666, 'moruya': 12967, 'unit': 19927, 'batemans': 1167, 'httpfbmeat': 7753, 'applefailedme': 663, 'ridin': 16539, 'fda': 5379, 'groovygreenlivi': 6601, 'immiht': 10250, 'typhoon': 19749, 'rocketed': 16651, 'ggsdl': 6248, 'linessue': 11842, 'showroom': 17512, 'headon': 6942, 'hoolooya': 7291, 'tropicalteasex': 19588, 'bennycapricon': 1321, 'pyi': 15747, 'ajenglish': 330, 'yayyy': 21431, 'yayayayy': 21429, 'replacement': 16357, 'veiner': 20250, 'emotion': 4814, 'hung': 9947, 'nbcdfw': 13297, 'nbcdfwweather': 13298, 'dailynation': 3595, 'tyzox': 19756, 'canal': 2190, 'soi': 17883, 'httpinstagramcompfkqdkqcky': 7902, 'michellemcd': 12677, 'niamhflood': 13532, 'nodi': 13625, 'leftcows': 11687, 'hopeformen': 7299, 'jesca': 10852, 'backed': 1043, 'grrrr': 6619, 'petrol': 14657, 'hindsight': 7153, 'rushhour': 16812, 'onred': 14077, 'planed': 15120, 'millthat': 12741, 'pkwy': 15110, 'westchester': 20765, 'drainage': 4338, 'cityhide': 2731, 'hibernate': 7097, 'rdatt': 16095, 'httptlgdmshshp': 9583, 'cba': 2410, 'swimmer': 18658, 'gentleman': 6201, 'bgcan': 1380, 'fairview': 5275, 'hardit': 6839, 'bgprobs': 1383, 'paintball': 14355, 'kftxfpra': 11232, 'gunna': 6673, 'buggin': 1933, 'sewage': 17313, 'harpenden': 6853, 'mq': 13038, 'lln': 11924, 'ards': 702, 'spelt': 18039, 'pronounce': 15587, 'flewd': 5623, 'flud': 5706, 'floodwere': 5684, 'checkpraying': 2578, 'arghhhhh': 707, 'tidal': 19185, 'fuckaduck': 6009, 'sail': 16903, 'troublesome': 19593, 'httpinstagramcompgiusukkbpu': 7913, 'vtvw': 20477, 'lsneara': 12109, 'pixie': 15088, 'tipped': 19221, 'braxtons': 1778, 'bella': 1304, 'littleterror': 11879, 'peugeot': 14663, 'dontlikewater': 4271, 'pretzel': 15490, 'bun': 1957, 'ingel': 10410, 'sweetest': 18649, 'httpwwwyoutubecomwatchvafzesyjxipi': 9868, 'thareallaceyj': 18990, 'oxford': 14302, 'tittie': 19232, 'stumble': 18424, 'waterwhoa': 20634, 'hanginthere': 6809, 'classif': 2770, 'pu': 15661, 'mvhh': 13168, 'lelew': 11708, 'chad': 2499, 'recurring': 16197, 'dancing': 3634, 'httpinstagramcompelzcfdnwah': 7890, 'azfh': 1025, 'booaa': 1668, 'prudyfelo': 15639, 'nna': 13605, 'itthere': 10692, 'floodssome': 5675, 'dented': 3870, 'dustinlong': 4501, 'nbcs': 13302, 'involves': 10581, 'evilhandling': 5108, 'deeper': 3808, 'lookshttptinyurlcomc': 12026, 'ggjmg': 6247, 'bpriav': 1744, 'threequarters': 19136, 'wer': 20759, 'zado': 21622, 'hpicheck': 7388, 'writtenoff': 21168, 'httpshareskkksp': 8272, 'stortfordswifts': 18352, 'isa': 10641, 'sampan': 16949, 'karen': 11115, 'pontchartrain': 15261, 'httpinstagramcompiromsjiwjj': 7926, 'httpgooglwqec': 7850, 'haft': 6732, 'ignition': 10154, 'truelifeineedchacha': 19607, 'coproblems': 3236, 'mvpdanny': 13172, 'boatbox': 1628, 'obscene': 13883, 'campingfloods': 2181, 'httpowlyqhpzw': 8110, 'everybodys': 5090, 'okso': 14004, 'havnt': 6890, 'floodsnow': 5672, 'membershmm': 12582, 'rink': 16557, 'skylar': 17680, 'gum': 6669, 'untung': 19979, 'jogja': 10940, 'engga': 4859, 'annissau': 582, 'thrilling': 19144, 'purworejo': 15713, 'httpselljunkcarsindianapoliscom': 8230, 'smith': 17766, 'gann': 6118, 'honored': 7282, 'ceremony': 2482, 'pictwittercomhs': 14825, 'cdvqnro': 2447, 'jerryhurtado': 10849, 'rudyxittb': 16784, 'yellow': 21466, 'burniston': 1994, 'scarboroughuk': 17065, 'yorkscoastradio': 21531, 'melvin': 12577, 'morejames': 12950, 'bench': 1311, 'flooddablock': 5649, 'shooed': 17471, 'bonnet': 1665, 'monkton': 12908, 'submarinecar': 18446, 'proved': 15624, 'engineweird': 4864, 'crazyyyyyy': 3383, 'httpgooglf': 7825, 'dld': 4196, 'drivein': 4378, 'grease': 6545, 'benefitting': 1316, 'barnaby': 1139, 'joyce': 10990, 'thatbamabelle': 18992, 'erikarae': 4957, 'erae': 4949, 'kkqxsrtt': 11333, 'plexwashington': 15162, 'ladyolivia': 11511, 'tsu': 19641, 'hbu': 6915, 'erinboone': 4959, 'floodill': 5655, 'steer': 18251, 'beastmode': 1248, 'rover': 16726, 'spider': 18050, 'floodyet': 5685, 'elisaberndt': 4758, 'afte': 227, 'pjkaiser': 15093, 'hoboken': 7219, 'irene': 10615, 'bicyclingmag': 1414, 'httpowlyponvp': 8106, 'mileage': 12725, 'rdgchronicle': 16097, 'httpbitlygojpvf': 7501, 'rdgnews': 16099, 'moccasin': 12858, 'classmate': 2772, 'sna': 17787, 'chai': 2500, 'chee': 2580, 'httpscoops': 8212, 'ahptie': 282, 'raccchyxo': 15953, 'usso': 20101, 'lolx': 11997, 'hh': 7089, 'crabtree': 3344, 'tavernwont': 18790, 'crowed': 3450, 'pax': 14518, 'floodzone': 5686, 'brrstyle': 1882, 'kfh': 11228, 'syvh': 18693, 'bbchaveyoursay': 1202, 'brittany': 1850, 'gatwick': 6147, 'iffy': 10141, 'gust': 6689, 'kent': 11198, 'mince': 12746, 'piemy': 15029, 'experiencethe': 5183, 'thereafter': 19057, 'amphibious': 497, 'salemor': 16919, 'keizeror': 11183, 'orweather': 14183, 'wallaseygc': 20535, 'roundabout': 16721, 'wetballs': 20775, 'hoppiehopey': 7306, 'benin': 1319, 'durin': 4498, 'seasonits': 17178, 'xchange': 21286, 'shipsubmarineflood': 17448, 'sensationalfoxy': 17258, 'snappykatherine': 17797, 'foundingfather': 5881, 'wld': 21018, 'cmenough': 2869, 'httpowlyrgtll': 8115, 'africa': 221, 'eventsstressors': 5078, 'secrity': 17196, 'genuinely': 6204, 'floatyfiesta': 5641, 'nacx': 13209, 'shikari': 17437, 'colour': 2977, 'prev': 15491, 'syvex': 18692, 'kut': 11452, 'leh': 11703, 'ley': 11745, 'essjaythewitch': 4998, 'tenerife': 18889, 'december': 3779, 'daysforsyrianrefugees': 3697, 'prone': 15586, 'mby': 12461, 'kxwy': 11466, 'carolinekin': 2291, 'chesil': 2604, 'alertaccording': 373, 'itv': 10697, 'newscars': 13473, 'seaton': 17182, 'cumbria': 3512, 'attendance': 875, 'cuntrina': 3515, 'aflood': 217, 'austinflood': 915, 'httplnisinstagramcompwpj': 7986, 'taillight': 18716, 'httpinstagramcompfvlet': 7910, 'lbdk': 11630, 'wku': 21014, 'troubling': 19594, 'wessexcarclub': 20761, 'lri': 12103, 'buendia': 1925, 'skyway': 17685, 'clogging': 2829, 'manila': 12312, 'xaver': 21273, 'russianmarket': 16820, 'mercedesbenz': 12607, 'daimlerpictwittercomom': 3598, 'sgzshj': 17336, 'thames': 18966, 'enlivened': 4877, 'jah': 10751, 'nevergiveup': 13452, 'angeldmed': 548, 'sause': 17022, 'sametwins': 16945, 'zbj': 21636, 'makatitraffic': 12257, 'waltermart': 20545, 'makati': 12256, 'degtsk': 3824, 'madisonalewis': 12213, 'coolstorydro': 3219, 'osmea': 14190, 'damnginaaaaa': 3623, 'wessexwater': 20762, 'donyatt': 4275, 'knightinshinningarmour': 11363, 'hyde': 10046, 'wrecker': 21151, 'goeasy': 6384, 'clarence': 2760, 'maine': 12245, 'appendectomy': 660, 'bicyclist': 1415, 'oxted': 14304, 'nasuhayusob': 13256, 'decrease': 3799, 'httpyoutubeak': 9882, 'kmmyem': 11349, 'aaahhhhh': 3, 'furious': 6055, 'carhowever': 2270, 'axbell': 1008, 'floodsx': 5678, 'whitney': 20840, 'riskyliberal': 16577, 'obamacare': 13874, 'debit': 3767, 'httpinstagramcompiml': 7925, 'sgei': 17330, 'elgin': 4752, 'pictwittercomzmo': 15022, 'hwys': 10040, 'liftedtruckgirl': 11802, 'httpswwwfacebookcomphotophpv': 8729, 'httpfbmejvppbda': 7764, 'rainand': 15991, 'slip': 17717, 'hqi': 7395, 'chhepq': 2614, 'needalifejacket': 13366, 'wjhxi': 20999, 'kendallkiller': 11197, 'rusted': 16821, 'norfolk': 13672, 'vinoconvista': 20358, 'hopeing': 7302, 'costofcarbon': 3271, 'httpustreambp': 9644, 'thestruggles': 19071, 'hyundais': 10064, 'xexjmpictwittercomiriw': 21299, 'epxuz': 4934, 'natl': 13272, 'vnevayfvn': 20410, 'beacon': 1238, 'httpinstagramcompfstcmstgy': 7907, 'recount': 16189, 'kttcmj': 11438, 'emsworld': 4824, 'httpmodoly': 8002, 'zjma': 21697, 'beerbabe': 1281, 'massnh': 12407, 'disclosure': 4110, 'accidentsfloods': 81, 'retrieval': 16455, 'noaheesque': 13614, 'shouting': 17499, 'saeed': 16889, 'jeepprobz': 10823, 'beritapuchong': 1336, 'kuantanflood': 11442, 'tokyo': 19300, 'becasuse': 1255, 'abidolphin': 38, 'stevechapman': 18267, 'cobden': 2918, 'unveiled': 19985, 'thief': 19084, 'satt': 17016, 'cigs': 2709, 'floatin': 5638, 'ocht': 13913, 'pictwittercomjevxh': 14842, 'jks': 10900, 'stevelayman': 18269, 'superbowl': 18528, 'neils': 13393, 'autograph': 934, 'httpwwwindependentcouknewsworldafricainsidefrancessecretwar': 9778, 'httpowlyqwfme': 8113, 'clever': 2794, 'httpinstagramcomphkmmjobq': 7923, 'mounted': 13000, 'austalias': 912, 'holden': 7227, 'youngest': 21543, 'nostalgia': 13708, 'brocks': 1863, 'torana': 19351, 'httpnationcoke': 8015, 'httpwwwnationcokenewsexpertswarnofincreaseinfakemedicines': 9804, 'sxmw': 18675, 'indexhtml': 10336, 'bolivia': 1651, 'congresswoman': 3121, 'mugged': 13105, 'hydrogen': 10050, 'carvideos': 2337, 'httpbitlyd': 7490, 'pdbn': 14542, 'activation': 121, 'passcoms': 14474, 'reversion': 16483, 'willesden': 20923, 'sim': 17584, 'carsusually': 2330, 'zoned': 21726, 'seling': 17237, 'interviewed': 10547, 'brentashley': 1814, 'feettuccinedave': 5412, 'ofc': 13937, 'ehhq': 4704, 'newsfromelsewhere': 13480, 'jkuwj': 10902, 'subtweets': 18458, 'kathrynburcham': 11136, 'robertsbridge': 16637, 'transformed': 19491, 'brook': 1868, 'parkcovers': 14431, 'ubuthakathi': 19774, 'trevorgumbi': 19546, 'piss': 15067, 'ittybitty': 10693, 'sabinamanlutac': 16871, 'relatively': 16285, 'arrain': 741, 'ady': 191, 'whatwan': 20809, 'itur': 10696, 'flow': 5701, 'kdont': 11168, 'makememone': 12259, 'lolyeah': 11998, 'dtn': 4456, 'prey': 15499, 'veng': 20255, 'floodinduced': 5656, 'nub': 13795, 'luxurious': 12152, 'httpwwwlidtimecommanprovesthatyoucantdriveoverstreetfloodevenwithyourluxuriouscar': 9790, 'fortcollins': 5862, 'coattail': 2917, 'boulderflood': 1709, 'poser': 15303, 'sesh': 17287, 'bong': 1661, 'nofear': 13626, 'nutrish': 13815, 'bulletin': 1947, 'wclshawn': 20659, 'viele': 20336, 'ndunleavy': 13341, 'spa': 17992, 'eleanorkendall': 4738, 'rds': 16101, 'bbcradio': 1206, 'olivia': 14022, 'coleman': 2951, 'mona': 12893, 'rivercityyouth': 16583, 'supercar': 18529, 'ukstorm': 19830, 'httpnewsskycomstory': 8026, 'firecrewsrescue': 5524, 'peopletrappedbyfloods': 14598, 'mssburns': 13078, 'mighty': 12706, 'nissan': 13574, 'juke': 11031, 'triumph': 19577, 'hurrah': 9971, 'mnh': 12843, 'unusal': 19980, 'catt': 2387, 'httpbitlyid': 7513, 'wau': 20637, 'nimg': 13568, 'sings': 17606, 'cruisar': 3456, 'pictwittercommgmjc': 14879, 'rwsv': 16838, 'dbrrxa': 3712, 'southferriby': 17979, 'hgxb': 7087, 'usefulness': 20079, 'otherwise': 14197, 'punditmusings': 15690, 'twitternewschat': 19732, 'earl': 4556, 'zqirt': 21739, 'govchristie': 6465, 'compensation': 3048, 'dailycamera': 3592, 'sampanover': 16950, 'situationgeng': 17632, 'expressw': 5206, 'hb': 6907, 'rear': 16142, 'queanbeyan': 15891, 'floodwater': 5681, 'httpwwwbomgovaucgibinwrapfwoplidn': 9712, 'dondrapermusic': 4260, 'masonflynt': 12401, 'dealerdue': 3751, 'tradeand': 19465, 'pitching': 15073, 'kentuckygirl': 11200, 'broomfield': 1876, 'zrk': 21745, 'roy': 16731, 'ortizs': 14182, 'invest': 10565, 'abd': 33, 'underpass': 19879, 'prettyblacq': 15489, 'pensacola': 14584, 'crestview': 3410, 'bang': 1103, 'alrite': 435, 'marlpit': 12376, 'coulsdon': 3281, 'philipines': 14699, 'marshlanding': 12385, 'thur': 19169, 'southway': 17986, 'paracel': 14403, 'weatherwarning': 20696, 'plymouth': 15186, 'travis': 19523, 'httpgooglfbt': 7831, 'stox': 18361, 'mitigation': 12806, 'tainted': 18718, 'christackett': 2684, 'maslows': 12400, 'hierarchy': 7108, 'shelterreps': 17415, 'missvlbrown': 12799, 'poising': 15228, 'ryanparkerdp': 16850, 'mwc': 13177, 'tycholien': 19744, 'daxaar': 3690, 'mbp': 12456, 'earlymorning': 4561, 'httpowlyrz': 8117, 'foodinsurance': 5773, 'httpowlypcmoe': 8103, 'pspotts': 15645, 'kidlington': 11265, 'lincolnshire': 11834, 'httpstwittercommuminthecountrystatus': 8581, 'pictwittercomszpzv': 14948, 'ieoj': 10134, 'endured': 4845, 'tram': 19486, 'washtimes': 20599, 'httpwtimesgofrfu': 9684, 'bic': 1411, 'prestigeautosnz': 15484, 'whiting': 20838, 'risksjafco': 16575, 'tomys': 19326, 'yahoo': 21416, 'httppocketcoszgjs': 8146, 'jbrosky': 10809, 'sped': 18029, 'harbour': 6833, 'xzrzzymg': 21410, 'uhohhthat': 19818, 'mth': 13089, 'poured': 15349, 'qpi': 15845, 'ujij': 19823, 'spudrichtofen': 18107, 'floorboard': 5688, 'floodsother': 5673, 'greathaha': 6552, 'islesteps': 10654, 'abbey': 24, 'neomemphis': 13401, 'czdplt': 3573, 'sack': 16875, 'patent': 14487, 'ariaria': 714, 'ureportscomfloodsackpatentmedicinedealersatariariamarketujrroywcjmtwitter': 20038, 'unaffected': 19852, 'wonderfulwhitby': 21056, 'totallylocally': 19412, 'oklahoman': 13999, 'echkqa': 4626, 'chappysue': 2537, 'kloudwalker': 11341, 'truu': 19625, 'svmpb': 18620, 'aje': 328, 'layout': 11627, 'ghanneliator': 6252, 'scotland': 17112, 'dgthompson': 4000, 'yessir': 21478, 'lighted': 11804, 'edmonton': 4654, 'nlchn': 13590, 'assured': 826, 'pictwittercomdolmoclrhq': 14788, 'iammgraham': 10089, 'noblelies': 13618, 'anneliesexo': 580, 'floodravaged': 5664, 'cmelnvmu': 2868, 'subsidise': 18453, 'thenation': 19046, 'rainfall': 15994, 'uwi': 20148, 'receptionist': 16165, 'mlb': 12829, 'winfield': 20952, 'familiar': 5297, 'marcmalusis': 12347, 'ssteph': 18149, 'fitow': 5573, 'ronlyfc': 16686, 'zerokyasta': 21665, 'seawater': 17186, 'hardcore': 6835, 'hipyups': 7162, 'aspiring': 801, 'hipyup': 7161, 'criticism': 3430, 'baripada': 1135, 'nightpeople': 13562, 'jiccger': 10878, 'manning': 12322, 'trudging': 19605, 'uqtdzqmn': 20030, 'dyp': 4536, 'damnaugustus': 3622, 'unfollow': 19900, 'denverchannel': 3873, 'cofloods': 2935, 'viewer': 20339, 'tyler': 19746, 'httpyoutubeuidx': 9897, 'uhga': 19815, 'nlittlejohn': 13593, 'dryerseee': 4439, 'overheating': 14256, 'httpjeffcarsblogspotcom': 7962, 'unfortunatelyyourbrowserdoesnothtmlspreftw': 19904, 'jukinvideo': 11032, 'httpyoutubeq': 9892, 'asshle': 811, 'yesday': 21475, 'pdt': 14547, 'strap': 18369, 'americascup': 484, 'wade': 20501, 'chivalry': 2655, 'aigoo': 290, 'lkimfanspring': 11918, 'hoya': 7383, 'macaronhoney': 12193, 'loeyoel': 11978, 'monodrama': 12913, 'masternim': 12411, 'dpm': 4321, 'apologizes': 650, 'pictwittercomgc': 14810, 'btap': 1902, 'flooders': 5653, 'bjornlomborg': 1492, 'kilrwat': 11280, 'misrepresentation': 12784, 'floir': 5642, 'tbe': 18805, 'httptwitpiccomdpuuo': 9630, 'diving': 4179, 'murdermarijuana': 13137, 'httpwwwgreeleytribunecomnewslocal': 9768, 'bankweldvolunteerflood': 1112, 'pictwittercomutzkqhrmsn': 14969, 'httpdealercouponscaeventscontactusonlineaspx': 7660, 'niallslilwhoran': 13531, 'onthesteps': 14085, 'casue': 2358, 'phne': 14705, 'bnk': 1619, 'accnt': 82, 'ovrdrwn': 14278, 'lii': 11813, 'pocketssore': 15219, 'givemestrength': 6292, 'michaelemann': 12673, 'industrialism': 10374, 'communist': 3032, 'tribute': 19554, 'kcrg': 11162, 'cedar': 2454, 'ponders': 15260, 'tsvzz': 19644, 'tg': 18950, 'tctb': 18820, 'instimesnews': 10494, 'httpgooglgr': 7836, 'egw': 4698, 'pearl': 14561, 'odellbrewing': 13925, 'benefiting': 1315, 'httpinstagramcompfbncyfvuwz': 7899, 'lipslikesugaxd': 11853, 'ticklemetishh': 19183, 'volition': 20427, 'mercantile': 12606, 'myagvj': 13186, 'bunnierabbit': 1965, 'ralphlauren': 16016, 'wetflood': 20776, 'meatloaf': 12516, 'lasagna': 11582, 'creativmind': 3395, 'puking': 15678, 'rrkp': 16748, 'kildare': 11270, 'rathangan': 16061, 'lullymore': 12135, 'ture': 19679, 'httpwwwyoutubecomwatchvcodk': 9870, 'mzu': 13203, 'shitweather': 17460, 'blockade': 1573, 'kingsway': 11300, 'nanaimo': 13231, 'depressing': 3899, 'vandalized': 20188, 'httpdldbzb': 7669, 'rwg': 16833, 'atherton': 846, 'spokesperson': 18074, 'duane': 4460, 'duggan': 4473, 'lcb': 11636, 'eg': 4690, 'equestria': 4940, 'abysmal': 60, 'httpcarsukmsncomfeatureswintermotoringguidetipsfordrivinginfloods': 7637, 'wrrnp': 21177, 'intuition': 10555, 'gregorycreek': 6575, 'httpowlyorlgd': 8100, 'chrisusmorrison': 2692, 'thisismycurse': 19107, 'shakesfistatthesky': 17353, 'collide': 2966, 'alausa': 358, 'toksd': 19299, 'overnite': 14263, 'ratvhue': 16072, 'stretch': 18388, 'investigative': 10569, 'bureau': 1971, 'rod': 16659, 'wkxpejv': 21015, 'medevac': 12528, 'lassie': 11586, 'timmy': 19212, 'befriended': 1285, 'enuf': 4897, 'bht': 1402, 'zinda': 21686, 'dil': 4055, 'hain': 6749, 'tomatino': 19309, 'bnta': 1622, 'hai': 6743, 'stopfoodwastage': 18328, 'importantly': 10268, 'bblackcorazon': 1212, 'shiftmy': 17436, 'automatic': 938, 'originaljes': 14173, 'nmlt': 13600, 'nay': 13289, 'bkaramsida': 1498, 'bitmy': 1481, 'valletta': 20175, 'longlife': 12014, 'pantai': 14392, 'remis': 16325, 'batu': 1182, 'taman': 18747, 'wang': 20552, 'setious': 17292, 'pdhohzl': 14544, 'destitute': 3943, 'wiaknx': 20866, 'pit': 15069, 'overload': 14259, 'strain': 18363, 'irsfgi': 10636, 'pictwittercommbbdxdlh': 14876, 'rtd': 16763, 'slytsh': 17734, 'std': 18238, 'displacement': 4141, 'httpreliefwebintsitesreliefwebintfilesresourcesocha': 8168, 'sep': 17264, 'branston': 1772, 'stoke': 18317, 'coincide': 2941, 'homefireflood': 7246, 'aptrenters': 684, 'funkkyrules': 6046, 'bankphb': 1108, 'referring': 16239, 'siloammission': 17580, 'winnipeg': 20959, 'rais': 16003, 'kvrkstw': 11456, 'carroll': 2305, 'vermin': 20273, 'httpfbmewx': 7788, 'roiki': 16666, 'adapter': 139, 'compressor': 3069, 'trey': 19547, 'sonz': 17933, 'meme': 12583, 'likeflood': 11819, 'countywell': 3302, 'httpyoutubevurrl': 9899, 'vgua': 20294, 'feelgdfoodbk': 5409, 'httpfbmeth': 7779, 'httpowlyqicrh': 8111, 'practically': 15384, 'baptist': 1117, 'wm': 21023, 'wsweet': 21192, 'salty': 16932, 'sensation': 17257, 'desensitization': 3922, 'httpwwwinteraksyoncominteraktvalaskasanmigcoffeeplayersbattletrafficfloodasstartofgamedelayed': 9780, 'uptonuponsevern': 20025, 'hanley': 6813, 'brick': 1822, 'coping': 3235, 'pictwittercomfwahlwoibl': 14807, 'ehmee': 4705, 'floodprone': 5663, 'httpwwwtopgearcomphfeaturescolumnswrongcarrightcaronlineareaderaskswhatsthebestp': 9844, 'mcarforfloodpronemetromanila': 12463, 'cana': 2185, 'xjunniee': 21320, 'hahhahahah': 6741, 'wattttt': 20636, 'vain': 20172, 'yestlucky': 21481, 'loh': 11988, 'httpwwwminiridescom': 9800, 'blossom': 1588, 'streamlines': 18377, 'direc': 4074, 'avvhw': 969, 'cumbrian': 3513, 'evb': 5070, 'westlake': 20768, 'leaking': 11659, 'sprinkler': 18105, 'psu': 15647, 'honeydo': 7274, 'oneofthosedays': 14055, 'needa': 13365, 'insecureextra': 10460, 'madagascarrice': 12202, 'maize': 12251, 'bloodandmud': 1583, 'toby': 19279, 'missedinhistory': 12787, 'molasses': 12879, 'inflationcentral': 10394, 'manic': 12310, 'fuse': 6059, 'morrow': 12963, 'thatbitchtina': 18993, 'httpwwwbostonstandardcouknewsbusinessbusinessnewsfoodparcelsavailableforbostonfloodvictims': 9714, 'hooray': 7294, 'bpak': 1736, 'pictwittercomowkcjq': 14910, 'qxf': 15935, 'magallanes': 12221, 'httponoratv': 8058, 'gmbywpictwittercomd': 6361, 'lwsxsm': 12163, 'hydroliced': 10051, 'aston': 830, 'noorharazeen': 13663, 'ryanheutz': 16849, 'prayforkuantan': 15409, 'foodbattery': 5760, 'ned': 13363, 'davesgrill': 3676, 'darabic': 3652, 'dara': 3651, 'tricked': 19557, 'cabbie': 2068, 'mold': 12880, 'httpgoogludqq': 7849, 'kuantan': 11441, 'sqxlth': 18134, 'diver': 4173, 'incl': 10306, 'thanksgivingi': 18977, 'luggermatt': 12127, 'thankyoux': 18986, 'glovegraham': 6348, 'saybones': 17040, 'thingy': 19088, 'lilspooky': 11825, 'aintlyin': 294, 'dezilamon': 3985, 'httpowlyre': 8114, 'autorent': 945, 'carcaretips': 2251, 'trryxtq': 19598, 'havana': 6886, 'pictwittercomxrd': 14998, 'aurrpb': 907, 'dunnymunny': 4491, 'jenmlevine': 10836, 'yeahlike': 21450, 'sinister': 17608, 'ratted': 16069, 'ri': 16510, 'xgt': 21307, 'indirectly': 10364, 'sbwosb': 17054, 'mountie': 13002, 'buqlaw': 1968, 'cinematic': 2714, 'sniper': 17806, 'baw': 1183, 'spaceship': 17994, 'recycled': 16198, 'httpsharesiygkr': 8271, 'jackmartin': 10738, 'lool': 12027, 'albans': 359, 'affdyt': 209, 'nii': 13563, 'gerald': 6215, 'chengdu': 2599, 'nonwestern': 13656, 'hotspot': 7340, 'kfc': 11227, 'latenightjimmy': 11594, 'swampmobile': 18630, 'humid': 9939, 'davidcameron': 3679, 'limitedsimply': 11832, 'germany': 6223, 'quaint': 15879, 'httpinstagramcompfp': 7904, 'zjnfwxe': 21698, 'httpyoutubebq': 9884, 'nfsa': 13513, 'pookielondon': 15268, 'herestart': 7064, 'tying': 19745, 'centr': 2474, 'heartfake': 6962, 'httpmobilenationcokenewsexpertswarnofincreaseinfakemedicines': 8001, 'formatxhtmlr': 5853, 'zindexhtml': 21687, 'lupita': 12145, 'jazzzzy': 10803, 'businessgreen': 2009, 'httpmbusinessgreencombgnews': 7996, 'pooroceanhealththreatensfoodsecurityandincreasesfloodrisk': 15274, 'octobermoon': 13920, 'evergreen': 5085, 'walkway': 20533, 'floodlike': 5658, 'dth': 4454, 'delemomodu': 3833, 'bam': 1092, 'ingasaffron': 10409, 'dranoff': 4344, 'grip': 6593, 'hammering': 6781, 'battersea': 1177, 'auction': 894, 'marquee': 12378, 'longmont': 12015, 'httpinstagramcompfjd': 7901, 'azsypw': 1029, 'baaad': 1032, 'rtdailynation': 16764, 'southsudan': 17984, 'qcxqx': 15780, 'pointless': 15227, 'mouthwatering': 13009, 'mybodyisready': 13190, 'quicksilver': 15906, 'spv': 18112, 'thankstoetolls': 18980, 'lml': 11940, 'httpisgdahsrn': 7950, 'bbc': 1198, 'visual': 20380, 'proposed': 15601, 'turbine': 19677, 'arupgroup': 769, 'boothscountry': 1680, 'lang': 11560, 'jud': 11020, 'viking': 20346, 'httpinstagramcompfqg': 7905, 'qnzc': 15830, 'haygateview': 6898, 'radcommunity': 15969, 'tarmac': 18771, 'accogk': 83, 'catbalfanz': 2368, 'oliviachance': 14023, 'chloeblfnz': 2657, 'chancejack': 2513, 'zachbalfanz': 21621, 'lynnlovessyhuu': 12178, 'orange': 14146, 'thereyou': 19066, 'tellme': 18872, 'httpwwwweathercomnewsweathersevereflashfloodswampsbouldernortherncolorado': 9857, 'cmven': 2879, 'httpyoutubefxa': 9887, 'gqy': 6492, 'sur': 18564, 'danieltnad': 3646, 'httpyoutubejgh': 9888, 'pppaspka': 15374, 'daylight': 3694, 'easternafrica': 4598, 'httpbitlyi': 7512, 'httpinstagramcompelaw': 7887, 'cmevtx': 2870, 'todo': 19289, 'milesfromhome': 12727, 'estate': 5003, 'jeromeflood': 10845, 'myanmar': 13188, 'cwsglobal': 3550, 'httpowlyoydcl': 8102, 'nightmy': 13561, 'footspainmycar': 5822, 'chic': 2617, 'kuwait': 11453, 'plaines': 15117, 'brcny': 1782, 'httpfbmeshptxa': 7777, 'soliders': 17902, 'blyth': 1607, 'massrespect': 12408, 'lestweforget': 11727, 'arena': 704, 'housepartytour': 7359, 'warsh': 20589, 'trollusmaximus': 19583, 'ja': 10730, 'ruck': 16782, 'physicality': 14725, 'aussie': 910, 'calibresimon': 2111, 'floodswow': 5677, 'closedand': 2834, 'floodsa': 5666, 'biizll': 1436, 'baghdad': 1062, 'celebrated': 2459, 'christmasputs': 2691, 'firetruck': 5545, 'bwrcjv': 2043, 'alexmatt': 379, 'awkward': 998, 'seanhannity': 17164, 'anncoulter': 578, 'lynnwilton': 12179, 'sandwich': 16964, 'toaster': 19274, 'ermmmm': 4962, 'anticipate': 603, 'httpinstagramcompgly': 7915, 'vdlxqp': 20222, 'bump': 1953, 'pahang': 14350, 'mkn': 12821, 'vibewithg': 20311, 'bid': 1416, 'farewell': 5314, 'bzazp': 2063, 'autosearch': 946, 'murphyslaw': 13140, 'sardin': 17003, 'telur': 18876, 'drraisyatim': 4417, 'rawang': 16078, 'unprepared': 19960, 'fzjrvz': 6092, 'sydneyesmaili': 18681, 'turlock': 19681, 'gonnadie': 6411, 'onlyinchicago': 14071, 'httpurobinspostcom': 9638, 'yjcjr': 21504, 'smoothly': 17781, 'leath': 11672, 'bj': 1489, 'notepad': 13715, 'httpinstagramcomphkfq': 7922, 'xsk': 21372, 'deprived': 3901, 'mrsilverscott': 13059, 'accidently': 79, 'wsh': 21184, 'tempra': 18884, 'looknorthbbc': 12025, 'sth': 18278, 'ferriby': 5429, 'clothesfood': 2843, 'httpinstagramcompekaqbgh': 7885, 'xn': 21339, 'hpgoodnews': 7385, 'noting': 13725, 'conkr': 3123, 'nairobi': 13220, 'confusedweather': 3114, 'lbmaclh': 11633, 'bbcwalesnews': 1209, 'monmouthshire': 12910, 'gfcy': 6242, 'sewyou': 17314, 'znnrj': 21718, 'abdulaziz': 35, 'alafif': 351, 'libyapictwittercomptpbv': 11776, 'qkjx': 15813, 'flopping': 5689, 'understandable': 19881, 'pictwittercomtohlsxa': 14954, 'pz': 15751, 'bicycleflash': 1413, 'floodsneed': 5671, 'hutt': 10028, 'riverbank': 16582, 'henryclayton': 7048, 'experimental': 5186, 'liveonanislandarmbandsreadyyyg': 11887, 'ojeenxom': 13993, 'kfwb': 11233, 'xja': 21317, 'pantiesg': 14393, 'lmaoooooo': 11933, 'oliviavandykens': 14024, 'sisterlylove': 17621, 'httplidtimecom': 7980, 'httpadflybl': 7454, 'slowed': 17725, 'probem': 15539, 'carcont': 2254, 'sank': 16982, 'httpfbmenkbjhzun': 7770, 'vxn': 20492, 'curry': 3530, 'sainsburys': 16905, 'matey': 12425, 'drivies': 4390, 'impressed': 10274, 'hubz': 9908, 'banger': 1104, 'cairo': 2088, 'egypt': 4700, 'infrastructurepictwittercomohbj': 10408, 'dmhqo': 4203, 'prentice': 15454, 'focused': 5737, 'katia': 11137, 'roar': 16624, 'httpapnewskkpmnq': 7468, 'supernatural': 18538, 'happily': 6826, 'theatre': 19006, 'snowis': 17836, 'veosuf': 20263, 'egsvqv': 4697, 'californiawildfireevacueesbraceforheavyrainshtml': 2128, 'htz': 9904, 'wmt': 21029, 'tgt': 18959, 'bessers': 1350, 'httpowlyequab': 8077, 'techie': 18845, 'depending': 3884, 'httpbitlyro': 7569, 'pjf': 15092, 'lmfaooooooo': 11936, 'billboard': 1442, 'httppostbjatsu': 8148, 'outstanding': 14240, 'wal': 20524, 'mart': 12386, 'httpgooglr': 7848, 'unuv': 19984, 'fueled': 6023, 'httpnixleusaazhs': 8032, 'pastor': 14482, 'httpthinkamericanacom': 9567, 'tweetclaimspastorjoelosteennotopeninghugechurchshelterhurricanevictims': 19714, 'ihatehillaryclinton': 10164, 'topnotchb': 19347, 'tch': 18814, 'supermom': 18537, 'pictwittercomckve': 14776, 'xbtm': 21284, 'noobs': 13659, 'pacquiao': 14341, 'mrt': 13060, 'abscbn': 49, 'httpgooglfbnq': 7830, 'hermano': 7069, 'whyamisotall': 20864, 'beard': 1244, 'amteatime': 505, 'tucker': 19659, 'desperation': 3937, 'pictwittercomauwhsulrc': 14757, 'gladl': 6311, 'xas': 21271, 'lynch': 12177, 'dothan': 4291, 'robbery': 16631, 'fame': 5295, 'inductee': 10373, 'sanofius': 16984, 'httpowlyeqzkz': 8078, 'tyurshoesasia': 19755, 'byrdtheword': 2056, 'fuckyessjess': 6019, 'tally': 18746, 'survivormed': 18599, 'hurricaneprep': 10006, 'httpsblogallstatecomtakestepstoprotectyourcarinahurricaneagentnumbera': 8201, 'kaleemgla': 11098, 'anjumkiani': 571, 'floodsearthquake': 5668, 'dixon': 4180, 'januaryadvisors': 10784, 'httpyoutubelc': 9889, 'esazia': 4977, 'peacefully': 14555, 'httpswwwswarmappcomcb': 8856, 'dfifelzru': 3989, 'postfrankenstorm': 15322, 'hwp': 10036, 'coloradofloodrelief': 2973, 'bitterwe': 1483, 'httptcowavk': 9465, 'gqkps': 6487, 'criticized': 3431, 'needy': 13375, 'andsleds': 540, 'httpjustlatestnewscomp': 7970, 'scg': 17086, 'qvwao': 15929, 'httpdlvritphqhcg': 7698, 'nkkpfhr': 13586, 'days': 3696, 'gautamrode': 6148, 'httpbitlyims': 7518, 'drsanjaygupta': 4420, 'heartily': 6965, 'greatness': 6555, 'lov': 12063, 'alyz': 454, 'muntinlupa': 13130, 'lightly': 11809, 'firobson': 5549, 'airlifted': 306, 'camerons': 2163, 'punta': 15695, 'mental': 12595, 'pictwittercomfook': 14805, 'ozzzr': 14325, 'acpxc': 106, 'shirtless': 17451, 'artandhurricanes': 759, 'kingwood': 11301, 'httpswwwinstagramcompbyoyueuadht': 8786, 'ieeespectrum': 10133, 'predictor': 15441, 'chilling': 2641, 'lends': 11714, 'ypictwittercomze': 21556, 'xlamgie': 21329, 'httpmarketsbusinessinsidercomnews': 7994, 'businessinsider': 2010, 'quakenepal': 15882, 'geology': 6208, 'geography': 6206, 'httptcoqufcokru': 9326, 'arabspring': 694, 'maldivian': 12268, 'euromaidan': 5042, 'carpe': 2295, 'diem': 4038, 'deepampkeshab': 3806, 'nordschleife': 13670, 'plano': 15125, 'tfs': 18947, 'httpwwwautomotivetestdriverscomtoyotafinancialservicesofferspaymentrelieftocustomersaffectedbycaliforniawildfireshtmutmsourcedlvritutmmediumtwitter': 9704, 'miamidades': 12665, 'petfriendly': 14650, 'httpwwwmiamiheraldcomnewslocalcommunitymiamidadearticle': 9797, 'extends': 5211, 'technologybusinessairbnbhurricaneharveyreliefprogramindexhtml': 18850, 'olgamy': 14017, 'httptcooh': 9255, 'fvqajo': 6072, 'xuaeox': 21386, 'gy': 6712, 'vch': 20214, 'hsbv': 7406, 'gh': 6249, 'dstl': 4450, 'huhu': 9924, 'masuk': 12414, 'padahal': 14342, 'tayar': 18799, 'je': 10820, 'youcomes': 21537, 'ezgjr': 5242, 'httptcoxwseohzb': 9511, 'alisonblack': 394, 'thanksmom': 18978, 'hopewemakeit': 7303, 'shortiedoo': 17492, 'kjoyhilyard': 11321, 'alleray': 406, 'falonk': 5291, 'melodees': 12570, 'whatsthefelio': 20807, 'vcgonzalez': 20213, 'prog': 15571, 'omega': 14034, 'experiment': 5185, 'sobrang': 17859, 'starstruck': 18199, 'siguro': 17567, 'ng': 13514, 'tumulong': 19668, 'kay': 11146, 'devance': 3967, 'pba': 14526, 'dominican': 4249, 'manuscript': 12332, 'handwritten': 6805, 'edits': 4653, 'fyicheese': 6088, 'swdlsple': 18638, 'ntkp': 13785, 'cascade': 2339, 'fivepine': 5579, 'lodge': 11975, 'odot': 13929, 'dare': 3654, 'weneedtotakecarofhome': 20755, 'newsc': 13472, 'pictwittercomeu': 14796, 'ysuiu': 21568, 'zpxc': 21735, 'redcrosserpictwittercomo': 16205, 'irhfvwr': 10617, 'wakeofearthquake': 20521, 'wirelesscarriersofferfreecalls': 20973, 'recode': 16176, 'httptcobqhhxaiaje': 8971, 'eyebalz': 5232, 'nkulw': 13588, 'lnbfl': 11946, 'irmas': 10627, 'httphufftoqqe': 7871, 'regd': 16260, 'sabre': 16872, 'foodclothes': 5765, 'httpnblogsh': 8018, 'irj': 10621, 'cqle': 3339, 'xaslihj': 21272, 'berkely': 1338, 'httpbitlykbifmx': 7540, 'samsclub': 16952, 'riverview': 16586, 'approved': 677, 'rideshare': 16533, 'httpslnkdines': 8300, 'papx': 14401, 'greattttttttttornado': 6557, 'drillhope': 4372, 'httpwwwusanewsnetq': 9849, 'loveyasandy': 12076, 'chertseyrussell': 2603, 'ripley': 16564, 'httpwwwrocketnewscom': 9827, 'hurricaneharveysmassivefloodingalsodestroyedhundredsofthousandsofcarspictwittercomu': 9992, 'uw': 20146, 'huffingtonpost': 9914, 'refreshing': 16245, 'httpswwwfsisusdagovwpsportalfsisnewsroomnewsreleasesstatementstranscriptsnewsreleasearchivesbyyeararchive': 8743, 'nr': 13767, 'yawl': 21427, 'fashion': 5329, 'sweatpants': 18644, 'httphufftouakz': 7872, 'huffpoststyle': 9918, 'unitednationss': 19929, 'httpstcoeuki': 8399, 'edony': 4656, 'eshdj': 4986, 'wifey': 20878, 'ilovemylife': 10210, 'refused': 16255, 'httpthebestfbvideocomawildhawkseekingshelterrefusedtoleavethismanssideduringhurricaneharveycreditpictwittercomxygp': 9562, 'fgxgl': 5450, 'thrill': 19141, 'httpcnnmonie': 7651, 'rrm': 16750, 'procrastinated': 15549, 'cblakesidemarket': 2416, 'httpswwwinstagramcompbyckucjyd': 8780, 'vic': 20314, 'mapp': 12337, 'territorywide': 18911, 'httpowlygvjz': 8085, 'dshgu': 4447, 'httptoiiniasz': 9597, 'nationsjoel': 13269, 'abominationsisaiah': 45, 'jadehelm': 10747, 'httpowlycbf': 8070, 'vaping': 20192, 'concentrate': 3083, 'httpswwwinstagramcompbytlgxbqba': 8792, 'httpabc': 7441, 'thefancom': 19018, 'nationalguardrescueswomantrappedincarduringblizzardpictwittercomxxbzq': 13266, 'deg': 3822, 'httpbitlyry': 7573, 'utilize': 20114, 'bereadypictwittercomtjeh': 1329, 'hopwq': 7308, 'phillips': 14701, 'forex': 5845, 'httpwwwkdrvcomcontentnewsredcrossseeksvolunteersfordisasterrelief': 9783, 'otis': 14199, 'kitcar': 11312, 'cultural': 3509, 'initiation': 10430, 'togetherwecan': 19293, 'anthonymorland': 601, 'httptcodbc': 9001, 'xbikdg': 21280, 'peek': 14573, 'httpowlywbas': 8121, 'li': 11766, 'friendsfamily': 5960, 'pyve': 15750, 'wearychefjoey': 20684, 'selenemsc': 17230, 'httpsapplenewsabagmnrjrr': 8182, 'scqqpib': 17119, 'vva': 20485, 'httpswwwnaijadadcomnggerardbutlersharesselfiewherehesstandinginfrontofhisburneddownhouseandcardestroyedbythecaliforniawildfirespictwittercompvvywd': 8806, 'tja': 19240, 'qtna': 15870, 'httpdlvritkkwvbh': 7684, 'halfdead': 6763, 'cockroach': 2920, 'steep': 18249, 'approve': 676, 'pictwittercombph': 14765, 'ybdsv': 21433, 'listener': 11863, 'hoaxer': 7217, 'httpstwittercomlolgopstatus': 8565, 'convertible': 3202, 'httptinylyvads': 9570, 'jcole': 10817, 'pnotg': 15210, 'aahhhhhhaa': 10, 'shutup': 17532, 'fiji': 5475, 'desireablesfoodwater': 3932, 'prepnow': 15465, 'httpitrucknewssurfsuphurricaneseasonisawildrideforbusinessownerssoprepnowpictwittercomkukppo': 7953, 'httpitrucknewssurfsuphurricaneseasonisawildrideforbusinessownerssoprepnow': 7952, 'lrzrfcbl': 12106, 'stlooktv': 18302, 'salivating': 16923, 'marfas': 12353, 'urfavelatina': 20039, 'junkfoodlgnd': 11046, 'preferably': 15448, 'woops': 21073, 'gtajzh': 6632, 'brew': 1815, 'wellprepared': 20745, 'righteous': 16547, 'ale': 370, 'sixpoint': 17640, 'httpuntpittrczbw': 9637, 'uttarakhand': 20131, 'banner': 1114, 'midatlantic': 12689, 'pictwittercomlpssyerv': 14867, 'charitytuesday': 2546, 'httpstcodj': 8392, 'rpil': 16735, 'richardbransontorideouthurricaneirmainwinecellardespiteprivateislandsriskoftakingdirecthit': 16517, 'definitelygained': 3819, 'treadmilltuesday': 19526, 'kiddchris': 11262, 'unclethen': 19865, 'richunclewillie': 16520, 'dryclothes': 4437, 'httpbitlyyjjawa': 7617, 'funnyfest': 6051, 'hutch': 10027, 'httptconsxiicj': 9243, 'dania': 3641, 'pictwittercomgggybhtjqz': 14812, 'accurate': 91, 'carshomes': 2322, 'sportclips': 18085, 'insurer': 10507, 'httpbitlyinscar': 7520, 'reunited': 16468, 'httpbitlymitt': 7559, 'httpwwwdelishcomfoodnewsnewsg': 9743, 'bestfoodstobuybeforeahurricane': 1354, 'cnty': 2904, 'murchison': 13133, 'edom': 4655, 'brownsboro': 1881, 'disturbed': 4167, 'specify': 18025, 'grifting': 6586, 'httpswwwdelishcomfoodnewsa': 8707, 'ladygagadeliverspizzacaliforniawildfireshelter': 11507, 'vddfnhxy': 20219, 'pictwittercomdeglgljvxw': 14783, 'patrolling': 14500, 'unqmd': 19961, 'sofla': 17875, 'pbangels': 14527, 'httpwwwmiamiheraldcomnewsweatherhurricanearticle': 9798, 'sandyhouse': 16971, 'foodlazy': 5776, 'spontaneous': 18079, 'bayside': 1190, 'routine': 16724, 'itsgoodtohavegoalspictwittercomgqm': 10686, 'gbup': 6166, 'holla': 7235, 'kathmanduanz': 11131, 'httpswwwyahoocomentertainmentladygagavolunteerswildfireshelter': 8895, 'jade': 10746, 'tidewater': 19188, 'scammer': 17061, 'httpbitlywvpyto': 7599, 'iamaura': 10085, 'hospitality': 7326, 'httpwwwaustinchroniclecomblogsfood': 9699, 'thefloodisontheotherfoot': 19021, 'pleads': 15150, 'httpswwwcbccanewscanadaedmontonwalmartfortmcmurraywildfiretaintedcontaminatedfood': 8695, 'httpstwittercommostsecretfactsstatus': 8579, 'xoj': 21345, 'nacknn': 13208, 'madagascar': 12201, 'httpsharesewwrv': 8269, 'insecure': 10459, 'httpabcnewsgocomusnationalguardrescueswomantrappedcarblizzardstoryid': 7442, 'publix': 15669, 'boca': 1637, 'raton': 16068, 'harnessed': 6851, 'wwjones': 21242, 'ledouex': 11682, 'rack': 15965, 'whiskeyweim': 20828, 'offline': 13951, 'httpsplusgooglecom': 8343, 'postsatj': 15331, 'udh': 19787, 'astronaut': 833, 'httpsgooglljwynb': 8264, 'jas': 10792, 'nenstgpictwittercomucr': 13400, 'mviq': 13169, 'jjqpictwittercombhp': 10897, 'mmw': 12838, 'goldfish': 6397, 'bungled': 1961, 'burglar': 1978, 'burgersnatching': 1977, 'httpshareshq': 8270, 'dual': 4459, 'daytoday': 3702, 'vicitms': 20321, 'httpbitlymtgjq': 7562, 'qobacn': 15833, 'believer': 1302, 'ucf': 19782, 'kyjhch': 11473, 'aldersgate': 369, 'loungetornado': 12062, 'brewing': 1817, 'itsthelittlethings': 10690, 'httpdlvritqrb': 7731, 'smpictwittercomdpmqecrhft': 17782, 'us': 20052, 'checker': 2574, 'potentia': 15337, 'httpwwwviviangistcomngmorethan': 9854, 'carsdestroyedintexashurricaneharveypictwittercomtfjetpdjx': 2318, 'lakewoodchurch': 11529, 'httpstwittercomfanofactionstatus': 8530, 'oilbkj': 13986, 'httptcowgjqyybdt': 9473, 'retriever': 16457, 'sharknado': 17377, 'importexport': 10270, 'httpzpriop': 9903, 'rainhurricaneaventadorsouthflorida': 15996, 'pictwittercomykgvwlsnh': 15009, 'httpsgooglfbwq': 8262, 'scz': 17145, 'quote': 15921, 'damning': 3625, 'spam': 18000, 'httptw': 9615, 'mco': 12482, 'adcu': 142, 'junkf': 11045, 'odshawty': 13930, 'sheltergot': 17407, 'httpabcnwsrfpiu': 7444, 'httpswwwcdcgovdisastershurricanesbeforehtml': 8697, 'cdcgov': 2435, 'httpwwwdailywirecomnews': 9739, 'socialmediaclaimspastorjoelosteenwontopenpaulboisutmsourcetwitterutmmediumsocialutmcontent': 17868, 'newsutmcampaigndwtwitter': 13496, 'httptcokad': 9167, 'tplroi': 19452, 'logicmainly': 11986, 'foodrainflood': 5784, 'securityno': 17205, 'introduction': 10554, 'httpfbmekx': 7765, 'ycmy': 21438, 'mrg': 13053, 'pictwittercomuey': 14959, 'imbwlq': 10227, 'wineisbetterthanwater': 20948, 'reichert': 16276, 'debbie': 3766, 'gibson': 6264, 'vicente': 20317, 'httptlrdus': 9585, 'nkupictwittercomsnn': 13589, 'uxw': 20154, 'plug': 15178, 'carcigarette': 2253, 'lighter': 11806, 'httpstwittercomroscoe': 8617, 'osage': 14184, 'allenville': 405, 'httpstwittercomnasasportstatus': 8583, 'httpawesmn': 7474, 'wellnepalearthquake': 20742, 'heidijoha': 7004, 'tribbles': 19550, 'mmm': 12837, 'yummmm': 21578, 'sample': 16951, 'dsg': 4444, 'httpowlylpxy': 8093, 'devox': 3982, 'gradethis': 6505, 'yeaaaahhhh': 21448, 'bricemarks': 1821, 'bradleyholder': 1760, 'joebeussink': 10927, 'wuld': 21217, 'ktlamorningnews': 11434, 'lax': 11624, 'evcaute': 5071, 'conch': 3087, 'mentality': 12596, 'wickedweather': 20868, 'shoreline': 17486, 'prioritize': 15520, 'carlee': 2277, 'purplehayesz': 15706, 'haad': 6723, 'upfinna': 20005, 'aite': 323, 'scoop': 17103, 'httpcbsnwsspca': 7640, 'httpgooglfbeplvb': 7827, 'mumbaikarmaking': 13121, 'beggar': 1286, 'httptcojljijnglmb': 9156, 'restoredclassic': 16437, 'httpinstagramcompfhpoq': 7900, 'nvhi': 13823, 'lkysip': 11921, 'golocalprovdr': 6405, 'httpbitlyvvlx': 7595, 'kiddy': 11264, 'sooooon': 17942, 'joetaxi': 10935, 'mckelvey': 12475, 'httptcoxiv': 9499, 'wrkfgr': 21170, 'whisker': 20825, 'tripped': 19572, 'hurricanceflorence': 9975, 'whiskerswednesday': 20826, 'catsoftwitterpictwittercomdeou': 2386, 'jcn': 10815, 'malachi': 12266, 'httptinycckgvc': 9569, 'nhcatlantic': 13520, 'httpwwwredcrossorgfindhelp': 9824, 'tyson': 19753, 'tennessee': 18891, 'somalian': 17909, 'bfohef': 1376, 'incarcerated': 10297, 'quantico': 15884, 'lawsuit': 11620, 'yor': 21527, 'soflo': 17876, 'httpadflye': 7455, 'vqk': 20457, 'mihirbijur': 12711, 'lenskartcom': 11718, 'shameless': 17363, 'httptcokzfpbrzg': 9193, 'handcuff': 6794, 'wrist': 21162, 'hawaiian': 6893, 'picstitch': 14741, 'velvet': 20251, 'httpinstagramcompftnkcqwbex': 7909, 'httpswwwyoutubecomwatchvympfzdau': 8909, 'sfeatureshare': 17323, 'sakshi': 16910, 'maharaj': 12232, 'remark': 16311, 'httptcooxordegkua': 9273, 'kmkopictwittercomtb': 11346, 'qke': 15811, 'httpbitlyxhclbd': 7601, 'railminindia': 15987, 'httpindiebrewnetbrewpress': 7878, 'ladygagacaliforniawildfiressheltervictimsredcrosspacificpalisadeshighschoola': 11506, 'htmlpictwittercomqttphnkwey': 7426, 'thetylersaurus': 19072, 'belly': 1307, 'dosomesitups': 4290, 'lmfboo': 11937, 'ridepelotonpictwittercomhtex': 16531, 'aqnll': 687, 'auditoriumrec': 900, 'httpadflyyukxl': 7458, 'americanidol': 482, 'munch': 13125, 'cmdzxr': 2867, 'donny': 4265, 'lago': 11519, 'latino': 11598, 'blk': 1569, 'coolaid': 3216, 'httpstwittercomwatchchadstatus': 8639, 'rlag': 16602, 'womanmelkorka': 21051, 'liceabraves': 11778, 'httplnisnewsgroopspeakcomcsohd': 7988, 'ifas': 10138, 'extension': 5212, 'lmw': 11943, 'acpo': 105, 'nodaysoff': 13624, 'ben': 1310, 'emblem': 4787, 'httpbitlyjj': 7533, 'viaeatocracy': 20303, 'travelingliving': 19518, 'inctgyu': 10328, 'videotape': 20334, 'revolutionmonk': 16490, 'vultureevangelists': 20482, 'creature': 3396, 'httplnisnewsgroopspeakcom': 7987, 'wwc': 21235, 'elqk': 4774, 'httpstwittercomwendypeterpan': 8640, 'ustatus': 20102, 'catcher': 2371, 'welptime': 20749, 'httpfloridadisasterorginfo': 7806, 'stripped': 18399, 'colossal': 2976, 'httpwwwexpresscouknewsweather': 9751, 'hurricaneirmapathresidentsstripsupermarketcentralfloridakeywestevacuationpictwittercomfdqncyzsek': 9999, 'httpwwwpinterestcompin': 9819, 'theyve': 19080, 'obstacle': 13893, 'butter': 2023, 'httpowlyeswjo': 8083, 'httpdlvritpk': 7716, 'krishaadawn': 11411, 'fiesta': 5467, 'httpinstagramcompgkmrjbkj': 7914, 'explodes': 5195, 'television': 18868, 'httpsplusgooglecomjeremycallinanposts': 8344, 'timdk': 19203, 'cmxr': 2880, 'hhsgov': 7094, 'httpgousagovyd': 7854, 'foodsafetygov': 5788, 'wwinds': 21240, 'szwmop': 18700, 'victimscorrupt': 20324, 'wgas': 20792, 'wuttscls': 21222, 'sendin': 17251, 'majorly': 12254, 'antimals': 607, 'indiebrewpictwittercomwaqkyibapy': 10357, 'trafficjam': 19472, 'httpinstagrampryiduwhbyw': 7945, 'httptcocol': 8991, 'cpcm': 3332, 'ist': 10664, 'vijayawards': 20344, 'ruinaromanticmomentin': 16789, 'cskvkxip': 3474, 'soulvu': 17961, 'cto': 3490, 'hpse': 7391, 'wjpjfqt': 21001, 'textbook': 18940, 'relaxing': 16286, 'frosted': 5983, 'mug': 13104, 'pictwittercomzl': 15019, 'zqss': 21740, 'startelegram': 18202, 'fwisdpli': 6079, 'httpampstartelegramcomnewslocalcommunityfortwortharticle': 7463, 'httpwwwcbsnewscom': 9721, 'howtokeepyourfoodsafeifhurricanesandycutselectricitytagsocsh': 7381, 'cbsnews': 2422, 'bishop': 1474, 'viben': 20307, 'pictwittercomaktq': 14752, 'oka': 13995, 'httpfbmefpowjq': 7759, 'muntinglupa': 13129, 'httpinstagramcompgqvbk': 7917, 'woohoo': 21066, 'sticker': 18280, 'httpswwwyahoocomnewsmb': 8899, 'dab': 3579, 'ssshelterpetsrescuedhtmlsocsrcsocialshsoctrktw': 18148, 'eventful': 5077, 'carsnever': 2325, 'britain': 1844, 'braced': 1755, 'prechristmas': 15428, 'tr': 19454, 'httpgooglhws': 7837, 'fdfxo': 5382, 'nomames': 13642, 'hurricaneharveypictwittercomhvzv': 9987, 'tvwjn': 19699, 'tobinco': 19278, 'httpwwwforeverghanacomnewswebuidetailsaspxnid': 9758, 'uku': 19832, 'zgjnveatwitter': 21675, 'movin': 13018, 'nursing': 13811, 'nlyjyhhw': 13596, 'iiluqdmq': 10180, 'updatedidjoelosteenreallydenyhurricanepaulbois': 19999, 'tsunamy': 19643, 'redefined': 16217, 'constitution': 3150, 'cdz': 2448, 'ovcc': 14247, 'gorgas': 6448, 'boonk': 1673, 'woop': 21072, 'jetskis': 10864, 'hahahathank': 6740, 'daddy': 3582, 'mhai': 12656, 'kappa': 11111, 'misshoneeyb': 12788, 'actuallyi': 129, 'todayoh': 19282, 'httpbitlyxmnaum': 7605, 'romie': 16681, 'michelles': 12678, 'roomy': 16694, 'suspected': 18606, 'outlawry': 14225, 'abolished': 43, 'hitler': 7178, 'narenrai': 13243, 'theneedy': 19048, 'httphighlighthollywoodcom': 7859, 'despiteherownforcedevacuationladygagavolunteersatlawildfiresheltertohelptheneedypictwittercomofun': 3939, 'sgeu': 17331, 'ervdw': 4976, 'tagsforlikescom': 18712, 'instago': 10481, 'mima': 12743, 'httpinstagrampry': 7940, 'wnomb': 21036, 'caldbick': 2098, 'httptcofji': 9048, 'vbt': 20208, 'refrigeration': 16246, 'httpwwwgayfriendschat': 9762, 'lerosethorn': 11722, 'cuxlspji': 3543, 'relived': 16301, 'ramk': 16024, 'httptcoylgttobfcw': 9526, 'suggestion': 18492, 'httpstwittercomtherickwilsonstatus': 8627, 'pecos': 14568, 'reallifetalltale': 16135, 'pictwittercomqifmoixmvi': 14925, 'sbisd': 17050, 'qql': 15848, 'tvmv': 19696, 'jo': 10921, 'porsche': 15293, 'exotic': 5167, 'httpdlvritplgghbpictwittercomrc': 7720, 'yaygkia': 21430, 'oakwood': 13866, 'chickamauga': 2621, 'httpbitlyl': 7547, 'tegc': 18858, 'hoopers': 7293, 'httpsyoutubezkpwroulkopictwittercomntue': 8923, 'mushu': 13145, 'gridlocked': 6584, 'pictwittercomngmcg': 14896, 'fpt': 5893, 'aging': 251, 'httpyhooits': 9880, 'sfs': 17328, 'homeopathic': 7255, 'woah': 21042, 'oat': 13868, 'httpinstagramcompitgmj': 7927, 'etng': 5024, 'thurs': 19170, 'zbmk': 21637, 'steel': 18246, 'enforced': 4851, 'judgmental': 11026, 'kkomwxhk': 11331, 'criminally': 3417, 'gdpictwittercomfhsd': 6180, 'xmqfy': 21337, 'zrdzuv': 21743, 'newscom': 13474, 'closetcould': 2839, 'shakingtornado': 17357, 'discouraged': 4117, 'httptcojb': 9147, 'tge': 18954, 'baltimoreriot': 1090, 'islamforum': 10652, 'fanatic': 5306, 'ewoghmw': 5120, 'httpinternetmarketingfreedombuckswsalookinsideabusyhoustonhurricaneshelter': 7949, 'maralago': 12340, 'membership': 12580, 'httpstwittercomnwscorpusstatus': 8596, 'texasso': 18937, 'foodtoys': 5800, 'humaneboulder': 9928, 'httpbitlybklyn': 7488, 'bklyn': 1501, 'mnn': 12844, 'httpswwwmnncomearthmattersanimalsstoriescabdriverandhawkbecomebudsduringhurricaneharvey': 8804, 'rahulkanwal': 15984, 'shwetabajaj': 17536, 'kanwal': 11108, 'hithe': 7176, 'fume': 6034, 'httpswwwrocketnewscom': 8846, 'airbnbhostsofferfreehousingtoevacueesdisplacedbycaliforniawildfires': 297, 'pictwittercomkfyjoanqvt': 14855, 'legally': 11695, 'condon': 3100, 'gilliam': 6276, 'gardener': 6125, 'crashinducing': 3367, 'pricey': 15503, 'httptcowg': 9471, 'patriarch': 14496, 'excluding': 5143, 'enoch': 4879, 'preceded': 15427, 'btofcyml': 1904, 'rcdl': 16091, 'hampstead': 6785, 'pbj': 14528, 'httpwwwbridgesoflovenetpictwittercompztuiymz': 9715, 'cargo': 2268, 'emits': 4806, 'chump': 2698, 'wparents': 21124, 'steam': 18244, 'encabbpdvzqocidst': 4829, 'httpsgooglfbd': 8254, 'nphe': 13758, 'httpwwwfairfieldcitizenonlinecomnewsarticlemoreseekshelterasconcernssurgeabout': 9753, 'phpcmpidtwitter': 14717, 'birthdaycakeoreo': 1469, 'httpinstagramprwd': 7934, 'drqtos': 4414, 'guyanese': 6696, 'lolll': 11994, 'httpinstagramprwsw': 7936, 'xme': 21333, 'bunk': 1962, 'whilst': 20820, 'plowing': 15173, 'staffing': 18162, 'compostella': 3067, 'sqcomto': 18121, 'cvl': 3547, 'westandwithnepal': 20764, 'harming': 6850, 'httpstcoywplgszpbl': 8458, 'lwuuco': 12164, 'ifwt': 10145, 'fcfd': 5371, 'vandal': 20187, 'httpthechca': 9564, 'czyvd': 3575, 'chronicleherald': 2694, 'catapultyyc': 2363, 'lauralassiter': 11606, 'httpeatsadatewordpresscom': 7740, 'touchingstory': 19420, 'prisonersdonatefoodtofloodvictims': 15526, 'yolandaph': 21525, 'cosign': 3266, 'bkchinaman': 1499, 'onlynaya': 14072, 'establishing': 5001, 'httpowlycddm': 8071, 'dipav': 4070, 'suppost': 18556, 'chao': 2530, 'httpwwwyelpcombizujobmcs': 9866, 'pleps': 15160, 'qdwptcheckinreftwitterv': 15786, 'weatherwise': 20697, 'httpiheart': 7875, 'pmi': 15197, 'httpswwwinstagramcompbytil': 8791, 'atjs': 852, 'ppyfl': 15376, 'scalzi': 17059, 'imbibed': 10226, 'saddened': 16883, 'osteens': 14192, 'loaideeb': 11956, 'outcome': 14219, 'httprdcrssorgjmwnqs': 8164, 'gawx': 6154, 'blizzies': 1568, 'besser': 1349, 'httpabcnwss': 7445, 'mikebloomberg': 12714, 'mayorbloomberg': 12452, 'kirklandwater': 11308, 'hurricanesafety': 10008, 'fconcerned': 5373, 'tormented': 19355, 'indifference': 10361, 'httpsegidioitrge': 8224, 'imaromantic': 10224, 'httpseinnewscomoyylogww': 8228, 'pictwittercomksn': 14861, 'ln': 11945, 'wednesdaythursday': 20712, 'hbrooksg': 6914, 'homegurlcaneat': 7248, 'hurunner': 10023, 'updatedidjoelosteenreallydenyhurricanepaulboisutmsourcedwemailutmmediumemailutmcontent': 20000, 'newsutmcampaignposition': 13497, 'micheljmartelly': 12676, 'laurentlamothe': 11611, 'statedept': 18215, 'aan': 13, 'rogerhave': 16663, 'leewardislands': 11685, 'hurricaneirmapictwittercomefse': 10000, 'dkrx': 4191, 'httpusdagov': 9643, 'httpstwittercomredcrossnwstatus': 8612, 'scratch': 17126, 'loom': 12028, 'httpnblogsrcthb': 8019, 'httpgooglfbg': 7828, 'jjk': 10895, 'convincing': 3206, 'awfulthemeparkideas': 991, 'haking': 6757, 'aria': 711, 'bcnnkiu': 1226, 'sfa': 17320, 'notify': 13724, 'specialtyfood': 18022, 'membershipspecialtyfoodcom': 12581, 'httpsupr': 8647, 'hinder': 7151, 'httptcojaypjdzuao': 9146, 'fanartfactory': 5305, 'httptwitpiccomdkw': 9629, 'goodforwhatailsyou': 6416, 'elf': 4751, 'httpuntpbeersc': 9636, 'thebresource': 19009, 'compliment': 3064, 'drool': 4399, 'tsheringtobgay': 19635, 'httptcojgq': 9152, 'eot': 4918, 'ho': 7213, 'ksffszgj': 11422, 'xboxs': 21282, 'raping': 16051, 'crivz': 3433, 'httpseinnewscomlpaalidvl': 8226, 'httptcoxzcrmfxor': 9514, 'fixit': 5583, 'nandanpratim': 13233, 'johance': 10941, 'athleti': 849, 'httpbitlyizow': 7526, 'httpbitlytljcwp': 7588, 'jnm': 10918, 'ckhlkv': 2746, 'phebeaux': 14689, 'drwhite': 4435, 'hitchhike': 7173, 'theraflu': 19055, 'pictwittercomcx': 14781, 'wy': 21260, 'rticrcnd': 16767, 'httpstcozso': 8463, 'mbwar': 12459, 'setlist': 17293, 'punk': 15694, 'princess': 15513, 'vcbry': 20212, 'vibethriller': 20310, 'httpwftstv': 9665, 'ekhqznpictwittercomnopo': 4727, 'epsx': 4933, 'introducing': 10553, 'kedarnath': 11173, 'darshana': 3661, 'publicity': 15665, 'southend': 17975, 'nofo': 13628, 'floodweek': 5683, 'captainraison': 2234, 'nosy': 13709, 'parker': 14433, 'httpfbmenzxstvfc': 7771, 'cszlpictwittercomniy': 3483, 'wyfrof': 21263, 'istg': 10666, 'httpstmblrcozqniod': 8474, 'pitykt': 15080, 'gq': 6484, 'xyc': 21400, 'tooooo': 19337, 'briasaid': 1819, 'durham': 4497, 'leighbearwest': 11704, 'guarat': 6645, 'qcarter': 15770, 'mcclure': 12466, 'httpbitlykjsjgh': 7542, 'httpsapplenewsaauzczo': 8181, 'lwhxht': 12161, 'bish': 1472, 'httpstwittercomjillpantozzistatus': 8545, 'googling': 6436, 'pictwittercomttd': 14956, 'hsqcvq': 7411, 'egf': 4691, 'overshadowing': 14268, 'shitload': 17456, 'httpstwittercomusatodaystatus': 8634, 'floridiot': 5699, 'irmahttpstwittercompolkcosheriffstatus': 10626, 'tegy': 18859, 'redcrosserpictwittercomugkp': 16206, 'kxymk': 11467, 'wfwnr': 20789, 'kathmandufor': 11133, 'terrorstric': 18916, 'healthtips': 6948, 'npandiscio': 13757, 'httpbitlypb': 7564, 'wrr': 21176, 'usperson': 20094, 'httpstwittercommentalgnomesstatus': 8571, 'cloest': 2827, 'pe': 14550, 'httptcoqfjyw': 9317, 'cyne': 3568, 'readyhurricanesandyfood': 16117, 'httpinstagramprycakktkac': 7941, 'sailboat': 16904, 'kaillowry': 11095, 'baytowntexas': 1191, 'wisenews': 20978, 'worke': 21082, 'helizabethpowel': 7013, 'vision': 20373, 'procedure': 15543, 'httpfoxsanantoniocomdaytimeat': 7807, 'perfectvisionforacause': 14611, 'wpg': 21126, 'alamo': 354, 'xpanded': 21350, 'yesterdayresources': 21480, 'toolbox': 19335, 'greatthank': 6556, 'consolidated': 3144, 'jy': 11084, 'czi': 3574, 'spectacular': 18027, 'swwrbgdc': 18672, 'kelseygivens': 11192, 'soccer': 17861, 'dannyonstage': 3650, 'danny': 3649, 'gawkercom': 6153, 'httptmblrcozuquhwwohh': 9594, 'sla': 17687, 'ppkm': 15370, 'shiteatin': 17454, 'thei': 19029, 'httptmblrcoze': 9588, 'evwofbni': 5116, 'dsh': 4445, 'httptcojehbittxnh': 9150, 'plywood': 15187, 'pictwittercomnjtbmkqvpf': 14897, 'barbuda': 1126, 'inspected': 10470, 'inflatable': 10393, 'dirtyhayley': 4086, 'feline': 5414, 'httptcoov': 9269, 'mdhxsst': 12490, 'strickland': 18391, 'lowesfoods': 12084, 'blast': 1526, 'uplift': 20010, 'httpswwwyahoocomentertainmentladygagablaststrumpuplifts': 8894, 'htmltsrcfauxdalwho': 7433, 'lisanneo': 11857, 'ontario': 14082, 'rtdarrentyler': 16765, 'franklin': 5908, 'waterfoodsupplies': 20622, 'dadivaem': 3583, 'tur': 19676, 'nwxu': 13832, 'cnnvideo': 2901, 'urlhttp': 20050, 'httpbitlymmpg': 7560, 'hikzwcwj': 7132, 'stove': 18360, 'pictwittercomnpi': 14899, 'owvtkf': 14293, 'bedminster': 1272, 'httpstcooyit': 8428, 'zipnu': 21692, 'httpswwwinstagramcompbylret': 8782, 'lx': 12165, 'carif': 2273, 'fgip': 5445, 'semoredcross': 17245, 'semoweather': 17246, 'capegirardeau': 2221, 'noaa': 13612, 'wp': 21123, 'orion': 14174, 'httpwwwstartelegramcomnewslocalcommunityfortwortharticle': 9834, 'depressed': 3897, 'hating': 6877, 'carrfirehttpwwwijprorgpostfourleggedevacueescarrfireshelterhumanspetsstream': 2302, 'bliss': 1545, 'googleplay': 6435, 'crush': 3460, 'pictwittercomxrtryinogv': 14999, 'traveller': 19519, 'void': 20424, 'httptcocatrpltt': 8980, 'yep': 21473, 'khaki': 11241, 'toughed': 19423, 'xostfvpictwittercomtudxfnhz': 21348, 'afishtrap': 215, 'laughed': 11601, 'corbinbleu': 3245, 'oyyl': 14313, 'hsm': 7409, 'marketwatchdr': 12370, 'httpswwwinquisitrcom': 8757, 'davegrohlbringsfoodtofirstrespondersfightingcaliforniawildfiresutmcontentcelebritiesutmtermnautmmediumtwittershowbiz': 3674, 'pasadena': 14466, 'angrynepalearthquake': 557, 'peshawartornado': 14639, 'meright': 12616, 'shutter': 17527, 'pasco': 14467, 'preregistration': 15474, 'reqd': 16380, 'fasano': 5326, 'httpowlytd': 8120, 'dssfo': 4449, 'bouncer': 1713, 'dmguxx': 4202, 'httpabcnwsxhdypr': 7450, 'wellbetter': 20740, 'httpcbsnwsvz': 7641, 'chrisnegus': 2681, 'negus': 13383, 'crdom': 3386, 'jillvisfbaybee': 10885, 'httpgmayahoocomblogsabcblogsdrbessers': 7816, 'tipsridehurricanesandysafely': 19223, 'abcnewshealthhtml': 30, 'httpdlvritpgcx': 7696, 'guildfordpictwittercomhnwosauunf': 6659, 'httpstwittercomericmbuddstatus': 8529, 'hurricanepower': 10005, 'masonry': 12403, 'pjknglrv': 15095, 'httpsgooglfbep': 8255, 'httpcarxoticcom': 7638, 'pragmatic': 15391, 'instagrammarketing': 10484, 'httpfeedsmashablecomrmashable': 7800, 'wlcdmah': 21017, 'zrm': 21746, 'samybrown': 16954, 'studying': 18420, 'hurricaneparty': 10004, 'getyourdrinkon': 6238, 'steak': 18240, 'grilling': 6589, 'era': 4947, 'shelterguess': 17408, 'advent': 179, 'httpowlyltyb': 8094, 'ucc': 19778, 'nguzc': 13518, 'mil': 12719, 'carsrd': 2328, 'floodshad': 5669, 'mondaymotivation': 12896, 'httptcoqegshdvzn': 9314, 'httpstwittercomchicagotribunestatus': 8512, 'weirdly': 20729, 'speaks': 18017, 'ladygagavisitswithwildfireshelterspeakswithcaliforniafireevacuees': 11509, 'manoj': 12326, 'tiwary': 19235, 'prayforall': 15407, 'distress': 4159, 'httptcozwhmmq': 9559, 'xpl': 21353, 'finalizing': 5496, 'collins': 2967, 'oneteamonedream': 14059, 'notopenyet': 13730, 'justincasepictwittercomagrbw': 11061, 'wxg': 21248, 'waltrip': 20547, 'hurricanehaving': 9995, 'taxicabfare': 18797, 'manget': 12307, 'httpowlyowkgy': 8101, 'httpswwwdirectrelieforggclideaiaiqobchmimp': 8710, 'cse': 3471, 'givhozpch': 6294, 'yrwm': 21566, 'eaayasabegj': 4546, 'ivdbwe': 10708, 'instinctbatteries': 10495, 'jug': 11027, 'hotline': 7337, 'childhood': 2633, 'twitch': 19727, 'longoverdue': 12016, 'httpstcodef': 8389, 'pld': 15147, 'gmanews': 6359, 'epal': 4921, 'cemetery': 2470, 'tarp': 18772, 'poster': 15320, 'daig': 3589, 'whining': 20821, 'wxia': 21250, 'hurricanedamaged': 9978, 'alivecom': 396, 'xps': 21357, 'waterpowerdamage': 20629, 'httpwwwnewslockercomenuknewsworldnewsthelatestmotoristsfillupcarsashurricanenearstexas': 9808, 'damascus': 3615, 'barrel': 1143, 'centralpeelgivesameal': 2476, 'playroom': 15145, 'hmmmm': 7201, 'pictwittercomtaaz': 14950, 'grg': 6581, 'httpabcnwssquc': 7446, 'provision': 15633, 'wordpressdotcom': 21080, 'httpstwittercomizanami': 8539, 'httphrldus': 7862, 'ijlrmh': 10184, 'bullfeathers': 1948, 'pictwittercomyypxrgdjle': 15014, 'koebrick': 11380, 'wtims': 21203, 'zonewebb': 21727, 'baileywood': 1071, 'ccyrill': 2431, 'tomwhitejr': 19325, 'httpsgooglfbnnfyhy': 8259, 'lpt': 12094, 'naked': 13222, 'discounted': 4116, 'httpgooglalerts': 7818, 'hjvt': 7190, 'ophthotech': 14123, 'firstday': 5553, 'ipo': 10600, 'unabated': 19849, 'acjv': 98, 'cnnmoney': 2900, 'httpbitlysqumex': 7582, 'ltk': 12115, 'clouddeveloping': 2849, 'indiatrends': 10351, 'cbaoszicd': 2411, 'httpswwwyoutubecomwatchvlfdyrhfm': 8907, 'justanotherday': 11053, 'ganjam': 6117, 'dist': 4151, 'berhampur': 1335, 'wtvy': 21211, 'alabamian': 349, 'assistan': 816, 'httpbitlyjhh': 7531, 'bern': 1339, 'aplenty': 644, 'httpbitlygunxuv': 7504, 'pictwittercomxvosq': 15001, 'gcjy': 6169, 'privatized': 15529, 'bidder': 1417, 'httpviralspeciescomdavegrohldeliversfoodtofirstrespondersfightingcaliforniawildfirespictwittercomcdhh': 9658, 'jxbvp': 11081, 'dyeing': 4530, 'pwease': 15735, 'efurrybuddy': 4689, 'tributeride': 19555, 'bbot': 1216, 'attending': 877, 'scotus': 17117, 'burundi': 2001, 'toomanymore': 19336, 'lhq': 11764, 'zx': 21772, 'httptcovok': 9455, 'dtg': 4453, 'httptcoumvxd': 9429, 'httpstwittercommeteoexpressstatus': 8572, 'hannahjhastings': 6814, 'logical': 11985, 'floridaall': 5695, 'effectedpath': 4678, 'snapchat': 17795, 'tremorstrauma': 19539, 'ikiwiskeewee': 10191, 'foo': 5755, 'welland': 20738, 'niantic': 13533, 'connecticut': 3125, 'httptcoosr': 9266, 'jaub': 10797, 'httptcoyahaqyun': 9517, 'hoppocracy': 7307, 'qfje': 15792, 'evp': 5112, 'meperl': 12603, 'albuquerque': 365, 'yogafornepal': 21519, 'httptcoopjhwijvcc': 9263, 'occurred': 13907, 'clockwork': 2826, 'occupycarlisle': 13903, 'httpwwwwtopcom': 9864, 'dcareasheltersforhurricanesandy': 3718, 'wtop': 21206, 'unbelieveable': 19859, 'httpstwittercommmfastatus': 8577, 'bbchindi': 1203, 'nagariknews': 13213, 'drkumarvishwas': 4395, 'prashantktm': 15398, 'ebook': 4621, 'supernova': 18539, 'hightech': 7126, 'bulkley': 1943, 'nechako': 13359, 'allowance': 419, 'terminal': 18900, 'permit': 14625, 'bnrd': 1620, 'dallam': 3603, 'milnthorpe': 12742, 'httphubamrjezyu': 7868, 'reviewing': 16486, 'upload': 20011, 'flickr': 5626, 'craigs': 3358, 'httpsilenceisconsentnetalertusdaoffersfoodsafetytipshurricanevictimspleaseshare': 8280, 'silenceconsent': 17573, 'blatter': 1529, 'fifa': 5468, 'ganes': 6115, 'httptcowti': 9483, 'smarty': 17747, 'ashutosh': 787, 'cmout': 2875, 'jai': 10752, 'rollinstoned': 16677, 'ricksmithshow': 16522, 'comparable': 3041, 'oohzgitx': 14092, 'hereugh': 7066, 'hotyet': 7344, 'httpkjimex': 7972, 'raga': 15976, 'hindutva': 7156, 'wendy': 20753, 'holidaymaker': 7233, 'holid': 7231, 'httptcohq': 9111, 'pzsnh': 15756, 'humanesociety': 9930, 'senatobia': 17248, 'stopraining': 18331, 'petergleick': 14648, 'conspire': 3146, 'thedixiechicken': 19012, 'admin': 161, 'floodswildfires': 5676, 'westmore': 20770, 'cog': 2936, 'switchfoot': 18665, 'lifehouse': 11789, 'perform': 14612, 'httpfbmexg': 7790, 'vklf': 20397, 'provoking': 15635, 'ininfoftez': 10424, 'clause': 2774, 'bwrl': 2044, 'ipod': 10601, 'monmouth': 12909, 'bracing': 1756, 'pictwittercomfrbvciq': 14806, 'nonorganic': 13650, 'lunchables': 12139, 'corned': 3252, 'someday': 17911, 'turnout': 19686, 'sccstk': 17080, 'livedoppler': 11883, 'inaustin': 10291, 'httpssocietyresourcecomliverockportvictimsofhurricaneharveytakeshelterinaustin': 8369, 'ybf': 21434, 'sacked': 16876, 'insisting': 10468, 'agglsc': 248, 'drhookofficial': 4367, 'acomingi': 103, 'endangered': 4836, 'scottkleinberg': 17114, 'staffcommunity': 18159, 'houstonstrong': 7371, 'uthealthpictwittercom': 20112, 'pouim': 15344, 'httpbitlylejj': 7548, 'autumn': 947, 'bathro': 1170, 'brandonedward': 1769, 'qdtpqi': 15785, 'advertising': 185, 'sandymarketers': 16973, 'httpowlyewtcf': 8084, 'dakota': 3602, 'harvested': 6861, 'pictwittercomjkptnwmu': 14847, 'cometakes': 2999, 'yutes': 21583, 'tief': 19192, 'sumbody': 18503, 'yaad': 21412, 'jamaican': 10761, 'nuh': 13802, 'rassfood': 16057, 'affi': 213, 'airlinescar': 309, 'agile': 250, 'diverting': 4178, 'preetisimoes': 15445, 'todayn': 19281, 'livez': 11896, 'lostbu': 12053, 'ameen': 474, 'notrelevant': 13731, 'ttw': 19656, 'httptcobumzvmeznt': 8974, 'bishal': 1473, 'chalise': 2504, 'crr': 3453, 'qcz': 15781, 'ey': 5230, 'angelic': 550, 'httpstcodgaiuwiwrp': 8390, 'httptcommfwelsnjl': 9223, 'aususa': 921, 'nehaaks': 13384, 'comubh': 3077, 'root': 16696, 'investment': 10572, 'handly': 6802, 'reconstruction': 16185, 'sanjay': 16979, 'gupta': 6677, 'vaccinating': 20165, 'unaware': 19855, 'httpstcoxhpbjbdakd': 8452, 'httpstcozhlz': 8461, 'gfour': 6244, 'scroll': 17141, 'walli': 20538, 'prophecied': 15597, 'destroied': 3945, 'distroied': 4165, 'bfiec': 1375, 'bent': 1322, 'wallet': 20537, 'httptcosof': 9372, 'comedian': 2996, 'jokeevery': 10959, 'therebut': 19061, 'httpnixleus': 8031, 'stubborn': 18412, 'celia': 2462, 'choosing': 2668, 'harveyhttpstwittercomttrogdonstatus': 6864, 'pictwittercomasd': 14756, 'bwv': 2046, 'httpinstagramcompfmlrbbwjxp': 7903, 'httptcoeo': 9028, 'mpfv': 13027, 'wvusrf': 21231, 'wvu': 21230, 'httptcobchxvc': 8961, 'execute': 5149, 'wreslting': 21157, 'pqmop': 15379, 'clap': 2758, 'sbglad': 17048, 'httphtly': 7864, 'fuk': 6026, 'overtook': 14269, 'httpindpn': 7880, 'rsnhyg': 16754, 'httptcohtmk': 9118, 'httptcoyhpu': 9522, 'xeyhn': 21300, 'mattressmack': 12434, 'selfless': 17235, 'tomarrow': 19307, 'irmageddon': 10624, 'trumpsters': 19617, 'panik': 14388, 'tix': 19237, 'saltburns': 16931, 'brass': 1773, 'neck': 13360, 'ininfoftey': 10423, 'sfgreatamerica': 17326, 'themed': 19038, 'qrakqlvs': 15855, 'guyznepalearthquake': 6698, 'bob': 1631, 'dylan': 4533, 'httpvimeocom': 9657, 'overconfident': 14252, 'httptcozpejgkbr': 9555, 'zippednews': 21693, 'httptcorgvvnkrgk': 9340, 'httpwwwpolicemagcomchannelvehiclesnews': 9820, 'fordoffersspecialpricingandtermstopeoplewholostcarsinhurricaneharvey': 5831, 'discountaspxutmsourcedlvritutmmediumtwitter': 4115, 'policepictwittercom': 15237, 'eim': 4716, 'fiending': 5464, 'artwork': 767, 'lagonda': 11520, 'pictwittercomficphn': 14800, 'importantgathering': 10267, 'accuracy': 90, 'httpstwittercomnoaahurrhunterstatus': 8594, 'hgn': 7086, 'tfd': 18944, 'pictwittercomnsdk': 14900, 'slbu': 17699, 'noirnicki': 13630, 'httpstwittercomsecretflyingstatus': 8619, 'sparkly': 18008, 'tasty': 18779, 'slowfooddenver': 17726, 'httpowlyqtp': 8112, 'kjy': 11324, 'pdxpictwittercomcy': 14548, 'qfqekk': 15793, 'pleasantly': 15152, 'suprised': 18561, 'pictwittercomyirthlozgt': 15008, 'httpbitlyrisyt': 7567, 'httpswwwredcrossorglocalcalifornianortherncaliforniacoastalaboutusourworkcaliforniawildfiresresponsehtml': 8839, 'stoneys': 18324, 'streamer': 18375, 'icumyouleave': 10111, 'lexi': 11742, 'fisherman': 5563, 'httpbitlyxof': 7608, 'enc': 4828, 'httpbitlymfregh': 7557, 'ritz': 16580, 'httpstwittercomcaribnewsstatus': 8509, 'livid': 11897, 'hohlpgx': 7225, 'nashvilleupdate': 13254, 'midstate': 12697, 'httpsnsmxgydsy': 8322, 'foodeither': 5767, 'jose': 10975, 'vatsala': 20200, 'shikhara': 17438, 'httptcojpkrg': 9160, 'uux': 20141, 'whoday': 20848, 'cjh': 2741, 'httptcofkvkcsfvk': 9051, 'monicaacosta': 12902, 'ryanvaughan': 16852, 'primark': 15507, 'thxearthquake': 19173, 'ativ': 851, 'weedk': 20716, 'pictwittercomoyhjrleldz': 14913, 'theabesmith': 19003, 'gkmnjpty': 6305, 'adler': 160, 'wxyngd': 21259, 'kxannews': 11462, 'hornet': 7310, 'httpstcoll': 8418, 'whvt': 20861, 'kemper': 11194, 'qzqpictwittercomrnsatcqf': 15948, 'httpdlvritpjgyjmpictwittercomor': 7705, 'jtx': 11016, 'httpwwwfoodgovukpolicyadvicemicrobiologyflooduqgh': 9756, 'djdvim': 4186, 'pictwittercomwumq': 14989, 'qqzj': 15853, 'farmvillains': 5322, 'villainous': 20352, 'peopleim': 14592, 'hurricanesif': 10014, 'evacuatedo': 5058, 'soif': 17885, 'headlinefactory': 6940, 'chuxi': 2702, 'eel': 4670, 'httptcorh': 9341, 'qmztqf': 15825, 'httptcogbvwsr': 9071, 'qkp': 15814, 'httpstcoe': 8394, 'fueftteg': 6020, 'weathernation': 20695, 'wallthat': 20540, 'httpowlyngtd': 8096, 'happier': 6824, 'pressure': 15483, 'ecnz': 4632, 'zwiw': 21767, 'rainguy': 15995, 'pula': 15679, 'andwere': 541, 'awesomesauce': 986, 'httpabcnwsvvildx': 7448, 'wgcpam': 20794, 'voodoo': 20439, 'pictwittercommqungrl': 14887, 'httpxcowqbs': 9874, 'taxbreak': 18793, 'chickfila': 2623, 'rmc': 16615, 'conversion': 3198, 'scrambler': 17121, 'denismorton': 3865, 'denis': 3864, 'sweetpotatopie': 18651, 'rrihbool': 16747, 'nepaldo': 13406, 'whattodoin': 20808, 'earthquakeearthquake': 4574, 'mxi': 13182, 'zxaos': 21773, 'jenn': 10837, 'reminding': 16322, 'pictwittercomjrjvuznxhr': 14852, 'wkend': 21008, 'arguably': 708, 'nogmfood': 13629, 'positivelyjoan': 15310, 'positively': 15309, 'alg': 386, 'httpsvimeocom': 8651, 'reftwshare': 16249, 'reelcauses': 16232, 'sevacanadas': 17298, 'chk': 2656, 'msfcanada': 13065, 'reflect': 16242, 'advocating': 190, 'multipronged': 13116, 'heartlessmarie': 6966, 'damnnnnnnnnnnaw': 3626, 'nawwwww': 13288, 'httpusaonlycom': 9639, 'lowes': 12083, 'gso': 6628, 'northport': 13700, 'taxi': 18796, 'marcokabirizi': 12348, 'migrantcrisis': 12709, 'xenophobia': 21296, 'sided': 17548, 'charisma': 2544, 'spell': 18038, 'cmtcody': 2878, 'length': 11715, 'crolley': 3437, 'ehhh': 4703, 'jacksonville': 10742, 'charcoal': 2538, 'tornadonot': 19376, 'outchea': 14218, 'derkiss': 3915, 'strloves': 18400, 'averagerapper': 959, 'httpinstagrampryscnev': 7947, 'httpbitlykmoihw': 7544, 'floodperiod': 5660, 'wiser': 20979, 'qeseuf': 15789, 'indiebrewpictwittercomwdldycdsr': 10358, 'wknd': 21009, 'harveyyall': 6866, 'salarmyeds': 16914, 'salarmy': 16913, 'hrhmaiuq': 7399, 'qlpapjqs': 15820, 'revolution': 16489, 'zqchm': 21737, 'epi': 4926, 'paycheck': 14520, 'awaysmh': 981, 'apf': 640, 'zp': 21729, 'pictwittercomvtpt': 14980, 'jhjh': 10876, 'httpstwittercomvetpracticenewsstatus': 8637, 'hightower': 7127, 'frenchy': 5939, 'toasty': 19275, 'masterpiece': 12412, 'bethlehem': 1360, 'vbaqj': 20205, 'syrian': 18689, 'hrubgs': 7404, 'httpowlymrzr': 8095, 'hx': 10041, 'outter': 14242, 'kempner': 11195, 'stafford': 18163, 'aubreypeppers': 892, 'esforum': 4984, 'drbo': 4352, 'tozlgobjz': 19449, 'pictwittercomsrwpucrenx': 14946, 'httpblogflickrnet': 7623, 'photography': 14714, 'spy': 18113, 'brie': 1826, 'evacuatenowdontwait': 5059, 'httpbitlyb': 7487, 'cyjb': 3567, 'kebbi': 11172, 'nema': 13398, 'trustbirnin': 19621, 'agen': 241, 'bxq': 2050, 'tanning': 18763, 'pinch': 15054, 'mosbonito': 12968, 'gio': 6280, 'powerfulpics': 15358, 'wadegwendoly': 20502, 'xay': 21277, 'klubsht': 11343, 'rebuilding': 16151, 'decor': 3796, 'agolinos': 255, 'sqcom': 18115, 'bgzr': 1386, 'foursquare': 5886, 'zhs': 21680, 'stlcards': 18299, 'scccdy': 17079, 'trace': 19456, 'httptrace': 9601, 'comblogp': 2989, 'surveying': 18590, 'revision': 16487, 'prepperswhats': 15469, 'estimation': 5007, 'pictwittercomn': 14891, 'zswisude': 21751, 'ininfox': 10426, 'pwtjc': 15739, 'bailout': 1072, 'bankruptcy': 1110, 'participate': 14451, 'cleartheshelters': 2788, 'httpwwwcleartheshelterscom': 9730, 'assisted': 818, 'bravely': 1777, 'thankyouloop': 18983, 'localheros': 11962, 'httpswwwfacebookcomtricklecreekposts': 8736, 'quinoamino': 15912, 'ininfou': 10425, 'stjudeau': 18296, 'qocbjhuv': 15834, 'flor': 5690, 'remnant': 16326, 'harveydoessomethingrareanditcouldtakeoilonunusualridehtml': 6863, 'clarifies': 2762, 'httpdlvritpjsc': 7709, 'pictwittercomvwttfcc': 14983, 'eutlahjta': 5048, 'enduring': 4847, 'sandybe': 16966, 'freeshelter': 5929, 'httpstravelwirenewscomairbnboffershurricaneharveyevacueesfreeshelter': 8478, 'pictwittercomutyhcukiun': 14968, 'arlenedickinson': 726, 'dhanyarajendran': 4005, 'accompanying': 85, 'armyduring': 734, 'floodsheartening': 5670, 'qpbye': 15844, 'wardthreedc': 20563, 'publictenley': 15667, 'helpearthdotorg': 7026, 'redcrossncr': 16209, 'politically': 15243, 'motivated': 12981, 'moral': 12945, 'outrage': 14230, 'cane': 2202, 'franzia': 5911, 'watergo': 20627, 'clarionledger': 2763, 'persuaded': 14635, 'ttown': 19651, 'catcantrell': 2369, 'dumbstorms': 4479, 'iloveyoukiddo': 10211, 'httpprborahnet': 8157, 'mres': 13051, 'lifelongkindergarten': 11790, 'mepictwittercombxt': 12604, 'hea': 6932, 'httpowlyelrl': 8073, 'dslbk': 4448, 'johnpavlovitz': 10950, 'thishttpstwittercomjoelosteenstatus': 19105, 'skillet': 17667, 'httppinchofyumcomskilletchickentortillapie': 8141, 'snowdaypictwittercompznpbcjsta': 17824, 'infohhsgov': 10397, 'terror': 18912, 'princeofpeace': 15512, 'bali': 1081, 'hillsongunited': 7140, 'bungalow': 1960, 'scratched': 17127, 'savvy': 17037, 'mspymfx': 13077, 'httpnewsbunchcomuncategorizedeconomicsofablizzardwinterstormjonasisawinforwholefoodsbutalossforhourlyworkerseconomics': 8021, 'inviting': 10577, 'sow': 17988, 'seed': 17207, 'fiance': 5459, 'shescientist': 17430, 'repeating': 16352, 'thehill': 19026, 'httpthehillcomblogsblogbriefingroom': 9565, 'houstonmattressstoreowneropensstoretoevacuees': 7367, 'nicklausarnold': 13542, 'cohesive': 2939, 'demonstrate': 3858, 'ladygagahttpstwittercomtmzstatus': 11508, 'thingys': 19089, 'bucketlist': 1915, 'httpwwwsievenewscomnationalguardrescueswomantrappedincarduringblizzard': 9831, 'httptcooy': 9275, 'bu': 1908, 'kpopworld': 11399, 'ajc': 327, 'httponajccom': 8046, 'brittknee': 1852, 'britt': 1849, 'tfft': 18945, 'brokhaven': 1866, 'bestfriend': 1355, 'cloudburst': 2847, 'chandigarh': 2514, 'cemented': 2469, 'bmie': 1610, 'hja': 7187, 'ebbd': 4615, 'kirawhf': 11305, 'gracetrap': 6501, 'httpdlvritknvywq': 7695, 'hsem': 7407, 'oysxxcb': 14311, 'motherearth': 12975, 'chilevolcancalbuco': 2636, 'holocaust': 7237, 'stella': 18255, 'zodiac': 21721, 'httpstwittercommichellemeach': 8574, 'trusted': 19622, 'httpstwittercomkanyeweststatus': 8550, 'wbma': 20651, 'twin': 19721, 'function': 6036, 'groupbut': 6608, 'graffiti': 6509, 'growuppictwittercomlhf': 6617, 'blphcz': 1597, 'swell': 18653, 'hampton': 6786, 'gpwhy': 6483, 'wrkrt': 21172, 'waptnews': 20558, 'gamble': 6111, 'tote': 19414, 'httpwwwmirrorcouknewsworldnewshurricaneharveyforcesalligatorsstreets': 9801, 'icidsharebartwitter': 10107, 'vtpeanutbutter': 20473, 'sfl': 17327, 'inconvenience': 10318, 'wfmy': 20786, 'victimsenc': 20325, 'bkk': 1500, 'fbos': 5360, 'httptcoootes': 9262, 'ogdy': 13960, 'gobgr': 6374, 'faithbasedorgs': 5279, 'httpkunwarkashifblogspotcom': 7976, 'tornadohitsalabamamorethan': 19368, 'deadhtml': 3741, 'toupee': 19426, 'httpabcnwsuwpmjf': 7447, 'wdoahubj': 20667, 'httpstwittercomclusterstockstatus': 8514, 'httptcowqeafy': 9479, 'tiq': 19224, 'rollercoasters': 16675, 'victimsyou': 20327, 'aloneget': 428, 'usknow': 20092, 'httpfbmewfu': 7784, 'xsb': 21368, 'bigdaddyyyjay': 1421, 'ctfuu': 3488, 'inna': 10440, 'dodging': 4225, 'mare': 12352, 'cooped': 3222, 'weekbecuz': 20720, 'topdown': 19343, 'kimmich': 11283, 'jwmht': 11076, 'inperson': 10447, 'refbhttpwwwlakeconewscomindexphpnewscommunity': 16235, 'foodbenefitsavailableforlakecountywildfirevictimsbeginningaug': 5761, 'tater': 18781, 'tot': 19406, 'casserole': 2351, 'pictwittercomjmyhw': 14849, 'parse': 14447, 'herewas': 7067, 'racistly': 15964, 'outshine': 14236, 'cavs': 2403, 'bball': 1196, 'cuddled': 3500}\n"
     ]
    }
   ],
   "source": [
    "print(tfidf.vocabulary_)"
   ]
  },
  {
   "cell_type": "code",
   "execution_count": 81,
   "id": "9a58d80f",
   "metadata": {},
   "outputs": [
    {
     "data": {
      "text/plain": [
       "<9058x21784 sparse matrix of type '<class 'numpy.float64'>'\n",
       "\twith 117000 stored elements in Compressed Sparse Row format>"
      ]
     },
     "execution_count": 81,
     "metadata": {},
     "output_type": "execute_result"
    }
   ],
   "source": [
    "X"
   ]
  },
  {
   "cell_type": "code",
   "execution_count": 82,
   "id": "876a1f57",
   "metadata": {},
   "outputs": [
    {
     "data": {
      "text/html": [
       "<div>\n",
       "<style scoped>\n",
       "    .dataframe tbody tr th:only-of-type {\n",
       "        vertical-align: middle;\n",
       "    }\n",
       "\n",
       "    .dataframe tbody tr th {\n",
       "        vertical-align: top;\n",
       "    }\n",
       "\n",
       "    .dataframe thead th {\n",
       "        text-align: right;\n",
       "    }\n",
       "</style>\n",
       "<table border=\"1\" class=\"dataframe\">\n",
       "  <thead>\n",
       "    <tr style=\"text-align: right;\">\n",
       "      <th></th>\n",
       "      <th>aa</th>\n",
       "      <th>aaa</th>\n",
       "      <th>aaaaahhhhh</th>\n",
       "      <th>aaahhhhh</th>\n",
       "      <th>aaand</th>\n",
       "      <th>aadlerz</th>\n",
       "      <th>aaelsoukkary</th>\n",
       "      <th>aagbdqiv</th>\n",
       "      <th>aagjo</th>\n",
       "      <th>aahanasharma</th>\n",
       "      <th>...</th>\n",
       "      <th>zxle</th>\n",
       "      <th>zy</th>\n",
       "      <th>zyb</th>\n",
       "      <th>zyizjhpictwittercom</th>\n",
       "      <th>zyizjhpictwittercomhwbxzizadv</th>\n",
       "      <th>zz</th>\n",
       "      <th>zzl</th>\n",
       "      <th>zzmlo</th>\n",
       "      <th>zzxway</th>\n",
       "      <th>zzztherewerepeoplewhowerenzzztabletogetoutzzzfivetrappedincarsburntoxyy</th>\n",
       "    </tr>\n",
       "  </thead>\n",
       "  <tbody>\n",
       "    <tr>\n",
       "      <th>sentence 1</th>\n",
       "      <td>0.0</td>\n",
       "      <td>0.0</td>\n",
       "      <td>0.0</td>\n",
       "      <td>0.0</td>\n",
       "      <td>0.0</td>\n",
       "      <td>0.0</td>\n",
       "      <td>0.0</td>\n",
       "      <td>0.0</td>\n",
       "      <td>0.0</td>\n",
       "      <td>0.0</td>\n",
       "      <td>...</td>\n",
       "      <td>0.0</td>\n",
       "      <td>0.0</td>\n",
       "      <td>0.0</td>\n",
       "      <td>0.0</td>\n",
       "      <td>0.0</td>\n",
       "      <td>0.0</td>\n",
       "      <td>0.0</td>\n",
       "      <td>0.0</td>\n",
       "      <td>0.0</td>\n",
       "      <td>0.0</td>\n",
       "    </tr>\n",
       "    <tr>\n",
       "      <th>sentence 2</th>\n",
       "      <td>0.0</td>\n",
       "      <td>0.0</td>\n",
       "      <td>0.0</td>\n",
       "      <td>0.0</td>\n",
       "      <td>0.0</td>\n",
       "      <td>0.0</td>\n",
       "      <td>0.0</td>\n",
       "      <td>0.0</td>\n",
       "      <td>0.0</td>\n",
       "      <td>0.0</td>\n",
       "      <td>...</td>\n",
       "      <td>0.0</td>\n",
       "      <td>0.0</td>\n",
       "      <td>0.0</td>\n",
       "      <td>0.0</td>\n",
       "      <td>0.0</td>\n",
       "      <td>0.0</td>\n",
       "      <td>0.0</td>\n",
       "      <td>0.0</td>\n",
       "      <td>0.0</td>\n",
       "      <td>0.0</td>\n",
       "    </tr>\n",
       "    <tr>\n",
       "      <th>sentence 3</th>\n",
       "      <td>0.0</td>\n",
       "      <td>0.0</td>\n",
       "      <td>0.0</td>\n",
       "      <td>0.0</td>\n",
       "      <td>0.0</td>\n",
       "      <td>0.0</td>\n",
       "      <td>0.0</td>\n",
       "      <td>0.0</td>\n",
       "      <td>0.0</td>\n",
       "      <td>0.0</td>\n",
       "      <td>...</td>\n",
       "      <td>0.0</td>\n",
       "      <td>0.0</td>\n",
       "      <td>0.0</td>\n",
       "      <td>0.0</td>\n",
       "      <td>0.0</td>\n",
       "      <td>0.0</td>\n",
       "      <td>0.0</td>\n",
       "      <td>0.0</td>\n",
       "      <td>0.0</td>\n",
       "      <td>0.0</td>\n",
       "    </tr>\n",
       "    <tr>\n",
       "      <th>sentence 4</th>\n",
       "      <td>0.0</td>\n",
       "      <td>0.0</td>\n",
       "      <td>0.0</td>\n",
       "      <td>0.0</td>\n",
       "      <td>0.0</td>\n",
       "      <td>0.0</td>\n",
       "      <td>0.0</td>\n",
       "      <td>0.0</td>\n",
       "      <td>0.0</td>\n",
       "      <td>0.0</td>\n",
       "      <td>...</td>\n",
       "      <td>0.0</td>\n",
       "      <td>0.0</td>\n",
       "      <td>0.0</td>\n",
       "      <td>0.0</td>\n",
       "      <td>0.0</td>\n",
       "      <td>0.0</td>\n",
       "      <td>0.0</td>\n",
       "      <td>0.0</td>\n",
       "      <td>0.0</td>\n",
       "      <td>0.0</td>\n",
       "    </tr>\n",
       "    <tr>\n",
       "      <th>sentence 5</th>\n",
       "      <td>0.0</td>\n",
       "      <td>0.0</td>\n",
       "      <td>0.0</td>\n",
       "      <td>0.0</td>\n",
       "      <td>0.0</td>\n",
       "      <td>0.0</td>\n",
       "      <td>0.0</td>\n",
       "      <td>0.0</td>\n",
       "      <td>0.0</td>\n",
       "      <td>0.0</td>\n",
       "      <td>...</td>\n",
       "      <td>0.0</td>\n",
       "      <td>0.0</td>\n",
       "      <td>0.0</td>\n",
       "      <td>0.0</td>\n",
       "      <td>0.0</td>\n",
       "      <td>0.0</td>\n",
       "      <td>0.0</td>\n",
       "      <td>0.0</td>\n",
       "      <td>0.0</td>\n",
       "      <td>0.0</td>\n",
       "    </tr>\n",
       "    <tr>\n",
       "      <th>...</th>\n",
       "      <td>...</td>\n",
       "      <td>...</td>\n",
       "      <td>...</td>\n",
       "      <td>...</td>\n",
       "      <td>...</td>\n",
       "      <td>...</td>\n",
       "      <td>...</td>\n",
       "      <td>...</td>\n",
       "      <td>...</td>\n",
       "      <td>...</td>\n",
       "      <td>...</td>\n",
       "      <td>...</td>\n",
       "      <td>...</td>\n",
       "      <td>...</td>\n",
       "      <td>...</td>\n",
       "      <td>...</td>\n",
       "      <td>...</td>\n",
       "      <td>...</td>\n",
       "      <td>...</td>\n",
       "      <td>...</td>\n",
       "      <td>...</td>\n",
       "    </tr>\n",
       "    <tr>\n",
       "      <th>sentence 9054</th>\n",
       "      <td>0.0</td>\n",
       "      <td>0.0</td>\n",
       "      <td>0.0</td>\n",
       "      <td>0.0</td>\n",
       "      <td>0.0</td>\n",
       "      <td>0.0</td>\n",
       "      <td>0.0</td>\n",
       "      <td>0.0</td>\n",
       "      <td>0.0</td>\n",
       "      <td>0.0</td>\n",
       "      <td>...</td>\n",
       "      <td>0.0</td>\n",
       "      <td>0.0</td>\n",
       "      <td>0.0</td>\n",
       "      <td>0.0</td>\n",
       "      <td>0.0</td>\n",
       "      <td>0.0</td>\n",
       "      <td>0.0</td>\n",
       "      <td>0.0</td>\n",
       "      <td>0.0</td>\n",
       "      <td>0.0</td>\n",
       "    </tr>\n",
       "    <tr>\n",
       "      <th>sentence 9055</th>\n",
       "      <td>0.0</td>\n",
       "      <td>0.0</td>\n",
       "      <td>0.0</td>\n",
       "      <td>0.0</td>\n",
       "      <td>0.0</td>\n",
       "      <td>0.0</td>\n",
       "      <td>0.0</td>\n",
       "      <td>0.0</td>\n",
       "      <td>0.0</td>\n",
       "      <td>0.0</td>\n",
       "      <td>...</td>\n",
       "      <td>0.0</td>\n",
       "      <td>0.0</td>\n",
       "      <td>0.0</td>\n",
       "      <td>0.0</td>\n",
       "      <td>0.0</td>\n",
       "      <td>0.0</td>\n",
       "      <td>0.0</td>\n",
       "      <td>0.0</td>\n",
       "      <td>0.0</td>\n",
       "      <td>0.0</td>\n",
       "    </tr>\n",
       "    <tr>\n",
       "      <th>sentence 9056</th>\n",
       "      <td>0.0</td>\n",
       "      <td>0.0</td>\n",
       "      <td>0.0</td>\n",
       "      <td>0.0</td>\n",
       "      <td>0.0</td>\n",
       "      <td>0.0</td>\n",
       "      <td>0.0</td>\n",
       "      <td>0.0</td>\n",
       "      <td>0.0</td>\n",
       "      <td>0.0</td>\n",
       "      <td>...</td>\n",
       "      <td>0.0</td>\n",
       "      <td>0.0</td>\n",
       "      <td>0.0</td>\n",
       "      <td>0.0</td>\n",
       "      <td>0.0</td>\n",
       "      <td>0.0</td>\n",
       "      <td>0.0</td>\n",
       "      <td>0.0</td>\n",
       "      <td>0.0</td>\n",
       "      <td>0.0</td>\n",
       "    </tr>\n",
       "    <tr>\n",
       "      <th>sentence 9057</th>\n",
       "      <td>0.0</td>\n",
       "      <td>0.0</td>\n",
       "      <td>0.0</td>\n",
       "      <td>0.0</td>\n",
       "      <td>0.0</td>\n",
       "      <td>0.0</td>\n",
       "      <td>0.0</td>\n",
       "      <td>0.0</td>\n",
       "      <td>0.0</td>\n",
       "      <td>0.0</td>\n",
       "      <td>...</td>\n",
       "      <td>0.0</td>\n",
       "      <td>0.0</td>\n",
       "      <td>0.0</td>\n",
       "      <td>0.0</td>\n",
       "      <td>0.0</td>\n",
       "      <td>0.0</td>\n",
       "      <td>0.0</td>\n",
       "      <td>0.0</td>\n",
       "      <td>0.0</td>\n",
       "      <td>0.0</td>\n",
       "    </tr>\n",
       "    <tr>\n",
       "      <th>sentence 9058</th>\n",
       "      <td>0.0</td>\n",
       "      <td>0.0</td>\n",
       "      <td>0.0</td>\n",
       "      <td>0.0</td>\n",
       "      <td>0.0</td>\n",
       "      <td>0.0</td>\n",
       "      <td>0.0</td>\n",
       "      <td>0.0</td>\n",
       "      <td>0.0</td>\n",
       "      <td>0.0</td>\n",
       "      <td>...</td>\n",
       "      <td>0.0</td>\n",
       "      <td>0.0</td>\n",
       "      <td>0.0</td>\n",
       "      <td>0.0</td>\n",
       "      <td>0.0</td>\n",
       "      <td>0.0</td>\n",
       "      <td>0.0</td>\n",
       "      <td>0.0</td>\n",
       "      <td>0.0</td>\n",
       "      <td>0.0</td>\n",
       "    </tr>\n",
       "  </tbody>\n",
       "</table>\n",
       "<p>9058 rows × 21784 columns</p>\n",
       "</div>"
      ],
      "text/plain": [
       "                aa  aaa  aaaaahhhhh  aaahhhhh  aaand  aadlerz  aaelsoukkary  \\\n",
       "sentence 1     0.0  0.0         0.0       0.0    0.0      0.0           0.0   \n",
       "sentence 2     0.0  0.0         0.0       0.0    0.0      0.0           0.0   \n",
       "sentence 3     0.0  0.0         0.0       0.0    0.0      0.0           0.0   \n",
       "sentence 4     0.0  0.0         0.0       0.0    0.0      0.0           0.0   \n",
       "sentence 5     0.0  0.0         0.0       0.0    0.0      0.0           0.0   \n",
       "...            ...  ...         ...       ...    ...      ...           ...   \n",
       "sentence 9054  0.0  0.0         0.0       0.0    0.0      0.0           0.0   \n",
       "sentence 9055  0.0  0.0         0.0       0.0    0.0      0.0           0.0   \n",
       "sentence 9056  0.0  0.0         0.0       0.0    0.0      0.0           0.0   \n",
       "sentence 9057  0.0  0.0         0.0       0.0    0.0      0.0           0.0   \n",
       "sentence 9058  0.0  0.0         0.0       0.0    0.0      0.0           0.0   \n",
       "\n",
       "               aagbdqiv  aagjo  aahanasharma  ...  zxle   zy  zyb  \\\n",
       "sentence 1          0.0    0.0           0.0  ...   0.0  0.0  0.0   \n",
       "sentence 2          0.0    0.0           0.0  ...   0.0  0.0  0.0   \n",
       "sentence 3          0.0    0.0           0.0  ...   0.0  0.0  0.0   \n",
       "sentence 4          0.0    0.0           0.0  ...   0.0  0.0  0.0   \n",
       "sentence 5          0.0    0.0           0.0  ...   0.0  0.0  0.0   \n",
       "...                 ...    ...           ...  ...   ...  ...  ...   \n",
       "sentence 9054       0.0    0.0           0.0  ...   0.0  0.0  0.0   \n",
       "sentence 9055       0.0    0.0           0.0  ...   0.0  0.0  0.0   \n",
       "sentence 9056       0.0    0.0           0.0  ...   0.0  0.0  0.0   \n",
       "sentence 9057       0.0    0.0           0.0  ...   0.0  0.0  0.0   \n",
       "sentence 9058       0.0    0.0           0.0  ...   0.0  0.0  0.0   \n",
       "\n",
       "               zyizjhpictwittercom  zyizjhpictwittercomhwbxzizadv   zz  zzl  \\\n",
       "sentence 1                     0.0                            0.0  0.0  0.0   \n",
       "sentence 2                     0.0                            0.0  0.0  0.0   \n",
       "sentence 3                     0.0                            0.0  0.0  0.0   \n",
       "sentence 4                     0.0                            0.0  0.0  0.0   \n",
       "sentence 5                     0.0                            0.0  0.0  0.0   \n",
       "...                            ...                            ...  ...  ...   \n",
       "sentence 9054                  0.0                            0.0  0.0  0.0   \n",
       "sentence 9055                  0.0                            0.0  0.0  0.0   \n",
       "sentence 9056                  0.0                            0.0  0.0  0.0   \n",
       "sentence 9057                  0.0                            0.0  0.0  0.0   \n",
       "sentence 9058                  0.0                            0.0  0.0  0.0   \n",
       "\n",
       "               zzmlo  zzxway  \\\n",
       "sentence 1       0.0     0.0   \n",
       "sentence 2       0.0     0.0   \n",
       "sentence 3       0.0     0.0   \n",
       "sentence 4       0.0     0.0   \n",
       "sentence 5       0.0     0.0   \n",
       "...              ...     ...   \n",
       "sentence 9054    0.0     0.0   \n",
       "sentence 9055    0.0     0.0   \n",
       "sentence 9056    0.0     0.0   \n",
       "sentence 9057    0.0     0.0   \n",
       "sentence 9058    0.0     0.0   \n",
       "\n",
       "               zzztherewerepeoplewhowerenzzztabletogetoutzzzfivetrappedincarsburntoxyy  \n",
       "sentence 1                                                   0.0                        \n",
       "sentence 2                                                   0.0                        \n",
       "sentence 3                                                   0.0                        \n",
       "sentence 4                                                   0.0                        \n",
       "sentence 5                                                   0.0                        \n",
       "...                                                          ...                        \n",
       "sentence 9054                                                0.0                        \n",
       "sentence 9055                                                0.0                        \n",
       "sentence 9056                                                0.0                        \n",
       "sentence 9057                                                0.0                        \n",
       "sentence 9058                                                0.0                        \n",
       "\n",
       "[9058 rows x 21784 columns]"
      ]
     },
     "execution_count": 82,
     "metadata": {},
     "output_type": "execute_result"
    }
   ],
   "source": [
    "pd.DataFrame(X.toarray(), \n",
    "             index=['sentence '+str(i) \n",
    "                    for i in range(1, 1+len(original['new text']))],\n",
    "             columns=tfidf.get_feature_names())"
   ]
  },
  {
   "cell_type": "code",
   "execution_count": 83,
   "id": "54c3cbac",
   "metadata": {},
   "outputs": [
    {
     "data": {
      "text/plain": [
       "array(['aa', 'aaa', 'aaaaahhhhh', ..., 'zzmlo', 'zzxway',\n",
       "       'zzztherewerepeoplewhowerenzzztabletogetoutzzzfivetrappedincarsburntoxyy'],\n",
       "      dtype=object)"
      ]
     },
     "execution_count": 83,
     "metadata": {},
     "output_type": "execute_result"
    }
   ],
   "source": [
    "tfidf.get_feature_names_out()"
   ]
  },
  {
   "cell_type": "code",
   "execution_count": 84,
   "id": "325e8078",
   "metadata": {},
   "outputs": [
    {
     "data": {
      "text/plain": [
       "(9058, 21784)"
      ]
     },
     "execution_count": 84,
     "metadata": {},
     "output_type": "execute_result"
    }
   ],
   "source": [
    "X.shape"
   ]
  },
  {
   "cell_type": "code",
   "execution_count": 85,
   "id": "0de20bd7",
   "metadata": {},
   "outputs": [],
   "source": [
    "X_train, X_test, y_train, y_test = train_test_split(X,y,test_size = 0.2, random_state = 0, stratify = y)"
   ]
  },
  {
   "cell_type": "code",
   "execution_count": 86,
   "id": "db32b492",
   "metadata": {},
   "outputs": [],
   "source": [
    "def run_SVM(clf, X_train, X_test, y_train, y_test):\n",
    "    clf.fit(X_train,y_train)\n",
    "    y_pred = clf.predict(X_test)\n",
    "    \n",
    "    print()\n",
    "    print('Classification Report')\n",
    "    print(classification_report(y_test, y_pred))\n",
    "    print(\"The accuracy of the model is: \", accuracy_score(y_test, y_pred))"
   ]
  },
  {
   "cell_type": "code",
   "execution_count": 87,
   "id": "16a4c211",
   "metadata": {},
   "outputs": [],
   "source": [
    "from sklearn.svm import LinearSVC"
   ]
  },
  {
   "cell_type": "code",
   "execution_count": 89,
   "id": "950eef9d",
   "metadata": {},
   "outputs": [
    {
     "name": "stdout",
     "output_type": "stream",
     "text": [
      "\n",
      "Classification Report\n",
      "              precision    recall  f1-score   support\n",
      "\n",
      "           0       0.95      0.98      0.97       259\n",
      "           1       0.90      0.99      0.94       259\n",
      "           2       0.89      0.96      0.92       259\n",
      "           3       0.82      0.88      0.85       259\n",
      "           4       0.72      0.40      0.51       259\n",
      "           5       0.87      0.98      0.92       259\n",
      "           6       0.95      0.99      0.97       258\n",
      "\n",
      "    accuracy                           0.88      1812\n",
      "   macro avg       0.87      0.88      0.87      1812\n",
      "weighted avg       0.87      0.88      0.87      1812\n",
      "\n",
      "The accuracy of the model is:  0.8818984547461368\n"
     ]
    }
   ],
   "source": [
    "clf = LinearSVC()\n",
    "run_SVM(clf, X_train, X_test, y_train, y_test)"
   ]
  },
  {
   "cell_type": "markdown",
   "id": "f409bf05",
   "metadata": {},
   "source": [
    "When the number of tweets of non relevant tweets were high and rest were balanced, the accuracy was 75.\n",
    "And when the complete data is balanced, the accuracy is 88."
   ]
  },
  {
   "cell_type": "markdown",
   "id": "0724d00e",
   "metadata": {},
   "source": [
    "### TFIDF, SVM with Kernal radial bias function"
   ]
  },
  {
   "cell_type": "code",
   "execution_count": 90,
   "id": "ea180962",
   "metadata": {},
   "outputs": [],
   "source": [
    "from sklearn import svm\n",
    "linear = svm.SVC(kernel = 'rbf', gamma = 1, C=1, decision_function_shape = 'ovo').fit(X_train,y_train)"
   ]
  },
  {
   "cell_type": "code",
   "execution_count": 91,
   "id": "2b3f658b",
   "metadata": {},
   "outputs": [],
   "source": [
    "pred = linear.predict(X_test)"
   ]
  },
  {
   "cell_type": "code",
   "execution_count": 92,
   "id": "f5d93ae1",
   "metadata": {},
   "outputs": [],
   "source": [
    "accuracy_rbf = linear.score(X_test, y_test)"
   ]
  },
  {
   "cell_type": "code",
   "execution_count": 93,
   "id": "225e0af5",
   "metadata": {},
   "outputs": [
    {
     "data": {
      "text/plain": [
       "0.8774834437086093"
      ]
     },
     "execution_count": 93,
     "metadata": {},
     "output_type": "execute_result"
    }
   ],
   "source": [
    "accuracy_rbf"
   ]
  },
  {
   "cell_type": "code",
   "execution_count": 94,
   "id": "0f0c3a6a",
   "metadata": {},
   "outputs": [
    {
     "data": {
      "text/plain": [
       "0.8774834437086093"
      ]
     },
     "execution_count": 94,
     "metadata": {},
     "output_type": "execute_result"
    }
   ],
   "source": [
    "accuracy_score(y_test, pred)"
   ]
  },
  {
   "cell_type": "code",
   "execution_count": 95,
   "id": "bf311a32",
   "metadata": {},
   "outputs": [
    {
     "data": {
      "text/plain": [
       "0.8824503311258278"
      ]
     },
     "execution_count": 95,
     "metadata": {},
     "output_type": "execute_result"
    }
   ],
   "source": [
    "linear1 = svm.SVC(kernel = 'linear', gamma = 1, C=1, decision_function_shape = 'ovo').fit(X_train,y_train)\n",
    "pred1 = linear1.predict(X_test)\n",
    "accuracy_linear = linear1.score(X_test, y_test)\n",
    "accuracy_linear"
   ]
  },
  {
   "cell_type": "code",
   "execution_count": 96,
   "id": "fefac3dd",
   "metadata": {},
   "outputs": [
    {
     "data": {
      "text/plain": [
       "0.7075055187637969"
      ]
     },
     "execution_count": 96,
     "metadata": {},
     "output_type": "execute_result"
    }
   ],
   "source": [
    "poly = svm.SVC(kernel = 'poly', gamma = 1, C=1, decision_function_shape = 'ovo').fit(X_train,y_train)\n",
    "pred2 = poly.predict(X_test)\n",
    "accuracy_poly = poly.score(X_test, y_test)\n",
    "accuracy_poly"
   ]
  },
  {
   "cell_type": "code",
   "execution_count": 97,
   "id": "c88d5906",
   "metadata": {},
   "outputs": [
    {
     "data": {
      "text/plain": [
       "0.7075055187637969"
      ]
     },
     "execution_count": 97,
     "metadata": {},
     "output_type": "execute_result"
    }
   ],
   "source": [
    "accuracy_score(y_test, pred2)"
   ]
  },
  {
   "cell_type": "code",
   "execution_count": 98,
   "id": "b4eb85bc",
   "metadata": {},
   "outputs": [
    {
     "data": {
      "text/plain": [
       "0.8824503311258278"
      ]
     },
     "execution_count": 98,
     "metadata": {},
     "output_type": "execute_result"
    }
   ],
   "source": [
    "sig = svm.SVC(kernel = 'sigmoid', gamma = 1, C=1, decision_function_shape = 'ovo').fit(X_train,y_train)\n",
    "pred3 = sig.predict(X_test)\n",
    "accuracy_sig = sig.score(X_test, y_test)\n",
    "accuracy_sig"
   ]
  },
  {
   "cell_type": "code",
   "execution_count": null,
   "id": "be322f09",
   "metadata": {},
   "outputs": [],
   "source": []
  },
  {
   "cell_type": "code",
   "execution_count": null,
   "id": "3fc1cb7e",
   "metadata": {},
   "outputs": [],
   "source": []
  },
  {
   "cell_type": "code",
   "execution_count": null,
   "id": "075dac77",
   "metadata": {},
   "outputs": [],
   "source": []
  },
  {
   "cell_type": "code",
   "execution_count": null,
   "id": "99a347cf",
   "metadata": {},
   "outputs": [],
   "source": []
  },
  {
   "cell_type": "markdown",
   "id": "f33f0c9f",
   "metadata": {},
   "source": [
    "### SVM and Word2Vec"
   ]
  },
  {
   "cell_type": "code",
   "execution_count": 99,
   "id": "0f7034e5",
   "metadata": {},
   "outputs": [],
   "source": [
    "import spacy"
   ]
  },
  {
   "cell_type": "code",
   "execution_count": 100,
   "id": "07bcc614",
   "metadata": {},
   "outputs": [
    {
     "name": "stdout",
     "output_type": "stream",
     "text": [
      "✔ Download and installation successful\n",
      "You can now load the package via spacy.load('en_core_web_lg')\n"
     ]
    }
   ],
   "source": [
    "import spacy.cli\n",
    "\n",
    "spacy.cli.download(\"en_core_web_lg\")"
   ]
  },
  {
   "cell_type": "code",
   "execution_count": 101,
   "id": "2c20ffac",
   "metadata": {},
   "outputs": [],
   "source": [
    "import en_core_web_lg\n",
    "nlp = en_core_web_lg.load()"
   ]
  },
  {
   "cell_type": "code",
   "execution_count": 102,
   "id": "d1e2cccf",
   "metadata": {},
   "outputs": [],
   "source": [
    "def get_vec(x):\n",
    "    doc = nlp(x)\n",
    "    vec = doc.vector\n",
    "    return vec"
   ]
  },
  {
   "cell_type": "code",
   "execution_count": 103,
   "id": "09f2cdd0",
   "metadata": {},
   "outputs": [],
   "source": [
    "original['vec'] = original['text'].apply(lambda x: get_vec(x))"
   ]
  },
  {
   "cell_type": "code",
   "execution_count": 104,
   "id": "7396073b",
   "metadata": {},
   "outputs": [
    {
     "data": {
      "text/html": [
       "<div>\n",
       "<style scoped>\n",
       "    .dataframe tbody tr th:only-of-type {\n",
       "        vertical-align: middle;\n",
       "    }\n",
       "\n",
       "    .dataframe tbody tr th {\n",
       "        vertical-align: top;\n",
       "    }\n",
       "\n",
       "    .dataframe thead th {\n",
       "        text-align: right;\n",
       "    }\n",
       "</style>\n",
       "<table border=\"1\" class=\"dataframe\">\n",
       "  <thead>\n",
       "    <tr style=\"text-align: right;\">\n",
       "      <th></th>\n",
       "      <th>text</th>\n",
       "      <th>label</th>\n",
       "      <th>clean text</th>\n",
       "      <th>new text</th>\n",
       "      <th>vec</th>\n",
       "    </tr>\n",
       "  </thead>\n",
       "  <tbody>\n",
       "    <tr>\n",
       "      <th>23616</th>\n",
       "      <td>Help @livelokai spread the word: $1 for repost...</td>\n",
       "      <td>1</td>\n",
       "      <td>[help, livelokai, spread, word, reposts, stayh...</td>\n",
       "      <td>help livelokai spread word reposts stayhopeful...</td>\n",
       "      <td>[0.6531312, -1.1433339, -0.87459123, 1.5316694...</td>\n",
       "    </tr>\n",
       "    <tr>\n",
       "      <th>23617</th>\n",
       "      <td>#news #media #video Nepal Earthquake: Over 400...</td>\n",
       "      <td>1</td>\n",
       "      <td>[news, medium, video, nepal, earthquake, kille...</td>\n",
       "      <td>news medium video nepal earthquake killed doze...</td>\n",
       "      <td>[0.9045588, -0.8182316, -0.54600644, 0.5866364...</td>\n",
       "    </tr>\n",
       "    <tr>\n",
       "      <th>23618</th>\n",
       "      <td>RT @ntparti: China rescue team leaves for #Nep...</td>\n",
       "      <td>1</td>\n",
       "      <td>[retweet, ntparti, china, rescue, team, leaf, ...</td>\n",
       "      <td>retweet ntparti china rescue team leaf nepal e...</td>\n",
       "      <td>[0.9047032, 0.17660427, -0.28391075, -0.015849...</td>\n",
       "    </tr>\n",
       "    <tr>\n",
       "      <th>23619</th>\n",
       "      <td>My thoughts go out to my #gurkha brethren. I h...</td>\n",
       "      <td>1</td>\n",
       "      <td>[thought, go, gurkha, brother, hope, family, s...</td>\n",
       "      <td>thought go gurkha brother hope family safe nep...</td>\n",
       "      <td>[1.2260891, 2.3402262, -2.8925087, -0.96210843...</td>\n",
       "    </tr>\n",
       "    <tr>\n",
       "      <th>23620</th>\n",
       "      <td>RT @FOX40: How You Can Help Victims of the Nep...</td>\n",
       "      <td>1</td>\n",
       "      <td>[retweet, fox, help, victim, nepalearthquake, ...</td>\n",
       "      <td>retweet fox help victim nepalearthquake httptc...</td>\n",
       "      <td>[0.42272928, -0.8946925, 0.1284192, -0.1957083...</td>\n",
       "    </tr>\n",
       "  </tbody>\n",
       "</table>\n",
       "</div>"
      ],
      "text/plain": [
       "                                                    text  label  \\\n",
       "23616  Help @livelokai spread the word: $1 for repost...      1   \n",
       "23617  #news #media #video Nepal Earthquake: Over 400...      1   \n",
       "23618  RT @ntparti: China rescue team leaves for #Nep...      1   \n",
       "23619  My thoughts go out to my #gurkha brethren. I h...      1   \n",
       "23620  RT @FOX40: How You Can Help Victims of the Nep...      1   \n",
       "\n",
       "                                              clean text  \\\n",
       "23616  [help, livelokai, spread, word, reposts, stayh...   \n",
       "23617  [news, medium, video, nepal, earthquake, kille...   \n",
       "23618  [retweet, ntparti, china, rescue, team, leaf, ...   \n",
       "23619  [thought, go, gurkha, brother, hope, family, s...   \n",
       "23620  [retweet, fox, help, victim, nepalearthquake, ...   \n",
       "\n",
       "                                                new text  \\\n",
       "23616  help livelokai spread word reposts stayhopeful...   \n",
       "23617  news medium video nepal earthquake killed doze...   \n",
       "23618  retweet ntparti china rescue team leaf nepal e...   \n",
       "23619  thought go gurkha brother hope family safe nep...   \n",
       "23620  retweet fox help victim nepalearthquake httptc...   \n",
       "\n",
       "                                                     vec  \n",
       "23616  [0.6531312, -1.1433339, -0.87459123, 1.5316694...  \n",
       "23617  [0.9045588, -0.8182316, -0.54600644, 0.5866364...  \n",
       "23618  [0.9047032, 0.17660427, -0.28391075, -0.015849...  \n",
       "23619  [1.2260891, 2.3402262, -2.8925087, -0.96210843...  \n",
       "23620  [0.42272928, -0.8946925, 0.1284192, -0.1957083...  "
      ]
     },
     "execution_count": 104,
     "metadata": {},
     "output_type": "execute_result"
    }
   ],
   "source": [
    "original.head()"
   ]
  },
  {
   "cell_type": "code",
   "execution_count": 105,
   "id": "5ed552d8",
   "metadata": {},
   "outputs": [],
   "source": [
    "X = original['vec'].to_numpy()\n",
    "X = X.reshape(-1,1)"
   ]
  },
  {
   "cell_type": "code",
   "execution_count": 106,
   "id": "90c9b305",
   "metadata": {},
   "outputs": [
    {
     "data": {
      "text/plain": [
       "(9058, 1)"
      ]
     },
     "execution_count": 106,
     "metadata": {},
     "output_type": "execute_result"
    }
   ],
   "source": [
    "X.shape"
   ]
  },
  {
   "cell_type": "code",
   "execution_count": 107,
   "id": "f61a6e41",
   "metadata": {},
   "outputs": [],
   "source": [
    "X = np.concatenate(np.concatenate(X, axis = 0), axis = 0).reshape(-1, 300)"
   ]
  },
  {
   "cell_type": "code",
   "execution_count": 108,
   "id": "e2832888",
   "metadata": {},
   "outputs": [
    {
     "data": {
      "text/plain": [
       "(9058, 300)"
      ]
     },
     "execution_count": 108,
     "metadata": {},
     "output_type": "execute_result"
    }
   ],
   "source": [
    "X.shape"
   ]
  },
  {
   "cell_type": "code",
   "execution_count": 109,
   "id": "00fac961",
   "metadata": {},
   "outputs": [],
   "source": [
    "y = original['label']"
   ]
  },
  {
   "cell_type": "code",
   "execution_count": 110,
   "id": "6b22675b",
   "metadata": {},
   "outputs": [],
   "source": [
    "X_train, X_test, y_train, y_test = train_test_split(X,y,test_size = 0.2, random_state = 0, stratify = y)"
   ]
  },
  {
   "cell_type": "code",
   "execution_count": 111,
   "id": "be1d08f9",
   "metadata": {},
   "outputs": [
    {
     "name": "stdout",
     "output_type": "stream",
     "text": [
      "\n",
      "Classification Report\n",
      "              precision    recall  f1-score   support\n",
      "\n",
      "           0       0.91      0.75      0.82       259\n",
      "           1       0.89      0.90      0.89       259\n",
      "           2       0.85      0.85      0.85       259\n",
      "           3       0.77      0.54      0.64       259\n",
      "           4       0.31      0.53      0.39       259\n",
      "           5       0.85      0.69      0.76       259\n",
      "           6       0.88      0.85      0.87       258\n",
      "\n",
      "    accuracy                           0.73      1812\n",
      "   macro avg       0.78      0.73      0.75      1812\n",
      "weighted avg       0.78      0.73      0.75      1812\n",
      "\n",
      "The accuracy of the model is:  0.7306843267108167\n",
      "Wall time: 15.6 s\n"
     ]
    }
   ],
   "source": [
    "%%time\n",
    "clf = LinearSVC()\n",
    "run_SVM(clf, X_train, X_test, y_train, y_test)"
   ]
  },
  {
   "cell_type": "code",
   "execution_count": null,
   "id": "e5073701",
   "metadata": {},
   "outputs": [],
   "source": []
  },
  {
   "cell_type": "code",
   "execution_count": 112,
   "id": "3285a81d",
   "metadata": {},
   "outputs": [
    {
     "name": "stderr",
     "output_type": "stream",
     "text": [
      "  Running command git clone --filter=blob:none --quiet https://github.com/LIAAD/yake 'C:\\Users\\HP\\AppData\\Local\\Temp\\pip-req-build-lanwp3ka'\n"
     ]
    },
    {
     "name": "stdout",
     "output_type": "stream",
     "text": [
      "Collecting git+https://github.com/LIAAD/yake\n",
      "  Cloning https://github.com/LIAAD/yake to c:\\users\\hp\\appdata\\local\\temp\\pip-req-build-lanwp3ka\n",
      "  Resolved https://github.com/LIAAD/yake to commit 8d71d94ded93fb77f1361f62e5264f19b9c91cd7\n",
      "  Preparing metadata (setup.py): started\n",
      "  Preparing metadata (setup.py): finished with status 'done'\n",
      "Requirement already satisfied: tabulate in c:\\users\\hp\\anaconda3\\lib\\site-packages (from yake==0.4.8) (0.8.10)\n",
      "Requirement already satisfied: click>=6.0 in c:\\users\\hp\\anaconda3\\lib\\site-packages (from yake==0.4.8) (8.0.4)\n",
      "Requirement already satisfied: numpy in c:\\users\\hp\\anaconda3\\lib\\site-packages (from yake==0.4.8) (1.21.5)\n",
      "Requirement already satisfied: segtok in c:\\users\\hp\\anaconda3\\lib\\site-packages (from yake==0.4.8) (1.5.11)\n",
      "Requirement already satisfied: networkx in c:\\users\\hp\\anaconda3\\lib\\site-packages (from yake==0.4.8) (2.8.4)\n",
      "Requirement already satisfied: jellyfish in c:\\users\\hp\\anaconda3\\lib\\site-packages (from yake==0.4.8) (0.9.0)\n",
      "Requirement already satisfied: colorama in c:\\users\\hp\\anaconda3\\lib\\site-packages (from click>=6.0->yake==0.4.8) (0.4.5)\n",
      "Requirement already satisfied: regex in c:\\users\\hp\\anaconda3\\lib\\site-packages (from segtok->yake==0.4.8) (2022.7.9)\n"
     ]
    }
   ],
   "source": [
    "!pip install git+https://github.com/LIAAD/yake\n",
    "import yake"
   ]
  },
  {
   "cell_type": "code",
   "execution_count": 113,
   "id": "6bf1b2bd",
   "metadata": {},
   "outputs": [
    {
     "name": "stdout",
     "output_type": "stream",
     "text": [
      "Warning! Exception: 'Series' object has no attribute 'split' generated by the following text: '23616    help livelokai spread word reposts stayhopeful...\n",
      "23617    news medium video nepal earthquake killed doze...\n",
      "23618    retweet ntparti china rescue team leaf nepal e...\n",
      "23619    thought go gurkha brother hope family safe nep...\n",
      "23620    retweet fox help victim nepalearthquake httptc...\n",
      "                               ...                        \n",
      "2856     retweet tornadohunt tornado may passed directl...\n",
      "11248    good day twin tater tot casserole ready oven b...\n",
      "21695    dont understand many trying draw fund fema acc...\n",
      "14177    kind hard even parse mean herewas trying racis...\n",
      "9347     chilln home blizzard e coast watchn bull v cav...\n",
      "Name: new text, Length: 9058, dtype: object' \n"
     ]
    }
   ],
   "source": [
    "kw_extractor = yake.KeywordExtractor(top=10, stopwords=None)\n",
    "keywords = kw_extractor.extract_keywords(original['new text'])\n",
    "for kw, v in keywords:\n",
    "    print(\"Keyphrase: \",kw, \": score\", v)"
   ]
  },
  {
   "cell_type": "code",
   "execution_count": null,
   "id": "5c68454c",
   "metadata": {},
   "outputs": [],
   "source": [
    "keywords"
   ]
  },
  {
   "cell_type": "code",
   "execution_count": null,
   "id": "37ca627e",
   "metadata": {},
   "outputs": [],
   "source": []
  }
 ],
 "metadata": {
  "kernelspec": {
   "display_name": "Python 3 (ipykernel)",
   "language": "python",
   "name": "python3"
  },
  "language_info": {
   "codemirror_mode": {
    "name": "ipython",
    "version": 3
   },
   "file_extension": ".py",
   "mimetype": "text/x-python",
   "name": "python",
   "nbconvert_exporter": "python",
   "pygments_lexer": "ipython3",
   "version": "3.9.7"
  }
 },
 "nbformat": 4,
 "nbformat_minor": 5
}
